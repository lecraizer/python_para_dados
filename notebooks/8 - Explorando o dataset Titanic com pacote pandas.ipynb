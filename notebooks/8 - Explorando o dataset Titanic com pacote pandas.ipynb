{
 "cells": [
  {
   "cell_type": "markdown",
   "id": "ec8cdd35",
   "metadata": {},
   "source": [
    "# 🚢 Desafio Pandas - Analisando o Titanic\n",
    "\n",
    "Neste projeto, você será um **cientista de dados** e irá explorar um conjunto de dados real do Titanic.\n",
    "O objetivo é responder a perguntas importantes sobre os passageiros e encontrar padrões interessantes.\n",
    "\n",
    "---\n",
    "### 🔍 Como funciona?\n",
    "- O conjunto de dados já está carregado para você.\n",
    "- Leia as instruções e tente responder a cada desafio explorando os dados.\n",
    "- Não se preocupe se não lembrar todos os comandos exatos! Consulte suas anotações e o material de referência.\n",
    "- O objetivo é **pensar e testar hipóteses** sobre os passageiros do Titanic.\n",
    "\n",
    "Boa sorte! 🚀\n"
   ]
  },
  {
   "cell_type": "markdown",
   "id": "24342310-5204-4aa1-b515-97d2d2419d84",
   "metadata": {},
   "source": [
    "# Dicionário de dados — `titanic` (Seaborn)\n",
    "\n",
    "| Coluna        | Tipo        | Descrição                                                                                   |\n",
    "|---------------|-------------|---------------------------------------------------------------------------------------------|\n",
    "| `survived`    | int (0/1)   | Sobreviveu ao naufrágio (1 = sim, 0 = não).                                                |\n",
    "| `pclass`      | int (1–3)   | Classe do bilhete: 1 = 1ª, 2 = 2ª, 3 = 3ª classe.                                          |\n",
    "| `sex`         | categoria   | Sexo do passageiro(a) (`male`, `female`).                                                   |\n",
    "| `age`         | float       | Idade em anos (pode ter valores ausentes).                                                  |\n",
    "| `sibsp`       | int         | Nº de **irmãos/cônjuges** a bordo.                                                          |\n",
    "| `parch`       | int         | Nº de **pais/filhos** a bordo.                                                              |\n",
    "| `fare`        | float       | Tarifa paga pelo bilhete.                                                                    |\n",
    "| `embarked`    | categoria   | Porto de embarque (`C` = Cherbourg, `Q` = Queenstown, `S` = Southampton).                   |\n",
    "| `class`       | categoria   | Classe em texto (`First`, `Second`, `Third`); derivada de `pclass`.                         |\n",
    "| `who`         | categoria   | Tipo de pessoa (`man`, `woman`, `child`), inferido de `sex` e `age`.                        |\n",
    "| `adult_male`  | bool        | Indica se é **homem adulto** (masculino e idade ≥ 18, quando conhecido).                    |\n",
    "| `deck`        | categoria   | Convés da cabine (`A`–`G`, `T`), frequentemente ausente (muitos `NaN`).                     |\n",
    "| `embark_town` | categoria   | Cidade do porto de embarque (`Cherbourg`, `Queenstown`, `Southampton`).                      |\n",
    "| `alive`       | categoria   | Status de sobrevivência em texto (`yes`/`no`); redundante com `survived`.                   |\n",
    "| `alone`       | bool        | `True` se **não** viajava com família (i.e., `sibsp + parch == 0`).                          |\n",
    "\n",
    "**Notas:**\n",
    "- Colunas com muitos ausentes: `age`, `deck`, às vezes `embarked`.\n",
    "- `class`, `who`, `adult_male`, `alive` e `alone` são colunas derivadas/convenientes para análise.\n"
   ]
  },
  {
   "cell_type": "code",
   "execution_count": 1,
   "id": "23238689",
   "metadata": {},
   "outputs": [
    {
     "data": {
      "text/html": [
       "<div>\n",
       "<style scoped>\n",
       "    .dataframe tbody tr th:only-of-type {\n",
       "        vertical-align: middle;\n",
       "    }\n",
       "\n",
       "    .dataframe tbody tr th {\n",
       "        vertical-align: top;\n",
       "    }\n",
       "\n",
       "    .dataframe thead th {\n",
       "        text-align: right;\n",
       "    }\n",
       "</style>\n",
       "<table border=\"1\" class=\"dataframe\">\n",
       "  <thead>\n",
       "    <tr style=\"text-align: right;\">\n",
       "      <th></th>\n",
       "      <th>survived</th>\n",
       "      <th>pclass</th>\n",
       "      <th>sex</th>\n",
       "      <th>age</th>\n",
       "      <th>sibsp</th>\n",
       "      <th>parch</th>\n",
       "      <th>fare</th>\n",
       "      <th>embarked</th>\n",
       "      <th>class</th>\n",
       "      <th>who</th>\n",
       "      <th>adult_male</th>\n",
       "      <th>deck</th>\n",
       "      <th>embark_town</th>\n",
       "      <th>alive</th>\n",
       "      <th>alone</th>\n",
       "    </tr>\n",
       "  </thead>\n",
       "  <tbody>\n",
       "    <tr>\n",
       "      <th>0</th>\n",
       "      <td>0</td>\n",
       "      <td>3</td>\n",
       "      <td>male</td>\n",
       "      <td>22.0</td>\n",
       "      <td>1</td>\n",
       "      <td>0</td>\n",
       "      <td>7.2500</td>\n",
       "      <td>S</td>\n",
       "      <td>Third</td>\n",
       "      <td>man</td>\n",
       "      <td>True</td>\n",
       "      <td>NaN</td>\n",
       "      <td>Southampton</td>\n",
       "      <td>no</td>\n",
       "      <td>False</td>\n",
       "    </tr>\n",
       "    <tr>\n",
       "      <th>1</th>\n",
       "      <td>1</td>\n",
       "      <td>1</td>\n",
       "      <td>female</td>\n",
       "      <td>38.0</td>\n",
       "      <td>1</td>\n",
       "      <td>0</td>\n",
       "      <td>71.2833</td>\n",
       "      <td>C</td>\n",
       "      <td>First</td>\n",
       "      <td>woman</td>\n",
       "      <td>False</td>\n",
       "      <td>C</td>\n",
       "      <td>Cherbourg</td>\n",
       "      <td>yes</td>\n",
       "      <td>False</td>\n",
       "    </tr>\n",
       "    <tr>\n",
       "      <th>2</th>\n",
       "      <td>1</td>\n",
       "      <td>3</td>\n",
       "      <td>female</td>\n",
       "      <td>26.0</td>\n",
       "      <td>0</td>\n",
       "      <td>0</td>\n",
       "      <td>7.9250</td>\n",
       "      <td>S</td>\n",
       "      <td>Third</td>\n",
       "      <td>woman</td>\n",
       "      <td>False</td>\n",
       "      <td>NaN</td>\n",
       "      <td>Southampton</td>\n",
       "      <td>yes</td>\n",
       "      <td>True</td>\n",
       "    </tr>\n",
       "    <tr>\n",
       "      <th>3</th>\n",
       "      <td>1</td>\n",
       "      <td>1</td>\n",
       "      <td>female</td>\n",
       "      <td>35.0</td>\n",
       "      <td>1</td>\n",
       "      <td>0</td>\n",
       "      <td>53.1000</td>\n",
       "      <td>S</td>\n",
       "      <td>First</td>\n",
       "      <td>woman</td>\n",
       "      <td>False</td>\n",
       "      <td>C</td>\n",
       "      <td>Southampton</td>\n",
       "      <td>yes</td>\n",
       "      <td>False</td>\n",
       "    </tr>\n",
       "    <tr>\n",
       "      <th>4</th>\n",
       "      <td>0</td>\n",
       "      <td>3</td>\n",
       "      <td>male</td>\n",
       "      <td>35.0</td>\n",
       "      <td>0</td>\n",
       "      <td>0</td>\n",
       "      <td>8.0500</td>\n",
       "      <td>S</td>\n",
       "      <td>Third</td>\n",
       "      <td>man</td>\n",
       "      <td>True</td>\n",
       "      <td>NaN</td>\n",
       "      <td>Southampton</td>\n",
       "      <td>no</td>\n",
       "      <td>True</td>\n",
       "    </tr>\n",
       "  </tbody>\n",
       "</table>\n",
       "</div>"
      ],
      "text/plain": [
       "   survived  pclass     sex   age  sibsp  parch     fare embarked  class  \\\n",
       "0         0       3    male  22.0      1      0   7.2500        S  Third   \n",
       "1         1       1  female  38.0      1      0  71.2833        C  First   \n",
       "2         1       3  female  26.0      0      0   7.9250        S  Third   \n",
       "3         1       1  female  35.0      1      0  53.1000        S  First   \n",
       "4         0       3    male  35.0      0      0   8.0500        S  Third   \n",
       "\n",
       "     who  adult_male deck  embark_town alive  alone  \n",
       "0    man        True  NaN  Southampton    no  False  \n",
       "1  woman       False    C    Cherbourg   yes  False  \n",
       "2  woman       False  NaN  Southampton   yes   True  \n",
       "3  woman       False    C  Southampton   yes  False  \n",
       "4    man        True  NaN  Southampton    no   True  "
      ]
     },
     "execution_count": 1,
     "metadata": {},
     "output_type": "execute_result"
    }
   ],
   "source": [
    "import pandas as pd\n",
    "import seaborn as sns\n",
    "\n",
    "# Carregar dataset do Titanic\n",
    "df = sns.load_dataset(\"titanic\")\n",
    "\n",
    "# Exibir as primeiras linhas para se familiarizar com os dados\n",
    "df.head()"
   ]
  },
  {
   "cell_type": "markdown",
   "id": "7640aa12",
   "metadata": {},
   "source": [
    "## 📝 Desafio 1: Explore os dados\n",
    "\n",
    "1. **Quais informações gerais podemos obter sobre os dados?**  \n",
    "   - Qual o tamanho do dataset?  \n",
    "   - Quais colunas estão disponíveis?  \n",
    "   - Que tipo de dados cada coluna contém?  \n",
    "\n",
    "2. **Quais são as principais estatísticas descritivas desse conjunto de dados?**  \n",
    "   - Qual a média de idade dos passageiros?  \n",
    "   - Qual o preço médio pago pela passagem?\n"
   ]
  },
  {
   "cell_type": "code",
   "execution_count": 2,
   "id": "6899327d-5f64-48a9-b0e3-68beca1b5e13",
   "metadata": {},
   "outputs": [
    {
     "name": "stdout",
     "output_type": "stream",
     "text": [
      "(891, 15)\n",
      "<class 'pandas.core.frame.DataFrame'>\n",
      "RangeIndex: 891 entries, 0 to 890\n",
      "Data columns (total 15 columns):\n",
      " #   Column       Non-Null Count  Dtype   \n",
      "---  ------       --------------  -----   \n",
      " 0   survived     891 non-null    int64   \n",
      " 1   pclass       891 non-null    int64   \n",
      " 2   sex          891 non-null    object  \n",
      " 3   age          714 non-null    float64 \n",
      " 4   sibsp        891 non-null    int64   \n",
      " 5   parch        891 non-null    int64   \n",
      " 6   fare         891 non-null    float64 \n",
      " 7   embarked     889 non-null    object  \n",
      " 8   class        891 non-null    category\n",
      " 9   who          891 non-null    object  \n",
      " 10  adult_male   891 non-null    bool    \n",
      " 11  deck         203 non-null    category\n",
      " 12  embark_town  889 non-null    object  \n",
      " 13  alive        891 non-null    object  \n",
      " 14  alone        891 non-null    bool    \n",
      "dtypes: bool(2), category(2), float64(2), int64(4), object(5)\n",
      "memory usage: 80.7+ KB\n"
     ]
    }
   ],
   "source": [
    "# Solução\n",
    "print(df.shape)  # Número de linhas e colunas\n",
    "df.info()  # Informações gerais"
   ]
  },
  {
   "cell_type": "code",
   "execution_count": 3,
   "id": "bcbefa52-da30-46ec-9c47-00353417fdb7",
   "metadata": {},
   "outputs": [
    {
     "data": {
      "text/html": [
       "<div>\n",
       "<style scoped>\n",
       "    .dataframe tbody tr th:only-of-type {\n",
       "        vertical-align: middle;\n",
       "    }\n",
       "\n",
       "    .dataframe tbody tr th {\n",
       "        vertical-align: top;\n",
       "    }\n",
       "\n",
       "    .dataframe thead th {\n",
       "        text-align: right;\n",
       "    }\n",
       "</style>\n",
       "<table border=\"1\" class=\"dataframe\">\n",
       "  <thead>\n",
       "    <tr style=\"text-align: right;\">\n",
       "      <th></th>\n",
       "      <th>survived</th>\n",
       "      <th>pclass</th>\n",
       "      <th>age</th>\n",
       "      <th>sibsp</th>\n",
       "      <th>parch</th>\n",
       "      <th>fare</th>\n",
       "    </tr>\n",
       "  </thead>\n",
       "  <tbody>\n",
       "    <tr>\n",
       "      <th>count</th>\n",
       "      <td>891.000000</td>\n",
       "      <td>891.000000</td>\n",
       "      <td>714.000000</td>\n",
       "      <td>891.000000</td>\n",
       "      <td>891.000000</td>\n",
       "      <td>891.000000</td>\n",
       "    </tr>\n",
       "    <tr>\n",
       "      <th>mean</th>\n",
       "      <td>0.383838</td>\n",
       "      <td>2.308642</td>\n",
       "      <td>29.699118</td>\n",
       "      <td>0.523008</td>\n",
       "      <td>0.381594</td>\n",
       "      <td>32.204208</td>\n",
       "    </tr>\n",
       "    <tr>\n",
       "      <th>std</th>\n",
       "      <td>0.486592</td>\n",
       "      <td>0.836071</td>\n",
       "      <td>14.526497</td>\n",
       "      <td>1.102743</td>\n",
       "      <td>0.806057</td>\n",
       "      <td>49.693429</td>\n",
       "    </tr>\n",
       "    <tr>\n",
       "      <th>min</th>\n",
       "      <td>0.000000</td>\n",
       "      <td>1.000000</td>\n",
       "      <td>0.420000</td>\n",
       "      <td>0.000000</td>\n",
       "      <td>0.000000</td>\n",
       "      <td>0.000000</td>\n",
       "    </tr>\n",
       "    <tr>\n",
       "      <th>25%</th>\n",
       "      <td>0.000000</td>\n",
       "      <td>2.000000</td>\n",
       "      <td>20.125000</td>\n",
       "      <td>0.000000</td>\n",
       "      <td>0.000000</td>\n",
       "      <td>7.910400</td>\n",
       "    </tr>\n",
       "    <tr>\n",
       "      <th>50%</th>\n",
       "      <td>0.000000</td>\n",
       "      <td>3.000000</td>\n",
       "      <td>28.000000</td>\n",
       "      <td>0.000000</td>\n",
       "      <td>0.000000</td>\n",
       "      <td>14.454200</td>\n",
       "    </tr>\n",
       "    <tr>\n",
       "      <th>75%</th>\n",
       "      <td>1.000000</td>\n",
       "      <td>3.000000</td>\n",
       "      <td>38.000000</td>\n",
       "      <td>1.000000</td>\n",
       "      <td>0.000000</td>\n",
       "      <td>31.000000</td>\n",
       "    </tr>\n",
       "    <tr>\n",
       "      <th>max</th>\n",
       "      <td>1.000000</td>\n",
       "      <td>3.000000</td>\n",
       "      <td>80.000000</td>\n",
       "      <td>8.000000</td>\n",
       "      <td>6.000000</td>\n",
       "      <td>512.329200</td>\n",
       "    </tr>\n",
       "  </tbody>\n",
       "</table>\n",
       "</div>"
      ],
      "text/plain": [
       "         survived      pclass         age       sibsp       parch        fare\n",
       "count  891.000000  891.000000  714.000000  891.000000  891.000000  891.000000\n",
       "mean     0.383838    2.308642   29.699118    0.523008    0.381594   32.204208\n",
       "std      0.486592    0.836071   14.526497    1.102743    0.806057   49.693429\n",
       "min      0.000000    1.000000    0.420000    0.000000    0.000000    0.000000\n",
       "25%      0.000000    2.000000   20.125000    0.000000    0.000000    7.910400\n",
       "50%      0.000000    3.000000   28.000000    0.000000    0.000000   14.454200\n",
       "75%      1.000000    3.000000   38.000000    1.000000    0.000000   31.000000\n",
       "max      1.000000    3.000000   80.000000    8.000000    6.000000  512.329200"
      ]
     },
     "execution_count": 3,
     "metadata": {},
     "output_type": "execute_result"
    }
   ],
   "source": [
    "df.describe()  # Estatísticas descritivas"
   ]
  },
  {
   "cell_type": "code",
   "execution_count": 4,
   "id": "971bae3c-590f-419a-830c-bda2e5c4face",
   "metadata": {},
   "outputs": [
    {
     "data": {
      "text/plain": [
       "(29.69911764705882, 32.204207968574636)"
      ]
     },
     "execution_count": 4,
     "metadata": {},
     "output_type": "execute_result"
    }
   ],
   "source": [
    "df['age'].mean(), df['fare'].mean()  # Média de idade e tarifa"
   ]
  },
  {
   "cell_type": "markdown",
   "id": "883c00a8",
   "metadata": {},
   "source": [
    "## 📝 Desafio 2: Quem eram os passageiros do Titanic?\n",
    "\n",
    "1. **Havia mais homens ou mulheres a bordo?**  \n",
    "2. **Qual era a distribuição de passageiros por classe?**  \n",
    "3. **A maioria dos passageiros sobreviveu ou não?**  \n"
   ]
  },
  {
   "cell_type": "code",
   "execution_count": 5,
   "id": "4614ccb7-80ed-433a-850c-d809506c71dc",
   "metadata": {},
   "outputs": [],
   "source": [
    "# df['age'].value_counts()"
   ]
  },
  {
   "cell_type": "code",
   "execution_count": 6,
   "id": "79c047ca-bbb4-4302-a1fa-0080504618f2",
   "metadata": {},
   "outputs": [
    {
     "data": {
      "text/plain": [
       "sex\n",
       "male      577\n",
       "female    314\n",
       "Name: count, dtype: int64"
      ]
     },
     "execution_count": 6,
     "metadata": {},
     "output_type": "execute_result"
    }
   ],
   "source": [
    "# Solução\n",
    "df['sex'].value_counts()  # Contagem de homens e mulheres"
   ]
  },
  {
   "cell_type": "code",
   "execution_count": 7,
   "id": "08f2ae3a-9f53-4e51-8b12-b5862490c954",
   "metadata": {},
   "outputs": [
    {
     "data": {
      "text/plain": [
       "class\n",
       "Third     491\n",
       "First     216\n",
       "Second    184\n",
       "Name: count, dtype: int64"
      ]
     },
     "execution_count": 7,
     "metadata": {},
     "output_type": "execute_result"
    }
   ],
   "source": [
    "df['class'].value_counts()  # Número de passageiros por classe"
   ]
  },
  {
   "cell_type": "code",
   "execution_count": 8,
   "id": "2405e725-5504-45b9-b09b-b330749448c8",
   "metadata": {},
   "outputs": [
    {
     "data": {
      "text/plain": [
       "survived\n",
       "0    549\n",
       "1    342\n",
       "Name: count, dtype: int64"
      ]
     },
     "execution_count": 8,
     "metadata": {},
     "output_type": "execute_result"
    }
   ],
   "source": [
    "df['survived'].value_counts()  # Quantos sobreviveram e quantos não sobreviveram"
   ]
  },
  {
   "cell_type": "markdown",
   "id": "ccf20928",
   "metadata": {},
   "source": [
    "## 📝 Desafio 3: Quem eram os passageiros mais ricos? 💰\n",
    "\n",
    "1. **Liste os passageiros que pagaram mais de 250 pela passagem.**  \n",
    "2. **Quantos desses passageiros estavam na primeira classe?**  \n",
    "3. **Quantos deles sobreviveram?**  \n"
   ]
  },
  {
   "cell_type": "code",
   "execution_count": 9,
   "id": "dbe0e3fc-9704-4b86-b9d3-d7df13cbdc77",
   "metadata": {},
   "outputs": [],
   "source": [
    "# Solução\n",
    "ricos = df[df['fare'] > 250]"
   ]
  },
  {
   "cell_type": "code",
   "execution_count": 10,
   "id": "d4de7472-96c7-4e53-b4cb-0540edfec7b0",
   "metadata": {},
   "outputs": [
    {
     "data": {
      "text/plain": [
       "9"
      ]
     },
     "execution_count": 10,
     "metadata": {},
     "output_type": "execute_result"
    }
   ],
   "source": [
    "len(df[ (df['fare'] > 250) & (df['class'] == 'First') ])"
   ]
  },
  {
   "cell_type": "code",
   "execution_count": 11,
   "id": "cd94a26e-5df6-4ac2-9e91-b0b004c93adb",
   "metadata": {},
   "outputs": [
    {
     "data": {
      "text/plain": [
       "class\n",
       "First     9\n",
       "Second    0\n",
       "Third     0\n",
       "Name: count, dtype: int64"
      ]
     },
     "execution_count": 11,
     "metadata": {},
     "output_type": "execute_result"
    }
   ],
   "source": [
    "ricos['class'].value_counts()  # Contagem por classe"
   ]
  },
  {
   "cell_type": "code",
   "execution_count": 12,
   "id": "03cb92dc-714d-4a95-ba29-60ca9f92a2e7",
   "metadata": {},
   "outputs": [
    {
     "data": {
      "text/plain": [
       "survived\n",
       "1    7\n",
       "0    2\n",
       "Name: count, dtype: int64"
      ]
     },
     "execution_count": 12,
     "metadata": {},
     "output_type": "execute_result"
    }
   ],
   "source": [
    "ricos['survived'].value_counts()  # Contagem de sobreviventes"
   ]
  },
  {
   "cell_type": "markdown",
   "id": "ffd5ab75",
   "metadata": {},
   "source": [
    "## 📝 Desafio 4: Existe relação entre idade e classe dos passageiros?\n",
    "\n",
    "1. **Qual era a idade média dos passageiros em cada classe?**  \n",
    "2. **Os passageiros da terceira classe eram mais jovens que os da primeira?**  \n"
   ]
  },
  {
   "cell_type": "code",
   "execution_count": 13,
   "id": "7d84a2b0-947f-4a4a-816e-98b58630e656",
   "metadata": {},
   "outputs": [],
   "source": [
    "# 1. Lembrar do comando de fazer agrupamento: groupby\n",
    "# 2. Como usar o groupby: df.groupby\n",
    "# 3. Passar coluna de agrupamento com os parenteses\n",
    "# 4. Passar a coluna de critério entre colchetes\n",
    "# 5. Passar por último o critério a ser utilizado"
   ]
  },
  {
   "cell_type": "code",
   "execution_count": 14,
   "id": "e1a66d79-43d2-43df-a0c1-e04c0c614158",
   "metadata": {},
   "outputs": [
    {
     "data": {
      "text/plain": [
       "array([[<Axes: title={'center': 'age'}>]], dtype=object)"
      ]
     },
     "execution_count": 14,
     "metadata": {},
     "output_type": "execute_result"
    },
    {
     "data": {
      "image/png": "[encoded data removed]",
      "text/plain": [
       "<Figure size 800x600 with 1 Axes>"
      ]
     },
     "metadata": {},
     "output_type": "display_data"
    }
   ],
   "source": [
    "# sub_df = df[ df['class'] == 'First' ]\n",
    "# sub_df.hist('age', ec='black')\n",
    "\n",
    "df[df['class'] == 'First'].hist('age', ec='black', bins=10, figsize=(8,6))"
   ]
  },
  {
   "cell_type": "code",
   "execution_count": 15,
   "id": "f9937d01-fd52-48ae-910f-831cee4d9cf7",
   "metadata": {},
   "outputs": [],
   "source": [
    "# df.hist('age', ec='black')"
   ]
  },
  {
   "cell_type": "code",
   "execution_count": 16,
   "id": "6d318525-4c5e-4b26-afbb-b743f4599260",
   "metadata": {},
   "outputs": [
    {
     "name": "stderr",
     "output_type": "stream",
     "text": [
      "/tmp/ipykernel_94629/1219636443.py:1: FutureWarning: The default of observed=False is deprecated and will be changed to True in a future version of pandas. Pass observed=False to retain current behavior or observed=True to adopt the future default and silence this warning.\n",
      "  df.groupby('class')['age'].mean()\n"
     ]
    },
    {
     "data": {
      "text/plain": [
       "class\n",
       "First     38.233441\n",
       "Second    29.877630\n",
       "Third     25.140620\n",
       "Name: age, dtype: float64"
      ]
     },
     "execution_count": 16,
     "metadata": {},
     "output_type": "execute_result"
    }
   ],
   "source": [
    "df.groupby('class')['age'].mean()"
   ]
  },
  {
   "cell_type": "markdown",
   "id": "da913280",
   "metadata": {},
   "source": [
    "## 📝 Desafio 5: Sobrevivência no Titanic 🚑\n",
    "\n",
    "1. **Quem teve maior chance de sobrevivência?**  \n",
    "   - Homens ou mulheres?  \n",
    "   - Passageiros da primeira ou da terceira classe?  \n"
   ]
  },
  {
   "cell_type": "code",
   "execution_count": 17,
   "id": "b60b9536-f09e-4e05-937f-9bd7ec19ee82",
   "metadata": {},
   "outputs": [],
   "source": [
    "# dataframe, groupby, coluna 'sex', 'survived', 'mean'"
   ]
  },
  {
   "cell_type": "code",
   "execution_count": 18,
   "id": "b7b987b7-dd1b-4c8e-8234-92c2a12d3f18",
   "metadata": {},
   "outputs": [
    {
     "data": {
      "text/plain": [
       "sex\n",
       "female    0.742038\n",
       "male      0.188908\n",
       "Name: survived, dtype: float64"
      ]
     },
     "execution_count": 18,
     "metadata": {},
     "output_type": "execute_result"
    }
   ],
   "source": [
    "# 1.1\n",
    "df.groupby('sex')['survived'].mean()"
   ]
  },
  {
   "cell_type": "code",
   "execution_count": 19,
   "id": "78b61379-25d0-44d7-a272-486c4d434ea8",
   "metadata": {},
   "outputs": [
    {
     "name": "stderr",
     "output_type": "stream",
     "text": [
      "/tmp/ipykernel_94629/2161215390.py:2: FutureWarning: The default of observed=False is deprecated and will be changed to True in a future version of pandas. Pass observed=False to retain current behavior or observed=True to adopt the future default and silence this warning.\n",
      "  df.groupby('class')['survived'].mean()\n"
     ]
    },
    {
     "data": {
      "text/plain": [
       "class\n",
       "First     0.629630\n",
       "Second    0.472826\n",
       "Third     0.242363\n",
       "Name: survived, dtype: float64"
      ]
     },
     "execution_count": 19,
     "metadata": {},
     "output_type": "execute_result"
    }
   ],
   "source": [
    "# 1.2\n",
    "df.groupby('class')['survived'].mean()"
   ]
  },
  {
   "cell_type": "markdown",
   "id": "9d59debd-d8f9-45de-b18c-8c3965e9973b",
   "metadata": {},
   "source": [
    "Maior chance de sobrevivência de passageiros da 1ª classe"
   ]
  },
  {
   "cell_type": "markdown",
   "id": "48f63107",
   "metadata": {},
   "source": [
    "## 📝 Desafio 6: Passageiros sozinhos tiveram menos chances de sobreviver?\n",
    "\n",
    "1. **Crie uma nova coluna chamada 'viajou_sozinho'**  \n",
    "   - Considere que uma pessoa estava sozinha se `sibsp == 0` e `parch == 0`.  \n",
    "2. **Compare a taxa de sobrevivência entre passageiros que viajaram sozinhos e os que estavam acompanhados.**  \n"
   ]
  },
  {
   "cell_type": "code",
   "execution_count": 20,
   "id": "2a69fc57-ee47-427f-a42f-86207fb535dd",
   "metadata": {},
   "outputs": [
    {
     "data": {
      "text/html": [
       "<div>\n",
       "<style scoped>\n",
       "    .dataframe tbody tr th:only-of-type {\n",
       "        vertical-align: middle;\n",
       "    }\n",
       "\n",
       "    .dataframe tbody tr th {\n",
       "        vertical-align: top;\n",
       "    }\n",
       "\n",
       "    .dataframe thead th {\n",
       "        text-align: right;\n",
       "    }\n",
       "</style>\n",
       "<table border=\"1\" class=\"dataframe\">\n",
       "  <thead>\n",
       "    <tr style=\"text-align: right;\">\n",
       "      <th></th>\n",
       "      <th>survived</th>\n",
       "      <th>pclass</th>\n",
       "      <th>sex</th>\n",
       "      <th>age</th>\n",
       "      <th>sibsp</th>\n",
       "      <th>parch</th>\n",
       "      <th>fare</th>\n",
       "      <th>embarked</th>\n",
       "      <th>class</th>\n",
       "      <th>who</th>\n",
       "      <th>adult_male</th>\n",
       "      <th>deck</th>\n",
       "      <th>embark_town</th>\n",
       "      <th>alive</th>\n",
       "      <th>alone</th>\n",
       "      <th>viajou_sozinho</th>\n",
       "    </tr>\n",
       "  </thead>\n",
       "  <tbody>\n",
       "    <tr>\n",
       "      <th>0</th>\n",
       "      <td>0</td>\n",
       "      <td>3</td>\n",
       "      <td>male</td>\n",
       "      <td>22.0</td>\n",
       "      <td>1</td>\n",
       "      <td>0</td>\n",
       "      <td>7.2500</td>\n",
       "      <td>S</td>\n",
       "      <td>Third</td>\n",
       "      <td>man</td>\n",
       "      <td>True</td>\n",
       "      <td>NaN</td>\n",
       "      <td>Southampton</td>\n",
       "      <td>no</td>\n",
       "      <td>False</td>\n",
       "      <td>False</td>\n",
       "    </tr>\n",
       "    <tr>\n",
       "      <th>1</th>\n",
       "      <td>1</td>\n",
       "      <td>1</td>\n",
       "      <td>female</td>\n",
       "      <td>38.0</td>\n",
       "      <td>1</td>\n",
       "      <td>0</td>\n",
       "      <td>71.2833</td>\n",
       "      <td>C</td>\n",
       "      <td>First</td>\n",
       "      <td>woman</td>\n",
       "      <td>False</td>\n",
       "      <td>C</td>\n",
       "      <td>Cherbourg</td>\n",
       "      <td>yes</td>\n",
       "      <td>False</td>\n",
       "      <td>False</td>\n",
       "    </tr>\n",
       "    <tr>\n",
       "      <th>2</th>\n",
       "      <td>1</td>\n",
       "      <td>3</td>\n",
       "      <td>female</td>\n",
       "      <td>26.0</td>\n",
       "      <td>0</td>\n",
       "      <td>0</td>\n",
       "      <td>7.9250</td>\n",
       "      <td>S</td>\n",
       "      <td>Third</td>\n",
       "      <td>woman</td>\n",
       "      <td>False</td>\n",
       "      <td>NaN</td>\n",
       "      <td>Southampton</td>\n",
       "      <td>yes</td>\n",
       "      <td>True</td>\n",
       "      <td>True</td>\n",
       "    </tr>\n",
       "    <tr>\n",
       "      <th>3</th>\n",
       "      <td>1</td>\n",
       "      <td>1</td>\n",
       "      <td>female</td>\n",
       "      <td>35.0</td>\n",
       "      <td>1</td>\n",
       "      <td>0</td>\n",
       "      <td>53.1000</td>\n",
       "      <td>S</td>\n",
       "      <td>First</td>\n",
       "      <td>woman</td>\n",
       "      <td>False</td>\n",
       "      <td>C</td>\n",
       "      <td>Southampton</td>\n",
       "      <td>yes</td>\n",
       "      <td>False</td>\n",
       "      <td>False</td>\n",
       "    </tr>\n",
       "    <tr>\n",
       "      <th>4</th>\n",
       "      <td>0</td>\n",
       "      <td>3</td>\n",
       "      <td>male</td>\n",
       "      <td>35.0</td>\n",
       "      <td>0</td>\n",
       "      <td>0</td>\n",
       "      <td>8.0500</td>\n",
       "      <td>S</td>\n",
       "      <td>Third</td>\n",
       "      <td>man</td>\n",
       "      <td>True</td>\n",
       "      <td>NaN</td>\n",
       "      <td>Southampton</td>\n",
       "      <td>no</td>\n",
       "      <td>True</td>\n",
       "      <td>True</td>\n",
       "    </tr>\n",
       "  </tbody>\n",
       "</table>\n",
       "</div>"
      ],
      "text/plain": [
       "   survived  pclass     sex   age  sibsp  parch     fare embarked  class  \\\n",
       "0         0       3    male  22.0      1      0   7.2500        S  Third   \n",
       "1         1       1  female  38.0      1      0  71.2833        C  First   \n",
       "2         1       3  female  26.0      0      0   7.9250        S  Third   \n",
       "3         1       1  female  35.0      1      0  53.1000        S  First   \n",
       "4         0       3    male  35.0      0      0   8.0500        S  Third   \n",
       "\n",
       "     who  adult_male deck  embark_town alive  alone  viajou_sozinho  \n",
       "0    man        True  NaN  Southampton    no  False           False  \n",
       "1  woman       False    C    Cherbourg   yes  False           False  \n",
       "2  woman       False  NaN  Southampton   yes   True            True  \n",
       "3  woman       False    C  Southampton   yes  False           False  \n",
       "4    man        True  NaN  Southampton    no   True            True  "
      ]
     },
     "execution_count": 20,
     "metadata": {},
     "output_type": "execute_result"
    }
   ],
   "source": [
    "# df['viajou_sozinho'] = df['sibsp'] + df['parch']\n",
    "# df['viajou_sozinho'] = df['viajou_sozinho'].apply(lambda x: 1 if x == 0 else 0)\n",
    "\n",
    "# 6.1\n",
    "df['viajou_sozinho'] = (df['sibsp'] == 0) & (df['parch'] == 0)\n",
    "df.head()"
   ]
  },
  {
   "cell_type": "code",
   "execution_count": 21,
   "id": "d89a7e26-6262-48db-ae12-cbf2a2e614a9",
   "metadata": {},
   "outputs": [
    {
     "data": {
      "text/plain": [
       "viajou_sozinho\n",
       "False    0.505650\n",
       "True     0.303538\n",
       "Name: survived, dtype: float64"
      ]
     },
     "execution_count": 21,
     "metadata": {},
     "output_type": "execute_result"
    }
   ],
   "source": [
    "# 6.2\n",
    "df.groupby('viajou_sozinho')['survived'].mean()"
   ]
  },
  {
   "cell_type": "markdown",
   "id": "946872aa",
   "metadata": {},
   "source": [
    "## 📝 Desafio 7: O ponto de embarque influenciava o preço da passagem?\n",
    "\n",
    "1. **Qual era o preço máximo das passagens em cada ponto de embarque (`embark_town`)?**  \n",
    "2. **Os passageiros que embarcaram em um lugar específico pagaram mais do que os outros?**  \n"
   ]
  },
  {
   "cell_type": "code",
   "execution_count": 22,
   "id": "6f5fb50e-99fa-474f-b30b-1671926559ff",
   "metadata": {},
   "outputs": [
    {
     "data": {
      "text/plain": [
       "embark_town\n",
       "Cherbourg      512.3292\n",
       "Queenstown      90.0000\n",
       "Southampton    263.0000\n",
       "Name: fare, dtype: float64"
      ]
     },
     "execution_count": 22,
     "metadata": {},
     "output_type": "execute_result"
    }
   ],
   "source": [
    "# 7.1\n",
    "df.groupby('embark_town')['fare'].max()"
   ]
  },
  {
   "cell_type": "code",
   "execution_count": 23,
   "id": "ae1cbfb9-75ae-42bb-826c-41db228a6fe1",
   "metadata": {},
   "outputs": [
    {
     "data": {
      "text/plain": [
       "embark_town\n",
       "Cherbourg      59.954144\n",
       "Queenstown     13.276030\n",
       "Southampton    27.079812\n",
       "Name: fare, dtype: float64"
      ]
     },
     "execution_count": 23,
     "metadata": {},
     "output_type": "execute_result"
    }
   ],
   "source": [
    "# 7.2\n",
    "df.groupby('embark_town')['fare'].mean()"
   ]
  },
  {
   "cell_type": "code",
   "execution_count": 24,
   "id": "b4567360-6893-4c76-a051-078a952d3360",
   "metadata": {},
   "outputs": [],
   "source": [
    "# df[df['embark_town'] == 'Cherbourg']['class'].value_counts()"
   ]
  },
  {
   "cell_type": "markdown",
   "id": "43555171",
   "metadata": {},
   "source": [
    "## 📝 Desafio 8: Como eram as famílias dos passageiros? 👨‍👩‍👧‍👦\n",
    "\n",
    "1. **Crie uma nova coluna chamada 'tamanho_familia'**, que seja a soma de `sibsp` e `parch`.  \n",
    "2. **Qual era o tamanho médio das famílias?**  \n",
    "3. **Havia relação entre tamanho da família e sobrevivência?**  \n"
   ]
  },
  {
   "cell_type": "code",
   "execution_count": 25,
   "id": "303a2ba6-e72a-42c3-8f04-6daafd0af8c3",
   "metadata": {},
   "outputs": [
    {
     "data": {
      "text/html": [
       "<div>\n",
       "<style scoped>\n",
       "    .dataframe tbody tr th:only-of-type {\n",
       "        vertical-align: middle;\n",
       "    }\n",
       "\n",
       "    .dataframe tbody tr th {\n",
       "        vertical-align: top;\n",
       "    }\n",
       "\n",
       "    .dataframe thead th {\n",
       "        text-align: right;\n",
       "    }\n",
       "</style>\n",
       "<table border=\"1\" class=\"dataframe\">\n",
       "  <thead>\n",
       "    <tr style=\"text-align: right;\">\n",
       "      <th></th>\n",
       "      <th>survived</th>\n",
       "      <th>pclass</th>\n",
       "      <th>sex</th>\n",
       "      <th>age</th>\n",
       "      <th>sibsp</th>\n",
       "      <th>parch</th>\n",
       "      <th>fare</th>\n",
       "      <th>embarked</th>\n",
       "      <th>class</th>\n",
       "      <th>who</th>\n",
       "      <th>adult_male</th>\n",
       "      <th>deck</th>\n",
       "      <th>embark_town</th>\n",
       "      <th>alive</th>\n",
       "      <th>alone</th>\n",
       "      <th>viajou_sozinho</th>\n",
       "      <th>tamanho_familia</th>\n",
       "    </tr>\n",
       "  </thead>\n",
       "  <tbody>\n",
       "    <tr>\n",
       "      <th>0</th>\n",
       "      <td>0</td>\n",
       "      <td>3</td>\n",
       "      <td>male</td>\n",
       "      <td>22.0</td>\n",
       "      <td>1</td>\n",
       "      <td>0</td>\n",
       "      <td>7.2500</td>\n",
       "      <td>S</td>\n",
       "      <td>Third</td>\n",
       "      <td>man</td>\n",
       "      <td>True</td>\n",
       "      <td>NaN</td>\n",
       "      <td>Southampton</td>\n",
       "      <td>no</td>\n",
       "      <td>False</td>\n",
       "      <td>False</td>\n",
       "      <td>2</td>\n",
       "    </tr>\n",
       "    <tr>\n",
       "      <th>1</th>\n",
       "      <td>1</td>\n",
       "      <td>1</td>\n",
       "      <td>female</td>\n",
       "      <td>38.0</td>\n",
       "      <td>1</td>\n",
       "      <td>0</td>\n",
       "      <td>71.2833</td>\n",
       "      <td>C</td>\n",
       "      <td>First</td>\n",
       "      <td>woman</td>\n",
       "      <td>False</td>\n",
       "      <td>C</td>\n",
       "      <td>Cherbourg</td>\n",
       "      <td>yes</td>\n",
       "      <td>False</td>\n",
       "      <td>False</td>\n",
       "      <td>2</td>\n",
       "    </tr>\n",
       "    <tr>\n",
       "      <th>2</th>\n",
       "      <td>1</td>\n",
       "      <td>3</td>\n",
       "      <td>female</td>\n",
       "      <td>26.0</td>\n",
       "      <td>0</td>\n",
       "      <td>0</td>\n",
       "      <td>7.9250</td>\n",
       "      <td>S</td>\n",
       "      <td>Third</td>\n",
       "      <td>woman</td>\n",
       "      <td>False</td>\n",
       "      <td>NaN</td>\n",
       "      <td>Southampton</td>\n",
       "      <td>yes</td>\n",
       "      <td>True</td>\n",
       "      <td>True</td>\n",
       "      <td>1</td>\n",
       "    </tr>\n",
       "    <tr>\n",
       "      <th>3</th>\n",
       "      <td>1</td>\n",
       "      <td>1</td>\n",
       "      <td>female</td>\n",
       "      <td>35.0</td>\n",
       "      <td>1</td>\n",
       "      <td>0</td>\n",
       "      <td>53.1000</td>\n",
       "      <td>S</td>\n",
       "      <td>First</td>\n",
       "      <td>woman</td>\n",
       "      <td>False</td>\n",
       "      <td>C</td>\n",
       "      <td>Southampton</td>\n",
       "      <td>yes</td>\n",
       "      <td>False</td>\n",
       "      <td>False</td>\n",
       "      <td>2</td>\n",
       "    </tr>\n",
       "    <tr>\n",
       "      <th>4</th>\n",
       "      <td>0</td>\n",
       "      <td>3</td>\n",
       "      <td>male</td>\n",
       "      <td>35.0</td>\n",
       "      <td>0</td>\n",
       "      <td>0</td>\n",
       "      <td>8.0500</td>\n",
       "      <td>S</td>\n",
       "      <td>Third</td>\n",
       "      <td>man</td>\n",
       "      <td>True</td>\n",
       "      <td>NaN</td>\n",
       "      <td>Southampton</td>\n",
       "      <td>no</td>\n",
       "      <td>True</td>\n",
       "      <td>True</td>\n",
       "      <td>1</td>\n",
       "    </tr>\n",
       "    <tr>\n",
       "      <th>5</th>\n",
       "      <td>0</td>\n",
       "      <td>3</td>\n",
       "      <td>male</td>\n",
       "      <td>NaN</td>\n",
       "      <td>0</td>\n",
       "      <td>0</td>\n",
       "      <td>8.4583</td>\n",
       "      <td>Q</td>\n",
       "      <td>Third</td>\n",
       "      <td>man</td>\n",
       "      <td>True</td>\n",
       "      <td>NaN</td>\n",
       "      <td>Queenstown</td>\n",
       "      <td>no</td>\n",
       "      <td>True</td>\n",
       "      <td>True</td>\n",
       "      <td>1</td>\n",
       "    </tr>\n",
       "    <tr>\n",
       "      <th>6</th>\n",
       "      <td>0</td>\n",
       "      <td>1</td>\n",
       "      <td>male</td>\n",
       "      <td>54.0</td>\n",
       "      <td>0</td>\n",
       "      <td>0</td>\n",
       "      <td>51.8625</td>\n",
       "      <td>S</td>\n",
       "      <td>First</td>\n",
       "      <td>man</td>\n",
       "      <td>True</td>\n",
       "      <td>E</td>\n",
       "      <td>Southampton</td>\n",
       "      <td>no</td>\n",
       "      <td>True</td>\n",
       "      <td>True</td>\n",
       "      <td>1</td>\n",
       "    </tr>\n",
       "    <tr>\n",
       "      <th>7</th>\n",
       "      <td>0</td>\n",
       "      <td>3</td>\n",
       "      <td>male</td>\n",
       "      <td>2.0</td>\n",
       "      <td>3</td>\n",
       "      <td>1</td>\n",
       "      <td>21.0750</td>\n",
       "      <td>S</td>\n",
       "      <td>Third</td>\n",
       "      <td>child</td>\n",
       "      <td>False</td>\n",
       "      <td>NaN</td>\n",
       "      <td>Southampton</td>\n",
       "      <td>no</td>\n",
       "      <td>False</td>\n",
       "      <td>False</td>\n",
       "      <td>5</td>\n",
       "    </tr>\n",
       "    <tr>\n",
       "      <th>8</th>\n",
       "      <td>1</td>\n",
       "      <td>3</td>\n",
       "      <td>female</td>\n",
       "      <td>27.0</td>\n",
       "      <td>0</td>\n",
       "      <td>2</td>\n",
       "      <td>11.1333</td>\n",
       "      <td>S</td>\n",
       "      <td>Third</td>\n",
       "      <td>woman</td>\n",
       "      <td>False</td>\n",
       "      <td>NaN</td>\n",
       "      <td>Southampton</td>\n",
       "      <td>yes</td>\n",
       "      <td>False</td>\n",
       "      <td>False</td>\n",
       "      <td>3</td>\n",
       "    </tr>\n",
       "    <tr>\n",
       "      <th>9</th>\n",
       "      <td>1</td>\n",
       "      <td>2</td>\n",
       "      <td>female</td>\n",
       "      <td>14.0</td>\n",
       "      <td>1</td>\n",
       "      <td>0</td>\n",
       "      <td>30.0708</td>\n",
       "      <td>C</td>\n",
       "      <td>Second</td>\n",
       "      <td>child</td>\n",
       "      <td>False</td>\n",
       "      <td>NaN</td>\n",
       "      <td>Cherbourg</td>\n",
       "      <td>yes</td>\n",
       "      <td>False</td>\n",
       "      <td>False</td>\n",
       "      <td>2</td>\n",
       "    </tr>\n",
       "  </tbody>\n",
       "</table>\n",
       "</div>"
      ],
      "text/plain": [
       "   survived  pclass     sex   age  sibsp  parch     fare embarked   class  \\\n",
       "0         0       3    male  22.0      1      0   7.2500        S   Third   \n",
       "1         1       1  female  38.0      1      0  71.2833        C   First   \n",
       "2         1       3  female  26.0      0      0   7.9250        S   Third   \n",
       "3         1       1  female  35.0      1      0  53.1000        S   First   \n",
       "4         0       3    male  35.0      0      0   8.0500        S   Third   \n",
       "5         0       3    male   NaN      0      0   8.4583        Q   Third   \n",
       "6         0       1    male  54.0      0      0  51.8625        S   First   \n",
       "7         0       3    male   2.0      3      1  21.0750        S   Third   \n",
       "8         1       3  female  27.0      0      2  11.1333        S   Third   \n",
       "9         1       2  female  14.0      1      0  30.0708        C  Second   \n",
       "\n",
       "     who  adult_male deck  embark_town alive  alone  viajou_sozinho  \\\n",
       "0    man        True  NaN  Southampton    no  False           False   \n",
       "1  woman       False    C    Cherbourg   yes  False           False   \n",
       "2  woman       False  NaN  Southampton   yes   True            True   \n",
       "3  woman       False    C  Southampton   yes  False           False   \n",
       "4    man        True  NaN  Southampton    no   True            True   \n",
       "5    man        True  NaN   Queenstown    no   True            True   \n",
       "6    man        True    E  Southampton    no   True            True   \n",
       "7  child       False  NaN  Southampton    no  False           False   \n",
       "8  woman       False  NaN  Southampton   yes  False           False   \n",
       "9  child       False  NaN    Cherbourg   yes  False           False   \n",
       "\n",
       "   tamanho_familia  \n",
       "0                2  \n",
       "1                2  \n",
       "2                1  \n",
       "3                2  \n",
       "4                1  \n",
       "5                1  \n",
       "6                1  \n",
       "7                5  \n",
       "8                3  \n",
       "9                2  "
      ]
     },
     "execution_count": 25,
     "metadata": {},
     "output_type": "execute_result"
    }
   ],
   "source": [
    "df['tamanho_familia'] = df['sibsp'] + df['parch'] + 1 # incluindo o próprio passageiro\n",
    "df.head(10)"
   ]
  },
  {
   "cell_type": "code",
   "execution_count": 26,
   "id": "0943f38d-a87e-4043-8528-9d3ed5accae1",
   "metadata": {},
   "outputs": [
    {
     "data": {
      "text/plain": [
       "1.904601571268238"
      ]
     },
     "execution_count": 26,
     "metadata": {},
     "output_type": "execute_result"
    }
   ],
   "source": [
    "df['tamanho_familia'].mean()"
   ]
  },
  {
   "cell_type": "code",
   "execution_count": 27,
   "id": "34d973b2-42b9-42f8-b992-5e024ba1c626",
   "metadata": {},
   "outputs": [
    {
     "data": {
      "text/plain": [
       "tamanho_familia\n",
       "1     0.30\n",
       "2     0.55\n",
       "3     0.58\n",
       "4     0.72\n",
       "5     0.20\n",
       "6     0.14\n",
       "7     0.33\n",
       "8     0.00\n",
       "11    0.00\n",
       "Name: survived, dtype: float64"
      ]
     },
     "execution_count": 27,
     "metadata": {},
     "output_type": "execute_result"
    }
   ],
   "source": [
    "# Groupby\n",
    "df.groupby('tamanho_familia')['survived'].mean().round(2)"
   ]
  },
  {
   "cell_type": "code",
   "execution_count": null,
   "id": "05dd5b1e-5525-4cb4-867a-2f1fb802d6a7",
   "metadata": {},
   "outputs": [],
   "source": []
  }
 ],
 "metadata": {
  "kernelspec": {
   "display_name": "Python 3 (ipykernel)",
   "language": "python",
   "name": "python3"
  },
  "language_info": {
   "codemirror_mode": {
    "name": "ipython",
    "version": 3
   },
   "file_extension": ".py",
   "mimetype": "text/x-python",
   "name": "python",
   "nbconvert_exporter": "python",
   "pygments_lexer": "ipython3",
   "version": "3.11.7"
  }
 },
 "nbformat": 4,
 "nbformat_minor": 5
}
