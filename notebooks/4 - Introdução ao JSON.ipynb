{
 "cells": [
  {
   "cell_type": "markdown",
   "id": "d9497c12",
   "metadata": {},
   "source": [
    "# 📖 Introdução ao JSON (JavaScript Object Notation)\n",
    "\n",
    "Este notebook explora a teoria sobre JSON, sua estrutura, aplicações e vantagens no armazenamento e transmissão de dados."
   ]
  },
  {
   "cell_type": "markdown",
   "id": "0d5ac47b",
   "metadata": {},
   "source": [
    "## 📌 1. O que é JSON?\n",
    "\n",
    "JSON (**JavaScript Object Notation**) é um **formato leve e compacto** para a troca de dados estruturados entre sistemas. Ele é baseado em texto e foi criado como uma alternativa mais simples ao XML. O JSON é amplamente utilizado na **web**, **APIs** e **bancos de dados NoSQL** devido à sua estrutura intuitiva e fácil legibilidade."
   ]
  },
  {
   "cell_type": "markdown",
   "id": "ad489e6c",
   "metadata": {},
   "source": [
    "## 📌 2. JSON e sua Relação com Dicionários\n",
    "\n",
    "No Python, a estrutura do JSON se assemelha a um **dicionário** (`dict`). Ambos utilizam pares **chave-valor** e suportam diferentes tipos de dados. Entretanto, JSON é um **formato textual**, e não um tipo de dado interno do Python. Isso significa que, quando trabalhamos com JSON em Python, ele precisa ser convertido para um dicionário (`dict`) ou listas (`list`), dependendo da estrutura."
   ]
  },
  {
   "cell_type": "markdown",
   "id": "098e8942",
   "metadata": {},
   "source": [
    "### 🔹 Diferenças entre JSON e Dicionário Python\n",
    "| Característica   | JSON   | Dicionário Python |\n",
    "|-----------------|--------|------------------|\n",
    "| **Formato**     | Texto  | Estrutura interna da linguagem |\n",
    "| **Chaves**      | Sempre **string** | Podem ser qualquer tipo imutável |\n",
    "| **Valores**     | Limitado a tipos primitivos | Aceita qualquer objeto Python |\n",
    "| **True/False**  | `true` e `false` | `True` e `False` |"
   ]
  },
  {
   "cell_type": "markdown",
   "id": "d1746bfc",
   "metadata": {},
   "source": [
    "## 📌 3. Estrutura e Elementos de um JSON\n",
    "\n",
    "O JSON é estruturado de forma hierárquica, utilizando **objetos (chaves e valores)** e **arrays (listas de valores)**. Ele pode armazenar diferentes tipos de dados, incluindo:\n",
    "- **Objetos**: Representados por `{}` (chaves e valores).\n",
    "- **Arrays**: Representados por `[]` (listas de valores ordenados).\n",
    "- **Strings**: Sempre entre aspas duplas `\"\"`.\n",
    "- **Números**: Podem ser inteiros ou de ponto flutuante.\n",
    "- **Booleanos**: `true` e `false` (diferente de Python, onde são `True` e `False`).\n",
    "- **Nulo**: Representado por `null` (equivalente a `None` no Python)."
   ]
  },
  {
   "cell_type": "markdown",
   "id": "dce19c8e",
   "metadata": {},
   "source": [
    "## 📌 4. JSON é Compacto e Portável?\n",
    "\n",
    "Sim, JSON é um **formato leve**, projetado para ser **compacto e fácil de transferir** entre diferentes sistemas. Como ele é baseado em **texto puro**, pode ser **transportado facilmente via rede**, utilizado em APIs, armazenado em bancos de dados NoSQL e manipulado em diversas linguagens.\n",
    "\n",
    "Apesar de ser **mais legível que XML**, JSON pode crescer em tamanho dependendo da estrutura dos dados. Algumas aplicações usam técnicas como **compressão** ou **minificação** (remoção de espaços e quebras de linha) para reduzir ainda mais o tamanho do arquivo JSON transmitido."
   ]
  },
  {
   "cell_type": "markdown",
   "id": "723332e0",
   "metadata": {},
   "source": [
    "## 📌 5. Vantagens do JSON\n",
    "\n",
    "✔ **Leve e eficiente**: Comparado ao XML, JSON é mais compacto e de fácil análise.\n",
    "\n",
    "✔ **Compatível com múltiplas linguagens**: Suportado em Python, JavaScript, Java, C++, etc.\n",
    "\n",
    "✔ **Baseado em texto**: Pode ser lido e editado manualmente, se necessário.\n",
    "\n",
    "✔ **Formato padrão para APIs**: A maioria das APIs modernas usa JSON para enviar e receber dados.\n",
    "\n",
    "✔ **Fácil conversão entre linguagens**: Como é baseado em pares **chave-valor**, a conversão para objetos nativos de diversas linguagens é direta."
   ]
  },
  {
   "cell_type": "markdown",
   "id": "ee8cfbf4",
   "metadata": {},
   "source": [
    "## 📌 6. JSON vs. Outros Formatos de Dados\n",
    "\n",
    "| Formato  | Vantagens | Desvantagens |\n",
    "|----------|----------|--------------|\n",
    "| **JSON** | Leve, fácil de ler, rápido, suporte nativo em JavaScript | Pode crescer em tamanho sem compactação |\n",
    "| **XML**  | Suporte a metadados, mais robusto | Verboso e mais difícil de processar |\n",
    "| **CSV**  | Extremamente leve, fácil de abrir em planilhas | Não suporta estruturas hierárquicas |\n",
    "| **YAML** | Leve e legível para humanos | Pouco usado para APIs e pode ser interpretado incorretamente |"
   ]
  },
  {
   "cell_type": "markdown",
   "id": "d4d441b8",
   "metadata": {},
   "source": [
    "## 📌 7. Onde JSON é Utilizado?\n",
    "\n",
    "JSON é amplamente usado em diferentes áreas da tecnologia, como:\n",
    "\n",
    "🔹 **APIs RESTful**: Comunicação entre clientes e servidores na web.\n",
    "\n",
    "🔹 **Bancos de Dados NoSQL**: Como MongoDB, que armazena dados em JSON-like documents.\n",
    "\n",
    "🔹 **Configuração de Aplicações**: Muitos arquivos de configuração usam JSON (Ex: `package.json` no Node.js).\n",
    "\n",
    "🔹 **Armazenamento e Troca de Dados**: Aplicativos que precisam salvar estados de sessão, informações de usuário, logs etc.\n",
    "\n",
    "🔹 **Machine Learning & Big Data**: Muitas ferramentas de análise de dados processam JSON como formato de entrada e saída."
   ]
  },
  {
   "cell_type": "markdown",
   "id": "e8578805",
   "metadata": {},
   "source": [
    "## 📌 Conclusão\n",
    "\n",
    "✔ JSON é um **formato leve, flexível e universal** para armazenamento e transmissão de dados.\n",
    "\n",
    "✔ Ele **se assemelha a um dicionário Python**, mas tem diferenças, como a exigência de aspas duplas nas strings.\n",
    "\n",
    "✔ JSON é **mais eficiente que XML**, mas pode ser maior que CSV dependendo do caso.\n",
    "\n",
    "✔ Sua **compatibilidade com múltiplas linguagens** o torna o formato padrão para APIs, bancos NoSQL e configurações."
   ]
  },
  {
   "cell_type": "markdown",
   "id": "d65161ac-9508-4620-af75-fc45d47a6191",
   "metadata": {},
   "source": [
    "## 📌 Exemplo\n",
    "\n",
    "Quando o Python carrega um JSON, ele usa o módulo json para fazer essa conversão. O processo funciona assim:\n",
    "\n",
    "🔹 **JSON** (texto): O JSON está armazenado como uma string.\n",
    "\n",
    "🔹 Python lê e converte para um dicionário usando ``json.load()`` ou ``json.loads()``.\n",
    "\n",
    "🔹 Agora os dados podem ser manipulados como um dict Python."
   ]
  },
  {
   "cell_type": "code",
   "execution_count": 1,
   "id": "890f3089-9c63-4755-929b-99342de09c2d",
   "metadata": {},
   "outputs": [
    {
     "name": "stdout",
     "output_type": "stream",
     "text": [
      "João da Silva\n",
      "['Python', 'Machine Learning', 'SQL']\n"
     ]
    }
   ],
   "source": [
    "import json\n",
    "\n",
    "# JSON em formato de string (como ele está armazenado no arquivo)\n",
    "json_texto = '''\n",
    "{\n",
    "    \"nome\": \"João da Silva\",\n",
    "    \"idade\": 32,\n",
    "    \"cidade\": \"São Paulo\",\n",
    "    \"habilidades\": [\"Python\", \"Machine Learning\", \"SQL\"],\n",
    "    \"tem_experiencia\": true\n",
    "}\n",
    "'''\n",
    "\n",
    "# Convertendo JSON (texto) para dicionário Python\n",
    "dados = json.loads(json_texto)\n",
    "\n",
    "# Agora podemos acessá-lo como um dicionário\n",
    "print(dados[\"nome\"])\n",
    "print(dados[\"habilidades\"])"
   ]
  },
  {
   "cell_type": "markdown",
   "id": "1e121ade-a751-475c-9d3a-5ffcd0b89aec",
   "metadata": {},
   "source": [
    "{\n",
    "    \"nome\": \"João da Silva\",\n",
    "    \"idade\": 32,\n",
    "    \"cidade\": \"São Paulo\",\n",
    "    \"habilidades\": [\"Python\", \"Machine Learning\", \"SQL\"],\n",
    "    \"tem_experiencia\": true\n",
    "}"
   ]
  }
 ],
 "metadata": {
  "kernelspec": {
   "display_name": "Python 3 (ipykernel)",
   "language": "python",
   "name": "python3"
  },
  "language_info": {
   "codemirror_mode": {
    "name": "ipython",
    "version": 3
   },
   "file_extension": ".py",
   "mimetype": "text/x-python",
   "name": "python",
   "nbconvert_exporter": "python",
   "pygments_lexer": "ipython3",
   "version": "3.11.7"
  }
 },
 "nbformat": 4,
 "nbformat_minor": 5
}
