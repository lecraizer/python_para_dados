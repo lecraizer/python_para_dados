{
 "cells": [
  {
   "cell_type": "markdown",
   "id": "e4ac4f51",
   "metadata": {},
   "source": [
    "# 📖 Abrindo Arquivos em Python: Teoria e Prática\n",
    "\n",
    "Este notebook cobre a manipulação de arquivos em Python, incluindo conceitos teóricos, exemplos básicos e avançados, e uso da biblioteca `pandas` para manipulação de arquivos estruturados."
   ]
  },
  {
   "cell_type": "markdown",
   "id": "b2387da3",
   "metadata": {},
   "source": [
    "## 📝 Parte 1: Teoria e Conceitos Fundamentais\n",
    "\n",
    "Em Python, a manipulação de arquivos é feita usando a função `open()`, que permite **ler, escrever e manipular arquivos** no sistema.\n",
    "\n",
    "### 📌 Modos de Abertura de Arquivos\n",
    "\n",
    "| Modo  | Descrição |\n",
    "|--------|-------------------------------|\n",
    "| `\"r\"`  | Leitura (modo padrão). O arquivo deve existir. |\n",
    "| `\"w\"`  | Escrita. Sobrescreve o conteúdo do arquivo se ele já existir. |\n",
    "| `\"a\"`  | Acrescenta conteúdo ao final do arquivo. Se não existir, cria um novo. |\n",
    "| `\"x\"`  | Cria um novo arquivo. Retorna erro se o arquivo já existir. |\n",
    "| `\"b\"`  | Modo binário (usado para arquivos como imagens e PDFs). |\n",
    "| `\"t\"`  | Modo de texto (padrão). |\n",
    "\n",
    "A sintaxe básica é:\n",
    "\n",
    "```python\n",
    "arquivo = open(\"meuarquivo.txt\", \"r\")\n",
    "conteudo = arquivo.read()\n",
    "arquivo.close()\n",
    "```\n",
    "\n",
    "Para evitar esquecer de fechar o arquivo, use `with open()`, que fecha o arquivo automaticamente:\n",
    "\n",
    "```python\n",
    "with open(\"meuarquivo.txt\", \"r\") as arquivo:\n",
    "    conteudo = arquivo.read()\n",
    "```"
   ]
  },
  {
   "cell_type": "markdown",
   "id": "af5733db",
   "metadata": {},
   "source": [
    "## ✏ Parte 2: Exemplos Simples"
   ]
  },
  {
   "cell_type": "code",
   "execution_count": 6,
   "id": "6f9520d0-7f7a-42a8-b55b-5e8422539dd8",
   "metadata": {},
   "outputs": [],
   "source": [
    "with open(\"../exemplo.txt\", \"w\", encoding=\"utf-8\") as f:\n",
    "    pass  # Apenas cria o arquivo sem escrever nada"
   ]
  },
  {
   "cell_type": "code",
   "execution_count": 5,
   "id": "edfc5c51",
   "metadata": {},
   "outputs": [
    {
     "name": "stdout",
     "output_type": "stream",
     "text": [
      "Nome: João da Silva\n",
      "Idade: 32 anos\n",
      "Cidade: São Paulo\n",
      "Profissão: Engenheiro de Software\n",
      "\n",
      "Nome: Maria Oliveira\n",
      "Idade: 28 anos\n",
      "Cidade: Rio de Janeiro\n",
      "Profissão: Designer Gráfico\n",
      "\n",
      "Nome: Pedro Santos\n",
      "Idade: 40 anos\n",
      "Cidade: Belo Horizonte\n",
      "Profissão: Analista de Dados\n",
      "\n",
      "Este é um arquivo de exemplo contendo informações de diferentes pessoas.\n",
      "Cada bloco contém nome, idade, cidade e profissão.\n",
      "\n"
     ]
    }
   ],
   "source": [
    "# 1️⃣ Lendo um Arquivo Texto Inteiro\n",
    "with open(\"../data/texto.txt\", \"r\", encoding=\"utf-8\") as arquivo:\n",
    "    conteudo = arquivo.read()\n",
    "    print(conteudo)"
   ]
  },
  {
   "cell_type": "code",
   "execution_count": 110,
   "id": "03dcaf7c",
   "metadata": {},
   "outputs": [
    {
     "name": "stdout",
     "output_type": "stream",
     "text": [
      "Nome: João da Silva\n",
      "Idade: 32 anos\n",
      "Cidade: São Paulo\n",
      "Profissão: Engenheiro de Software\n",
      "\n",
      "Nome: Maria Oliveira\n",
      "Idade: 28 anos\n",
      "Cidade: Rio de Janeiro\n",
      "Profissão: Designer Gráfico\n",
      "\n",
      "Nome: Pedro Santos\n",
      "Idade: 40 anos\n",
      "Cidade: Belo Horizonte\n",
      "Profissão: Analista de Dados\n",
      "\n",
      "Este é um arquivo de exemplo contendo informações de diferentes pessoas.\n",
      "Cada bloco contém nome, idade, cidade e profissão.\n"
     ]
    }
   ],
   "source": [
    "# 2️⃣ Lendo um Arquivo Linha por Linha\n",
    "with open(\"../data/texto.txt\", \"r\", encoding=\"utf-8\") as arquivo:\n",
    "    for linha in arquivo:\n",
    "        print(linha.strip())"
   ]
  },
  {
   "cell_type": "code",
   "execution_count": 111,
   "id": "364ceb35",
   "metadata": {},
   "outputs": [],
   "source": [
    "# 3️⃣ Escrevendo em um Arquivo (Sobrescrevendo)\n",
    "with open(\"../data/saida.txt\", \"w\", encoding=\"utf-8\") as arquivo:\n",
    "    arquivo.write(\"Escrevendo minha primeira linha em um arquivo!\\n\")\n",
    "    arquivo.write(\"E esta é a segunda linha.\")"
   ]
  },
  {
   "cell_type": "code",
   "execution_count": 112,
   "id": "d7d1ac9f-8392-4282-9931-ff12a4f87897",
   "metadata": {},
   "outputs": [
    {
     "name": "stdout",
     "output_type": "stream",
     "text": [
      "Escrevendo minha primeira linha em um arquivo!\n",
      "E esta é a segunda linha.\n"
     ]
    }
   ],
   "source": [
    "with open(\"../data/saida.txt\", \"r\", encoding=\"utf-8\") as arquivo:\n",
    "    conteudo = arquivo.read()\n",
    "    print(conteudo)"
   ]
  },
  {
   "cell_type": "code",
   "execution_count": 113,
   "id": "dd40c306",
   "metadata": {},
   "outputs": [],
   "source": [
    "# 4️⃣ Acrescentando Texto em um Arquivo Existente\n",
    "with open(\"../data/saida.txt\", \"a\", encoding=\"utf-8\") as arquivo:\n",
    "    arquivo.write(\"\\nAgora estou adicionando mais conteúdo ao final!\")"
   ]
  },
  {
   "cell_type": "markdown",
   "id": "e4ae17f2",
   "metadata": {},
   "source": [
    "## 🏗 Parte 3: Exemplos Mais Complexos"
   ]
  },
  {
   "cell_type": "code",
   "execution_count": 7,
   "id": "ceea118c",
   "metadata": {},
   "outputs": [
    {
     "name": "stdout",
     "output_type": "stream",
     "text": [
      "[('de', 5), ('Nome:', 3), ('Idade:', 3), ('anos', 3), ('Cidade:', 3)]\n"
     ]
    }
   ],
   "source": [
    "# 6️⃣ Contar a Frequência de Palavras em um Arquivo Texto\n",
    "from collections import Counter\n",
    "\n",
    "with open(\"../data/texto.txt\", \"r\", encoding=\"utf-8\") as arquivo:\n",
    "    palavras = arquivo.read().split()\n",
    "    # print(palavras)\n",
    "    contagem = Counter(palavras)\n",
    "    # print(contagem)\n",
    "\n",
    "print(contagem.most_common(5))"
   ]
  },
  {
   "cell_type": "markdown",
   "id": "ede748c9-0c1b-489d-8d8c-0b394972bb7a",
   "metadata": {},
   "source": [
    "CSV: comma separator value"
   ]
  },
  {
   "cell_type": "code",
   "execution_count": 8,
   "id": "8e4bf7b1",
   "metadata": {},
   "outputs": [
    {
     "name": "stdout",
     "output_type": "stream",
     "text": [
      "['Nome', 'Idade', 'Cidade', 'Profissão', 'Salário']\n",
      "['João da Silva', '32', 'São Paulo', 'Engenheiro de Software', '12000']\n",
      "['Maria Oliveira', '28', 'Rio de Janeiro', 'Designer Gráfico', '7500']\n",
      "['Pedro Santos', '40', 'Belo Horizonte', 'Analista de Dados', '9500']\n",
      "['Ana Souza', '35', 'Curitiba', 'Gerente de Projetos', '13500']\n",
      "['Carlos Mendes', '29', 'Porto Alegre', 'Desenvolvedor Web', '8500']\n",
      "['Fernanda Lima', '41', 'Brasília', 'Cientista de Dados', '14500']\n"
     ]
    }
   ],
   "source": [
    "# 7️⃣ Manipulando Arquivos CSV sem Pandas\n",
    "import csv\n",
    "\n",
    "with open(\"../data/dados.csv\", \"r\", encoding=\"utf-8\") as arquivo:\n",
    "    leitor = csv.reader(arquivo)\n",
    "    for linha in leitor:\n",
    "        print(linha)"
   ]
  },
  {
   "cell_type": "code",
   "execution_count": 117,
   "id": "0aa5dc94",
   "metadata": {},
   "outputs": [],
   "source": [
    "# Escrevendo um CSV sem Pandas\n",
    "dados = [\n",
    "    [\"Nome\", \"Idade\", \"Cidade\"],\n",
    "    [\"Ana\", 25, \"São Paulo\"],\n",
    "    [\"Carlos\", 30, \"Rio de Janeiro\"]\n",
    "]\n",
    "\n",
    "with open(\"saida.csv\", \"w\", newline='', encoding=\"utf-8\") as arquivo:\n",
    "    escritor = csv.writer(arquivo)\n",
    "    escritor.writerows(dados)"
   ]
  },
  {
   "cell_type": "code",
   "execution_count": 10,
   "id": "4a6ae168-05db-45e8-a01b-339f81956506",
   "metadata": {},
   "outputs": [
    {
     "ename": "FileNotFoundError",
     "evalue": "[Errno 2] No such file or directory: '../data/saida.csv'",
     "output_type": "error",
     "traceback": [
      "\u001b[0;31m---------------------------------------------------------------------------\u001b[0m",
      "\u001b[0;31mFileNotFoundError\u001b[0m                         Traceback (most recent call last)",
      "Cell \u001b[0;32mIn[10], line 1\u001b[0m\n\u001b[0;32m----> 1\u001b[0m \u001b[38;5;28;01mwith\u001b[39;00m \u001b[38;5;28mopen\u001b[39m(\u001b[38;5;124m\"\u001b[39m\u001b[38;5;124m../data/saida.csv\u001b[39m\u001b[38;5;124m\"\u001b[39m, \u001b[38;5;124m\"\u001b[39m\u001b[38;5;124mr\u001b[39m\u001b[38;5;124m\"\u001b[39m, newline\u001b[38;5;241m=\u001b[39m\u001b[38;5;124m'\u001b[39m\u001b[38;5;124m'\u001b[39m, encoding\u001b[38;5;241m=\u001b[39m\u001b[38;5;124m\"\u001b[39m\u001b[38;5;124mutf-8\u001b[39m\u001b[38;5;124m\"\u001b[39m) \u001b[38;5;28;01mas\u001b[39;00m arquivo:\n\u001b[1;32m      2\u001b[0m     conteudo \u001b[38;5;241m=\u001b[39m csv\u001b[38;5;241m.\u001b[39mreader(arquivo)\n\u001b[1;32m      3\u001b[0m     \u001b[38;5;28;01mfor\u001b[39;00m linha \u001b[38;5;129;01min\u001b[39;00m conteudo:\n",
      "File \u001b[0;32m~/anaconda3/lib/python3.11/site-packages/IPython/core/interactiveshell.py:310\u001b[0m, in \u001b[0;36m_modified_open\u001b[0;34m(file, *args, **kwargs)\u001b[0m\n\u001b[1;32m    303\u001b[0m \u001b[38;5;28;01mif\u001b[39;00m file \u001b[38;5;129;01min\u001b[39;00m {\u001b[38;5;241m0\u001b[39m, \u001b[38;5;241m1\u001b[39m, \u001b[38;5;241m2\u001b[39m}:\n\u001b[1;32m    304\u001b[0m     \u001b[38;5;28;01mraise\u001b[39;00m \u001b[38;5;167;01mValueError\u001b[39;00m(\n\u001b[1;32m    305\u001b[0m         \u001b[38;5;124mf\u001b[39m\u001b[38;5;124m\"\u001b[39m\u001b[38;5;124mIPython won\u001b[39m\u001b[38;5;124m'\u001b[39m\u001b[38;5;124mt let you open fd=\u001b[39m\u001b[38;5;132;01m{\u001b[39;00mfile\u001b[38;5;132;01m}\u001b[39;00m\u001b[38;5;124m by default \u001b[39m\u001b[38;5;124m\"\u001b[39m\n\u001b[1;32m    306\u001b[0m         \u001b[38;5;124m\"\u001b[39m\u001b[38;5;124mas it is likely to crash IPython. If you know what you are doing, \u001b[39m\u001b[38;5;124m\"\u001b[39m\n\u001b[1;32m    307\u001b[0m         \u001b[38;5;124m\"\u001b[39m\u001b[38;5;124myou can use builtins\u001b[39m\u001b[38;5;124m'\u001b[39m\u001b[38;5;124m open.\u001b[39m\u001b[38;5;124m\"\u001b[39m\n\u001b[1;32m    308\u001b[0m     )\n\u001b[0;32m--> 310\u001b[0m \u001b[38;5;28;01mreturn\u001b[39;00m io_open(file, \u001b[38;5;241m*\u001b[39margs, \u001b[38;5;241m*\u001b[39m\u001b[38;5;241m*\u001b[39mkwargs)\n",
      "\u001b[0;31mFileNotFoundError\u001b[0m: [Errno 2] No such file or directory: '../data/saida.csv'"
     ]
    }
   ],
   "source": [
    "with open(\"../data/saida.csv\", \"r\", newline='', encoding=\"utf-8\") as arquivo:\n",
    "    conteudo = csv.reader(arquivo)\n",
    "    for linha in conteudo:\n",
    "        print(linha)"
   ]
  },
  {
   "cell_type": "code",
   "execution_count": 119,
   "id": "3a8d4392",
   "metadata": {},
   "outputs": [
    {
     "name": "stdout",
     "output_type": "stream",
     "text": [
      "{'nome': 'João', 'idade': 30, 'cidade': 'Curitiba'}\n"
     ]
    }
   ],
   "source": [
    "# 8️⃣ Trabalhando com JSON\n",
    "import json\n",
    "\n",
    "dados = {\n",
    "    \"nome\": \"João\",\n",
    "    \"idade\": 30,\n",
    "    \"cidade\": \"Curitiba\"\n",
    "}\n",
    "\n",
    "# Salvando um dicionário em JSON\n",
    "with open(\"dados.json\", \"w\", encoding=\"utf-8\") as arquivo:\n",
    "    json.dump(dados, arquivo, indent=4)\n",
    "\n",
    "# Lendo JSON\n",
    "with open(\"dados.json\", \"r\", encoding=\"utf-8\") as arquivo:\n",
    "    dados_carregados = json.load(arquivo)\n",
    "\n",
    "print(dados_carregados)"
   ]
  },
  {
   "cell_type": "markdown",
   "id": "df52bc7b",
   "metadata": {},
   "source": [
    "## 📊 Parte 4: Manipulação de Arquivos com Pandas"
   ]
  },
  {
   "cell_type": "code",
   "execution_count": 11,
   "id": "82ea32f5",
   "metadata": {},
   "outputs": [
    {
     "data": {
      "text/html": [
       "<div>\n",
       "<style scoped>\n",
       "    .dataframe tbody tr th:only-of-type {\n",
       "        vertical-align: middle;\n",
       "    }\n",
       "\n",
       "    .dataframe tbody tr th {\n",
       "        vertical-align: top;\n",
       "    }\n",
       "\n",
       "    .dataframe thead th {\n",
       "        text-align: right;\n",
       "    }\n",
       "</style>\n",
       "<table border=\"1\" class=\"dataframe\">\n",
       "  <thead>\n",
       "    <tr style=\"text-align: right;\">\n",
       "      <th></th>\n",
       "      <th>Nome</th>\n",
       "      <th>Idade</th>\n",
       "      <th>Cidade</th>\n",
       "      <th>Profissão</th>\n",
       "      <th>Salário</th>\n",
       "    </tr>\n",
       "  </thead>\n",
       "  <tbody>\n",
       "    <tr>\n",
       "      <th>0</th>\n",
       "      <td>João da Silva</td>\n",
       "      <td>32</td>\n",
       "      <td>São Paulo</td>\n",
       "      <td>Engenheiro de Software</td>\n",
       "      <td>12000</td>\n",
       "    </tr>\n",
       "    <tr>\n",
       "      <th>1</th>\n",
       "      <td>Maria Oliveira</td>\n",
       "      <td>28</td>\n",
       "      <td>Rio de Janeiro</td>\n",
       "      <td>Designer Gráfico</td>\n",
       "      <td>7500</td>\n",
       "    </tr>\n",
       "  </tbody>\n",
       "</table>\n",
       "</div>"
      ],
      "text/plain": [
       "             Nome  Idade          Cidade               Profissão  Salário\n",
       "0   João da Silva     32       São Paulo  Engenheiro de Software    12000\n",
       "1  Maria Oliveira     28  Rio de Janeiro        Designer Gráfico     7500"
      ]
     },
     "execution_count": 11,
     "metadata": {},
     "output_type": "execute_result"
    }
   ],
   "source": [
    "# 9️⃣ Lendo um CSV com Pandas\n",
    "import pandas as pd\n",
    "\n",
    "df = pd.read_csv(\"../data/dados.csv\", encoding=\"utf-8\") # modo 'r'\n",
    "df.head(2)"
   ]
  },
  {
   "cell_type": "code",
   "execution_count": 12,
   "id": "bc18731d",
   "metadata": {},
   "outputs": [],
   "source": [
    "# 🔟 Salvando um DataFrame como CSV\n",
    "df.to_csv(\"../data/saida_pandas.csv\", index=False, encoding=\"utf-8\") # modo 'w'"
   ]
  },
  {
   "cell_type": "code",
   "execution_count": 18,
   "id": "31fad7c0",
   "metadata": {},
   "outputs": [
    {
     "ename": "FileNotFoundError",
     "evalue": "File ../data/dados.json does not exist",
     "output_type": "error",
     "traceback": [
      "\u001b[0;31m---------------------------------------------------------------------------\u001b[0m",
      "\u001b[0;31mFileNotFoundError\u001b[0m                         Traceback (most recent call last)",
      "Cell \u001b[0;32mIn[18], line 2\u001b[0m\n\u001b[1;32m      1\u001b[0m \u001b[38;5;66;03m# 1️⃣1️⃣ Lendo um Arquivo JSON com Pandas\u001b[39;00m\n\u001b[0;32m----> 2\u001b[0m df_json \u001b[38;5;241m=\u001b[39m pd\u001b[38;5;241m.\u001b[39mread_json(\u001b[38;5;124m\"\u001b[39m\u001b[38;5;124m../data/dados.json\u001b[39m\u001b[38;5;124m\"\u001b[39m, orient\u001b[38;5;241m=\u001b[39m\u001b[38;5;124m\"\u001b[39m\u001b[38;5;124mindex\u001b[39m\u001b[38;5;124m\"\u001b[39m)\n\u001b[1;32m      3\u001b[0m df_json\n",
      "File \u001b[0;32m~/anaconda3/lib/python3.11/site-packages/pandas/io/json/_json.py:780\u001b[0m, in \u001b[0;36mread_json\u001b[0;34m(path_or_buf, orient, typ, dtype, convert_axes, convert_dates, keep_default_dates, precise_float, date_unit, encoding, encoding_errors, lines, chunksize, compression, nrows, storage_options, dtype_backend, engine)\u001b[0m\n\u001b[1;32m    777\u001b[0m \u001b[38;5;28;01mif\u001b[39;00m convert_axes \u001b[38;5;129;01mis\u001b[39;00m \u001b[38;5;28;01mNone\u001b[39;00m \u001b[38;5;129;01mand\u001b[39;00m orient \u001b[38;5;241m!=\u001b[39m \u001b[38;5;124m\"\u001b[39m\u001b[38;5;124mtable\u001b[39m\u001b[38;5;124m\"\u001b[39m:\n\u001b[1;32m    778\u001b[0m     convert_axes \u001b[38;5;241m=\u001b[39m \u001b[38;5;28;01mTrue\u001b[39;00m\n\u001b[0;32m--> 780\u001b[0m json_reader \u001b[38;5;241m=\u001b[39m JsonReader(\n\u001b[1;32m    781\u001b[0m     path_or_buf,\n\u001b[1;32m    782\u001b[0m     orient\u001b[38;5;241m=\u001b[39morient,\n\u001b[1;32m    783\u001b[0m     typ\u001b[38;5;241m=\u001b[39mtyp,\n\u001b[1;32m    784\u001b[0m     dtype\u001b[38;5;241m=\u001b[39mdtype,\n\u001b[1;32m    785\u001b[0m     convert_axes\u001b[38;5;241m=\u001b[39mconvert_axes,\n\u001b[1;32m    786\u001b[0m     convert_dates\u001b[38;5;241m=\u001b[39mconvert_dates,\n\u001b[1;32m    787\u001b[0m     keep_default_dates\u001b[38;5;241m=\u001b[39mkeep_default_dates,\n\u001b[1;32m    788\u001b[0m     precise_float\u001b[38;5;241m=\u001b[39mprecise_float,\n\u001b[1;32m    789\u001b[0m     date_unit\u001b[38;5;241m=\u001b[39mdate_unit,\n\u001b[1;32m    790\u001b[0m     encoding\u001b[38;5;241m=\u001b[39mencoding,\n\u001b[1;32m    791\u001b[0m     lines\u001b[38;5;241m=\u001b[39mlines,\n\u001b[1;32m    792\u001b[0m     chunksize\u001b[38;5;241m=\u001b[39mchunksize,\n\u001b[1;32m    793\u001b[0m     compression\u001b[38;5;241m=\u001b[39mcompression,\n\u001b[1;32m    794\u001b[0m     nrows\u001b[38;5;241m=\u001b[39mnrows,\n\u001b[1;32m    795\u001b[0m     storage_options\u001b[38;5;241m=\u001b[39mstorage_options,\n\u001b[1;32m    796\u001b[0m     encoding_errors\u001b[38;5;241m=\u001b[39mencoding_errors,\n\u001b[1;32m    797\u001b[0m     dtype_backend\u001b[38;5;241m=\u001b[39mdtype_backend,\n\u001b[1;32m    798\u001b[0m     engine\u001b[38;5;241m=\u001b[39mengine,\n\u001b[1;32m    799\u001b[0m )\n\u001b[1;32m    801\u001b[0m \u001b[38;5;28;01mif\u001b[39;00m chunksize:\n\u001b[1;32m    802\u001b[0m     \u001b[38;5;28;01mreturn\u001b[39;00m json_reader\n",
      "File \u001b[0;32m~/anaconda3/lib/python3.11/site-packages/pandas/io/json/_json.py:893\u001b[0m, in \u001b[0;36mJsonReader.__init__\u001b[0;34m(self, filepath_or_buffer, orient, typ, dtype, convert_axes, convert_dates, keep_default_dates, precise_float, date_unit, encoding, lines, chunksize, compression, nrows, storage_options, encoding_errors, dtype_backend, engine)\u001b[0m\n\u001b[1;32m    891\u001b[0m     \u001b[38;5;28mself\u001b[39m\u001b[38;5;241m.\u001b[39mdata \u001b[38;5;241m=\u001b[39m filepath_or_buffer\n\u001b[1;32m    892\u001b[0m \u001b[38;5;28;01melif\u001b[39;00m \u001b[38;5;28mself\u001b[39m\u001b[38;5;241m.\u001b[39mengine \u001b[38;5;241m==\u001b[39m \u001b[38;5;124m\"\u001b[39m\u001b[38;5;124mujson\u001b[39m\u001b[38;5;124m\"\u001b[39m:\n\u001b[0;32m--> 893\u001b[0m     data \u001b[38;5;241m=\u001b[39m \u001b[38;5;28mself\u001b[39m\u001b[38;5;241m.\u001b[39m_get_data_from_filepath(filepath_or_buffer)\n\u001b[1;32m    894\u001b[0m     \u001b[38;5;28mself\u001b[39m\u001b[38;5;241m.\u001b[39mdata \u001b[38;5;241m=\u001b[39m \u001b[38;5;28mself\u001b[39m\u001b[38;5;241m.\u001b[39m_preprocess_data(data)\n",
      "File \u001b[0;32m~/anaconda3/lib/python3.11/site-packages/pandas/io/json/_json.py:949\u001b[0m, in \u001b[0;36mJsonReader._get_data_from_filepath\u001b[0;34m(self, filepath_or_buffer)\u001b[0m\n\u001b[1;32m    941\u001b[0m     filepath_or_buffer \u001b[38;5;241m=\u001b[39m \u001b[38;5;28mself\u001b[39m\u001b[38;5;241m.\u001b[39mhandles\u001b[38;5;241m.\u001b[39mhandle\n\u001b[1;32m    942\u001b[0m \u001b[38;5;28;01melif\u001b[39;00m (\n\u001b[1;32m    943\u001b[0m     \u001b[38;5;28misinstance\u001b[39m(filepath_or_buffer, \u001b[38;5;28mstr\u001b[39m)\n\u001b[1;32m    944\u001b[0m     \u001b[38;5;129;01mand\u001b[39;00m filepath_or_buffer\u001b[38;5;241m.\u001b[39mlower()\u001b[38;5;241m.\u001b[39mendswith(\n\u001b[0;32m   (...)\u001b[0m\n\u001b[1;32m    947\u001b[0m     \u001b[38;5;129;01mand\u001b[39;00m \u001b[38;5;129;01mnot\u001b[39;00m file_exists(filepath_or_buffer)\n\u001b[1;32m    948\u001b[0m ):\n\u001b[0;32m--> 949\u001b[0m     \u001b[38;5;28;01mraise\u001b[39;00m \u001b[38;5;167;01mFileNotFoundError\u001b[39;00m(\u001b[38;5;124mf\u001b[39m\u001b[38;5;124m\"\u001b[39m\u001b[38;5;124mFile \u001b[39m\u001b[38;5;132;01m{\u001b[39;00mfilepath_or_buffer\u001b[38;5;132;01m}\u001b[39;00m\u001b[38;5;124m does not exist\u001b[39m\u001b[38;5;124m\"\u001b[39m)\n\u001b[1;32m    950\u001b[0m \u001b[38;5;28;01melse\u001b[39;00m:\n\u001b[1;32m    951\u001b[0m     warnings\u001b[38;5;241m.\u001b[39mwarn(\n\u001b[1;32m    952\u001b[0m         \u001b[38;5;124m\"\u001b[39m\u001b[38;5;124mPassing literal json to \u001b[39m\u001b[38;5;124m'\u001b[39m\u001b[38;5;124mread_json\u001b[39m\u001b[38;5;124m'\u001b[39m\u001b[38;5;124m is deprecated and \u001b[39m\u001b[38;5;124m\"\u001b[39m\n\u001b[1;32m    953\u001b[0m         \u001b[38;5;124m\"\u001b[39m\u001b[38;5;124mwill be removed in a future version. To read from a \u001b[39m\u001b[38;5;124m\"\u001b[39m\n\u001b[0;32m   (...)\u001b[0m\n\u001b[1;32m    956\u001b[0m         stacklevel\u001b[38;5;241m=\u001b[39mfind_stack_level(),\n\u001b[1;32m    957\u001b[0m     )\n",
      "\u001b[0;31mFileNotFoundError\u001b[0m: File ../data/dados.json does not exist"
     ]
    }
   ],
   "source": [
    "# 1️⃣1️⃣ Lendo um Arquivo JSON com Pandas\n",
    "df_json = pd.read_json(\"../data/dados.json\", orient=\"index\")\n",
    "df_json"
   ]
  },
  {
   "cell_type": "code",
   "execution_count": 14,
   "id": "89b73bdf",
   "metadata": {},
   "outputs": [
    {
     "ename": "NameError",
     "evalue": "name 'df_json' is not defined",
     "output_type": "error",
     "traceback": [
      "\u001b[0;31m---------------------------------------------------------------------------\u001b[0m",
      "\u001b[0;31mNameError\u001b[0m                                 Traceback (most recent call last)",
      "Cell \u001b[0;32mIn[14], line 2\u001b[0m\n\u001b[1;32m      1\u001b[0m \u001b[38;5;66;03m# 1️⃣2️⃣ Salvando um DataFrame em JSON\u001b[39;00m\n\u001b[0;32m----> 2\u001b[0m df_json\u001b[38;5;241m.\u001b[39mto_json(\u001b[38;5;124m\"\u001b[39m\u001b[38;5;124m../data/saida.json\u001b[39m\u001b[38;5;124m\"\u001b[39m, orient\u001b[38;5;241m=\u001b[39m\u001b[38;5;124m\"\u001b[39m\u001b[38;5;124mrecords\u001b[39m\u001b[38;5;124m\"\u001b[39m, indent\u001b[38;5;241m=\u001b[39m\u001b[38;5;241m4\u001b[39m)\n",
      "\u001b[0;31mNameError\u001b[0m: name 'df_json' is not defined"
     ]
    }
   ],
   "source": [
    "# 1️⃣2️⃣ Salvando um DataFrame em JSON\n",
    "df_json.to_json(\"../data/saida.json\", orient=\"records\", indent=4)"
   ]
  },
  {
   "cell_type": "code",
   "execution_count": 15,
   "id": "5143a39d-210b-4b93-af09-4ba790bc6d3a",
   "metadata": {},
   "outputs": [
    {
     "ename": "FileNotFoundError",
     "evalue": "[Errno 2] No such file or directory: '../data/saida.json'",
     "output_type": "error",
     "traceback": [
      "\u001b[0;31m---------------------------------------------------------------------------\u001b[0m",
      "\u001b[0;31mFileNotFoundError\u001b[0m                         Traceback (most recent call last)",
      "Cell \u001b[0;32mIn[15], line 1\u001b[0m\n\u001b[0;32m----> 1\u001b[0m \u001b[38;5;28;01mwith\u001b[39;00m \u001b[38;5;28mopen\u001b[39m(\u001b[38;5;124m\"\u001b[39m\u001b[38;5;124m../data/saida.json\u001b[39m\u001b[38;5;124m\"\u001b[39m, \u001b[38;5;124m\"\u001b[39m\u001b[38;5;124mr\u001b[39m\u001b[38;5;124m\"\u001b[39m, encoding\u001b[38;5;241m=\u001b[39m\u001b[38;5;124m\"\u001b[39m\u001b[38;5;124mutf-8\u001b[39m\u001b[38;5;124m\"\u001b[39m) \u001b[38;5;28;01mas\u001b[39;00m arquivo:\n\u001b[1;32m      2\u001b[0m     dados_carregados \u001b[38;5;241m=\u001b[39m json\u001b[38;5;241m.\u001b[39mload(arquivo)\n\u001b[1;32m      3\u001b[0m     \u001b[38;5;28mprint\u001b[39m(dados_carregados)\n",
      "File \u001b[0;32m~/anaconda3/lib/python3.11/site-packages/IPython/core/interactiveshell.py:310\u001b[0m, in \u001b[0;36m_modified_open\u001b[0;34m(file, *args, **kwargs)\u001b[0m\n\u001b[1;32m    303\u001b[0m \u001b[38;5;28;01mif\u001b[39;00m file \u001b[38;5;129;01min\u001b[39;00m {\u001b[38;5;241m0\u001b[39m, \u001b[38;5;241m1\u001b[39m, \u001b[38;5;241m2\u001b[39m}:\n\u001b[1;32m    304\u001b[0m     \u001b[38;5;28;01mraise\u001b[39;00m \u001b[38;5;167;01mValueError\u001b[39;00m(\n\u001b[1;32m    305\u001b[0m         \u001b[38;5;124mf\u001b[39m\u001b[38;5;124m\"\u001b[39m\u001b[38;5;124mIPython won\u001b[39m\u001b[38;5;124m'\u001b[39m\u001b[38;5;124mt let you open fd=\u001b[39m\u001b[38;5;132;01m{\u001b[39;00mfile\u001b[38;5;132;01m}\u001b[39;00m\u001b[38;5;124m by default \u001b[39m\u001b[38;5;124m\"\u001b[39m\n\u001b[1;32m    306\u001b[0m         \u001b[38;5;124m\"\u001b[39m\u001b[38;5;124mas it is likely to crash IPython. If you know what you are doing, \u001b[39m\u001b[38;5;124m\"\u001b[39m\n\u001b[1;32m    307\u001b[0m         \u001b[38;5;124m\"\u001b[39m\u001b[38;5;124myou can use builtins\u001b[39m\u001b[38;5;124m'\u001b[39m\u001b[38;5;124m open.\u001b[39m\u001b[38;5;124m\"\u001b[39m\n\u001b[1;32m    308\u001b[0m     )\n\u001b[0;32m--> 310\u001b[0m \u001b[38;5;28;01mreturn\u001b[39;00m io_open(file, \u001b[38;5;241m*\u001b[39margs, \u001b[38;5;241m*\u001b[39m\u001b[38;5;241m*\u001b[39mkwargs)\n",
      "\u001b[0;31mFileNotFoundError\u001b[0m: [Errno 2] No such file or directory: '../data/saida.json'"
     ]
    }
   ],
   "source": [
    "with open(\"../data/saida.json\", \"r\", encoding=\"utf-8\") as arquivo:\n",
    "    dados_carregados = json.load(arquivo)\n",
    "    print(dados_carregados)"
   ]
  },
  {
   "cell_type": "code",
   "execution_count": 125,
   "id": "dbdf8c9e",
   "metadata": {},
   "outputs": [
    {
     "data": {
      "text/html": [
       "<div>\n",
       "<style scoped>\n",
       "    .dataframe tbody tr th:only-of-type {\n",
       "        vertical-align: middle;\n",
       "    }\n",
       "\n",
       "    .dataframe tbody tr th {\n",
       "        vertical-align: top;\n",
       "    }\n",
       "\n",
       "    .dataframe thead th {\n",
       "        text-align: right;\n",
       "    }\n",
       "</style>\n",
       "<table border=\"1\" class=\"dataframe\">\n",
       "  <thead>\n",
       "    <tr style=\"text-align: right;\">\n",
       "      <th></th>\n",
       "      <th>Nome</th>\n",
       "      <th>Idade</th>\n",
       "      <th>Cidade</th>\n",
       "      <th>Profissão</th>\n",
       "      <th>Salário</th>\n",
       "    </tr>\n",
       "  </thead>\n",
       "  <tbody>\n",
       "    <tr>\n",
       "      <th>2</th>\n",
       "      <td>Pedro Santos</td>\n",
       "      <td>40</td>\n",
       "      <td>Belo Horizonte</td>\n",
       "      <td>Analista de Dados</td>\n",
       "      <td>9500</td>\n",
       "    </tr>\n",
       "    <tr>\n",
       "      <th>5</th>\n",
       "      <td>Fernanda Lima</td>\n",
       "      <td>41</td>\n",
       "      <td>Brasília</td>\n",
       "      <td>Cientista de Dados</td>\n",
       "      <td>14500</td>\n",
       "    </tr>\n",
       "  </tbody>\n",
       "</table>\n",
       "</div>"
      ],
      "text/plain": [
       "            Nome  Idade          Cidade           Profissão  Salário\n",
       "2   Pedro Santos     40  Belo Horizonte   Analista de Dados     9500\n",
       "5  Fernanda Lima     41        Brasília  Cientista de Dados    14500"
      ]
     },
     "execution_count": 125,
     "metadata": {},
     "output_type": "execute_result"
    }
   ],
   "source": [
    "# 1️⃣3️⃣ Filtrando Dados de um CSV\n",
    "df_filtrado = df[df[\"Idade\"] > 35]  # Filtra apenas pessoas com mais de 25 anos\n",
    "df_filtrado"
   ]
  },
  {
   "cell_type": "code",
   "execution_count": 16,
   "id": "0dc87054",
   "metadata": {},
   "outputs": [],
   "source": [
    "# 1️⃣4️⃣ Criando um Novo CSV Apenas com Colunas Específicas\n",
    "df_cols = df[[\"Nome\", \"Idade\"]]\n",
    "df_cols.to_csv(\"../data/nomes_idades.csv\", index=False) # modo 'w'"
   ]
  },
  {
   "cell_type": "code",
   "execution_count": 17,
   "id": "6639a5d9-1fea-4168-ba66-c52e74a50295",
   "metadata": {},
   "outputs": [
    {
     "data": {
      "text/html": [
       "<div>\n",
       "<style scoped>\n",
       "    .dataframe tbody tr th:only-of-type {\n",
       "        vertical-align: middle;\n",
       "    }\n",
       "\n",
       "    .dataframe tbody tr th {\n",
       "        vertical-align: top;\n",
       "    }\n",
       "\n",
       "    .dataframe thead th {\n",
       "        text-align: right;\n",
       "    }\n",
       "</style>\n",
       "<table border=\"1\" class=\"dataframe\">\n",
       "  <thead>\n",
       "    <tr style=\"text-align: right;\">\n",
       "      <th></th>\n",
       "      <th>Nome</th>\n",
       "      <th>Idade</th>\n",
       "    </tr>\n",
       "  </thead>\n",
       "  <tbody>\n",
       "    <tr>\n",
       "      <th>0</th>\n",
       "      <td>João da Silva</td>\n",
       "      <td>32</td>\n",
       "    </tr>\n",
       "    <tr>\n",
       "      <th>1</th>\n",
       "      <td>Maria Oliveira</td>\n",
       "      <td>28</td>\n",
       "    </tr>\n",
       "    <tr>\n",
       "      <th>2</th>\n",
       "      <td>Pedro Santos</td>\n",
       "      <td>40</td>\n",
       "    </tr>\n",
       "  </tbody>\n",
       "</table>\n",
       "</div>"
      ],
      "text/plain": [
       "             Nome  Idade\n",
       "0   João da Silva     32\n",
       "1  Maria Oliveira     28\n",
       "2    Pedro Santos     40"
      ]
     },
     "execution_count": 17,
     "metadata": {},
     "output_type": "execute_result"
    }
   ],
   "source": [
    "df_subset = pd.read_csv(\"../data/nomes_idades.csv\")\n",
    "df_subset.head(3)"
   ]
  },
  {
   "cell_type": "markdown",
   "id": "a6b302b2",
   "metadata": {},
   "source": [
    "## 🎯 Resumo e Conclusão\n",
    "\n",
    "✔ Python permite abrir arquivos de texto, CSV e JSON facilmente com `open()`.\n",
    "\n",
    "✔ Para arquivos grandes, ler **linha por linha** evita o consumo excessivo de memória.\n",
    "\n",
    "✔ O **modo de abertura (`r`, `w`, `a`, `b`)** define o comportamento ao acessar o arquivo.\n",
    "\n",
    "✔ `csv` e `json` são módulos úteis para manipular arquivos estruturados.\n",
    "\n",
    "✔ `pandas` facilita a análise e transformação de arquivos CSV e JSON."
   ]
  },
  {
   "cell_type": "code",
   "execution_count": null,
   "id": "179cd5b3-105a-4376-9b2d-1cb0523b841a",
   "metadata": {},
   "outputs": [],
   "source": []
  }
 ],
 "metadata": {
  "kernelspec": {
   "display_name": "Python 3 (ipykernel)",
   "language": "python",
   "name": "python3"
  },
  "language_info": {
   "codemirror_mode": {
    "name": "ipython",
    "version": 3
   },
   "file_extension": ".py",
   "mimetype": "text/x-python",
   "name": "python",
   "nbconvert_exporter": "python",
   "pygments_lexer": "ipython3",
   "version": "3.11.7"
  }
 },
 "nbformat": 4,
 "nbformat_minor": 5
}
