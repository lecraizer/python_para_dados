{
 "cells": [
  {
   "cell_type": "markdown",
   "id": "4631b2ce",
   "metadata": {},
   "source": [
    "# Pandas: Biblioteca para Manipulação de Dados\n",
    "\n",
    "Pandas é uma biblioteca de código aberto para a manipulação e análise de dados estruturados em Python. Ele fornece estruturas de dados flexíveis e eficientes como DataFrame e Series, permitindo operações rápidas e intuitivas."
   ]
  },
  {
   "cell_type": "markdown",
   "id": "ca35bae3",
   "metadata": {},
   "source": [
    "## O que é o Pandas?\n",
    "\n",
    "- Uma biblioteca de código aberto para análise de dados em Python.\n",
    "- Baseada no NumPy, otimizada para grandes volumes de dados.\n",
    "- Possui funcionalidades para manipulação, filtragem, agregação e visualização de dados."
   ]
  },
  {
   "cell_type": "markdown",
   "id": "9ed5e66f",
   "metadata": {},
   "source": [
    "## Estruturas de Dados no Pandas\n",
    "- **Series**: Um array unidimensional, semelhante a uma lista, mas com indexação.\n",
    "- **DataFrame**: Uma estrutura bidimensional (tabelas), que pode conter múltiplas colunas."
   ]
  },
  {
   "cell_type": "code",
   "execution_count": 4,
   "id": "29b7f84e",
   "metadata": {},
   "outputs": [],
   "source": [
    "import pandas as pd\n",
    "import random"
   ]
  },
  {
   "cell_type": "markdown",
   "id": "b8668d8c",
   "metadata": {},
   "source": [
    "## Criando Series e DataFrames"
   ]
  },
  {
   "cell_type": "code",
   "execution_count": 5,
   "id": "34e25073-e1b9-4f96-8b53-ecbf0277ae6b",
   "metadata": {},
   "outputs": [
    {
     "name": "stdout",
     "output_type": "stream",
     "text": [
      "a    10\n",
      "b    20\n",
      "c    30\n",
      "d    40\n",
      "dtype: int64\n",
      "<class 'pandas.core.series.Series'>\n"
     ]
    }
   ],
   "source": [
    "# Criando uma Series\n",
    "s = pd.Series([10, 20, 30, 40], index=['a', 'b', 'c', 'd'])\n",
    "print(s)\n",
    "print(type(s))"
   ]
  },
  {
   "cell_type": "code",
   "execution_count": 6,
   "id": "601769ab-6cad-43e2-80a1-a5bc5e13ed73",
   "metadata": {},
   "outputs": [
    {
     "name": "stdout",
     "output_type": "stream",
     "text": [
      "20\n"
     ]
    }
   ],
   "source": [
    "# print(s.values)\n",
    "# print(s.index)\n",
    "# print(s.dtype)\n",
    "# print(s.mean())\n",
    "print(s['b'])"
   ]
  },
  {
   "cell_type": "code",
   "execution_count": 64,
   "id": "6b6a086f-41d9-4996-9648-257157996afd",
   "metadata": {},
   "outputs": [
    {
     "data": {
      "text/plain": [
       "{'Nome': ['Alice', 'Bob', 'Carlos', 'Daniel'],\n",
       " 'Idade': [25, 30, 35, None],\n",
       " 'Salário': [50000, 60000, 70000, None]}"
      ]
     },
     "execution_count": 64,
     "metadata": {},
     "output_type": "execute_result"
    }
   ],
   "source": [
    "D = {\n",
    "    'Nome': ['Alice', 'Bob', 'Carlos', 'Daniel'],\n",
    "    'Idade': [25, 30, 35, None],\n",
    "    'Salário': [50000, 60000, 70000, None]\n",
    "}\n",
    "D"
   ]
  },
  {
   "cell_type": "code",
   "execution_count": 65,
   "id": "18bd39d0-27ff-4e55-a876-9fe1475501a9",
   "metadata": {},
   "outputs": [
    {
     "data": {
      "text/html": [
       "<div>\n",
       "<style scoped>\n",
       "    .dataframe tbody tr th:only-of-type {\n",
       "        vertical-align: middle;\n",
       "    }\n",
       "\n",
       "    .dataframe tbody tr th {\n",
       "        vertical-align: top;\n",
       "    }\n",
       "\n",
       "    .dataframe thead th {\n",
       "        text-align: right;\n",
       "    }\n",
       "</style>\n",
       "<table border=\"1\" class=\"dataframe\">\n",
       "  <thead>\n",
       "    <tr style=\"text-align: right;\">\n",
       "      <th></th>\n",
       "      <th>Nome</th>\n",
       "      <th>Idade</th>\n",
       "      <th>Salário</th>\n",
       "    </tr>\n",
       "  </thead>\n",
       "  <tbody>\n",
       "    <tr>\n",
       "      <th>0</th>\n",
       "      <td>Alice</td>\n",
       "      <td>25.0</td>\n",
       "      <td>50000.0</td>\n",
       "    </tr>\n",
       "    <tr>\n",
       "      <th>1</th>\n",
       "      <td>Bob</td>\n",
       "      <td>30.0</td>\n",
       "      <td>60000.0</td>\n",
       "    </tr>\n",
       "    <tr>\n",
       "      <th>2</th>\n",
       "      <td>Carlos</td>\n",
       "      <td>35.0</td>\n",
       "      <td>70000.0</td>\n",
       "    </tr>\n",
       "    <tr>\n",
       "      <th>3</th>\n",
       "      <td>Daniel</td>\n",
       "      <td>NaN</td>\n",
       "      <td>NaN</td>\n",
       "    </tr>\n",
       "  </tbody>\n",
       "</table>\n",
       "</div>"
      ],
      "text/plain": [
       "     Nome  Idade  Salário\n",
       "0   Alice   25.0  50000.0\n",
       "1     Bob   30.0  60000.0\n",
       "2  Carlos   35.0  70000.0\n",
       "3  Daniel    NaN      NaN"
      ]
     },
     "execution_count": 65,
     "metadata": {},
     "output_type": "execute_result"
    }
   ],
   "source": [
    "# Criando um DataFrame\n",
    "df = pd.DataFrame(D)\n",
    "df"
   ]
  },
  {
   "cell_type": "markdown",
   "id": "77a109db",
   "metadata": {},
   "source": [
    "## Seleção de Dados (iloc e loc)"
   ]
  },
  {
   "cell_type": "code",
   "execution_count": 67,
   "id": "cbbe7d22-b639-474e-9654-a813013895e8",
   "metadata": {},
   "outputs": [
    {
     "name": "stdout",
     "output_type": "stream",
     "text": [
      "0     Alice\n",
      "1       Bob\n",
      "2    Carlos\n",
      "3    Daniel\n",
      "Name: Nome, dtype: object\n"
     ]
    }
   ],
   "source": [
    "# Selecionando colunas\n",
    "print(df['Nome'])"
   ]
  },
  {
   "cell_type": "code",
   "execution_count": 71,
   "id": "533a1e30-a06f-4bd8-9362-2711f82828e3",
   "metadata": {},
   "outputs": [
    {
     "name": "stdout",
     "output_type": "stream",
     "text": [
      "Bob\n"
     ]
    }
   ],
   "source": [
    "# Selecionando linhas pelo índice\n",
    "print(df.loc[1])  # Utilizando loc"
   ]
  },
  {
   "cell_type": "code",
   "execution_count": 72,
   "id": "322ff3c6-109d-4c6c-a071-b9a686232530",
   "metadata": {},
   "outputs": [
    {
     "name": "stdout",
     "output_type": "stream",
     "text": [
      "Bob\n"
     ]
    }
   ],
   "source": [
    "# Selecionando linhas pelo índice\n",
    "print(df.loc[1, 'Nome'])  # Utilizando loc"
   ]
  },
  {
   "cell_type": "code",
   "execution_count": 75,
   "id": "73b686b2-7077-4a97-aa22-235de698a57d",
   "metadata": {},
   "outputs": [
    {
     "data": {
      "text/html": [
       "<div>\n",
       "<style scoped>\n",
       "    .dataframe tbody tr th:only-of-type {\n",
       "        vertical-align: middle;\n",
       "    }\n",
       "\n",
       "    .dataframe tbody tr th {\n",
       "        vertical-align: top;\n",
       "    }\n",
       "\n",
       "    .dataframe thead th {\n",
       "        text-align: right;\n",
       "    }\n",
       "</style>\n",
       "<table border=\"1\" class=\"dataframe\">\n",
       "  <thead>\n",
       "    <tr style=\"text-align: right;\">\n",
       "      <th></th>\n",
       "      <th>Nome</th>\n",
       "      <th>Idade</th>\n",
       "      <th>Salário</th>\n",
       "    </tr>\n",
       "  </thead>\n",
       "  <tbody>\n",
       "    <tr>\n",
       "      <th>0</th>\n",
       "      <td>Alice</td>\n",
       "      <td>25.0</td>\n",
       "      <td>50000.0</td>\n",
       "    </tr>\n",
       "    <tr>\n",
       "      <th>1</th>\n",
       "      <td>Bob</td>\n",
       "      <td>30.0</td>\n",
       "      <td>60000.0</td>\n",
       "    </tr>\n",
       "  </tbody>\n",
       "</table>\n",
       "</div>"
      ],
      "text/plain": [
       "    Nome  Idade  Salário\n",
       "0  Alice   25.0  50000.0\n",
       "1    Bob   30.0  60000.0"
      ]
     },
     "execution_count": 75,
     "metadata": {},
     "output_type": "execute_result"
    }
   ],
   "source": [
    "# Selecionando com iloc\n",
    "df.iloc[0:2]"
   ]
  },
  {
   "cell_type": "code",
   "execution_count": 76,
   "id": "80006aee-2bac-4cf7-97e8-529553f73c1b",
   "metadata": {},
   "outputs": [
    {
     "data": {
      "text/plain": [
       "0    50000.0\n",
       "1    60000.0\n",
       "Name: Salário, dtype: float64"
      ]
     },
     "execution_count": 76,
     "metadata": {},
     "output_type": "execute_result"
    }
   ],
   "source": [
    "# Selecionando com iloc\n",
    "df.iloc[0:2, 2]"
   ]
  },
  {
   "cell_type": "markdown",
   "id": "c2908c24-1ee4-40ba-bae6-7d073a7bebd2",
   "metadata": {},
   "source": [
    "## Estatísticas Descritivas"
   ]
  },
  {
   "cell_type": "code",
   "execution_count": 12,
   "id": "1668c8a3-73e5-40d9-aa23-0b83e4da8e90",
   "metadata": {},
   "outputs": [
    {
     "name": "stdout",
     "output_type": "stream",
     "text": [
      "<class 'pandas.core.frame.DataFrame'>\n",
      "RangeIndex: 4 entries, 0 to 3\n",
      "Data columns (total 3 columns):\n",
      " #   Column   Non-Null Count  Dtype  \n",
      "---  ------   --------------  -----  \n",
      " 0   Nome     4 non-null      object \n",
      " 1   Idade    3 non-null      float64\n",
      " 2   Salário  3 non-null      float64\n",
      "dtypes: float64(2), object(1)\n",
      "memory usage: 228.0+ bytes\n"
     ]
    }
   ],
   "source": [
    "# Informações de estruturas de dados\n",
    "df.info()"
   ]
  },
  {
   "cell_type": "code",
   "execution_count": 13,
   "id": "47cfef2d-eac4-4ca1-b6f2-d1b8993bb06c",
   "metadata": {},
   "outputs": [
    {
     "data": {
      "text/html": [
       "<div>\n",
       "<style scoped>\n",
       "    .dataframe tbody tr th:only-of-type {\n",
       "        vertical-align: middle;\n",
       "    }\n",
       "\n",
       "    .dataframe tbody tr th {\n",
       "        vertical-align: top;\n",
       "    }\n",
       "\n",
       "    .dataframe thead th {\n",
       "        text-align: right;\n",
       "    }\n",
       "</style>\n",
       "<table border=\"1\" class=\"dataframe\">\n",
       "  <thead>\n",
       "    <tr style=\"text-align: right;\">\n",
       "      <th></th>\n",
       "      <th>Idade</th>\n",
       "      <th>Salário</th>\n",
       "    </tr>\n",
       "  </thead>\n",
       "  <tbody>\n",
       "    <tr>\n",
       "      <th>count</th>\n",
       "      <td>3.0</td>\n",
       "      <td>3.0</td>\n",
       "    </tr>\n",
       "    <tr>\n",
       "      <th>mean</th>\n",
       "      <td>30.0</td>\n",
       "      <td>60000.0</td>\n",
       "    </tr>\n",
       "    <tr>\n",
       "      <th>std</th>\n",
       "      <td>5.0</td>\n",
       "      <td>10000.0</td>\n",
       "    </tr>\n",
       "    <tr>\n",
       "      <th>min</th>\n",
       "      <td>25.0</td>\n",
       "      <td>50000.0</td>\n",
       "    </tr>\n",
       "    <tr>\n",
       "      <th>25%</th>\n",
       "      <td>27.5</td>\n",
       "      <td>55000.0</td>\n",
       "    </tr>\n",
       "    <tr>\n",
       "      <th>50%</th>\n",
       "      <td>30.0</td>\n",
       "      <td>60000.0</td>\n",
       "    </tr>\n",
       "    <tr>\n",
       "      <th>75%</th>\n",
       "      <td>32.5</td>\n",
       "      <td>65000.0</td>\n",
       "    </tr>\n",
       "    <tr>\n",
       "      <th>max</th>\n",
       "      <td>35.0</td>\n",
       "      <td>70000.0</td>\n",
       "    </tr>\n",
       "  </tbody>\n",
       "</table>\n",
       "</div>"
      ],
      "text/plain": [
       "       Idade  Salário\n",
       "count    3.0      3.0\n",
       "mean    30.0  60000.0\n",
       "std      5.0  10000.0\n",
       "min     25.0  50000.0\n",
       "25%     27.5  55000.0\n",
       "50%     30.0  60000.0\n",
       "75%     32.5  65000.0\n",
       "max     35.0  70000.0"
      ]
     },
     "execution_count": 13,
     "metadata": {},
     "output_type": "execute_result"
    }
   ],
   "source": [
    "# Estatísticas básicas\n",
    "df.describe()"
   ]
  },
  {
   "cell_type": "code",
   "execution_count": 14,
   "id": "23fda687-2d63-41cf-9c3a-5da3bcc7e879",
   "metadata": {},
   "outputs": [
    {
     "data": {
      "text/plain": [
       "Idade         30.0\n",
       "Salário    60000.0\n",
       "dtype: float64"
      ]
     },
     "execution_count": 14,
     "metadata": {},
     "output_type": "execute_result"
    }
   ],
   "source": [
    "# Média das colunas numéricas\n",
    "df.select_dtypes(include=['number']).mean()"
   ]
  },
  {
   "cell_type": "code",
   "execution_count": 15,
   "id": "3f63a298-7bd4-4c9e-86b8-006f18ed1b25",
   "metadata": {},
   "outputs": [
    {
     "data": {
      "text/html": [
       "<div>\n",
       "<style scoped>\n",
       "    .dataframe tbody tr th:only-of-type {\n",
       "        vertical-align: middle;\n",
       "    }\n",
       "\n",
       "    .dataframe tbody tr th {\n",
       "        vertical-align: top;\n",
       "    }\n",
       "\n",
       "    .dataframe thead th {\n",
       "        text-align: right;\n",
       "    }\n",
       "</style>\n",
       "<table border=\"1\" class=\"dataframe\">\n",
       "  <thead>\n",
       "    <tr style=\"text-align: right;\">\n",
       "      <th></th>\n",
       "      <th>Nome</th>\n",
       "      <th>Idade</th>\n",
       "      <th>Salário</th>\n",
       "    </tr>\n",
       "  </thead>\n",
       "  <tbody>\n",
       "    <tr>\n",
       "      <th>1</th>\n",
       "      <td>Bob</td>\n",
       "      <td>30.0</td>\n",
       "      <td>60000.0</td>\n",
       "    </tr>\n",
       "    <tr>\n",
       "      <th>2</th>\n",
       "      <td>Carlos</td>\n",
       "      <td>35.0</td>\n",
       "      <td>70000.0</td>\n",
       "    </tr>\n",
       "  </tbody>\n",
       "</table>\n",
       "</div>"
      ],
      "text/plain": [
       "     Nome  Idade  Salário\n",
       "1     Bob   30.0  60000.0\n",
       "2  Carlos   35.0  70000.0"
      ]
     },
     "execution_count": 15,
     "metadata": {},
     "output_type": "execute_result"
    }
   ],
   "source": [
    "aux = df[ df['Salário'] > 50000 ] # semelhante ao filter\n",
    "aux"
   ]
  },
  {
   "cell_type": "markdown",
   "id": "05eebd7c-86ef-47de-aa30-5691f1f59e0c",
   "metadata": {},
   "source": [
    "## Renomeando Colunas"
   ]
  },
  {
   "cell_type": "code",
   "execution_count": 16,
   "id": "e5eb52f6-4cc6-4868-8beb-6b03a621a748",
   "metadata": {},
   "outputs": [
    {
     "data": {
      "text/html": [
       "<div>\n",
       "<style scoped>\n",
       "    .dataframe tbody tr th:only-of-type {\n",
       "        vertical-align: middle;\n",
       "    }\n",
       "\n",
       "    .dataframe tbody tr th {\n",
       "        vertical-align: top;\n",
       "    }\n",
       "\n",
       "    .dataframe thead th {\n",
       "        text-align: right;\n",
       "    }\n",
       "</style>\n",
       "<table border=\"1\" class=\"dataframe\">\n",
       "  <thead>\n",
       "    <tr style=\"text-align: right;\">\n",
       "      <th></th>\n",
       "      <th>Primeiro Nome</th>\n",
       "      <th>Idade</th>\n",
       "      <th>Salário</th>\n",
       "    </tr>\n",
       "  </thead>\n",
       "  <tbody>\n",
       "    <tr>\n",
       "      <th>0</th>\n",
       "      <td>Alice</td>\n",
       "      <td>25.0</td>\n",
       "      <td>50000.0</td>\n",
       "    </tr>\n",
       "    <tr>\n",
       "      <th>1</th>\n",
       "      <td>Bob</td>\n",
       "      <td>30.0</td>\n",
       "      <td>60000.0</td>\n",
       "    </tr>\n",
       "    <tr>\n",
       "      <th>2</th>\n",
       "      <td>Carlos</td>\n",
       "      <td>35.0</td>\n",
       "      <td>70000.0</td>\n",
       "    </tr>\n",
       "    <tr>\n",
       "      <th>3</th>\n",
       "      <td>Daniel</td>\n",
       "      <td>NaN</td>\n",
       "      <td>NaN</td>\n",
       "    </tr>\n",
       "  </tbody>\n",
       "</table>\n",
       "</div>"
      ],
      "text/plain": [
       "  Primeiro Nome  Idade  Salário\n",
       "0         Alice   25.0  50000.0\n",
       "1           Bob   30.0  60000.0\n",
       "2        Carlos   35.0  70000.0\n",
       "3        Daniel    NaN      NaN"
      ]
     },
     "execution_count": 16,
     "metadata": {},
     "output_type": "execute_result"
    }
   ],
   "source": [
    "df = df.rename(columns={'Nome': 'Primeiro Nome', 'Cidade': 'Localidade'})\n",
    "df"
   ]
  },
  {
   "cell_type": "markdown",
   "id": "dad1b751-9db3-4c3c-b665-f3981cb4ef22",
   "metadata": {},
   "source": [
    "## Manipulação de Dados"
   ]
  },
  {
   "cell_type": "code",
   "execution_count": 17,
   "id": "cd1c4c33-a645-4656-a043-ecb9fb4e7bdb",
   "metadata": {},
   "outputs": [
    {
     "data": {
      "text/html": [
       "<div>\n",
       "<style scoped>\n",
       "    .dataframe tbody tr th:only-of-type {\n",
       "        vertical-align: middle;\n",
       "    }\n",
       "\n",
       "    .dataframe tbody tr th {\n",
       "        vertical-align: top;\n",
       "    }\n",
       "\n",
       "    .dataframe thead th {\n",
       "        text-align: right;\n",
       "    }\n",
       "</style>\n",
       "<table border=\"1\" class=\"dataframe\">\n",
       "  <thead>\n",
       "    <tr style=\"text-align: right;\">\n",
       "      <th></th>\n",
       "      <th>Primeiro Nome</th>\n",
       "      <th>Idade</th>\n",
       "      <th>Salário</th>\n",
       "      <th>Altura</th>\n",
       "    </tr>\n",
       "  </thead>\n",
       "  <tbody>\n",
       "    <tr>\n",
       "      <th>0</th>\n",
       "      <td>Alice</td>\n",
       "      <td>25.0</td>\n",
       "      <td>50000.0</td>\n",
       "      <td>1.65</td>\n",
       "    </tr>\n",
       "    <tr>\n",
       "      <th>1</th>\n",
       "      <td>Bob</td>\n",
       "      <td>30.0</td>\n",
       "      <td>60000.0</td>\n",
       "      <td>1.75</td>\n",
       "    </tr>\n",
       "    <tr>\n",
       "      <th>2</th>\n",
       "      <td>Carlos</td>\n",
       "      <td>35.0</td>\n",
       "      <td>70000.0</td>\n",
       "      <td>1.80</td>\n",
       "    </tr>\n",
       "    <tr>\n",
       "      <th>3</th>\n",
       "      <td>Daniel</td>\n",
       "      <td>NaN</td>\n",
       "      <td>NaN</td>\n",
       "      <td>1.90</td>\n",
       "    </tr>\n",
       "  </tbody>\n",
       "</table>\n",
       "</div>"
      ],
      "text/plain": [
       "  Primeiro Nome  Idade  Salário  Altura\n",
       "0         Alice   25.0  50000.0    1.65\n",
       "1           Bob   30.0  60000.0    1.75\n",
       "2        Carlos   35.0  70000.0    1.80\n",
       "3        Daniel    NaN      NaN    1.90"
      ]
     },
     "execution_count": 17,
     "metadata": {},
     "output_type": "execute_result"
    }
   ],
   "source": [
    "# Criando uma nova coluna\n",
    "df['Altura'] = [1.65, 1.75, 1.80, 1.90]\n",
    "df"
   ]
  },
  {
   "cell_type": "code",
   "execution_count": 79,
   "id": "57bcdd98-8b65-4257-811a-10dfbe9f035d",
   "metadata": {},
   "outputs": [],
   "source": [
    "df['Conjunto'] = s.values"
   ]
  },
  {
   "cell_type": "code",
   "execution_count": 80,
   "id": "92697d6c-96a7-4e98-8063-56d86dd51ca8",
   "metadata": {},
   "outputs": [
    {
     "data": {
      "text/html": [
       "<div>\n",
       "<style scoped>\n",
       "    .dataframe tbody tr th:only-of-type {\n",
       "        vertical-align: middle;\n",
       "    }\n",
       "\n",
       "    .dataframe tbody tr th {\n",
       "        vertical-align: top;\n",
       "    }\n",
       "\n",
       "    .dataframe thead th {\n",
       "        text-align: right;\n",
       "    }\n",
       "</style>\n",
       "<table border=\"1\" class=\"dataframe\">\n",
       "  <thead>\n",
       "    <tr style=\"text-align: right;\">\n",
       "      <th></th>\n",
       "      <th>Nome</th>\n",
       "      <th>Idade</th>\n",
       "      <th>Salário</th>\n",
       "      <th>Conjunto</th>\n",
       "    </tr>\n",
       "  </thead>\n",
       "  <tbody>\n",
       "    <tr>\n",
       "      <th>0</th>\n",
       "      <td>Alice</td>\n",
       "      <td>27.0</td>\n",
       "      <td>50000.0</td>\n",
       "      <td>10</td>\n",
       "    </tr>\n",
       "    <tr>\n",
       "      <th>1</th>\n",
       "      <td>Bob</td>\n",
       "      <td>32.0</td>\n",
       "      <td>60000.0</td>\n",
       "      <td>20</td>\n",
       "    </tr>\n",
       "    <tr>\n",
       "      <th>2</th>\n",
       "      <td>Carlos</td>\n",
       "      <td>37.0</td>\n",
       "      <td>70000.0</td>\n",
       "      <td>30</td>\n",
       "    </tr>\n",
       "    <tr>\n",
       "      <th>3</th>\n",
       "      <td>Daniel</td>\n",
       "      <td>NaN</td>\n",
       "      <td>NaN</td>\n",
       "      <td>40</td>\n",
       "    </tr>\n",
       "  </tbody>\n",
       "</table>\n",
       "</div>"
      ],
      "text/plain": [
       "     Nome  Idade  Salário  Conjunto\n",
       "0   Alice   27.0  50000.0        10\n",
       "1     Bob   32.0  60000.0        20\n",
       "2  Carlos   37.0  70000.0        30\n",
       "3  Daniel    NaN      NaN        40"
      ]
     },
     "execution_count": 80,
     "metadata": {},
     "output_type": "execute_result"
    }
   ],
   "source": [
    "# Modificando uma coluna existente\n",
    "df['Idade'] = df['Idade'] + 2\n",
    "# df['Idade'] += 2\n",
    "df"
   ]
  },
  {
   "cell_type": "code",
   "execution_count": 82,
   "id": "5c96b1a2-f52c-4186-85b1-2e50f6080595",
   "metadata": {},
   "outputs": [],
   "source": [
    "df['Nome'] += ' Santos'"
   ]
  },
  {
   "cell_type": "code",
   "execution_count": 83,
   "id": "840e47b8-6a96-48a1-9277-e263e9260121",
   "metadata": {},
   "outputs": [
    {
     "data": {
      "text/html": [
       "<div>\n",
       "<style scoped>\n",
       "    .dataframe tbody tr th:only-of-type {\n",
       "        vertical-align: middle;\n",
       "    }\n",
       "\n",
       "    .dataframe tbody tr th {\n",
       "        vertical-align: top;\n",
       "    }\n",
       "\n",
       "    .dataframe thead th {\n",
       "        text-align: right;\n",
       "    }\n",
       "</style>\n",
       "<table border=\"1\" class=\"dataframe\">\n",
       "  <thead>\n",
       "    <tr style=\"text-align: right;\">\n",
       "      <th></th>\n",
       "      <th>Nome</th>\n",
       "      <th>Idade</th>\n",
       "      <th>Salário</th>\n",
       "      <th>Conjunto</th>\n",
       "    </tr>\n",
       "  </thead>\n",
       "  <tbody>\n",
       "    <tr>\n",
       "      <th>0</th>\n",
       "      <td>Alice Santos</td>\n",
       "      <td>27.0</td>\n",
       "      <td>50000.0</td>\n",
       "      <td>10</td>\n",
       "    </tr>\n",
       "    <tr>\n",
       "      <th>1</th>\n",
       "      <td>Bob Santos</td>\n",
       "      <td>32.0</td>\n",
       "      <td>60000.0</td>\n",
       "      <td>20</td>\n",
       "    </tr>\n",
       "    <tr>\n",
       "      <th>2</th>\n",
       "      <td>Carlos Santos</td>\n",
       "      <td>37.0</td>\n",
       "      <td>70000.0</td>\n",
       "      <td>30</td>\n",
       "    </tr>\n",
       "    <tr>\n",
       "      <th>3</th>\n",
       "      <td>Daniel Santos</td>\n",
       "      <td>NaN</td>\n",
       "      <td>NaN</td>\n",
       "      <td>40</td>\n",
       "    </tr>\n",
       "  </tbody>\n",
       "</table>\n",
       "</div>"
      ],
      "text/plain": [
       "            Nome  Idade  Salário  Conjunto\n",
       "0   Alice Santos   27.0  50000.0        10\n",
       "1     Bob Santos   32.0  60000.0        20\n",
       "2  Carlos Santos   37.0  70000.0        30\n",
       "3  Daniel Santos    NaN      NaN        40"
      ]
     },
     "execution_count": 83,
     "metadata": {},
     "output_type": "execute_result"
    }
   ],
   "source": [
    "df"
   ]
  },
  {
   "cell_type": "markdown",
   "id": "175055da-c527-4fe9-bc87-b831165d076d",
   "metadata": {},
   "source": [
    "## Filtrando Dados"
   ]
  },
  {
   "cell_type": "code",
   "execution_count": 21,
   "id": "aa9cec0d-aed7-46fe-a433-27fe99966ef2",
   "metadata": {},
   "outputs": [
    {
     "data": {
      "text/html": [
       "<div>\n",
       "<style scoped>\n",
       "    .dataframe tbody tr th:only-of-type {\n",
       "        vertical-align: middle;\n",
       "    }\n",
       "\n",
       "    .dataframe tbody tr th {\n",
       "        vertical-align: top;\n",
       "    }\n",
       "\n",
       "    .dataframe thead th {\n",
       "        text-align: right;\n",
       "    }\n",
       "</style>\n",
       "<table border=\"1\" class=\"dataframe\">\n",
       "  <thead>\n",
       "    <tr style=\"text-align: right;\">\n",
       "      <th></th>\n",
       "      <th>Primeiro Nome</th>\n",
       "      <th>Idade</th>\n",
       "      <th>Salário</th>\n",
       "      <th>Altura</th>\n",
       "      <th>Conjunto</th>\n",
       "    </tr>\n",
       "  </thead>\n",
       "  <tbody>\n",
       "  </tbody>\n",
       "</table>\n",
       "</div>"
      ],
      "text/plain": [
       "Empty DataFrame\n",
       "Columns: [Primeiro Nome, Idade, Salário, Altura, Conjunto]\n",
       "Index: []"
      ]
     },
     "execution_count": 21,
     "metadata": {},
     "output_type": "execute_result"
    }
   ],
   "source": [
    "# Filtrando pessoas com idade maior que 30\n",
    "df_filtrado = df[df['Idade'] > 45]\n",
    "df_filtrado"
   ]
  },
  {
   "cell_type": "code",
   "execution_count": 84,
   "id": "4e78e83a-64b7-41fd-b653-b79d9fb728be",
   "metadata": {},
   "outputs": [
    {
     "data": {
      "text/plain": [
       "pandas.core.frame.DataFrame"
      ]
     },
     "execution_count": 84,
     "metadata": {},
     "output_type": "execute_result"
    }
   ],
   "source": [
    "type(df_filtrado)"
   ]
  },
  {
   "cell_type": "markdown",
   "id": "624d802d",
   "metadata": {},
   "source": [
    "## Trabalhando com valores nulos"
   ]
  },
  {
   "cell_type": "code",
   "execution_count": 89,
   "id": "eca0abe0-875f-404c-9bba-84c2e9e27aa4",
   "metadata": {},
   "outputs": [
    {
     "data": {
      "text/html": [
       "<div>\n",
       "<style scoped>\n",
       "    .dataframe tbody tr th:only-of-type {\n",
       "        vertical-align: middle;\n",
       "    }\n",
       "\n",
       "    .dataframe tbody tr th {\n",
       "        vertical-align: top;\n",
       "    }\n",
       "\n",
       "    .dataframe thead th {\n",
       "        text-align: right;\n",
       "    }\n",
       "</style>\n",
       "<table border=\"1\" class=\"dataframe\">\n",
       "  <thead>\n",
       "    <tr style=\"text-align: right;\">\n",
       "      <th></th>\n",
       "      <th>A</th>\n",
       "      <th>B</th>\n",
       "    </tr>\n",
       "  </thead>\n",
       "  <tbody>\n",
       "    <tr>\n",
       "      <th>0</th>\n",
       "      <td>1.0</td>\n",
       "      <td>4.0</td>\n",
       "    </tr>\n",
       "    <tr>\n",
       "      <th>1</th>\n",
       "      <td>NaN</td>\n",
       "      <td>5.0</td>\n",
       "    </tr>\n",
       "    <tr>\n",
       "      <th>2</th>\n",
       "      <td>3.0</td>\n",
       "      <td>NaN</td>\n",
       "    </tr>\n",
       "  </tbody>\n",
       "</table>\n",
       "</div>"
      ],
      "text/plain": [
       "     A    B\n",
       "0  1.0  4.0\n",
       "1  NaN  5.0\n",
       "2  3.0  NaN"
      ]
     },
     "execution_count": 89,
     "metadata": {},
     "output_type": "execute_result"
    }
   ],
   "source": [
    "df_null = pd.DataFrame({'A': [1, None, 3], 'B': [4, 5, None]})\n",
    "df_null"
   ]
  },
  {
   "cell_type": "code",
   "execution_count": 90,
   "id": "d78a6237-2dea-4f98-b77d-9148e083d460",
   "metadata": {},
   "outputs": [
    {
     "data": {
      "text/html": [
       "<div>\n",
       "<style scoped>\n",
       "    .dataframe tbody tr th:only-of-type {\n",
       "        vertical-align: middle;\n",
       "    }\n",
       "\n",
       "    .dataframe tbody tr th {\n",
       "        vertical-align: top;\n",
       "    }\n",
       "\n",
       "    .dataframe thead th {\n",
       "        text-align: right;\n",
       "    }\n",
       "</style>\n",
       "<table border=\"1\" class=\"dataframe\">\n",
       "  <thead>\n",
       "    <tr style=\"text-align: right;\">\n",
       "      <th></th>\n",
       "      <th>A</th>\n",
       "      <th>B</th>\n",
       "    </tr>\n",
       "  </thead>\n",
       "  <tbody>\n",
       "    <tr>\n",
       "      <th>0</th>\n",
       "      <td>False</td>\n",
       "      <td>False</td>\n",
       "    </tr>\n",
       "    <tr>\n",
       "      <th>1</th>\n",
       "      <td>True</td>\n",
       "      <td>False</td>\n",
       "    </tr>\n",
       "    <tr>\n",
       "      <th>2</th>\n",
       "      <td>False</td>\n",
       "      <td>True</td>\n",
       "    </tr>\n",
       "  </tbody>\n",
       "</table>\n",
       "</div>"
      ],
      "text/plain": [
       "       A      B\n",
       "0  False  False\n",
       "1   True  False\n",
       "2  False   True"
      ]
     },
     "execution_count": 90,
     "metadata": {},
     "output_type": "execute_result"
    }
   ],
   "source": [
    "# Verificar valores nulos\n",
    "df_null.isnull()"
   ]
  },
  {
   "cell_type": "code",
   "execution_count": 91,
   "id": "0ef8d21a-468d-473c-892c-6272fac466c7",
   "metadata": {},
   "outputs": [
    {
     "data": {
      "text/html": [
       "<div>\n",
       "<style scoped>\n",
       "    .dataframe tbody tr th:only-of-type {\n",
       "        vertical-align: middle;\n",
       "    }\n",
       "\n",
       "    .dataframe tbody tr th {\n",
       "        vertical-align: top;\n",
       "    }\n",
       "\n",
       "    .dataframe thead th {\n",
       "        text-align: right;\n",
       "    }\n",
       "</style>\n",
       "<table border=\"1\" class=\"dataframe\">\n",
       "  <thead>\n",
       "    <tr style=\"text-align: right;\">\n",
       "      <th></th>\n",
       "      <th>A</th>\n",
       "      <th>B</th>\n",
       "    </tr>\n",
       "  </thead>\n",
       "  <tbody>\n",
       "    <tr>\n",
       "      <th>0</th>\n",
       "      <td>1.0</td>\n",
       "      <td>4.0</td>\n",
       "    </tr>\n",
       "    <tr>\n",
       "      <th>1</th>\n",
       "      <td>2.0</td>\n",
       "      <td>5.0</td>\n",
       "    </tr>\n",
       "    <tr>\n",
       "      <th>2</th>\n",
       "      <td>3.0</td>\n",
       "      <td>4.5</td>\n",
       "    </tr>\n",
       "  </tbody>\n",
       "</table>\n",
       "</div>"
      ],
      "text/plain": [
       "     A    B\n",
       "0  1.0  4.0\n",
       "1  2.0  5.0\n",
       "2  3.0  4.5"
      ]
     },
     "execution_count": 91,
     "metadata": {},
     "output_type": "execute_result"
    }
   ],
   "source": [
    "# Preencher com média\n",
    "df_null.fillna(df_null.mean(), inplace=True)\n",
    "# df_null = df_null.fillna(df_null.mean(numeric_only=True))\n",
    "df_null"
   ]
  },
  {
   "cell_type": "markdown",
   "id": "995e95e7",
   "metadata": {},
   "source": [
    "## Agrupamento de dados com `groupby`"
   ]
  },
  {
   "cell_type": "code",
   "execution_count": 25,
   "id": "48dbd926-b884-4d23-acce-c1ffb63ca17c",
   "metadata": {},
   "outputs": [
    {
     "data": {
      "text/html": [
       "<div>\n",
       "<style scoped>\n",
       "    .dataframe tbody tr th:only-of-type {\n",
       "        vertical-align: middle;\n",
       "    }\n",
       "\n",
       "    .dataframe tbody tr th {\n",
       "        vertical-align: top;\n",
       "    }\n",
       "\n",
       "    .dataframe thead th {\n",
       "        text-align: right;\n",
       "    }\n",
       "</style>\n",
       "<table border=\"1\" class=\"dataframe\">\n",
       "  <thead>\n",
       "    <tr style=\"text-align: right;\">\n",
       "      <th></th>\n",
       "      <th>Categoria</th>\n",
       "      <th>Valor</th>\n",
       "    </tr>\n",
       "  </thead>\n",
       "  <tbody>\n",
       "    <tr>\n",
       "      <th>0</th>\n",
       "      <td>A</td>\n",
       "      <td>100</td>\n",
       "    </tr>\n",
       "    <tr>\n",
       "      <th>1</th>\n",
       "      <td>A</td>\n",
       "      <td>200</td>\n",
       "    </tr>\n",
       "    <tr>\n",
       "      <th>2</th>\n",
       "      <td>B</td>\n",
       "      <td>300</td>\n",
       "    </tr>\n",
       "    <tr>\n",
       "      <th>3</th>\n",
       "      <td>B</td>\n",
       "      <td>400</td>\n",
       "    </tr>\n",
       "    <tr>\n",
       "      <th>4</th>\n",
       "      <td>C</td>\n",
       "      <td>500</td>\n",
       "    </tr>\n",
       "    <tr>\n",
       "      <th>5</th>\n",
       "      <td>C</td>\n",
       "      <td>600</td>\n",
       "    </tr>\n",
       "  </tbody>\n",
       "</table>\n",
       "</div>"
      ],
      "text/plain": [
       "  Categoria  Valor\n",
       "0         A    100\n",
       "1         A    200\n",
       "2         B    300\n",
       "3         B    400\n",
       "4         C    500\n",
       "5         C    600"
      ]
     },
     "execution_count": 25,
     "metadata": {},
     "output_type": "execute_result"
    }
   ],
   "source": [
    "# Criando um novo DataFrame para agrupamento\n",
    "df_group = pd.DataFrame({\n",
    "    'Categoria': ['A', 'A', 'B', 'B', 'C', 'C'],\n",
    "    'Valor': [100, 200, 300, 400, 500, 600]\n",
    "})\n",
    "\n",
    "df_group"
   ]
  },
  {
   "cell_type": "code",
   "execution_count": 26,
   "id": "6b438d3b-6825-4a09-a062-4c0e284f91cb",
   "metadata": {},
   "outputs": [
    {
     "data": {
      "text/html": [
       "<div>\n",
       "<style scoped>\n",
       "    .dataframe tbody tr th:only-of-type {\n",
       "        vertical-align: middle;\n",
       "    }\n",
       "\n",
       "    .dataframe tbody tr th {\n",
       "        vertical-align: top;\n",
       "    }\n",
       "\n",
       "    .dataframe thead th {\n",
       "        text-align: right;\n",
       "    }\n",
       "</style>\n",
       "<table border=\"1\" class=\"dataframe\">\n",
       "  <thead>\n",
       "    <tr style=\"text-align: right;\">\n",
       "      <th></th>\n",
       "      <th>Valor</th>\n",
       "    </tr>\n",
       "    <tr>\n",
       "      <th>Categoria</th>\n",
       "      <th></th>\n",
       "    </tr>\n",
       "  </thead>\n",
       "  <tbody>\n",
       "    <tr>\n",
       "      <th>A</th>\n",
       "      <td>150.0</td>\n",
       "    </tr>\n",
       "    <tr>\n",
       "      <th>B</th>\n",
       "      <td>350.0</td>\n",
       "    </tr>\n",
       "    <tr>\n",
       "      <th>C</th>\n",
       "      <td>550.0</td>\n",
       "    </tr>\n",
       "  </tbody>\n",
       "</table>\n",
       "</div>"
      ],
      "text/plain": [
       "           Valor\n",
       "Categoria       \n",
       "A          150.0\n",
       "B          350.0\n",
       "C          550.0"
      ]
     },
     "execution_count": 26,
     "metadata": {},
     "output_type": "execute_result"
    }
   ],
   "source": [
    "# Agrupar e calcular a média\n",
    "df_grouped = df_group.groupby('Categoria').mean()\n",
    "df_grouped"
   ]
  },
  {
   "cell_type": "markdown",
   "id": "df482ba2",
   "metadata": {},
   "source": [
    "## Ordenação de Dados"
   ]
  },
  {
   "cell_type": "code",
   "execution_count": 98,
   "id": "80127af9",
   "metadata": {},
   "outputs": [
    {
     "data": {
      "text/html": [
       "<div>\n",
       "<style scoped>\n",
       "    .dataframe tbody tr th:only-of-type {\n",
       "        vertical-align: middle;\n",
       "    }\n",
       "\n",
       "    .dataframe tbody tr th {\n",
       "        vertical-align: top;\n",
       "    }\n",
       "\n",
       "    .dataframe thead th {\n",
       "        text-align: right;\n",
       "    }\n",
       "</style>\n",
       "<table border=\"1\" class=\"dataframe\">\n",
       "  <thead>\n",
       "    <tr style=\"text-align: right;\">\n",
       "      <th></th>\n",
       "      <th>Nome</th>\n",
       "      <th>Idade</th>\n",
       "      <th>Salário</th>\n",
       "      <th>Conjunto</th>\n",
       "    </tr>\n",
       "  </thead>\n",
       "  <tbody>\n",
       "    <tr>\n",
       "      <th>2</th>\n",
       "      <td>Carlos Santos</td>\n",
       "      <td>37.0</td>\n",
       "      <td>70000.0</td>\n",
       "      <td>30</td>\n",
       "    </tr>\n",
       "    <tr>\n",
       "      <th>1</th>\n",
       "      <td>Bob Santos</td>\n",
       "      <td>32.0</td>\n",
       "      <td>60000.0</td>\n",
       "      <td>20</td>\n",
       "    </tr>\n",
       "    <tr>\n",
       "      <th>0</th>\n",
       "      <td>Alice Santos</td>\n",
       "      <td>27.0</td>\n",
       "      <td>50000.0</td>\n",
       "      <td>10</td>\n",
       "    </tr>\n",
       "    <tr>\n",
       "      <th>3</th>\n",
       "      <td>Daniel Santos</td>\n",
       "      <td>NaN</td>\n",
       "      <td>NaN</td>\n",
       "      <td>40</td>\n",
       "    </tr>\n",
       "  </tbody>\n",
       "</table>\n",
       "</div>"
      ],
      "text/plain": [
       "            Nome  Idade  Salário  Conjunto\n",
       "2  Carlos Santos   37.0  70000.0        30\n",
       "1     Bob Santos   32.0  60000.0        20\n",
       "0   Alice Santos   27.0  50000.0        10\n",
       "3  Daniel Santos    NaN      NaN        40"
      ]
     },
     "execution_count": 98,
     "metadata": {},
     "output_type": "execute_result"
    }
   ],
   "source": [
    "df_sorted = df.sort_values(by='Idade', ascending=False)\n",
    "df_sorted"
   ]
  },
  {
   "cell_type": "code",
   "execution_count": 99,
   "id": "2c9bba59-d885-4487-a59b-9f4e87ff0e59",
   "metadata": {},
   "outputs": [
    {
     "data": {
      "text/html": [
       "<div>\n",
       "<style scoped>\n",
       "    .dataframe tbody tr th:only-of-type {\n",
       "        vertical-align: middle;\n",
       "    }\n",
       "\n",
       "    .dataframe tbody tr th {\n",
       "        vertical-align: top;\n",
       "    }\n",
       "\n",
       "    .dataframe thead th {\n",
       "        text-align: right;\n",
       "    }\n",
       "</style>\n",
       "<table border=\"1\" class=\"dataframe\">\n",
       "  <thead>\n",
       "    <tr style=\"text-align: right;\">\n",
       "      <th></th>\n",
       "      <th>Nome</th>\n",
       "      <th>Idade</th>\n",
       "      <th>Salário</th>\n",
       "      <th>Conjunto</th>\n",
       "    </tr>\n",
       "  </thead>\n",
       "  <tbody>\n",
       "    <tr>\n",
       "      <th>0</th>\n",
       "      <td>Carlos Santos</td>\n",
       "      <td>37.0</td>\n",
       "      <td>70000.0</td>\n",
       "      <td>30</td>\n",
       "    </tr>\n",
       "    <tr>\n",
       "      <th>1</th>\n",
       "      <td>Bob Santos</td>\n",
       "      <td>32.0</td>\n",
       "      <td>60000.0</td>\n",
       "      <td>20</td>\n",
       "    </tr>\n",
       "    <tr>\n",
       "      <th>2</th>\n",
       "      <td>Alice Santos</td>\n",
       "      <td>27.0</td>\n",
       "      <td>50000.0</td>\n",
       "      <td>10</td>\n",
       "    </tr>\n",
       "    <tr>\n",
       "      <th>3</th>\n",
       "      <td>Daniel Santos</td>\n",
       "      <td>NaN</td>\n",
       "      <td>NaN</td>\n",
       "      <td>40</td>\n",
       "    </tr>\n",
       "  </tbody>\n",
       "</table>\n",
       "</div>"
      ],
      "text/plain": [
       "            Nome  Idade  Salário  Conjunto\n",
       "0  Carlos Santos   37.0  70000.0        30\n",
       "1     Bob Santos   32.0  60000.0        20\n",
       "2   Alice Santos   27.0  50000.0        10\n",
       "3  Daniel Santos    NaN      NaN        40"
      ]
     },
     "execution_count": 99,
     "metadata": {},
     "output_type": "execute_result"
    }
   ],
   "source": [
    "df_sorted = df_sorted.reset_index(drop=True)\n",
    "df_sorted"
   ]
  },
  {
   "cell_type": "markdown",
   "id": "ff994cce",
   "metadata": {},
   "source": [
    "## Juntando DataFrames"
   ]
  },
  {
   "cell_type": "code",
   "execution_count": 92,
   "id": "dd8499d2-0e8b-4e2f-a5bc-30b250feba14",
   "metadata": {},
   "outputs": [],
   "source": [
    "df1 = pd.DataFrame({'ID': [1, 2, 3], 'Nome': ['Alice', 'Bob', 'Carlos']})\n",
    "df2 = pd.DataFrame({'ID': [1, 2, 3], 'Salário': [50000, 60000, 70000]})"
   ]
  },
  {
   "cell_type": "code",
   "execution_count": 93,
   "id": "ea87ab45-e373-464f-923b-ed2e097a90ff",
   "metadata": {},
   "outputs": [
    {
     "data": {
      "text/html": [
       "<div>\n",
       "<style scoped>\n",
       "    .dataframe tbody tr th:only-of-type {\n",
       "        vertical-align: middle;\n",
       "    }\n",
       "\n",
       "    .dataframe tbody tr th {\n",
       "        vertical-align: top;\n",
       "    }\n",
       "\n",
       "    .dataframe thead th {\n",
       "        text-align: right;\n",
       "    }\n",
       "</style>\n",
       "<table border=\"1\" class=\"dataframe\">\n",
       "  <thead>\n",
       "    <tr style=\"text-align: right;\">\n",
       "      <th></th>\n",
       "      <th>ID</th>\n",
       "      <th>Nome</th>\n",
       "      <th>Salário</th>\n",
       "    </tr>\n",
       "  </thead>\n",
       "  <tbody>\n",
       "    <tr>\n",
       "      <th>0</th>\n",
       "      <td>1</td>\n",
       "      <td>Alice</td>\n",
       "      <td>50000</td>\n",
       "    </tr>\n",
       "    <tr>\n",
       "      <th>1</th>\n",
       "      <td>2</td>\n",
       "      <td>Bob</td>\n",
       "      <td>60000</td>\n",
       "    </tr>\n",
       "    <tr>\n",
       "      <th>2</th>\n",
       "      <td>3</td>\n",
       "      <td>Carlos</td>\n",
       "      <td>70000</td>\n",
       "    </tr>\n",
       "  </tbody>\n",
       "</table>\n",
       "</div>"
      ],
      "text/plain": [
       "   ID    Nome  Salário\n",
       "0   1   Alice    50000\n",
       "1   2     Bob    60000\n",
       "2   3  Carlos    70000"
      ]
     },
     "execution_count": 93,
     "metadata": {},
     "output_type": "execute_result"
    }
   ],
   "source": [
    "# Mesclando DataFrames\n",
    "df_merged = pd.merge(df1, df2, on='ID')\n",
    "df_merged"
   ]
  },
  {
   "cell_type": "markdown",
   "id": "5d38df0b-9d73-4c2f-b8b9-e9a6199edf0e",
   "metadata": {},
   "source": [
    "## Aplicação de Funções com `apply`"
   ]
  },
  {
   "cell_type": "code",
   "execution_count": 30,
   "id": "ebfe11e7-ade4-41b7-a8a4-b343dca19f94",
   "metadata": {},
   "outputs": [
    {
     "data": {
      "text/html": [
       "<div>\n",
       "<style scoped>\n",
       "    .dataframe tbody tr th:only-of-type {\n",
       "        vertical-align: middle;\n",
       "    }\n",
       "\n",
       "    .dataframe tbody tr th {\n",
       "        vertical-align: top;\n",
       "    }\n",
       "\n",
       "    .dataframe thead th {\n",
       "        text-align: right;\n",
       "    }\n",
       "</style>\n",
       "<table border=\"1\" class=\"dataframe\">\n",
       "  <thead>\n",
       "    <tr style=\"text-align: right;\">\n",
       "      <th></th>\n",
       "      <th>Primeiro Nome</th>\n",
       "      <th>Idade</th>\n",
       "      <th>Salário</th>\n",
       "      <th>Altura</th>\n",
       "      <th>Conjunto</th>\n",
       "      <th>Décadas</th>\n",
       "    </tr>\n",
       "  </thead>\n",
       "  <tbody>\n",
       "    <tr>\n",
       "      <th>0</th>\n",
       "      <td>Alice Santos</td>\n",
       "      <td>27.0</td>\n",
       "      <td>50000.0</td>\n",
       "      <td>1.65</td>\n",
       "      <td>10</td>\n",
       "      <td>2.0</td>\n",
       "    </tr>\n",
       "    <tr>\n",
       "      <th>1</th>\n",
       "      <td>Bob Santos</td>\n",
       "      <td>32.0</td>\n",
       "      <td>60000.0</td>\n",
       "      <td>1.75</td>\n",
       "      <td>20</td>\n",
       "      <td>3.0</td>\n",
       "    </tr>\n",
       "    <tr>\n",
       "      <th>2</th>\n",
       "      <td>Carlos Santos</td>\n",
       "      <td>37.0</td>\n",
       "      <td>70000.0</td>\n",
       "      <td>1.80</td>\n",
       "      <td>30</td>\n",
       "      <td>3.0</td>\n",
       "    </tr>\n",
       "    <tr>\n",
       "      <th>3</th>\n",
       "      <td>Daniel Santos</td>\n",
       "      <td>NaN</td>\n",
       "      <td>NaN</td>\n",
       "      <td>1.90</td>\n",
       "      <td>40</td>\n",
       "      <td>NaN</td>\n",
       "    </tr>\n",
       "  </tbody>\n",
       "</table>\n",
       "</div>"
      ],
      "text/plain": [
       "   Primeiro Nome  Idade  Salário  Altura  Conjunto  Décadas\n",
       "0   Alice Santos   27.0  50000.0    1.65        10      2.0\n",
       "1     Bob Santos   32.0  60000.0    1.75        20      3.0\n",
       "2  Carlos Santos   37.0  70000.0    1.80        30      3.0\n",
       "3  Daniel Santos    NaN      NaN    1.90        40      NaN"
      ]
     },
     "execution_count": 30,
     "metadata": {},
     "output_type": "execute_result"
    }
   ],
   "source": [
    "# Criando uma função para converter idade em décadas\n",
    "def idade_em_decadas(idade):\n",
    "    return idade // 10\n",
    "\n",
    "df['Décadas'] = df['Idade'].apply(idade_em_decadas)\n",
    "df"
   ]
  },
  {
   "cell_type": "code",
   "execution_count": 31,
   "id": "73ef1adb-ec5e-42f9-a4bd-87e4b00c3d4a",
   "metadata": {},
   "outputs": [],
   "source": [
    "# df['Décadas'] = df['Idade'].apply(lambda x: x // 10)"
   ]
  },
  {
   "cell_type": "markdown",
   "id": "d109dd0a-1e0b-41c3-9078-8e407d683e16",
   "metadata": {},
   "source": [
    "## Transformações com `apply` e `lambda`"
   ]
  },
  {
   "cell_type": "code",
   "execution_count": 32,
   "id": "c8fe9174-e7ed-43c2-8b70-b4f50e6afd22",
   "metadata": {},
   "outputs": [
    {
     "data": {
      "text/html": [
       "<div>\n",
       "<style scoped>\n",
       "    .dataframe tbody tr th:only-of-type {\n",
       "        vertical-align: middle;\n",
       "    }\n",
       "\n",
       "    .dataframe tbody tr th {\n",
       "        vertical-align: top;\n",
       "    }\n",
       "\n",
       "    .dataframe thead th {\n",
       "        text-align: right;\n",
       "    }\n",
       "</style>\n",
       "<table border=\"1\" class=\"dataframe\">\n",
       "  <thead>\n",
       "    <tr style=\"text-align: right;\">\n",
       "      <th></th>\n",
       "      <th>A</th>\n",
       "      <th>B</th>\n",
       "      <th>C</th>\n",
       "      <th>D</th>\n",
       "    </tr>\n",
       "  </thead>\n",
       "  <tbody>\n",
       "    <tr>\n",
       "      <th>0</th>\n",
       "      <td>92</td>\n",
       "      <td>14</td>\n",
       "      <td>91</td>\n",
       "      <td>61</td>\n",
       "    </tr>\n",
       "    <tr>\n",
       "      <th>1</th>\n",
       "      <td>41</td>\n",
       "      <td>59</td>\n",
       "      <td>26</td>\n",
       "      <td>53</td>\n",
       "    </tr>\n",
       "    <tr>\n",
       "      <th>2</th>\n",
       "      <td>18</td>\n",
       "      <td>10</td>\n",
       "      <td>73</td>\n",
       "      <td>56</td>\n",
       "    </tr>\n",
       "    <tr>\n",
       "      <th>3</th>\n",
       "      <td>96</td>\n",
       "      <td>82</td>\n",
       "      <td>99</td>\n",
       "      <td>95</td>\n",
       "    </tr>\n",
       "  </tbody>\n",
       "</table>\n",
       "</div>"
      ],
      "text/plain": [
       "    A   B   C   D\n",
       "0  92  14  91  61\n",
       "1  41  59  26  53\n",
       "2  18  10  73  56\n",
       "3  96  82  99  95"
      ]
     },
     "execution_count": 32,
     "metadata": {},
     "output_type": "execute_result"
    }
   ],
   "source": [
    "import random\n",
    "\n",
    "# Criando um novo DataFrame sem numpy\n",
    "df_num = pd.DataFrame({col: [random.randint(1, 100) for _ in range(4)] for col in 'ABCD'})\n",
    "df_num.head()"
   ]
  },
  {
   "cell_type": "code",
   "execution_count": 33,
   "id": "8ea81489-9439-4428-8fa3-b39f98050135",
   "metadata": {},
   "outputs": [
    {
     "data": {
      "text/html": [
       "<div>\n",
       "<style scoped>\n",
       "    .dataframe tbody tr th:only-of-type {\n",
       "        vertical-align: middle;\n",
       "    }\n",
       "\n",
       "    .dataframe tbody tr th {\n",
       "        vertical-align: top;\n",
       "    }\n",
       "\n",
       "    .dataframe thead th {\n",
       "        text-align: right;\n",
       "    }\n",
       "</style>\n",
       "<table border=\"1\" class=\"dataframe\">\n",
       "  <thead>\n",
       "    <tr style=\"text-align: right;\">\n",
       "      <th></th>\n",
       "      <th>A</th>\n",
       "      <th>B</th>\n",
       "      <th>C</th>\n",
       "      <th>D</th>\n",
       "    </tr>\n",
       "  </thead>\n",
       "  <tbody>\n",
       "    <tr>\n",
       "      <th>0</th>\n",
       "      <td>184</td>\n",
       "      <td>14</td>\n",
       "      <td>91</td>\n",
       "      <td>61</td>\n",
       "    </tr>\n",
       "    <tr>\n",
       "      <th>1</th>\n",
       "      <td>82</td>\n",
       "      <td>59</td>\n",
       "      <td>26</td>\n",
       "      <td>53</td>\n",
       "    </tr>\n",
       "    <tr>\n",
       "      <th>2</th>\n",
       "      <td>36</td>\n",
       "      <td>10</td>\n",
       "      <td>73</td>\n",
       "      <td>56</td>\n",
       "    </tr>\n",
       "    <tr>\n",
       "      <th>3</th>\n",
       "      <td>192</td>\n",
       "      <td>82</td>\n",
       "      <td>99</td>\n",
       "      <td>95</td>\n",
       "    </tr>\n",
       "  </tbody>\n",
       "</table>\n",
       "</div>"
      ],
      "text/plain": [
       "     A   B   C   D\n",
       "0  184  14  91  61\n",
       "1   82  59  26  53\n",
       "2   36  10  73  56\n",
       "3  192  82  99  95"
      ]
     },
     "execution_count": 33,
     "metadata": {},
     "output_type": "execute_result"
    }
   ],
   "source": [
    "# Aplicando transformação com map em uma coluna específica\n",
    "df_num['A'] = df_num['A'].apply(lambda x: x * 2)\n",
    "df_num.head()"
   ]
  },
  {
   "cell_type": "code",
   "execution_count": 34,
   "id": "f55918f8-5046-4b80-a42a-31d5a01440e7",
   "metadata": {},
   "outputs": [
    {
     "data": {
      "text/html": [
       "<div>\n",
       "<style scoped>\n",
       "    .dataframe tbody tr th:only-of-type {\n",
       "        vertical-align: middle;\n",
       "    }\n",
       "\n",
       "    .dataframe tbody tr th {\n",
       "        vertical-align: top;\n",
       "    }\n",
       "\n",
       "    .dataframe thead th {\n",
       "        text-align: right;\n",
       "    }\n",
       "</style>\n",
       "<table border=\"1\" class=\"dataframe\">\n",
       "  <thead>\n",
       "    <tr style=\"text-align: right;\">\n",
       "      <th></th>\n",
       "      <th>A</th>\n",
       "      <th>B</th>\n",
       "      <th>C</th>\n",
       "      <th>D</th>\n",
       "    </tr>\n",
       "  </thead>\n",
       "  <tbody>\n",
       "    <tr>\n",
       "      <th>0</th>\n",
       "      <td>18.4</td>\n",
       "      <td>1.4</td>\n",
       "      <td>9.1</td>\n",
       "      <td>6.1</td>\n",
       "    </tr>\n",
       "    <tr>\n",
       "      <th>1</th>\n",
       "      <td>8.2</td>\n",
       "      <td>5.9</td>\n",
       "      <td>2.6</td>\n",
       "      <td>5.3</td>\n",
       "    </tr>\n",
       "    <tr>\n",
       "      <th>2</th>\n",
       "      <td>3.6</td>\n",
       "      <td>1.0</td>\n",
       "      <td>7.3</td>\n",
       "      <td>5.6</td>\n",
       "    </tr>\n",
       "    <tr>\n",
       "      <th>3</th>\n",
       "      <td>19.2</td>\n",
       "      <td>8.2</td>\n",
       "      <td>9.9</td>\n",
       "      <td>9.5</td>\n",
       "    </tr>\n",
       "  </tbody>\n",
       "</table>\n",
       "</div>"
      ],
      "text/plain": [
       "      A    B    C    D\n",
       "0  18.4  1.4  9.1  6.1\n",
       "1   8.2  5.9  2.6  5.3\n",
       "2   3.6  1.0  7.3  5.6\n",
       "3  19.2  8.2  9.9  9.5"
      ]
     },
     "execution_count": 34,
     "metadata": {},
     "output_type": "execute_result"
    }
   ],
   "source": [
    "# Aplicando transformação em toda a tabela com map\n",
    "df_transf = df_num.apply(lambda x: x / 10)\n",
    "df_transf"
   ]
  },
  {
   "cell_type": "code",
   "execution_count": 35,
   "id": "cb1a39f9-65d1-404b-87ee-a9f4b7581456",
   "metadata": {},
   "outputs": [
    {
     "data": {
      "text/html": [
       "<div>\n",
       "<style scoped>\n",
       "    .dataframe tbody tr th:only-of-type {\n",
       "        vertical-align: middle;\n",
       "    }\n",
       "\n",
       "    .dataframe tbody tr th {\n",
       "        vertical-align: top;\n",
       "    }\n",
       "\n",
       "    .dataframe thead th {\n",
       "        text-align: right;\n",
       "    }\n",
       "</style>\n",
       "<table border=\"1\" class=\"dataframe\">\n",
       "  <thead>\n",
       "    <tr style=\"text-align: right;\">\n",
       "      <th></th>\n",
       "      <th>A</th>\n",
       "      <th>B</th>\n",
       "      <th>C</th>\n",
       "      <th>D</th>\n",
       "      <th>E</th>\n",
       "    </tr>\n",
       "  </thead>\n",
       "  <tbody>\n",
       "    <tr>\n",
       "      <th>0</th>\n",
       "      <td>184</td>\n",
       "      <td>14</td>\n",
       "      <td>91</td>\n",
       "      <td>61</td>\n",
       "      <td>184</td>\n",
       "    </tr>\n",
       "    <tr>\n",
       "      <th>1</th>\n",
       "      <td>82</td>\n",
       "      <td>59</td>\n",
       "      <td>26</td>\n",
       "      <td>53</td>\n",
       "      <td>820</td>\n",
       "    </tr>\n",
       "    <tr>\n",
       "      <th>2</th>\n",
       "      <td>36</td>\n",
       "      <td>10</td>\n",
       "      <td>73</td>\n",
       "      <td>56</td>\n",
       "      <td>360</td>\n",
       "    </tr>\n",
       "    <tr>\n",
       "      <th>3</th>\n",
       "      <td>192</td>\n",
       "      <td>82</td>\n",
       "      <td>99</td>\n",
       "      <td>95</td>\n",
       "      <td>192</td>\n",
       "    </tr>\n",
       "  </tbody>\n",
       "</table>\n",
       "</div>"
      ],
      "text/plain": [
       "     A   B   C   D    E\n",
       "0  184  14  91  61  184\n",
       "1   82  59  26  53  820\n",
       "2   36  10  73  56  360\n",
       "3  192  82  99  95  192"
      ]
     },
     "execution_count": 35,
     "metadata": {},
     "output_type": "execute_result"
    }
   ],
   "source": [
    "# Outro exemplo mais complexo\n",
    "df_num['E'] = df_num['A'].apply(lambda x: x*10 if x < 100 else x)\n",
    "# df_num['E'] = df_num['A'].apply(lambda x: x*10 if x < 100 else x).apply(lambda x: x * 2).astype(str).str.split('0').str[0]\n",
    "df_num.head()"
   ]
  },
  {
   "cell_type": "code",
   "execution_count": 36,
   "id": "276e118a-a7dc-4b84-b01e-96105b03bf62",
   "metadata": {},
   "outputs": [
    {
     "data": {
      "text/plain": [
       "360"
      ]
     },
     "execution_count": 36,
     "metadata": {},
     "output_type": "execute_result"
    }
   ],
   "source": [
    "df_num['E'][2]"
   ]
  },
  {
   "cell_type": "markdown",
   "id": "850bb14f",
   "metadata": {},
   "source": [
    "## Manipulação de Datas"
   ]
  },
  {
   "cell_type": "code",
   "execution_count": 116,
   "id": "ed94f8a7-937b-45a7-b7d9-5a0527ea46f8",
   "metadata": {},
   "outputs": [
    {
     "name": "stdout",
     "output_type": "stream",
     "text": [
      "<class 'str'>\n"
     ]
    },
    {
     "data": {
      "text/html": [
       "<div>\n",
       "<style scoped>\n",
       "    .dataframe tbody tr th:only-of-type {\n",
       "        vertical-align: middle;\n",
       "    }\n",
       "\n",
       "    .dataframe tbody tr th {\n",
       "        vertical-align: top;\n",
       "    }\n",
       "\n",
       "    .dataframe thead th {\n",
       "        text-align: right;\n",
       "    }\n",
       "</style>\n",
       "<table border=\"1\" class=\"dataframe\">\n",
       "  <thead>\n",
       "    <tr style=\"text-align: right;\">\n",
       "      <th></th>\n",
       "      <th>Data</th>\n",
       "      <th>Cidade</th>\n",
       "    </tr>\n",
       "  </thead>\n",
       "  <tbody>\n",
       "    <tr>\n",
       "      <th>0</th>\n",
       "      <td>2023-01-01</td>\n",
       "      <td>RJ</td>\n",
       "    </tr>\n",
       "    <tr>\n",
       "      <th>1</th>\n",
       "      <td>2023-06-15</td>\n",
       "      <td>SP</td>\n",
       "    </tr>\n",
       "    <tr>\n",
       "      <th>2</th>\n",
       "      <td>2023-12-31</td>\n",
       "      <td>BH</td>\n",
       "    </tr>\n",
       "  </tbody>\n",
       "</table>\n",
       "</div>"
      ],
      "text/plain": [
       "         Data Cidade\n",
       "0  2023-01-01     RJ\n",
       "1  2023-06-15     SP\n",
       "2  2023-12-31     BH"
      ]
     },
     "execution_count": 116,
     "metadata": {},
     "output_type": "execute_result"
    }
   ],
   "source": [
    "df_dates = pd.DataFrame({'Data': ['2023-01-01', '2023-06-15', '2023-12-31'], 'Cidade': ['RJ', 'SP', 'BH']})\n",
    "print(type(df_dates['Data'][0]))\n",
    "df_dates"
   ]
  },
  {
   "cell_type": "code",
   "execution_count": 117,
   "id": "b96fb3b1-763d-4756-9757-318a08f9a1b0",
   "metadata": {},
   "outputs": [
    {
     "name": "stdout",
     "output_type": "stream",
     "text": [
      "<class 'str'>\n"
     ]
    },
    {
     "data": {
      "text/html": [
       "<div>\n",
       "<style scoped>\n",
       "    .dataframe tbody tr th:only-of-type {\n",
       "        vertical-align: middle;\n",
       "    }\n",
       "\n",
       "    .dataframe tbody tr th {\n",
       "        vertical-align: top;\n",
       "    }\n",
       "\n",
       "    .dataframe thead th {\n",
       "        text-align: right;\n",
       "    }\n",
       "</style>\n",
       "<table border=\"1\" class=\"dataframe\">\n",
       "  <thead>\n",
       "    <tr style=\"text-align: right;\">\n",
       "      <th></th>\n",
       "      <th>Data</th>\n",
       "      <th>Cidade</th>\n",
       "      <th>Data timestamp</th>\n",
       "    </tr>\n",
       "  </thead>\n",
       "  <tbody>\n",
       "    <tr>\n",
       "      <th>0</th>\n",
       "      <td>2023-01-01</td>\n",
       "      <td>RJ</td>\n",
       "      <td>2023-01-01</td>\n",
       "    </tr>\n",
       "    <tr>\n",
       "      <th>1</th>\n",
       "      <td>2023-06-15</td>\n",
       "      <td>SP</td>\n",
       "      <td>2023-06-15</td>\n",
       "    </tr>\n",
       "    <tr>\n",
       "      <th>2</th>\n",
       "      <td>2023-12-31</td>\n",
       "      <td>BH</td>\n",
       "      <td>2023-12-31</td>\n",
       "    </tr>\n",
       "  </tbody>\n",
       "</table>\n",
       "</div>"
      ],
      "text/plain": [
       "         Data Cidade Data timestamp\n",
       "0  2023-01-01     RJ     2023-01-01\n",
       "1  2023-06-15     SP     2023-06-15\n",
       "2  2023-12-31     BH     2023-12-31"
      ]
     },
     "execution_count": 117,
     "metadata": {},
     "output_type": "execute_result"
    }
   ],
   "source": [
    "# Convertendo para formato de data\n",
    "df_dates['Data timestamp'] = pd.to_datetime(df_dates['Data'])\n",
    "print(type(df_dates['Data'][0]))\n",
    "df_dates"
   ]
  },
  {
   "cell_type": "code",
   "execution_count": 118,
   "id": "00531adf-9be8-44f5-b6e4-8528754eb06e",
   "metadata": {},
   "outputs": [
    {
     "data": {
      "text/html": [
       "<div>\n",
       "<style scoped>\n",
       "    .dataframe tbody tr th:only-of-type {\n",
       "        vertical-align: middle;\n",
       "    }\n",
       "\n",
       "    .dataframe tbody tr th {\n",
       "        vertical-align: top;\n",
       "    }\n",
       "\n",
       "    .dataframe thead th {\n",
       "        text-align: right;\n",
       "    }\n",
       "</style>\n",
       "<table border=\"1\" class=\"dataframe\">\n",
       "  <thead>\n",
       "    <tr style=\"text-align: right;\">\n",
       "      <th></th>\n",
       "      <th>Data</th>\n",
       "      <th>Cidade</th>\n",
       "      <th>Data timestamp</th>\n",
       "      <th>Mês</th>\n",
       "    </tr>\n",
       "  </thead>\n",
       "  <tbody>\n",
       "    <tr>\n",
       "      <th>0</th>\n",
       "      <td>2023-01-01</td>\n",
       "      <td>RJ</td>\n",
       "      <td>2023-01-01</td>\n",
       "      <td>1</td>\n",
       "    </tr>\n",
       "    <tr>\n",
       "      <th>1</th>\n",
       "      <td>2023-06-15</td>\n",
       "      <td>SP</td>\n",
       "      <td>2023-06-15</td>\n",
       "      <td>6</td>\n",
       "    </tr>\n",
       "    <tr>\n",
       "      <th>2</th>\n",
       "      <td>2023-12-31</td>\n",
       "      <td>BH</td>\n",
       "      <td>2023-12-31</td>\n",
       "      <td>12</td>\n",
       "    </tr>\n",
       "  </tbody>\n",
       "</table>\n",
       "</div>"
      ],
      "text/plain": [
       "         Data Cidade Data timestamp  Mês\n",
       "0  2023-01-01     RJ     2023-01-01    1\n",
       "1  2023-06-15     SP     2023-06-15    6\n",
       "2  2023-12-31     BH     2023-12-31   12"
      ]
     },
     "execution_count": 118,
     "metadata": {},
     "output_type": "execute_result"
    }
   ],
   "source": [
    "# Extraindo o mês\n",
    "df_dates['Mês'] = df_dates['Data timestamp'].dt.month\n",
    "df_dates"
   ]
  },
  {
   "cell_type": "code",
   "execution_count": 119,
   "id": "f6b78a2e-f6d8-46ea-885d-cf5c40e480c0",
   "metadata": {},
   "outputs": [],
   "source": [
    "df_dates['Mês com dígito'] = df_dates['Data'].str.split('-').str[1]"
   ]
  },
  {
   "cell_type": "code",
   "execution_count": 120,
   "id": "9db29412-aba6-427b-ad2a-5fcb1d6c8419",
   "metadata": {},
   "outputs": [
    {
     "data": {
      "text/html": [
       "<div>\n",
       "<style scoped>\n",
       "    .dataframe tbody tr th:only-of-type {\n",
       "        vertical-align: middle;\n",
       "    }\n",
       "\n",
       "    .dataframe tbody tr th {\n",
       "        vertical-align: top;\n",
       "    }\n",
       "\n",
       "    .dataframe thead th {\n",
       "        text-align: right;\n",
       "    }\n",
       "</style>\n",
       "<table border=\"1\" class=\"dataframe\">\n",
       "  <thead>\n",
       "    <tr style=\"text-align: right;\">\n",
       "      <th></th>\n",
       "      <th>Data</th>\n",
       "      <th>Cidade</th>\n",
       "      <th>Data timestamp</th>\n",
       "      <th>Mês</th>\n",
       "      <th>Mês com dígito</th>\n",
       "    </tr>\n",
       "  </thead>\n",
       "  <tbody>\n",
       "    <tr>\n",
       "      <th>0</th>\n",
       "      <td>2023-01-01</td>\n",
       "      <td>RJ</td>\n",
       "      <td>2023-01-01</td>\n",
       "      <td>1</td>\n",
       "      <td>01</td>\n",
       "    </tr>\n",
       "    <tr>\n",
       "      <th>1</th>\n",
       "      <td>2023-06-15</td>\n",
       "      <td>SP</td>\n",
       "      <td>2023-06-15</td>\n",
       "      <td>6</td>\n",
       "      <td>06</td>\n",
       "    </tr>\n",
       "    <tr>\n",
       "      <th>2</th>\n",
       "      <td>2023-12-31</td>\n",
       "      <td>BH</td>\n",
       "      <td>2023-12-31</td>\n",
       "      <td>12</td>\n",
       "      <td>12</td>\n",
       "    </tr>\n",
       "  </tbody>\n",
       "</table>\n",
       "</div>"
      ],
      "text/plain": [
       "         Data Cidade Data timestamp  Mês Mês com dígito\n",
       "0  2023-01-01     RJ     2023-01-01    1             01\n",
       "1  2023-06-15     SP     2023-06-15    6             06\n",
       "2  2023-12-31     BH     2023-12-31   12             12"
      ]
     },
     "execution_count": 120,
     "metadata": {},
     "output_type": "execute_result"
    }
   ],
   "source": [
    "df_dates"
   ]
  },
  {
   "cell_type": "markdown",
   "id": "5cfab34d",
   "metadata": {},
   "source": [
    "## Janela Móvel (Rolling)"
   ]
  },
  {
   "cell_type": "code",
   "execution_count": 42,
   "id": "d1ad0c5d-33a8-4408-8a93-50ac3a00943b",
   "metadata": {},
   "outputs": [
    {
     "data": {
      "text/html": [
       "<div>\n",
       "<style scoped>\n",
       "    .dataframe tbody tr th:only-of-type {\n",
       "        vertical-align: middle;\n",
       "    }\n",
       "\n",
       "    .dataframe tbody tr th {\n",
       "        vertical-align: top;\n",
       "    }\n",
       "\n",
       "    .dataframe thead th {\n",
       "        text-align: right;\n",
       "    }\n",
       "</style>\n",
       "<table border=\"1\" class=\"dataframe\">\n",
       "  <thead>\n",
       "    <tr style=\"text-align: right;\">\n",
       "      <th></th>\n",
       "      <th>Valor</th>\n",
       "    </tr>\n",
       "  </thead>\n",
       "  <tbody>\n",
       "    <tr>\n",
       "      <th>0</th>\n",
       "      <td>14</td>\n",
       "    </tr>\n",
       "    <tr>\n",
       "      <th>1</th>\n",
       "      <td>100</td>\n",
       "    </tr>\n",
       "    <tr>\n",
       "      <th>2</th>\n",
       "      <td>19</td>\n",
       "    </tr>\n",
       "    <tr>\n",
       "      <th>3</th>\n",
       "      <td>48</td>\n",
       "    </tr>\n",
       "    <tr>\n",
       "      <th>4</th>\n",
       "      <td>11</td>\n",
       "    </tr>\n",
       "    <tr>\n",
       "      <th>5</th>\n",
       "      <td>82</td>\n",
       "    </tr>\n",
       "  </tbody>\n",
       "</table>\n",
       "</div>"
      ],
      "text/plain": [
       "   Valor\n",
       "0     14\n",
       "1    100\n",
       "2     19\n",
       "3     48\n",
       "4     11\n",
       "5     82"
      ]
     },
     "execution_count": 42,
     "metadata": {},
     "output_type": "execute_result"
    }
   ],
   "source": [
    "# Criando um dataframe randômico\n",
    "df_roll = pd.DataFrame({'Valor': [random.randint(1, 100) for _ in range(10)]})\n",
    "df_roll.head(6)"
   ]
  },
  {
   "cell_type": "code",
   "execution_count": 43,
   "id": "26c8b50f-e35c-4e05-9486-8db8f95e6ef2",
   "metadata": {},
   "outputs": [
    {
     "data": {
      "text/html": [
       "<div>\n",
       "<style scoped>\n",
       "    .dataframe tbody tr th:only-of-type {\n",
       "        vertical-align: middle;\n",
       "    }\n",
       "\n",
       "    .dataframe tbody tr th {\n",
       "        vertical-align: top;\n",
       "    }\n",
       "\n",
       "    .dataframe thead th {\n",
       "        text-align: right;\n",
       "    }\n",
       "</style>\n",
       "<table border=\"1\" class=\"dataframe\">\n",
       "  <thead>\n",
       "    <tr style=\"text-align: right;\">\n",
       "      <th></th>\n",
       "      <th>Valor</th>\n",
       "      <th>Média_Móvel</th>\n",
       "    </tr>\n",
       "  </thead>\n",
       "  <tbody>\n",
       "    <tr>\n",
       "      <th>0</th>\n",
       "      <td>14</td>\n",
       "      <td>NaN</td>\n",
       "    </tr>\n",
       "    <tr>\n",
       "      <th>1</th>\n",
       "      <td>100</td>\n",
       "      <td>NaN</td>\n",
       "    </tr>\n",
       "    <tr>\n",
       "      <th>2</th>\n",
       "      <td>19</td>\n",
       "      <td>NaN</td>\n",
       "    </tr>\n",
       "    <tr>\n",
       "      <th>3</th>\n",
       "      <td>48</td>\n",
       "      <td>45.25</td>\n",
       "    </tr>\n",
       "    <tr>\n",
       "      <th>4</th>\n",
       "      <td>11</td>\n",
       "      <td>44.50</td>\n",
       "    </tr>\n",
       "    <tr>\n",
       "      <th>5</th>\n",
       "      <td>82</td>\n",
       "      <td>40.00</td>\n",
       "    </tr>\n",
       "    <tr>\n",
       "      <th>6</th>\n",
       "      <td>13</td>\n",
       "      <td>38.50</td>\n",
       "    </tr>\n",
       "    <tr>\n",
       "      <th>7</th>\n",
       "      <td>87</td>\n",
       "      <td>48.25</td>\n",
       "    </tr>\n",
       "    <tr>\n",
       "      <th>8</th>\n",
       "      <td>85</td>\n",
       "      <td>66.75</td>\n",
       "    </tr>\n",
       "    <tr>\n",
       "      <th>9</th>\n",
       "      <td>62</td>\n",
       "      <td>61.75</td>\n",
       "    </tr>\n",
       "  </tbody>\n",
       "</table>\n",
       "</div>"
      ],
      "text/plain": [
       "   Valor  Média_Móvel\n",
       "0     14          NaN\n",
       "1    100          NaN\n",
       "2     19          NaN\n",
       "3     48        45.25\n",
       "4     11        44.50\n",
       "5     82        40.00\n",
       "6     13        38.50\n",
       "7     87        48.25\n",
       "8     85        66.75\n",
       "9     62        61.75"
      ]
     },
     "execution_count": 43,
     "metadata": {},
     "output_type": "execute_result"
    }
   ],
   "source": [
    "# Média móvel com janela de 4\n",
    "df_roll['Média_Móvel'] = df_roll['Valor'].rolling(window=4).mean()\n",
    "\n",
    "# df_roll['Média_Móvel'] = df_roll['Média_Móvel'].apply(lambda x: x if x > 0 else 0)\n",
    "\n",
    "# Substituir nans pelos valores da coluna Valor\n",
    "df_roll"
   ]
  },
  {
   "cell_type": "markdown",
   "id": "56ac330e-fad1-4643-881d-c6c76132f807",
   "metadata": {},
   "source": [
    "## Tratamento de string"
   ]
  },
  {
   "cell_type": "code",
   "execution_count": 103,
   "id": "9dee593b-8356-4d51-a42e-bbc231bf5364",
   "metadata": {},
   "outputs": [
    {
     "data": {
      "text/html": [
       "<div>\n",
       "<style scoped>\n",
       "    .dataframe tbody tr th:only-of-type {\n",
       "        vertical-align: middle;\n",
       "    }\n",
       "\n",
       "    .dataframe tbody tr th {\n",
       "        vertical-align: top;\n",
       "    }\n",
       "\n",
       "    .dataframe thead th {\n",
       "        text-align: right;\n",
       "    }\n",
       "</style>\n",
       "<table border=\"1\" class=\"dataframe\">\n",
       "  <thead>\n",
       "    <tr style=\"text-align: right;\">\n",
       "      <th></th>\n",
       "      <th>Nome</th>\n",
       "      <th>Email</th>\n",
       "      <th>Profissao</th>\n",
       "      <th>Cidade</th>\n",
       "    </tr>\n",
       "  </thead>\n",
       "  <tbody>\n",
       "    <tr>\n",
       "      <th>0</th>\n",
       "      <td>Carlos Silva</td>\n",
       "      <td>carlos@gmail.com</td>\n",
       "      <td>Engenheiro</td>\n",
       "      <td>São Paulo</td>\n",
       "    </tr>\n",
       "    <tr>\n",
       "      <th>1</th>\n",
       "      <td>Maria Souza</td>\n",
       "      <td>maria@hotmail.com</td>\n",
       "      <td>Médico</td>\n",
       "      <td>Rio de Janeiro</td>\n",
       "    </tr>\n",
       "    <tr>\n",
       "      <th>2</th>\n",
       "      <td>Ana Paula</td>\n",
       "      <td>ana@yahoo.com</td>\n",
       "      <td>Professor</td>\n",
       "      <td>Belo Horizonte</td>\n",
       "    </tr>\n",
       "    <tr>\n",
       "      <th>3</th>\n",
       "      <td>Pedro Oliveira</td>\n",
       "      <td>pedro@gmail.com</td>\n",
       "      <td>Advogado</td>\n",
       "      <td>Curitiba</td>\n",
       "    </tr>\n",
       "    <tr>\n",
       "      <th>4</th>\n",
       "      <td>João Costa</td>\n",
       "      <td>joao@outlook.com</td>\n",
       "      <td>Engenheiro</td>\n",
       "      <td>Salvador</td>\n",
       "    </tr>\n",
       "  </tbody>\n",
       "</table>\n",
       "</div>"
      ],
      "text/plain": [
       "             Nome              Email   Profissao          Cidade\n",
       "0    Carlos Silva   carlos@gmail.com  Engenheiro       São Paulo\n",
       "1     Maria Souza  maria@hotmail.com      Médico  Rio de Janeiro\n",
       "2       Ana Paula      ana@yahoo.com   Professor  Belo Horizonte\n",
       "3  Pedro Oliveira    pedro@gmail.com    Advogado        Curitiba\n",
       "4      João Costa   joao@outlook.com  Engenheiro        Salvador"
      ]
     },
     "execution_count": 103,
     "metadata": {},
     "output_type": "execute_result"
    }
   ],
   "source": [
    "# Criando um DataFrame aleatório com colunas de strings\n",
    "data = {\n",
    "    'Nome': ['Carlos Silva', 'Maria Souza', 'Ana Paula', 'Pedro Oliveira', 'João Costa'],\n",
    "    'Email': ['carlos@gmail.com', 'maria@hotmail.com', 'ana@yahoo.com', 'pedro@gmail.com', 'joao@outlook.com'],\n",
    "    'Profissao': ['Engenheiro', 'Médico', 'Professor', 'Advogado', 'Engenheiro'],\n",
    "    'Cidade': ['São Paulo', 'Rio de Janeiro', 'Belo Horizonte', 'Curitiba', 'Salvador']\n",
    "}\n",
    "\n",
    "df = pd.DataFrame(data)\n",
    "df"
   ]
  },
  {
   "cell_type": "markdown",
   "id": "5cb23a9b-b90d-4df2-8c78-6d2195a290c7",
   "metadata": {},
   "source": [
    "Exemplo 1: Filtrar emails do Gmail usando `str.contains()`"
   ]
  },
  {
   "cell_type": "code",
   "execution_count": 105,
   "id": "3e63a1d4-4797-462d-8503-b1ba60690e61",
   "metadata": {},
   "outputs": [
    {
     "name": "stdout",
     "output_type": "stream",
     "text": [
      "\n",
      "📌 Emails do Gmail filtrados:\n"
     ]
    },
    {
     "data": {
      "text/html": [
       "<div>\n",
       "<style scoped>\n",
       "    .dataframe tbody tr th:only-of-type {\n",
       "        vertical-align: middle;\n",
       "    }\n",
       "\n",
       "    .dataframe tbody tr th {\n",
       "        vertical-align: top;\n",
       "    }\n",
       "\n",
       "    .dataframe thead th {\n",
       "        text-align: right;\n",
       "    }\n",
       "</style>\n",
       "<table border=\"1\" class=\"dataframe\">\n",
       "  <thead>\n",
       "    <tr style=\"text-align: right;\">\n",
       "      <th></th>\n",
       "      <th>Nome</th>\n",
       "      <th>Email</th>\n",
       "      <th>Profissao</th>\n",
       "      <th>Cidade</th>\n",
       "    </tr>\n",
       "  </thead>\n",
       "  <tbody>\n",
       "    <tr>\n",
       "      <th>0</th>\n",
       "      <td>Carlos Silva</td>\n",
       "      <td>carlos@gmail.com</td>\n",
       "      <td>Engenheiro</td>\n",
       "      <td>São Paulo</td>\n",
       "    </tr>\n",
       "    <tr>\n",
       "      <th>1</th>\n",
       "      <td>Maria Souza</td>\n",
       "      <td>maria@hotmail.com</td>\n",
       "      <td>Médico</td>\n",
       "      <td>Rio de Janeiro</td>\n",
       "    </tr>\n",
       "    <tr>\n",
       "      <th>3</th>\n",
       "      <td>Pedro Oliveira</td>\n",
       "      <td>pedro@gmail.com</td>\n",
       "      <td>Advogado</td>\n",
       "      <td>Curitiba</td>\n",
       "    </tr>\n",
       "  </tbody>\n",
       "</table>\n",
       "</div>"
      ],
      "text/plain": [
       "             Nome              Email   Profissao          Cidade\n",
       "0    Carlos Silva   carlos@gmail.com  Engenheiro       São Paulo\n",
       "1     Maria Souza  maria@hotmail.com      Médico  Rio de Janeiro\n",
       "3  Pedro Oliveira    pedro@gmail.com    Advogado        Curitiba"
      ]
     },
     "execution_count": 105,
     "metadata": {},
     "output_type": "execute_result"
    }
   ],
   "source": [
    "df_gmail = df[ (df['Email'].str.contains('gmail', case=False)) | (df['Email'].str.contains('hotmail', case=False)) ]\n",
    "print(\"\\n📌 Emails do Gmail filtrados:\")\n",
    "df_gmail"
   ]
  },
  {
   "cell_type": "markdown",
   "id": "1abc5317-728d-49cb-96ad-0ab104af5a84",
   "metadata": {},
   "source": [
    "Exemplo 2: Substituir 'Engenheiro' por 'Arquiteto' na coluna 'Profissao' usando `str.replace()`"
   ]
  },
  {
   "cell_type": "code",
   "execution_count": 46,
   "id": "8c33a009-e642-4cfc-ad57-ac18fc3c142e",
   "metadata": {},
   "outputs": [
    {
     "data": {
      "text/html": [
       "<div>\n",
       "<style scoped>\n",
       "    .dataframe tbody tr th:only-of-type {\n",
       "        vertical-align: middle;\n",
       "    }\n",
       "\n",
       "    .dataframe tbody tr th {\n",
       "        vertical-align: top;\n",
       "    }\n",
       "\n",
       "    .dataframe thead th {\n",
       "        text-align: right;\n",
       "    }\n",
       "</style>\n",
       "<table border=\"1\" class=\"dataframe\">\n",
       "  <thead>\n",
       "    <tr style=\"text-align: right;\">\n",
       "      <th></th>\n",
       "      <th>Nome</th>\n",
       "      <th>Email</th>\n",
       "      <th>Profissao</th>\n",
       "      <th>Cidade</th>\n",
       "    </tr>\n",
       "  </thead>\n",
       "  <tbody>\n",
       "    <tr>\n",
       "      <th>0</th>\n",
       "      <td>Carlos Silva</td>\n",
       "      <td>carlos@gmail.com</td>\n",
       "      <td>Engenheiro</td>\n",
       "      <td>São Paulo</td>\n",
       "    </tr>\n",
       "    <tr>\n",
       "      <th>1</th>\n",
       "      <td>Maria Souza</td>\n",
       "      <td>maria@hotmail.com</td>\n",
       "      <td>Médico</td>\n",
       "      <td>Rio de Janeiro</td>\n",
       "    </tr>\n",
       "    <tr>\n",
       "      <th>2</th>\n",
       "      <td>Ana Paula</td>\n",
       "      <td>ana@yahoo.com</td>\n",
       "      <td>Professor</td>\n",
       "      <td>Belo Horizonte</td>\n",
       "    </tr>\n",
       "    <tr>\n",
       "      <th>3</th>\n",
       "      <td>Pedro Oliveira</td>\n",
       "      <td>pedro@gmail.com</td>\n",
       "      <td>Advogado</td>\n",
       "      <td>Curitiba</td>\n",
       "    </tr>\n",
       "    <tr>\n",
       "      <th>4</th>\n",
       "      <td>João Costa</td>\n",
       "      <td>joao@outlook.com</td>\n",
       "      <td>Engenheiro</td>\n",
       "      <td>Salvador</td>\n",
       "    </tr>\n",
       "  </tbody>\n",
       "</table>\n",
       "</div>"
      ],
      "text/plain": [
       "             Nome              Email   Profissao          Cidade\n",
       "0    Carlos Silva   carlos@gmail.com  Engenheiro       São Paulo\n",
       "1     Maria Souza  maria@hotmail.com      Médico  Rio de Janeiro\n",
       "2       Ana Paula      ana@yahoo.com   Professor  Belo Horizonte\n",
       "3  Pedro Oliveira    pedro@gmail.com    Advogado        Curitiba\n",
       "4      João Costa   joao@outlook.com  Engenheiro        Salvador"
      ]
     },
     "execution_count": 46,
     "metadata": {},
     "output_type": "execute_result"
    }
   ],
   "source": [
    "df['Profissao'] = df['Profissao'].str.replace('Dentista', 'Ortopedista').str.replace('Ortopedista', 'Gastro')\n",
    "df"
   ]
  },
  {
   "cell_type": "markdown",
   "id": "25d5aa50-3cfb-4033-a544-11b9351831c8",
   "metadata": {},
   "source": [
    "Exemplo 3: Extrair o domínio dos emails usando `str.split()`"
   ]
  },
  {
   "cell_type": "code",
   "execution_count": 47,
   "id": "5a202182-d6cc-4a16-b117-96bd22958163",
   "metadata": {},
   "outputs": [
    {
     "data": {
      "text/html": [
       "<div>\n",
       "<style scoped>\n",
       "    .dataframe tbody tr th:only-of-type {\n",
       "        vertical-align: middle;\n",
       "    }\n",
       "\n",
       "    .dataframe tbody tr th {\n",
       "        vertical-align: top;\n",
       "    }\n",
       "\n",
       "    .dataframe thead th {\n",
       "        text-align: right;\n",
       "    }\n",
       "</style>\n",
       "<table border=\"1\" class=\"dataframe\">\n",
       "  <thead>\n",
       "    <tr style=\"text-align: right;\">\n",
       "      <th></th>\n",
       "      <th>Nome</th>\n",
       "      <th>Email</th>\n",
       "      <th>Profissao</th>\n",
       "      <th>Cidade</th>\n",
       "      <th>Dominio_Email</th>\n",
       "    </tr>\n",
       "  </thead>\n",
       "  <tbody>\n",
       "    <tr>\n",
       "      <th>0</th>\n",
       "      <td>Carlos Silva</td>\n",
       "      <td>carlos@gmail.com</td>\n",
       "      <td>Engenheiro</td>\n",
       "      <td>São Paulo</td>\n",
       "      <td>gmail.com</td>\n",
       "    </tr>\n",
       "    <tr>\n",
       "      <th>1</th>\n",
       "      <td>Maria Souza</td>\n",
       "      <td>maria@hotmail.com</td>\n",
       "      <td>Médico</td>\n",
       "      <td>Rio de Janeiro</td>\n",
       "      <td>hotmail.com</td>\n",
       "    </tr>\n",
       "    <tr>\n",
       "      <th>2</th>\n",
       "      <td>Ana Paula</td>\n",
       "      <td>ana@yahoo.com</td>\n",
       "      <td>Professor</td>\n",
       "      <td>Belo Horizonte</td>\n",
       "      <td>yahoo.com</td>\n",
       "    </tr>\n",
       "    <tr>\n",
       "      <th>3</th>\n",
       "      <td>Pedro Oliveira</td>\n",
       "      <td>pedro@gmail.com</td>\n",
       "      <td>Advogado</td>\n",
       "      <td>Curitiba</td>\n",
       "      <td>gmail.com</td>\n",
       "    </tr>\n",
       "    <tr>\n",
       "      <th>4</th>\n",
       "      <td>João Costa</td>\n",
       "      <td>joao@outlook.com</td>\n",
       "      <td>Engenheiro</td>\n",
       "      <td>Salvador</td>\n",
       "      <td>outlook.com</td>\n",
       "    </tr>\n",
       "  </tbody>\n",
       "</table>\n",
       "</div>"
      ],
      "text/plain": [
       "             Nome              Email   Profissao          Cidade Dominio_Email\n",
       "0    Carlos Silva   carlos@gmail.com  Engenheiro       São Paulo     gmail.com\n",
       "1     Maria Souza  maria@hotmail.com      Médico  Rio de Janeiro   hotmail.com\n",
       "2       Ana Paula      ana@yahoo.com   Professor  Belo Horizonte     yahoo.com\n",
       "3  Pedro Oliveira    pedro@gmail.com    Advogado        Curitiba     gmail.com\n",
       "4      João Costa   joao@outlook.com  Engenheiro        Salvador   outlook.com"
      ]
     },
     "execution_count": 47,
     "metadata": {},
     "output_type": "execute_result"
    }
   ],
   "source": [
    "df['Dominio_Email'] = df['Email'].str.split('@').str[1]\n",
    "df"
   ]
  },
  {
   "cell_type": "markdown",
   "id": "23cc871a-d871-485b-97f6-044e90a68af1",
   "metadata": {},
   "source": [
    "Exemplo 4: Converter todos os nomes para letras minúsculas usando `str.lower()`"
   ]
  },
  {
   "cell_type": "code",
   "execution_count": 112,
   "id": "06e36959-c229-4552-ac1f-d650dbaf21ff",
   "metadata": {},
   "outputs": [
    {
     "data": {
      "text/html": [
       "<div>\n",
       "<style scoped>\n",
       "    .dataframe tbody tr th:only-of-type {\n",
       "        vertical-align: middle;\n",
       "    }\n",
       "\n",
       "    .dataframe tbody tr th {\n",
       "        vertical-align: top;\n",
       "    }\n",
       "\n",
       "    .dataframe thead th {\n",
       "        text-align: right;\n",
       "    }\n",
       "</style>\n",
       "<table border=\"1\" class=\"dataframe\">\n",
       "  <thead>\n",
       "    <tr style=\"text-align: right;\">\n",
       "      <th></th>\n",
       "      <th>Nome</th>\n",
       "      <th>Email</th>\n",
       "      <th>Profissao</th>\n",
       "      <th>Cidade</th>\n",
       "    </tr>\n",
       "  </thead>\n",
       "  <tbody>\n",
       "    <tr>\n",
       "      <th>0</th>\n",
       "      <td>carlos silva                                  ...</td>\n",
       "      <td>carlos@gmail.com</td>\n",
       "      <td>Engenheiro</td>\n",
       "      <td>São Paulo</td>\n",
       "    </tr>\n",
       "    <tr>\n",
       "      <th>1</th>\n",
       "      <td>maria souza                                   ...</td>\n",
       "      <td>maria@hotmail.com</td>\n",
       "      <td>Médico</td>\n",
       "      <td>Rio de Janeiro</td>\n",
       "    </tr>\n",
       "    <tr>\n",
       "      <th>2</th>\n",
       "      <td>ana paula                                     ...</td>\n",
       "      <td>ana@yahoo.com</td>\n",
       "      <td>Professor</td>\n",
       "      <td>Belo Horizonte</td>\n",
       "    </tr>\n",
       "    <tr>\n",
       "      <th>3</th>\n",
       "      <td>pedro oliveira                                ...</td>\n",
       "      <td>pedro@gmail.com</td>\n",
       "      <td>Advogado</td>\n",
       "      <td>Curitiba</td>\n",
       "    </tr>\n",
       "    <tr>\n",
       "      <th>4</th>\n",
       "      <td>joão costa                                    ...</td>\n",
       "      <td>joao@outlook.com</td>\n",
       "      <td>Engenheiro</td>\n",
       "      <td>Salvador</td>\n",
       "    </tr>\n",
       "  </tbody>\n",
       "</table>\n",
       "</div>"
      ],
      "text/plain": [
       "                                                Nome              Email  \\\n",
       "0  carlos silva                                  ...   carlos@gmail.com   \n",
       "1  maria souza                                   ...  maria@hotmail.com   \n",
       "2  ana paula                                     ...      ana@yahoo.com   \n",
       "3  pedro oliveira                                ...    pedro@gmail.com   \n",
       "4  joão costa                                    ...   joao@outlook.com   \n",
       "\n",
       "    Profissao          Cidade  \n",
       "0  Engenheiro       São Paulo  \n",
       "1      Médico  Rio de Janeiro  \n",
       "2   Professor  Belo Horizonte  \n",
       "3    Advogado        Curitiba  \n",
       "4  Engenheiro        Salvador  "
      ]
     },
     "execution_count": 112,
     "metadata": {},
     "output_type": "execute_result"
    }
   ],
   "source": [
    "df['Nome'] = df['Nome'].str.lower().apply(lambda x: x + '                         ')\n",
    "df"
   ]
  },
  {
   "cell_type": "markdown",
   "id": "c0da882b-42f0-4613-9fcc-e1072007f11e",
   "metadata": {},
   "source": [
    "Exemplo 5: Remover espaços extras dos nomes usando `str.strip()`"
   ]
  },
  {
   "cell_type": "code",
   "execution_count": 110,
   "id": "3bcda6b1-2e9c-4ee6-9c14-d09d3fcef45d",
   "metadata": {},
   "outputs": [
    {
     "data": {
      "text/html": [
       "<div>\n",
       "<style scoped>\n",
       "    .dataframe tbody tr th:only-of-type {\n",
       "        vertical-align: middle;\n",
       "    }\n",
       "\n",
       "    .dataframe tbody tr th {\n",
       "        vertical-align: top;\n",
       "    }\n",
       "\n",
       "    .dataframe thead th {\n",
       "        text-align: right;\n",
       "    }\n",
       "</style>\n",
       "<table border=\"1\" class=\"dataframe\">\n",
       "  <thead>\n",
       "    <tr style=\"text-align: right;\">\n",
       "      <th></th>\n",
       "      <th>Nome</th>\n",
       "      <th>Email</th>\n",
       "      <th>Profissao</th>\n",
       "      <th>Cidade</th>\n",
       "    </tr>\n",
       "  </thead>\n",
       "  <tbody>\n",
       "    <tr>\n",
       "      <th>0</th>\n",
       "      <td>carlos silva</td>\n",
       "      <td>carlos@gmail.com</td>\n",
       "      <td>Engenheiro</td>\n",
       "      <td>São Paulo</td>\n",
       "    </tr>\n",
       "    <tr>\n",
       "      <th>1</th>\n",
       "      <td>maria souza</td>\n",
       "      <td>maria@hotmail.com</td>\n",
       "      <td>Médico</td>\n",
       "      <td>Rio de Janeiro</td>\n",
       "    </tr>\n",
       "    <tr>\n",
       "      <th>2</th>\n",
       "      <td>ana paula</td>\n",
       "      <td>ana@yahoo.com</td>\n",
       "      <td>Professor</td>\n",
       "      <td>Belo Horizonte</td>\n",
       "    </tr>\n",
       "    <tr>\n",
       "      <th>3</th>\n",
       "      <td>pedro oliveira</td>\n",
       "      <td>pedro@gmail.com</td>\n",
       "      <td>Advogado</td>\n",
       "      <td>Curitiba</td>\n",
       "    </tr>\n",
       "    <tr>\n",
       "      <th>4</th>\n",
       "      <td>joão costa</td>\n",
       "      <td>joao@outlook.com</td>\n",
       "      <td>Engenheiro</td>\n",
       "      <td>Salvador</td>\n",
       "    </tr>\n",
       "  </tbody>\n",
       "</table>\n",
       "</div>"
      ],
      "text/plain": [
       "             Nome              Email   Profissao          Cidade\n",
       "0    carlos silva   carlos@gmail.com  Engenheiro       São Paulo\n",
       "1     maria souza  maria@hotmail.com      Médico  Rio de Janeiro\n",
       "2       ana paula      ana@yahoo.com   Professor  Belo Horizonte\n",
       "3  pedro oliveira    pedro@gmail.com    Advogado        Curitiba\n",
       "4      joão costa   joao@outlook.com  Engenheiro        Salvador"
      ]
     },
     "execution_count": 110,
     "metadata": {},
     "output_type": "execute_result"
    }
   ],
   "source": [
    "df['Nome'] = df['Nome'].str.strip()\n",
    "df"
   ]
  },
  {
   "cell_type": "markdown",
   "id": "0e75eef9-c160-43d9-a546-d7f7bec2c93f",
   "metadata": {},
   "source": [
    "## Conversão de tipos"
   ]
  },
  {
   "cell_type": "code",
   "execution_count": 50,
   "id": "9e7d2f1f-99a5-42c8-ac3e-78b38a8236e3",
   "metadata": {},
   "outputs": [],
   "source": [
    "df['Idade'] = range(5)\n",
    "df['Idade'] = df['Idade'].apply(lambda x: x + 20)"
   ]
  },
  {
   "cell_type": "code",
   "execution_count": 51,
   "id": "66f394f3-1a8b-456d-85aa-a569decd0d3c",
   "metadata": {},
   "outputs": [
    {
     "data": {
      "text/html": [
       "<div>\n",
       "<style scoped>\n",
       "    .dataframe tbody tr th:only-of-type {\n",
       "        vertical-align: middle;\n",
       "    }\n",
       "\n",
       "    .dataframe tbody tr th {\n",
       "        vertical-align: top;\n",
       "    }\n",
       "\n",
       "    .dataframe thead th {\n",
       "        text-align: right;\n",
       "    }\n",
       "</style>\n",
       "<table border=\"1\" class=\"dataframe\">\n",
       "  <thead>\n",
       "    <tr style=\"text-align: right;\">\n",
       "      <th></th>\n",
       "      <th>Nome</th>\n",
       "      <th>Email</th>\n",
       "      <th>Profissao</th>\n",
       "      <th>Cidade</th>\n",
       "      <th>Dominio_Email</th>\n",
       "      <th>Idade</th>\n",
       "    </tr>\n",
       "  </thead>\n",
       "  <tbody>\n",
       "    <tr>\n",
       "      <th>0</th>\n",
       "      <td>CARLOS SILVA</td>\n",
       "      <td>carlos@gmail.com</td>\n",
       "      <td>Engenheiro</td>\n",
       "      <td>São Paulo</td>\n",
       "      <td>gmail.com</td>\n",
       "      <td>20</td>\n",
       "    </tr>\n",
       "    <tr>\n",
       "      <th>1</th>\n",
       "      <td>MARIA SOUZA</td>\n",
       "      <td>maria@hotmail.com</td>\n",
       "      <td>Médico</td>\n",
       "      <td>Rio de Janeiro</td>\n",
       "      <td>hotmail.com</td>\n",
       "      <td>21</td>\n",
       "    </tr>\n",
       "    <tr>\n",
       "      <th>2</th>\n",
       "      <td>ANA PAULA</td>\n",
       "      <td>ana@yahoo.com</td>\n",
       "      <td>Professor</td>\n",
       "      <td>Belo Horizonte</td>\n",
       "      <td>yahoo.com</td>\n",
       "      <td>22</td>\n",
       "    </tr>\n",
       "    <tr>\n",
       "      <th>3</th>\n",
       "      <td>PEDRO OLIVEIRA</td>\n",
       "      <td>pedro@gmail.com</td>\n",
       "      <td>Advogado</td>\n",
       "      <td>Curitiba</td>\n",
       "      <td>gmail.com</td>\n",
       "      <td>23</td>\n",
       "    </tr>\n",
       "    <tr>\n",
       "      <th>4</th>\n",
       "      <td>JOÃO COSTA</td>\n",
       "      <td>joao@outlook.com</td>\n",
       "      <td>Engenheiro</td>\n",
       "      <td>Salvador</td>\n",
       "      <td>outlook.com</td>\n",
       "      <td>24</td>\n",
       "    </tr>\n",
       "  </tbody>\n",
       "</table>\n",
       "</div>"
      ],
      "text/plain": [
       "             Nome              Email   Profissao          Cidade  \\\n",
       "0    CARLOS SILVA   carlos@gmail.com  Engenheiro       São Paulo   \n",
       "1     MARIA SOUZA  maria@hotmail.com      Médico  Rio de Janeiro   \n",
       "2       ANA PAULA      ana@yahoo.com   Professor  Belo Horizonte   \n",
       "3  PEDRO OLIVEIRA    pedro@gmail.com    Advogado        Curitiba   \n",
       "4      JOÃO COSTA   joao@outlook.com  Engenheiro        Salvador   \n",
       "\n",
       "  Dominio_Email  Idade  \n",
       "0     gmail.com     20  \n",
       "1   hotmail.com     21  \n",
       "2     yahoo.com     22  \n",
       "3     gmail.com     23  \n",
       "4   outlook.com     24  "
      ]
     },
     "execution_count": 51,
     "metadata": {},
     "output_type": "execute_result"
    }
   ],
   "source": [
    "df.head()"
   ]
  },
  {
   "cell_type": "code",
   "execution_count": 52,
   "id": "7ea917d2-c8cc-407f-a456-0234048b28ba",
   "metadata": {},
   "outputs": [],
   "source": [
    "df['Idade'] = df['Idade'].astype(str)\n",
    "# df['Idade'].mean()"
   ]
  },
  {
   "cell_type": "code",
   "execution_count": 53,
   "id": "47ad16bb-6db7-4fe3-9783-86616a1d735c",
   "metadata": {},
   "outputs": [
    {
     "data": {
      "text/html": [
       "<div>\n",
       "<style scoped>\n",
       "    .dataframe tbody tr th:only-of-type {\n",
       "        vertical-align: middle;\n",
       "    }\n",
       "\n",
       "    .dataframe tbody tr th {\n",
       "        vertical-align: top;\n",
       "    }\n",
       "\n",
       "    .dataframe thead th {\n",
       "        text-align: right;\n",
       "    }\n",
       "</style>\n",
       "<table border=\"1\" class=\"dataframe\">\n",
       "  <thead>\n",
       "    <tr style=\"text-align: right;\">\n",
       "      <th></th>\n",
       "      <th>Nome</th>\n",
       "      <th>Email</th>\n",
       "      <th>Profissao</th>\n",
       "      <th>Cidade</th>\n",
       "      <th>Dominio_Email</th>\n",
       "      <th>Idade</th>\n",
       "    </tr>\n",
       "  </thead>\n",
       "  <tbody>\n",
       "    <tr>\n",
       "      <th>0</th>\n",
       "      <td>CARLOS SILVA</td>\n",
       "      <td>carlos@gmail.com</td>\n",
       "      <td>Engenheiro</td>\n",
       "      <td>São Paulo</td>\n",
       "      <td>gmail.com</td>\n",
       "      <td>20.0</td>\n",
       "    </tr>\n",
       "    <tr>\n",
       "      <th>1</th>\n",
       "      <td>MARIA SOUZA</td>\n",
       "      <td>maria@hotmail.com</td>\n",
       "      <td>Médico</td>\n",
       "      <td>Rio de Janeiro</td>\n",
       "      <td>hotmail.com</td>\n",
       "      <td>21.0</td>\n",
       "    </tr>\n",
       "    <tr>\n",
       "      <th>2</th>\n",
       "      <td>ANA PAULA</td>\n",
       "      <td>ana@yahoo.com</td>\n",
       "      <td>Professor</td>\n",
       "      <td>Belo Horizonte</td>\n",
       "      <td>yahoo.com</td>\n",
       "      <td>22.0</td>\n",
       "    </tr>\n",
       "    <tr>\n",
       "      <th>3</th>\n",
       "      <td>PEDRO OLIVEIRA</td>\n",
       "      <td>pedro@gmail.com</td>\n",
       "      <td>Advogado</td>\n",
       "      <td>Curitiba</td>\n",
       "      <td>gmail.com</td>\n",
       "      <td>23.0</td>\n",
       "    </tr>\n",
       "    <tr>\n",
       "      <th>4</th>\n",
       "      <td>JOÃO COSTA</td>\n",
       "      <td>joao@outlook.com</td>\n",
       "      <td>Engenheiro</td>\n",
       "      <td>Salvador</td>\n",
       "      <td>outlook.com</td>\n",
       "      <td>24.0</td>\n",
       "    </tr>\n",
       "  </tbody>\n",
       "</table>\n",
       "</div>"
      ],
      "text/plain": [
       "             Nome              Email   Profissao          Cidade  \\\n",
       "0    CARLOS SILVA   carlos@gmail.com  Engenheiro       São Paulo   \n",
       "1     MARIA SOUZA  maria@hotmail.com      Médico  Rio de Janeiro   \n",
       "2       ANA PAULA      ana@yahoo.com   Professor  Belo Horizonte   \n",
       "3  PEDRO OLIVEIRA    pedro@gmail.com    Advogado        Curitiba   \n",
       "4      JOÃO COSTA   joao@outlook.com  Engenheiro        Salvador   \n",
       "\n",
       "  Dominio_Email  Idade  \n",
       "0     gmail.com   20.0  \n",
       "1   hotmail.com   21.0  \n",
       "2     yahoo.com   22.0  \n",
       "3     gmail.com   23.0  \n",
       "4   outlook.com   24.0  "
      ]
     },
     "execution_count": 53,
     "metadata": {},
     "output_type": "execute_result"
    }
   ],
   "source": [
    "df['Idade'] = df['Idade'].astype(float)\n",
    "df['Idade'].mean()\n",
    "\n",
    "df"
   ]
  },
  {
   "cell_type": "markdown",
   "id": "e0969039-2555-4ec8-ac49-cd3302bd9ac4",
   "metadata": {},
   "source": [
    "## Histograma"
   ]
  },
  {
   "cell_type": "code",
   "execution_count": 123,
   "id": "ac9d0df0-d69d-44ab-8a26-a5f5f79969f7",
   "metadata": {},
   "outputs": [
    {
     "data": {
      "text/html": [
       "<div>\n",
       "<style scoped>\n",
       "    .dataframe tbody tr th:only-of-type {\n",
       "        vertical-align: middle;\n",
       "    }\n",
       "\n",
       "    .dataframe tbody tr th {\n",
       "        vertical-align: top;\n",
       "    }\n",
       "\n",
       "    .dataframe thead th {\n",
       "        text-align: right;\n",
       "    }\n",
       "</style>\n",
       "<table border=\"1\" class=\"dataframe\">\n",
       "  <thead>\n",
       "    <tr style=\"text-align: right;\">\n",
       "      <th></th>\n",
       "      <th>Idade</th>\n",
       "      <th>Salário</th>\n",
       "      <th>Notas</th>\n",
       "    </tr>\n",
       "  </thead>\n",
       "  <tbody>\n",
       "    <tr>\n",
       "      <th>0</th>\n",
       "      <td>60</td>\n",
       "      <td>4350</td>\n",
       "      <td>4.79</td>\n",
       "    </tr>\n",
       "    <tr>\n",
       "      <th>1</th>\n",
       "      <td>27</td>\n",
       "      <td>3721</td>\n",
       "      <td>3.41</td>\n",
       "    </tr>\n",
       "    <tr>\n",
       "      <th>2</th>\n",
       "      <td>21</td>\n",
       "      <td>5521</td>\n",
       "      <td>9.65</td>\n",
       "    </tr>\n",
       "    <tr>\n",
       "      <th>3</th>\n",
       "      <td>37</td>\n",
       "      <td>8436</td>\n",
       "      <td>2.52</td>\n",
       "    </tr>\n",
       "    <tr>\n",
       "      <th>4</th>\n",
       "      <td>35</td>\n",
       "      <td>6751</td>\n",
       "      <td>8.62</td>\n",
       "    </tr>\n",
       "  </tbody>\n",
       "</table>\n",
       "</div>"
      ],
      "text/plain": [
       "   Idade  Salário  Notas\n",
       "0     60     4350   4.79\n",
       "1     27     3721   3.41\n",
       "2     21     5521   9.65\n",
       "3     37     8436   2.52\n",
       "4     35     6751   8.62"
      ]
     },
     "execution_count": 123,
     "metadata": {},
     "output_type": "execute_result"
    }
   ],
   "source": [
    "# Criando um dataset fictício sem numpy\n",
    "random.seed(42)\n",
    "data = {\n",
    "    \"Idade\": [random.randint(20, 60) for _ in range(500)],  # Idades entre 20 e 60\n",
    "    \"Salário\": [random.randint(2000, 10000) for _ in range(500)],  # Salários entre 2000 e 10000\n",
    "    \"Notas\": [round(random.uniform(0, 10), 2) for _ in range(500)]  # Notas entre 0 e 10 com 2 casas decimais\n",
    "}\n",
    "\n",
    "df = pd.DataFrame(data)\n",
    "df.head()"
   ]
  },
  {
   "cell_type": "code",
   "execution_count": 134,
   "id": "8abf546c-169e-4191-89c6-4cda530045f0",
   "metadata": {},
   "outputs": [
    {
     "data": {
      "text/plain": [
       "<Axes: title={'center': 'Distribuição de Notas'}, ylabel='Frequency'>"
      ]
     },
     "execution_count": 134,
     "metadata": {},
     "output_type": "execute_result"
    },
    {
     "data": {
      "image/png": "[encoded data removed]",
      "text/plain": [
       "<Figure size 640x480 with 1 Axes>"
      ]
     },
     "metadata": {},
     "output_type": "display_data"
    }
   ],
   "source": [
    "# Criando um histograma\n",
    "col = 'Notas'\n",
    "df[col].plot(kind=\"hist\", bins=20, ec=\"black\", alpha=0.7, title=\"Distribuição de \" + col)"
   ]
  },
  {
   "cell_type": "markdown",
   "id": "44e04037-7f69-4769-8fc4-9a44ae79b273",
   "metadata": {},
   "source": [
    "## Categorizar valores contínuos em intervalos\n",
    "O `pd.cut` é usado para categorizar valores contínuos em intervalos (bins). Ele é útil quando você deseja agrupar dados numéricos em faixas, como criar categorias de idade ou faixas salariais."
   ]
  },
  {
   "cell_type": "code",
   "execution_count": 56,
   "id": "609e78a3-7fb0-4e8c-9845-5579abe77bae",
   "metadata": {},
   "outputs": [
    {
     "data": {
      "text/html": [
       "<div>\n",
       "<style scoped>\n",
       "    .dataframe tbody tr th:only-of-type {\n",
       "        vertical-align: middle;\n",
       "    }\n",
       "\n",
       "    .dataframe tbody tr th {\n",
       "        vertical-align: top;\n",
       "    }\n",
       "\n",
       "    .dataframe thead th {\n",
       "        text-align: right;\n",
       "    }\n",
       "</style>\n",
       "<table border=\"1\" class=\"dataframe\">\n",
       "  <thead>\n",
       "    <tr style=\"text-align: right;\">\n",
       "      <th></th>\n",
       "      <th>Idade</th>\n",
       "      <th>Salário</th>\n",
       "      <th>Notas</th>\n",
       "      <th>Faixa Etária</th>\n",
       "    </tr>\n",
       "  </thead>\n",
       "  <tbody>\n",
       "    <tr>\n",
       "      <th>0</th>\n",
       "      <td>60</td>\n",
       "      <td>4350</td>\n",
       "      <td>4.79</td>\n",
       "      <td>46-60</td>\n",
       "    </tr>\n",
       "    <tr>\n",
       "      <th>1</th>\n",
       "      <td>27</td>\n",
       "      <td>3721</td>\n",
       "      <td>3.41</td>\n",
       "      <td>19-30</td>\n",
       "    </tr>\n",
       "    <tr>\n",
       "      <th>2</th>\n",
       "      <td>21</td>\n",
       "      <td>5521</td>\n",
       "      <td>9.65</td>\n",
       "      <td>19-30</td>\n",
       "    </tr>\n",
       "    <tr>\n",
       "      <th>3</th>\n",
       "      <td>37</td>\n",
       "      <td>8436</td>\n",
       "      <td>2.52</td>\n",
       "      <td>31-45</td>\n",
       "    </tr>\n",
       "    <tr>\n",
       "      <th>4</th>\n",
       "      <td>35</td>\n",
       "      <td>6751</td>\n",
       "      <td>8.62</td>\n",
       "      <td>31-45</td>\n",
       "    </tr>\n",
       "  </tbody>\n",
       "</table>\n",
       "</div>"
      ],
      "text/plain": [
       "   Idade  Salário  Notas Faixa Etária\n",
       "0     60     4350   4.79        46-60\n",
       "1     27     3721   3.41        19-30\n",
       "2     21     5521   9.65        19-30\n",
       "3     37     8436   2.52        31-45\n",
       "4     35     6751   8.62        31-45"
      ]
     },
     "execution_count": 56,
     "metadata": {},
     "output_type": "execute_result"
    }
   ],
   "source": [
    "# Definindo os intervalos para agrupar as idades\n",
    "bins = [0, 18, 30, 45, 60, 100]  # Faixas etárias\n",
    "labels = [\"0-18\", \"19-30\", \"31-45\", \"46-60\", \"60+\"]  # Rótulos para cada grupo\n",
    "\n",
    "# Criando uma nova coluna com as categorias de idade\n",
    "df[\"Faixa Etária\"] = pd.cut(df[\"Idade\"], bins=bins, labels=labels)\n",
    "\n",
    "# Exibir algumas linhas do DataFrame para ver o resultado\n",
    "df.head()"
   ]
  },
  {
   "cell_type": "code",
   "execution_count": 57,
   "id": "ad6dbcf5-661a-43e0-b6fe-0590e1ce7c07",
   "metadata": {},
   "outputs": [
    {
     "data": {
      "text/html": [
       "<div>\n",
       "<style scoped>\n",
       "    .dataframe tbody tr th:only-of-type {\n",
       "        vertical-align: middle;\n",
       "    }\n",
       "\n",
       "    .dataframe tbody tr th {\n",
       "        vertical-align: top;\n",
       "    }\n",
       "\n",
       "    .dataframe thead th {\n",
       "        text-align: right;\n",
       "    }\n",
       "</style>\n",
       "<table border=\"1\" class=\"dataframe\">\n",
       "  <thead>\n",
       "    <tr style=\"text-align: right;\">\n",
       "      <th></th>\n",
       "      <th>Salário</th>\n",
       "      <th>Faixa Salarial</th>\n",
       "    </tr>\n",
       "  </thead>\n",
       "  <tbody>\n",
       "    <tr>\n",
       "      <th>0</th>\n",
       "      <td>4350</td>\n",
       "      <td>(4033.75, 6022.5]</td>\n",
       "    </tr>\n",
       "    <tr>\n",
       "      <th>1</th>\n",
       "      <td>3721</td>\n",
       "      <td>(2037.045, 4033.75]</td>\n",
       "    </tr>\n",
       "    <tr>\n",
       "      <th>2</th>\n",
       "      <td>5521</td>\n",
       "      <td>(4033.75, 6022.5]</td>\n",
       "    </tr>\n",
       "    <tr>\n",
       "      <th>3</th>\n",
       "      <td>8436</td>\n",
       "      <td>(8011.25, 10000.0]</td>\n",
       "    </tr>\n",
       "    <tr>\n",
       "      <th>4</th>\n",
       "      <td>6751</td>\n",
       "      <td>(6022.5, 8011.25]</td>\n",
       "    </tr>\n",
       "  </tbody>\n",
       "</table>\n",
       "</div>"
      ],
      "text/plain": [
       "   Salário       Faixa Salarial\n",
       "0     4350    (4033.75, 6022.5]\n",
       "1     3721  (2037.045, 4033.75]\n",
       "2     5521    (4033.75, 6022.5]\n",
       "3     8436   (8011.25, 10000.0]\n",
       "4     6751    (6022.5, 8011.25]"
      ]
     },
     "execution_count": 57,
     "metadata": {},
     "output_type": "execute_result"
    }
   ],
   "source": [
    "df[\"Faixa Salarial\"] = pd.cut(df[\"Salário\"], bins=4)  # Divide em 4 grupos automáticos\n",
    "df[[\"Salário\", \"Faixa Salarial\"]].head()"
   ]
  },
  {
   "cell_type": "markdown",
   "id": "2523a30f-489c-45a5-9658-5a44f01c2ba2",
   "metadata": {},
   "source": [
    "## Pivot Tables"
   ]
  },
  {
   "cell_type": "code",
   "execution_count": 60,
   "id": "d1ac7c0e-57f7-459a-85d4-534ec2c1603b",
   "metadata": {},
   "outputs": [
    {
     "data": {
      "text/html": [
       "<div>\n",
       "<style scoped>\n",
       "    .dataframe tbody tr th:only-of-type {\n",
       "        vertical-align: middle;\n",
       "    }\n",
       "\n",
       "    .dataframe tbody tr th {\n",
       "        vertical-align: top;\n",
       "    }\n",
       "\n",
       "    .dataframe thead th {\n",
       "        text-align: right;\n",
       "    }\n",
       "</style>\n",
       "<table border=\"1\" class=\"dataframe\">\n",
       "  <thead>\n",
       "    <tr style=\"text-align: right;\">\n",
       "      <th></th>\n",
       "      <th>Cidade</th>\n",
       "      <th>Ano</th>\n",
       "      <th>Vendas</th>\n",
       "    </tr>\n",
       "  </thead>\n",
       "  <tbody>\n",
       "    <tr>\n",
       "      <th>0</th>\n",
       "      <td>SP</td>\n",
       "      <td>2020</td>\n",
       "      <td>100</td>\n",
       "    </tr>\n",
       "    <tr>\n",
       "      <th>1</th>\n",
       "      <td>SP</td>\n",
       "      <td>2021</td>\n",
       "      <td>150</td>\n",
       "    </tr>\n",
       "    <tr>\n",
       "      <th>2</th>\n",
       "      <td>RJ</td>\n",
       "      <td>2020</td>\n",
       "      <td>200</td>\n",
       "    </tr>\n",
       "    <tr>\n",
       "      <th>3</th>\n",
       "      <td>RJ</td>\n",
       "      <td>2021</td>\n",
       "      <td>250</td>\n",
       "    </tr>\n",
       "    <tr>\n",
       "      <th>4</th>\n",
       "      <td>RJ</td>\n",
       "      <td>2020</td>\n",
       "      <td>50</td>\n",
       "    </tr>\n",
       "    <tr>\n",
       "      <th>5</th>\n",
       "      <td>SP</td>\n",
       "      <td>2020</td>\n",
       "      <td>250</td>\n",
       "    </tr>\n",
       "    <tr>\n",
       "      <th>6</th>\n",
       "      <td>SP</td>\n",
       "      <td>2021</td>\n",
       "      <td>300</td>\n",
       "    </tr>\n",
       "    <tr>\n",
       "      <th>7</th>\n",
       "      <td>RJ</td>\n",
       "      <td>2020</td>\n",
       "      <td>150</td>\n",
       "    </tr>\n",
       "  </tbody>\n",
       "</table>\n",
       "</div>"
      ],
      "text/plain": [
       "  Cidade   Ano  Vendas\n",
       "0     SP  2020     100\n",
       "1     SP  2021     150\n",
       "2     RJ  2020     200\n",
       "3     RJ  2021     250\n",
       "4     RJ  2020      50\n",
       "5     SP  2020     250\n",
       "6     SP  2021     300\n",
       "7     RJ  2020     150"
      ]
     },
     "execution_count": 60,
     "metadata": {},
     "output_type": "execute_result"
    }
   ],
   "source": [
    "df = pd.DataFrame({\n",
    "    'Cidade': ['SP', 'SP', 'RJ', 'RJ', 'RJ', 'SP', 'SP', 'RJ'],\n",
    "    'Ano': [2020, 2021, 2020, 2021, 2020, 2020, 2021, 2020],\n",
    "    'Vendas': [100, 150, 200, 250, 50, 250, 300, 150]\n",
    "})\n",
    "\n",
    "df"
   ]
  },
  {
   "cell_type": "code",
   "execution_count": 61,
   "id": "1698a1da-7e1c-4e30-b535-bb155a23335b",
   "metadata": {},
   "outputs": [
    {
     "data": {
      "text/html": [
       "<div>\n",
       "<style scoped>\n",
       "    .dataframe tbody tr th:only-of-type {\n",
       "        vertical-align: middle;\n",
       "    }\n",
       "\n",
       "    .dataframe tbody tr th {\n",
       "        vertical-align: top;\n",
       "    }\n",
       "\n",
       "    .dataframe thead th {\n",
       "        text-align: right;\n",
       "    }\n",
       "</style>\n",
       "<table border=\"1\" class=\"dataframe\">\n",
       "  <thead>\n",
       "    <tr style=\"text-align: right;\">\n",
       "      <th>Ano</th>\n",
       "      <th>2020</th>\n",
       "      <th>2021</th>\n",
       "    </tr>\n",
       "    <tr>\n",
       "      <th>Cidade</th>\n",
       "      <th></th>\n",
       "      <th></th>\n",
       "    </tr>\n",
       "  </thead>\n",
       "  <tbody>\n",
       "    <tr>\n",
       "      <th>RJ</th>\n",
       "      <td>400</td>\n",
       "      <td>250</td>\n",
       "    </tr>\n",
       "    <tr>\n",
       "      <th>SP</th>\n",
       "      <td>350</td>\n",
       "      <td>450</td>\n",
       "    </tr>\n",
       "  </tbody>\n",
       "</table>\n",
       "</div>"
      ],
      "text/plain": [
       "Ano     2020  2021\n",
       "Cidade            \n",
       "RJ       400   250\n",
       "SP       350   450"
      ]
     },
     "execution_count": 61,
     "metadata": {},
     "output_type": "execute_result"
    }
   ],
   "source": [
    "# Criando tabela pivô\n",
    "df_pivot = df.pivot_table(values='Vendas', index='Cidade', columns='Ano', aggfunc='sum')\n",
    "df_pivot"
   ]
  },
  {
   "cell_type": "code",
   "execution_count": null,
   "id": "c2301e94-4532-4043-999e-98056bb26f60",
   "metadata": {},
   "outputs": [],
   "source": []
  }
 ],
 "metadata": {
  "kernelspec": {
   "display_name": "Python 3 (ipykernel)",
   "language": "python",
   "name": "python3"
  },
  "language_info": {
   "codemirror_mode": {
    "name": "ipython",
    "version": 3
   },
   "file_extension": ".py",
   "mimetype": "text/x-python",
   "name": "python",
   "nbconvert_exporter": "python",
   "pygments_lexer": "ipython3",
   "version": "3.11.7"
  }
 },
 "nbformat": 4,
 "nbformat_minor": 5
}
