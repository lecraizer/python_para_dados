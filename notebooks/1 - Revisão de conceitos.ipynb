{
 "cells": [
  {
   "cell_type": "markdown",
   "id": "39a090ca-0dae-4c74-aac1-8663177108b3",
   "metadata": {},
   "source": [
    "#### Sintaxe Básica do Python\n",
    "\n",
    "- Python usa __indentação__ (espaços em branco) para definir blocos de código, em vez de chaves ``{}``.\n",
    "\n",
    "- As instruções terminam com uma nova linha (não é necessário usar ponto e vírgula ``;``).\n",
    "\n",
    "- Comentários começam com ``#``."
   ]
  },
  {
   "cell_type": "code",
   "execution_count": 9,
   "id": "05a977e9-9ff6-4c8b-b380-1dff649a6cc0",
   "metadata": {},
   "outputs": [
    {
     "name": "stdout",
     "output_type": "stream",
     "text": [
      "Olá, Mundo!\n"
     ]
    }
   ],
   "source": [
    "# Isso é um comentário\n",
    "print(\"Olá, Mundo!\")  # Isso imprime \"Olá, Mundo!\""
   ]
  },
  {
   "cell_type": "markdown",
   "id": "a12ab7e9-1d42-435c-a490-75f4cbe18d4b",
   "metadata": {},
   "source": [
    "#### Variáveis e Tipos de Dados\n",
    "Python é uma linguagem de tipagem dinâmica, então você não precisa declarar o tipo das variáveis explicitamente."
   ]
  },
  {
   "cell_type": "code",
   "execution_count": 2,
   "id": "a9081b1a-7fad-4360-96ff-9f776bebdfe5",
   "metadata": {},
   "outputs": [
    {
     "name": "stdout",
     "output_type": "stream",
     "text": [
      "<class 'int'>\n"
     ]
    }
   ],
   "source": [
    "# Variáveis\n",
    "x = 10          # Inteiro\n",
    "y = 3.14        # Float\n",
    "nome = \"Alice\"  # String\n",
    "esta_ativo = True  # Booleano\n",
    "\n",
    "# Verificando o tipo\n",
    "print(type(x))  # Saída: <class 'int'>"
   ]
  },
  {
   "cell_type": "markdown",
   "id": "051d10c2-8ab8-49c3-ba0b-8ebc55ae6003",
   "metadata": {},
   "source": [
    "#### Estruturas de Dados Básicas\n",
    "- __Listas__: Coleções ordenadas e mutáveis.\n",
    "- __Tuplas__: Coleções ordenadas e imutáveis.\n",
    "- __Dicionários__: Pares de chave-valor.\n",
    "- __Conjuntos__: Coleções não ordenadas de elementos únicos."
   ]
  },
  {
   "cell_type": "code",
   "execution_count": 1,
   "id": "8c85c809-953f-4431-8274-0d0385c61112",
   "metadata": {},
   "outputs": [],
   "source": [
    "# Lista\n",
    "frutas = [\"maçã\", \"banana\", \"cherry\"]\n",
    "\n",
    "# Tupla\n",
    "coordenadas = (10, 20)\n",
    "\n",
    "# Dicionário\n",
    "pessoa = {\"nome\": \"Alice\", \"idade\": 25}\n",
    "\n",
    "# Conjunto\n",
    "numeros_unicos = {1, 2, 3, 3}  # Duplicatas são removidas"
   ]
  },
  {
   "cell_type": "markdown",
   "id": "37fdd711-0b52-4541-9b44-edb99f3e2f62",
   "metadata": {},
   "source": [
    "#### Controle de Fluxo\n",
    "- __If-Else__: Estruturas condicionais.\n",
    "- __Loops__: ``for`` e ``while``."
   ]
  },
  {
   "cell_type": "code",
   "execution_count": 4,
   "id": "ab4efd54-cedf-4ca8-8190-ba92aa1350c2",
   "metadata": {},
   "outputs": [
    {
     "name": "stdout",
     "output_type": "stream",
     "text": [
      "Você é maior de idade.\n",
      "maçã\n",
      "banana\n",
      "cherry\n",
      "0\n",
      "1\n",
      "2\n",
      "3\n",
      "4\n"
     ]
    }
   ],
   "source": [
    "# If-Else\n",
    "idade = 18\n",
    "if idade >= 18:\n",
    "    print(\"Você é maior de idade.\")\n",
    "else:\n",
    "    print(\"Você é menor de idade.\")\n",
    "\n",
    "# For Loop\n",
    "for fruta in frutas:\n",
    "    print(fruta)\n",
    "\n",
    "# While Loop\n",
    "contador = 0\n",
    "while contador < 5:\n",
    "    print(contador)\n",
    "    contador += 1"
   ]
  },
  {
   "cell_type": "markdown",
   "id": "8619c6a0-d96d-47bd-93e7-1d516ea2550c",
   "metadata": {},
   "source": [
    "#### Funções\n",
    "Funções são definidas usando a palavra-chave ``def``."
   ]
  },
  {
   "cell_type": "code",
   "execution_count": 5,
   "id": "9ca76f16-ddef-44d6-ac79-0d1b229fcdd1",
   "metadata": {},
   "outputs": [
    {
     "name": "stdout",
     "output_type": "stream",
     "text": [
      "Olá, Alice!\n"
     ]
    }
   ],
   "source": [
    "def cumprimentar(nome):\n",
    "    return f\"Olá, {nome}!\"\n",
    "\n",
    "print(cumprimentar(\"Alice\"))  # Saída: Olá, Alice!"
   ]
  },
  {
   "cell_type": "markdown",
   "id": "2b2743f8-a8ff-4340-afcb-04d9ec44aafb",
   "metadata": {},
   "source": [
    "- Funções lambda\n",
    "- Funções built-in (``max``, ``sort``, ``map``, ``filter``, ``len``, ``reduce``, ``next``, ``zip``, ``all``, ``any``)\n",
    "- Funções recursivas (Ex: sequência de fibonacci)  "
   ]
  },
  {
   "cell_type": "markdown",
   "id": "8a5810c4-6e9f-410f-8b2b-050cbdd00bc9",
   "metadata": {},
   "source": [
    "#### Entrada e Saída\n",
    "- Use ``input()`` para obter entrada do usuário.\n",
    "- Use ``print()`` para exibir saída."
   ]
  },
  {
   "cell_type": "code",
   "execution_count": 4,
   "id": "927b6506-e330-43f5-8c01-6b85cc3edbb5",
   "metadata": {},
   "outputs": [
    {
     "name": "stdin",
     "output_type": "stream",
     "text": [
      "Digite seu nome:  Luis Eduardo\n"
     ]
    },
    {
     "name": "stdout",
     "output_type": "stream",
     "text": [
      "Olá, Luis Eduardo!\n"
     ]
    }
   ],
   "source": [
    "nome = input(\"Digite seu nome: \")\n",
    "print(f\"Olá, {nome}!\")"
   ]
  },
  {
   "cell_type": "markdown",
   "id": "560533bc-f89e-4223-b441-6e87988dc7a3",
   "metadata": {},
   "source": [
    "#### Tratamento de Erros\n",
    "Use ``try`` e ``except`` para tratar erros."
   ]
  },
  {
   "cell_type": "code",
   "execution_count": 7,
   "id": "d46ba622-bae0-4a50-bfc4-15a4213b508c",
   "metadata": {},
   "outputs": [
    {
     "name": "stdout",
     "output_type": "stream",
     "text": [
      "Não é possível dividir por zero!\n"
     ]
    }
   ],
   "source": [
    "try:\n",
    "    resultado = 10 / 0\n",
    "except ZeroDivisionError:\n",
    "    print(\"Não é possível dividir por zero!\")"
   ]
  },
  {
   "cell_type": "markdown",
   "id": "f8a2e566-856a-41fd-af9c-97a44724a66c",
   "metadata": {},
   "source": [
    "#### Módulos e Bibliotecas\n",
    "Python tem um ecossistema rico de bibliotecas. Use ``import`` para incluí-las."
   ]
  },
  {
   "cell_type": "code",
   "execution_count": 8,
   "id": "98eefc04-7ecc-41e1-927d-7a5b2d73e11a",
   "metadata": {},
   "outputs": [
    {
     "name": "stdout",
     "output_type": "stream",
     "text": [
      "4.0\n"
     ]
    }
   ],
   "source": [
    "import math\n",
    "print(math.sqrt(16))  # Saída: 4.0"
   ]
  },
  {
   "cell_type": "code",
   "execution_count": 5,
   "id": "eae063e3-84a6-4396-9e6d-ac260f73f02c",
   "metadata": {},
   "outputs": [
    {
     "data": {
      "text/plain": [
       "0.9114827067551989"
      ]
     },
     "execution_count": 5,
     "metadata": {},
     "output_type": "execute_result"
    }
   ],
   "source": [
    "import random\n",
    "random.random()"
   ]
  },
  {
   "cell_type": "code",
   "execution_count": 8,
   "id": "806d7ff3-565e-4c61-bcd3-e987469b6fda",
   "metadata": {},
   "outputs": [
    {
     "data": {
      "text/plain": [
       "3"
      ]
     },
     "execution_count": 8,
     "metadata": {},
     "output_type": "execute_result"
    }
   ],
   "source": [
    "random.randint(0, 5)"
   ]
  },
  {
   "cell_type": "code",
   "execution_count": 11,
   "id": "b27aad49-5119-4202-a2e5-c7f24fdee7e1",
   "metadata": {},
   "outputs": [],
   "source": [
    "from random import randint as ri"
   ]
  },
  {
   "cell_type": "code",
   "execution_count": 12,
   "id": "11730b56-ca50-4196-a8d5-1127027a0e67",
   "metadata": {},
   "outputs": [
    {
     "data": {
      "text/plain": [
       "4"
      ]
     },
     "execution_count": 12,
     "metadata": {},
     "output_type": "execute_result"
    }
   ],
   "source": [
    "ri(0,6)"
   ]
  },
  {
   "cell_type": "code",
   "execution_count": 13,
   "id": "2b0a90ea-6857-4483-bdff-8f7e42179bbc",
   "metadata": {},
   "outputs": [],
   "source": [
    "import random as rd"
   ]
  },
  {
   "cell_type": "code",
   "execution_count": 14,
   "id": "235565e6-ece1-4572-8a3c-1b93fe1b6d73",
   "metadata": {},
   "outputs": [
    {
     "data": {
      "text/plain": [
       "0.8501719696086103"
      ]
     },
     "execution_count": 14,
     "metadata": {},
     "output_type": "execute_result"
    }
   ],
   "source": [
    "rd.random()"
   ]
  },
  {
   "cell_type": "markdown",
   "id": "5fb0b159-ec89-4a24-aca1-fe6b72eb9c3e",
   "metadata": {},
   "source": [
    "#### Nesse curso\n",
    "\n",
    "- arquivos\n",
    "- pandas (banco de dados, tabelas, abre arquivo .csv)\n",
    "- sqlalchemy\n",
    "- web scrapping"
   ]
  },
  {
   "cell_type": "code",
   "execution_count": null,
   "id": "ebe8ba9a-30ad-456e-ba08-e381c54da3e0",
   "metadata": {},
   "outputs": [],
   "source": []
  }
 ],
 "metadata": {
  "kernelspec": {
   "display_name": "Python 3 (ipykernel)",
   "language": "python",
   "name": "python3"
  },
  "language_info": {
   "codemirror_mode": {
    "name": "ipython",
    "version": 3
   },
   "file_extension": ".py",
   "mimetype": "text/x-python",
   "name": "python",
   "nbconvert_exporter": "python",
   "pygments_lexer": "ipython3",
   "version": "3.11.7"
  }
 },
 "nbformat": 4,
 "nbformat_minor": 5
}
