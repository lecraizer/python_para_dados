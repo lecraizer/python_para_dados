{
 "cells": [
  {
   "cell_type": "markdown",
   "id": "00f2d752",
   "metadata": {},
   "source": [
    "# Aula de Pandas (Python)\n",
    "\n",
    "**Objetivo:** Introduzir `pandas` do zero até operações práticas do dia a dia: criação de `DataFrame`, leitura/escrita, filtros, `loc/iloc`, transformação de colunas, renomear, `groupby`, junções, datas, *reshape* e boas práticas.\n",
    "\n",
    "**Pré‑requisitos:** Python 3, noções básicas de listas/dicionários, `pip install pandas`.\n",
    "\n",
    "_Notebook gerado em: 07/10/2025 18:06_"
   ]
  },
  {
   "cell_type": "markdown",
   "id": "fa962538",
   "metadata": {},
   "source": [
    "## 1. O que é o Pandas?\n",
    "- Biblioteca de **análise/manipulação de dados** em Python.\n",
    "\n",
    "- Principais estruturas:\n",
    "\n",
    "  - **Series**: vetor unidimensional com rótulos (índice).\n",
    "\n",
    "  - **DataFrame**: tabela 2D com linhas e colunas rotuladas.\n",
    "\n",
    "  - **Index**: estrutura que guarda os rótulos (labels) de linhas/colunas.\n",
    "\n",
    "- Por baixo dos panos: usa **NumPy** (arrays eficientes em C) → operações vetorizadas, desempenho alto.\n",
    "\n",
    "- Uso típico: **ETL**, limpeza, exploração, engenharia de features, relatórios, ciência de dados.\n",
    "\n",
    "- Integração fácil com **matplotlib/plotly**, **scikit‑learn**, **SQL**, **parquet** etc.\n"
   ]
  },
  {
   "cell_type": "code",
   "execution_count": 23,
   "id": "5a48e802",
   "metadata": {},
   "outputs": [
    {
     "data": {
      "text/plain": [
       "'2.1.4'"
      ]
     },
     "execution_count": 23,
     "metadata": {},
     "output_type": "execute_result"
    }
   ],
   "source": [
    "import pandas as pd\n",
    "import numpy as np\n",
    "\n",
    "# Preferência: visualizar DataFrames diretamente (sem print)\n",
    "pd.set_option(\"display.max_rows\", 10)\n",
    "pd.set_option(\"display.max_columns\", 20)\n",
    "pd.set_option(\"display.width\", 120)\n",
    "\n",
    "pd.__version__"
   ]
  },
  {
   "cell_type": "markdown",
   "id": "564c1c8c",
   "metadata": {},
   "source": [
    "## 2. Estruturas de dados: Series, DataFrame e Index\n",
    "### 2.1 Series\n",
    "- Uma coluna com índice.\n",
    "- Pode ter dtype numérico, string, datetime, categórico etc.\n"
   ]
  },
  {
   "cell_type": "code",
   "execution_count": 24,
   "id": "393837db",
   "metadata": {},
   "outputs": [
    {
     "data": {
      "text/plain": [
       "(a    10\n",
       " b    20\n",
       " c    30\n",
       " Name: minha_serie, dtype: int64,\n",
       " array([10, 20, 30]),\n",
       " Index(['a', 'b', 'c'], dtype='object'),\n",
       " dtype('int64'))"
      ]
     },
     "execution_count": 24,
     "metadata": {},
     "output_type": "execute_result"
    }
   ],
   "source": [
    "s = pd.Series([10, 20, 30], index=['a','b','c'], name='minha_serie')\n",
    "s, s.values, s.index, s.dtype"
   ]
  },
  {
   "cell_type": "markdown",
   "id": "d6b615f1",
   "metadata": {},
   "source": [
    "### 2.2 DataFrame\n",
    "- Tabela com múltiplas Series alinhadas pelo índice."
   ]
  },
  {
   "cell_type": "code",
   "execution_count": 25,
   "id": "ab72c012",
   "metadata": {},
   "outputs": [
    {
     "data": {
      "text/html": [
       "<div>\n",
       "<style scoped>\n",
       "    .dataframe tbody tr th:only-of-type {\n",
       "        vertical-align: middle;\n",
       "    }\n",
       "\n",
       "    .dataframe tbody tr th {\n",
       "        vertical-align: top;\n",
       "    }\n",
       "\n",
       "    .dataframe thead th {\n",
       "        text-align: right;\n",
       "    }\n",
       "</style>\n",
       "<table border=\"1\" class=\"dataframe\">\n",
       "  <thead>\n",
       "    <tr style=\"text-align: right;\">\n",
       "      <th></th>\n",
       "      <th>produto</th>\n",
       "      <th>preco</th>\n",
       "      <th>qtd</th>\n",
       "      <th>data</th>\n",
       "    </tr>\n",
       "  </thead>\n",
       "  <tbody>\n",
       "    <tr>\n",
       "      <th>0</th>\n",
       "      <td>A</td>\n",
       "      <td>10.0</td>\n",
       "      <td>1</td>\n",
       "      <td>2025-01-01</td>\n",
       "    </tr>\n",
       "    <tr>\n",
       "      <th>1</th>\n",
       "      <td>B</td>\n",
       "      <td>20.0</td>\n",
       "      <td>2</td>\n",
       "      <td>2025-01-03</td>\n",
       "    </tr>\n",
       "    <tr>\n",
       "      <th>2</th>\n",
       "      <td>C</td>\n",
       "      <td>15.0</td>\n",
       "      <td>1</td>\n",
       "      <td>2025-01-03</td>\n",
       "    </tr>\n",
       "    <tr>\n",
       "      <th>3</th>\n",
       "      <td>A</td>\n",
       "      <td>11.0</td>\n",
       "      <td>3</td>\n",
       "      <td>2025-02-01</td>\n",
       "    </tr>\n",
       "    <tr>\n",
       "      <th>4</th>\n",
       "      <td>B</td>\n",
       "      <td>19.5</td>\n",
       "      <td>1</td>\n",
       "      <td>2025-02-15</td>\n",
       "    </tr>\n",
       "    <tr>\n",
       "      <th>5</th>\n",
       "      <td>C</td>\n",
       "      <td>15.5</td>\n",
       "      <td>4</td>\n",
       "      <td>2025-02-20</td>\n",
       "    </tr>\n",
       "  </tbody>\n",
       "</table>\n",
       "</div>"
      ],
      "text/plain": [
       "  produto  preco  qtd       data\n",
       "0       A   10.0    1 2025-01-01\n",
       "1       B   20.0    2 2025-01-03\n",
       "2       C   15.0    1 2025-01-03\n",
       "3       A   11.0    3 2025-02-01\n",
       "4       B   19.5    1 2025-02-15\n",
       "5       C   15.5    4 2025-02-20"
      ]
     },
     "execution_count": 25,
     "metadata": {},
     "output_type": "execute_result"
    }
   ],
   "source": [
    "df = pd.DataFrame({\n",
    "    'produto': ['A','B','C','A','B','C'],\n",
    "    'preco':   [10.0, 20.0, 15.0, 11.0, 19.5, 15.5],\n",
    "    'qtd':     [1, 2, 1, 3, 1, 4],\n",
    "    'data':    pd.to_datetime(['2025-01-01','2025-01-03','2025-01-03','2025-02-01','2025-02-15','2025-02-20'])\n",
    "})\n",
    "df"
   ]
  },
  {
   "cell_type": "markdown",
   "id": "ce16d5a2",
   "metadata": {},
   "source": [
    "### 2.3 Index e dtypes\n",
    "- O Index rotula as linhas/colunas.\n",
    "- `dtypes` mostra o tipo de cada coluna."
   ]
  },
  {
   "cell_type": "code",
   "execution_count": 26,
   "id": "34c4ab46",
   "metadata": {},
   "outputs": [
    {
     "data": {
      "text/plain": [
       "(RangeIndex(start=0, stop=6, step=1),\n",
       " Index(['produto', 'preco', 'qtd', 'data'], dtype='object'),\n",
       " produto            object\n",
       " preco             float64\n",
       " qtd                 int64\n",
       " data       datetime64[ns]\n",
       " dtype: object)"
      ]
     },
     "execution_count": 26,
     "metadata": {},
     "output_type": "execute_result"
    }
   ],
   "source": [
    "df.index, df.columns, df.dtypes"
   ]
  },
  {
   "cell_type": "markdown",
   "id": "9b9b2dff",
   "metadata": {},
   "source": [
    "## 3. Criando DataFrames\n",
    "- A partir de **dict**, **lista de dicts**, **NumPy**, ou leitura de **CSV/JSON/Parquet/SQL**.\n"
   ]
  },
  {
   "cell_type": "code",
   "execution_count": 27,
   "id": "c3035e3b",
   "metadata": {},
   "outputs": [
    {
     "data": {
      "text/html": [
       "<div>\n",
       "<style scoped>\n",
       "    .dataframe tbody tr th:only-of-type {\n",
       "        vertical-align: middle;\n",
       "    }\n",
       "\n",
       "    .dataframe tbody tr th {\n",
       "        vertical-align: top;\n",
       "    }\n",
       "\n",
       "    .dataframe thead th {\n",
       "        text-align: right;\n",
       "    }\n",
       "</style>\n",
       "<table border=\"1\" class=\"dataframe\">\n",
       "  <thead>\n",
       "    <tr style=\"text-align: right;\">\n",
       "      <th></th>\n",
       "      <th>cidade</th>\n",
       "      <th>uf</th>\n",
       "      <th>pop</th>\n",
       "    </tr>\n",
       "  </thead>\n",
       "  <tbody>\n",
       "    <tr>\n",
       "      <th>0</th>\n",
       "      <td>Rio</td>\n",
       "      <td>RJ</td>\n",
       "      <td>6748000</td>\n",
       "    </tr>\n",
       "    <tr>\n",
       "      <th>1</th>\n",
       "      <td>São Paulo</td>\n",
       "      <td>SP</td>\n",
       "      <td>12330000</td>\n",
       "    </tr>\n",
       "    <tr>\n",
       "      <th>2</th>\n",
       "      <td>Belo Horizonte</td>\n",
       "      <td>MG</td>\n",
       "      <td>2533000</td>\n",
       "    </tr>\n",
       "  </tbody>\n",
       "</table>\n",
       "</div>"
      ],
      "text/plain": [
       "           cidade  uf       pop\n",
       "0             Rio  RJ   6748000\n",
       "1       São Paulo  SP  12330000\n",
       "2  Belo Horizonte  MG   2533000"
      ]
     },
     "execution_count": 27,
     "metadata": {},
     "output_type": "execute_result"
    }
   ],
   "source": [
    "# Lista de dicionários\n",
    "dados = [\n",
    "    {'cidade':'Rio','uf':'RJ','pop': 6748000},\n",
    "    {'cidade':'São Paulo','uf':'SP','pop': 12330000},\n",
    "    {'cidade':'Belo Horizonte','uf':'MG','pop': 2533000},\n",
    "]\n",
    "cidades = pd.DataFrame(dados)\n",
    "cidades"
   ]
  },
  {
   "cell_type": "code",
   "execution_count": 28,
   "id": "a5c3bd3a",
   "metadata": {},
   "outputs": [
    {
     "data": {
      "text/plain": [
       "'/mnt/data/vendas.csv'"
      ]
     },
     "execution_count": 28,
     "metadata": {},
     "output_type": "execute_result"
    }
   ],
   "source": [
    "# Gerar um CSV pequeno para demonstração de I/O\n",
    "import pandas as _pd\n",
    "_vendas = _pd.DataFrame({\n",
    "    'id':[1,2,3,4,5,6],\n",
    "    'produto':['A','B','A','C','B','A'],\n",
    "    'preco':[10.0, 20.0, 11.0, 15.0, 19.5, 10.5],\n",
    "    'qtd':[1,2,3,1,1,2],\n",
    "    'data': _pd.to_datetime(['2025-01-01','2025-01-03','2025-01-05','2025-02-01','2025-02-10','2025-02-10'])\n",
    "})\n",
    "_vendas.to_csv(\"../data/vendas.csv\", index=False)\n",
    "\"/mnt/data/vendas.csv\""
   ]
  },
  {
   "cell_type": "markdown",
   "id": "fea50a84",
   "metadata": {},
   "source": [
    "## 4. Leitura/Escrita (I/O)\n",
    "- `pd.read_csv`, `DataFrame.to_csv`\n",
    "- `pd.read_json`, `pd.read_parquet`, `to_parquet`\n",
    "- `read_sql` (com engines), `to_sql`\n"
   ]
  },
  {
   "cell_type": "code",
   "execution_count": 29,
   "id": "218d5fc4",
   "metadata": {},
   "outputs": [
    {
     "data": {
      "text/html": [
       "<div>\n",
       "<style scoped>\n",
       "    .dataframe tbody tr th:only-of-type {\n",
       "        vertical-align: middle;\n",
       "    }\n",
       "\n",
       "    .dataframe tbody tr th {\n",
       "        vertical-align: top;\n",
       "    }\n",
       "\n",
       "    .dataframe thead th {\n",
       "        text-align: right;\n",
       "    }\n",
       "</style>\n",
       "<table border=\"1\" class=\"dataframe\">\n",
       "  <thead>\n",
       "    <tr style=\"text-align: right;\">\n",
       "      <th></th>\n",
       "      <th>id</th>\n",
       "      <th>produto</th>\n",
       "      <th>preco</th>\n",
       "      <th>qtd</th>\n",
       "      <th>data</th>\n",
       "    </tr>\n",
       "  </thead>\n",
       "  <tbody>\n",
       "    <tr>\n",
       "      <th>0</th>\n",
       "      <td>1</td>\n",
       "      <td>A</td>\n",
       "      <td>10.0</td>\n",
       "      <td>1</td>\n",
       "      <td>2025-01-01</td>\n",
       "    </tr>\n",
       "    <tr>\n",
       "      <th>1</th>\n",
       "      <td>2</td>\n",
       "      <td>B</td>\n",
       "      <td>20.0</td>\n",
       "      <td>2</td>\n",
       "      <td>2025-01-03</td>\n",
       "    </tr>\n",
       "    <tr>\n",
       "      <th>2</th>\n",
       "      <td>3</td>\n",
       "      <td>A</td>\n",
       "      <td>11.0</td>\n",
       "      <td>3</td>\n",
       "      <td>2025-01-05</td>\n",
       "    </tr>\n",
       "    <tr>\n",
       "      <th>3</th>\n",
       "      <td>4</td>\n",
       "      <td>C</td>\n",
       "      <td>15.0</td>\n",
       "      <td>1</td>\n",
       "      <td>2025-02-01</td>\n",
       "    </tr>\n",
       "    <tr>\n",
       "      <th>4</th>\n",
       "      <td>5</td>\n",
       "      <td>B</td>\n",
       "      <td>19.5</td>\n",
       "      <td>1</td>\n",
       "      <td>2025-02-10</td>\n",
       "    </tr>\n",
       "  </tbody>\n",
       "</table>\n",
       "</div>"
      ],
      "text/plain": [
       "   id produto  preco  qtd       data\n",
       "0   1       A   10.0    1 2025-01-01\n",
       "1   2       B   20.0    2 2025-01-03\n",
       "2   3       A   11.0    3 2025-01-05\n",
       "3   4       C   15.0    1 2025-02-01\n",
       "4   5       B   19.5    1 2025-02-10"
      ]
     },
     "execution_count": 29,
     "metadata": {},
     "output_type": "execute_result"
    }
   ],
   "source": [
    "vendas = pd.read_csv(\"../data/vendas.csv\", parse_dates=['data'])\n",
    "vendas.head()"
   ]
  },
  {
   "cell_type": "markdown",
   "id": "0d958d26",
   "metadata": {},
   "source": [
    "## 5. Seleção e Filtro\n",
    "### 5.1 Seleção básica de colunas\n",
    "- `df['col']` ou `df[['c1','c2']]`\n",
    "\n",
    "### 5.2 Filtro booleano\n",
    "- Máscaras com comparações (`==`, `>`, `isin`, `str.contains`)\n",
    "\n",
    "### 5.3 `loc` vs `iloc`\n",
    "- `loc` usa **rótulos**; `iloc` usa **posições** (0‑based).\n",
    "\n"
   ]
  },
  {
   "cell_type": "code",
   "execution_count": 30,
   "id": "b5c1f291",
   "metadata": {},
   "outputs": [
    {
     "data": {
      "text/html": [
       "<div>\n",
       "<style scoped>\n",
       "    .dataframe tbody tr th:only-of-type {\n",
       "        vertical-align: middle;\n",
       "    }\n",
       "\n",
       "    .dataframe tbody tr th {\n",
       "        vertical-align: top;\n",
       "    }\n",
       "\n",
       "    .dataframe thead th {\n",
       "        text-align: right;\n",
       "    }\n",
       "</style>\n",
       "<table border=\"1\" class=\"dataframe\">\n",
       "  <thead>\n",
       "    <tr style=\"text-align: right;\">\n",
       "      <th></th>\n",
       "      <th>produto</th>\n",
       "      <th>preco</th>\n",
       "    </tr>\n",
       "  </thead>\n",
       "  <tbody>\n",
       "    <tr>\n",
       "      <th>0</th>\n",
       "      <td>A</td>\n",
       "      <td>10.0</td>\n",
       "    </tr>\n",
       "    <tr>\n",
       "      <th>1</th>\n",
       "      <td>B</td>\n",
       "      <td>20.0</td>\n",
       "    </tr>\n",
       "    <tr>\n",
       "      <th>2</th>\n",
       "      <td>A</td>\n",
       "      <td>11.0</td>\n",
       "    </tr>\n",
       "    <tr>\n",
       "      <th>3</th>\n",
       "      <td>C</td>\n",
       "      <td>15.0</td>\n",
       "    </tr>\n",
       "    <tr>\n",
       "      <th>4</th>\n",
       "      <td>B</td>\n",
       "      <td>19.5</td>\n",
       "    </tr>\n",
       "  </tbody>\n",
       "</table>\n",
       "</div>"
      ],
      "text/plain": [
       "  produto  preco\n",
       "0       A   10.0\n",
       "1       B   20.0\n",
       "2       A   11.0\n",
       "3       C   15.0\n",
       "4       B   19.5"
      ]
     },
     "execution_count": 30,
     "metadata": {},
     "output_type": "execute_result"
    }
   ],
   "source": [
    "# Colunas\n",
    "vendas[['produto','preco']].head()"
   ]
  },
  {
   "cell_type": "code",
   "execution_count": 31,
   "id": "587486a9",
   "metadata": {},
   "outputs": [
    {
     "data": {
      "text/html": [
       "<div>\n",
       "<style scoped>\n",
       "    .dataframe tbody tr th:only-of-type {\n",
       "        vertical-align: middle;\n",
       "    }\n",
       "\n",
       "    .dataframe tbody tr th {\n",
       "        vertical-align: top;\n",
       "    }\n",
       "\n",
       "    .dataframe thead th {\n",
       "        text-align: right;\n",
       "    }\n",
       "</style>\n",
       "<table border=\"1\" class=\"dataframe\">\n",
       "  <thead>\n",
       "    <tr style=\"text-align: right;\">\n",
       "      <th></th>\n",
       "      <th>id</th>\n",
       "      <th>produto</th>\n",
       "      <th>preco</th>\n",
       "      <th>qtd</th>\n",
       "      <th>data</th>\n",
       "    </tr>\n",
       "  </thead>\n",
       "  <tbody>\n",
       "    <tr>\n",
       "      <th>0</th>\n",
       "      <td>1</td>\n",
       "      <td>A</td>\n",
       "      <td>10.0</td>\n",
       "      <td>1</td>\n",
       "      <td>2025-01-01</td>\n",
       "    </tr>\n",
       "    <tr>\n",
       "      <th>2</th>\n",
       "      <td>3</td>\n",
       "      <td>A</td>\n",
       "      <td>11.0</td>\n",
       "      <td>3</td>\n",
       "      <td>2025-01-05</td>\n",
       "    </tr>\n",
       "    <tr>\n",
       "      <th>5</th>\n",
       "      <td>6</td>\n",
       "      <td>A</td>\n",
       "      <td>10.5</td>\n",
       "      <td>2</td>\n",
       "      <td>2025-02-10</td>\n",
       "    </tr>\n",
       "  </tbody>\n",
       "</table>\n",
       "</div>"
      ],
      "text/plain": [
       "   id produto  preco  qtd       data\n",
       "0   1       A   10.0    1 2025-01-01\n",
       "2   3       A   11.0    3 2025-01-05\n",
       "5   6       A   10.5    2 2025-02-10"
      ]
     },
     "execution_count": 31,
     "metadata": {},
     "output_type": "execute_result"
    }
   ],
   "source": [
    "# Filtro booleano\n",
    "mask = (vendas['produto']=='A') & (vendas['preco']>=10)\n",
    "vendas[mask]"
   ]
  },
  {
   "cell_type": "code",
   "execution_count": 32,
   "id": "2df931e1",
   "metadata": {},
   "outputs": [
    {
     "data": {
      "text/plain": [
       "(   id produto  qtd\n",
       " 1   2       B    2\n",
       " 2   3       A    3\n",
       " 5   6       A    2,\n",
       "    id produto  preco\n",
       " 0   1       A   10.0\n",
       " 1   2       B   20.0\n",
       " 2   3       A   11.0)"
      ]
     },
     "execution_count": 32,
     "metadata": {},
     "output_type": "execute_result"
    }
   ],
   "source": [
    "# loc (rótulos) e iloc (posições)\n",
    "vendas.loc[vendas['qtd']>=2, ['id','produto','qtd']].head(), vendas.iloc[:3, :3]"
   ]
  },
  {
   "cell_type": "markdown",
   "id": "da904342",
   "metadata": {},
   "source": [
    "### 5.4 `query` (opcional)\n",
    "Útil para filtros legíveis em strings."
   ]
  },
  {
   "cell_type": "code",
   "execution_count": 33,
   "id": "15ec4c3c",
   "metadata": {},
   "outputs": [
    {
     "data": {
      "text/html": [
       "<div>\n",
       "<style scoped>\n",
       "    .dataframe tbody tr th:only-of-type {\n",
       "        vertical-align: middle;\n",
       "    }\n",
       "\n",
       "    .dataframe tbody tr th {\n",
       "        vertical-align: top;\n",
       "    }\n",
       "\n",
       "    .dataframe thead th {\n",
       "        text-align: right;\n",
       "    }\n",
       "</style>\n",
       "<table border=\"1\" class=\"dataframe\">\n",
       "  <thead>\n",
       "    <tr style=\"text-align: right;\">\n",
       "      <th></th>\n",
       "      <th>id</th>\n",
       "      <th>produto</th>\n",
       "      <th>preco</th>\n",
       "      <th>qtd</th>\n",
       "      <th>data</th>\n",
       "    </tr>\n",
       "  </thead>\n",
       "  <tbody>\n",
       "    <tr>\n",
       "      <th>1</th>\n",
       "      <td>2</td>\n",
       "      <td>B</td>\n",
       "      <td>20.0</td>\n",
       "      <td>2</td>\n",
       "      <td>2025-01-03</td>\n",
       "    </tr>\n",
       "    <tr>\n",
       "      <th>2</th>\n",
       "      <td>3</td>\n",
       "      <td>A</td>\n",
       "      <td>11.0</td>\n",
       "      <td>3</td>\n",
       "      <td>2025-01-05</td>\n",
       "    </tr>\n",
       "    <tr>\n",
       "      <th>4</th>\n",
       "      <td>5</td>\n",
       "      <td>B</td>\n",
       "      <td>19.5</td>\n",
       "      <td>1</td>\n",
       "      <td>2025-02-10</td>\n",
       "    </tr>\n",
       "    <tr>\n",
       "      <th>5</th>\n",
       "      <td>6</td>\n",
       "      <td>A</td>\n",
       "      <td>10.5</td>\n",
       "      <td>2</td>\n",
       "      <td>2025-02-10</td>\n",
       "    </tr>\n",
       "  </tbody>\n",
       "</table>\n",
       "</div>"
      ],
      "text/plain": [
       "   id produto  preco  qtd       data\n",
       "1   2       B   20.0    2 2025-01-03\n",
       "2   3       A   11.0    3 2025-01-05\n",
       "4   5       B   19.5    1 2025-02-10\n",
       "5   6       A   10.5    2 2025-02-10"
      ]
     },
     "execution_count": 33,
     "metadata": {},
     "output_type": "execute_result"
    }
   ],
   "source": [
    "vendas.query(\"produto in ['A','B'] and preco > 10\")"
   ]
  },
  {
   "cell_type": "markdown",
   "id": "a75cd4d6",
   "metadata": {},
   "source": [
    "## 6. Criação/Transformação de Colunas\n",
    "- `assign`, atribuição direta, `where`/`mask`, `clip`, `round`.\n",
    "- `rename` para renomear, `drop` para remover.\n"
   ]
  },
  {
   "cell_type": "code",
   "execution_count": 34,
   "id": "566a2c74",
   "metadata": {},
   "outputs": [
    {
     "data": {
      "text/html": [
       "<div>\n",
       "<style scoped>\n",
       "    .dataframe tbody tr th:only-of-type {\n",
       "        vertical-align: middle;\n",
       "    }\n",
       "\n",
       "    .dataframe tbody tr th {\n",
       "        vertical-align: top;\n",
       "    }\n",
       "\n",
       "    .dataframe thead th {\n",
       "        text-align: right;\n",
       "    }\n",
       "</style>\n",
       "<table border=\"1\" class=\"dataframe\">\n",
       "  <thead>\n",
       "    <tr style=\"text-align: right;\">\n",
       "      <th></th>\n",
       "      <th>id</th>\n",
       "      <th>produto</th>\n",
       "      <th>preco_unit</th>\n",
       "      <th>qtd</th>\n",
       "      <th>data</th>\n",
       "      <th>receita</th>\n",
       "    </tr>\n",
       "  </thead>\n",
       "  <tbody>\n",
       "    <tr>\n",
       "      <th>0</th>\n",
       "      <td>1</td>\n",
       "      <td>A</td>\n",
       "      <td>10.0</td>\n",
       "      <td>1</td>\n",
       "      <td>2025-01-01</td>\n",
       "      <td>10.0</td>\n",
       "    </tr>\n",
       "    <tr>\n",
       "      <th>1</th>\n",
       "      <td>2</td>\n",
       "      <td>B</td>\n",
       "      <td>20.0</td>\n",
       "      <td>2</td>\n",
       "      <td>2025-01-03</td>\n",
       "      <td>40.0</td>\n",
       "    </tr>\n",
       "    <tr>\n",
       "      <th>2</th>\n",
       "      <td>3</td>\n",
       "      <td>A</td>\n",
       "      <td>11.0</td>\n",
       "      <td>3</td>\n",
       "      <td>2025-01-05</td>\n",
       "      <td>33.0</td>\n",
       "    </tr>\n",
       "    <tr>\n",
       "      <th>3</th>\n",
       "      <td>4</td>\n",
       "      <td>C</td>\n",
       "      <td>15.0</td>\n",
       "      <td>1</td>\n",
       "      <td>2025-02-01</td>\n",
       "      <td>15.0</td>\n",
       "    </tr>\n",
       "    <tr>\n",
       "      <th>4</th>\n",
       "      <td>5</td>\n",
       "      <td>B</td>\n",
       "      <td>19.5</td>\n",
       "      <td>1</td>\n",
       "      <td>2025-02-10</td>\n",
       "      <td>19.5</td>\n",
       "    </tr>\n",
       "    <tr>\n",
       "      <th>5</th>\n",
       "      <td>6</td>\n",
       "      <td>A</td>\n",
       "      <td>10.5</td>\n",
       "      <td>2</td>\n",
       "      <td>2025-02-10</td>\n",
       "      <td>21.0</td>\n",
       "    </tr>\n",
       "  </tbody>\n",
       "</table>\n",
       "</div>"
      ],
      "text/plain": [
       "   id produto  preco_unit  qtd       data  receita\n",
       "0   1       A        10.0    1 2025-01-01     10.0\n",
       "1   2       B        20.0    2 2025-01-03     40.0\n",
       "2   3       A        11.0    3 2025-01-05     33.0\n",
       "3   4       C        15.0    1 2025-02-01     15.0\n",
       "4   5       B        19.5    1 2025-02-10     19.5\n",
       "5   6       A        10.5    2 2025-02-10     21.0"
      ]
     },
     "execution_count": 34,
     "metadata": {},
     "output_type": "execute_result"
    }
   ],
   "source": [
    "v2 = (vendas\n",
    "       .assign(receita = vendas['preco']*vendas['qtd'])\n",
    "       .rename(columns={'preco':'preco_unit'}))\n",
    "v2"
   ]
  },
  {
   "cell_type": "code",
   "execution_count": 35,
   "id": "96670ae9",
   "metadata": {},
   "outputs": [
    {
     "data": {
      "text/html": [
       "<div>\n",
       "<style scoped>\n",
       "    .dataframe tbody tr th:only-of-type {\n",
       "        vertical-align: middle;\n",
       "    }\n",
       "\n",
       "    .dataframe tbody tr th {\n",
       "        vertical-align: top;\n",
       "    }\n",
       "\n",
       "    .dataframe thead th {\n",
       "        text-align: right;\n",
       "    }\n",
       "</style>\n",
       "<table border=\"1\" class=\"dataframe\">\n",
       "  <thead>\n",
       "    <tr style=\"text-align: right;\">\n",
       "      <th></th>\n",
       "      <th>id</th>\n",
       "      <th>produto</th>\n",
       "      <th>preco_unit</th>\n",
       "      <th>data</th>\n",
       "      <th>receita</th>\n",
       "    </tr>\n",
       "  </thead>\n",
       "  <tbody>\n",
       "    <tr>\n",
       "      <th>0</th>\n",
       "      <td>1</td>\n",
       "      <td>A</td>\n",
       "      <td>10.0</td>\n",
       "      <td>2025-01-01</td>\n",
       "      <td>10.0</td>\n",
       "    </tr>\n",
       "    <tr>\n",
       "      <th>1</th>\n",
       "      <td>2</td>\n",
       "      <td>B</td>\n",
       "      <td>20.0</td>\n",
       "      <td>2025-01-03</td>\n",
       "      <td>40.0</td>\n",
       "    </tr>\n",
       "    <tr>\n",
       "      <th>2</th>\n",
       "      <td>3</td>\n",
       "      <td>A</td>\n",
       "      <td>11.0</td>\n",
       "      <td>2025-01-05</td>\n",
       "      <td>33.0</td>\n",
       "    </tr>\n",
       "    <tr>\n",
       "      <th>3</th>\n",
       "      <td>4</td>\n",
       "      <td>C</td>\n",
       "      <td>15.0</td>\n",
       "      <td>2025-02-01</td>\n",
       "      <td>15.0</td>\n",
       "    </tr>\n",
       "    <tr>\n",
       "      <th>4</th>\n",
       "      <td>5</td>\n",
       "      <td>B</td>\n",
       "      <td>19.5</td>\n",
       "      <td>2025-02-10</td>\n",
       "      <td>19.5</td>\n",
       "    </tr>\n",
       "  </tbody>\n",
       "</table>\n",
       "</div>"
      ],
      "text/plain": [
       "   id produto  preco_unit       data  receita\n",
       "0   1       A        10.0 2025-01-01     10.0\n",
       "1   2       B        20.0 2025-01-03     40.0\n",
       "2   3       A        11.0 2025-01-05     33.0\n",
       "3   4       C        15.0 2025-02-01     15.0\n",
       "4   5       B        19.5 2025-02-10     19.5"
      ]
     },
     "execution_count": 35,
     "metadata": {},
     "output_type": "execute_result"
    }
   ],
   "source": [
    "# Drop de colunas\n",
    "v2.drop(columns=['qtd']).head()"
   ]
  },
  {
   "cell_type": "markdown",
   "id": "1bcbb74d",
   "metadata": {},
   "source": [
    "## 7. Ordenação e Amostragem\n",
    "- `sort_values`, `nlargest`, `sample`"
   ]
  },
  {
   "cell_type": "code",
   "execution_count": 36,
   "id": "ee0b514e",
   "metadata": {},
   "outputs": [
    {
     "data": {
      "text/html": [
       "<div>\n",
       "<style scoped>\n",
       "    .dataframe tbody tr th:only-of-type {\n",
       "        vertical-align: middle;\n",
       "    }\n",
       "\n",
       "    .dataframe tbody tr th {\n",
       "        vertical-align: top;\n",
       "    }\n",
       "\n",
       "    .dataframe thead th {\n",
       "        text-align: right;\n",
       "    }\n",
       "</style>\n",
       "<table border=\"1\" class=\"dataframe\">\n",
       "  <thead>\n",
       "    <tr style=\"text-align: right;\">\n",
       "      <th></th>\n",
       "      <th>id</th>\n",
       "      <th>produto</th>\n",
       "      <th>preco_unit</th>\n",
       "      <th>qtd</th>\n",
       "      <th>data</th>\n",
       "      <th>receita</th>\n",
       "    </tr>\n",
       "  </thead>\n",
       "  <tbody>\n",
       "    <tr>\n",
       "      <th>2</th>\n",
       "      <td>3</td>\n",
       "      <td>A</td>\n",
       "      <td>11.0</td>\n",
       "      <td>3</td>\n",
       "      <td>2025-01-05</td>\n",
       "      <td>33.0</td>\n",
       "    </tr>\n",
       "    <tr>\n",
       "      <th>5</th>\n",
       "      <td>6</td>\n",
       "      <td>A</td>\n",
       "      <td>10.5</td>\n",
       "      <td>2</td>\n",
       "      <td>2025-02-10</td>\n",
       "      <td>21.0</td>\n",
       "    </tr>\n",
       "    <tr>\n",
       "      <th>0</th>\n",
       "      <td>1</td>\n",
       "      <td>A</td>\n",
       "      <td>10.0</td>\n",
       "      <td>1</td>\n",
       "      <td>2025-01-01</td>\n",
       "      <td>10.0</td>\n",
       "    </tr>\n",
       "    <tr>\n",
       "      <th>1</th>\n",
       "      <td>2</td>\n",
       "      <td>B</td>\n",
       "      <td>20.0</td>\n",
       "      <td>2</td>\n",
       "      <td>2025-01-03</td>\n",
       "      <td>40.0</td>\n",
       "    </tr>\n",
       "    <tr>\n",
       "      <th>4</th>\n",
       "      <td>5</td>\n",
       "      <td>B</td>\n",
       "      <td>19.5</td>\n",
       "      <td>1</td>\n",
       "      <td>2025-02-10</td>\n",
       "      <td>19.5</td>\n",
       "    </tr>\n",
       "    <tr>\n",
       "      <th>3</th>\n",
       "      <td>4</td>\n",
       "      <td>C</td>\n",
       "      <td>15.0</td>\n",
       "      <td>1</td>\n",
       "      <td>2025-02-01</td>\n",
       "      <td>15.0</td>\n",
       "    </tr>\n",
       "  </tbody>\n",
       "</table>\n",
       "</div>"
      ],
      "text/plain": [
       "   id produto  preco_unit  qtd       data  receita\n",
       "2   3       A        11.0    3 2025-01-05     33.0\n",
       "5   6       A        10.5    2 2025-02-10     21.0\n",
       "0   1       A        10.0    1 2025-01-01     10.0\n",
       "1   2       B        20.0    2 2025-01-03     40.0\n",
       "4   5       B        19.5    1 2025-02-10     19.5\n",
       "3   4       C        15.0    1 2025-02-01     15.0"
      ]
     },
     "execution_count": 36,
     "metadata": {},
     "output_type": "execute_result"
    }
   ],
   "source": [
    "v2.sort_values(['produto','receita'], ascending=[True, False]).head(10)"
   ]
  },
  {
   "cell_type": "code",
   "execution_count": 37,
   "id": "55623d16",
   "metadata": {},
   "outputs": [
    {
     "data": {
      "text/html": [
       "<div>\n",
       "<style scoped>\n",
       "    .dataframe tbody tr th:only-of-type {\n",
       "        vertical-align: middle;\n",
       "    }\n",
       "\n",
       "    .dataframe tbody tr th {\n",
       "        vertical-align: top;\n",
       "    }\n",
       "\n",
       "    .dataframe thead th {\n",
       "        text-align: right;\n",
       "    }\n",
       "</style>\n",
       "<table border=\"1\" class=\"dataframe\">\n",
       "  <thead>\n",
       "    <tr style=\"text-align: right;\">\n",
       "      <th></th>\n",
       "      <th>id</th>\n",
       "      <th>produto</th>\n",
       "      <th>receita</th>\n",
       "    </tr>\n",
       "  </thead>\n",
       "  <tbody>\n",
       "    <tr>\n",
       "      <th>1</th>\n",
       "      <td>2</td>\n",
       "      <td>B</td>\n",
       "      <td>40.0</td>\n",
       "    </tr>\n",
       "    <tr>\n",
       "      <th>2</th>\n",
       "      <td>3</td>\n",
       "      <td>A</td>\n",
       "      <td>33.0</td>\n",
       "    </tr>\n",
       "    <tr>\n",
       "      <th>5</th>\n",
       "      <td>6</td>\n",
       "      <td>A</td>\n",
       "      <td>21.0</td>\n",
       "    </tr>\n",
       "  </tbody>\n",
       "</table>\n",
       "</div>"
      ],
      "text/plain": [
       "   id produto  receita\n",
       "1   2       B     40.0\n",
       "2   3       A     33.0\n",
       "5   6       A     21.0"
      ]
     },
     "execution_count": 37,
     "metadata": {},
     "output_type": "execute_result"
    }
   ],
   "source": [
    "v2.nlargest(3, 'receita')[['id','produto','receita']]"
   ]
  },
  {
   "cell_type": "code",
   "execution_count": 38,
   "id": "e8878f70",
   "metadata": {},
   "outputs": [
    {
     "data": {
      "text/html": [
       "<div>\n",
       "<style scoped>\n",
       "    .dataframe tbody tr th:only-of-type {\n",
       "        vertical-align: middle;\n",
       "    }\n",
       "\n",
       "    .dataframe tbody tr th {\n",
       "        vertical-align: top;\n",
       "    }\n",
       "\n",
       "    .dataframe thead th {\n",
       "        text-align: right;\n",
       "    }\n",
       "</style>\n",
       "<table border=\"1\" class=\"dataframe\">\n",
       "  <thead>\n",
       "    <tr style=\"text-align: right;\">\n",
       "      <th></th>\n",
       "      <th>id</th>\n",
       "      <th>produto</th>\n",
       "      <th>preco_unit</th>\n",
       "      <th>qtd</th>\n",
       "      <th>data</th>\n",
       "      <th>receita</th>\n",
       "    </tr>\n",
       "  </thead>\n",
       "  <tbody>\n",
       "    <tr>\n",
       "      <th>0</th>\n",
       "      <td>1</td>\n",
       "      <td>A</td>\n",
       "      <td>10.0</td>\n",
       "      <td>1</td>\n",
       "      <td>2025-01-01</td>\n",
       "      <td>10.0</td>\n",
       "    </tr>\n",
       "    <tr>\n",
       "      <th>1</th>\n",
       "      <td>2</td>\n",
       "      <td>B</td>\n",
       "      <td>20.0</td>\n",
       "      <td>2</td>\n",
       "      <td>2025-01-03</td>\n",
       "      <td>40.0</td>\n",
       "    </tr>\n",
       "    <tr>\n",
       "      <th>5</th>\n",
       "      <td>6</td>\n",
       "      <td>A</td>\n",
       "      <td>10.5</td>\n",
       "      <td>2</td>\n",
       "      <td>2025-02-10</td>\n",
       "      <td>21.0</td>\n",
       "    </tr>\n",
       "  </tbody>\n",
       "</table>\n",
       "</div>"
      ],
      "text/plain": [
       "   id produto  preco_unit  qtd       data  receita\n",
       "0   1       A        10.0    1 2025-01-01     10.0\n",
       "1   2       B        20.0    2 2025-01-03     40.0\n",
       "5   6       A        10.5    2 2025-02-10     21.0"
      ]
     },
     "execution_count": 38,
     "metadata": {},
     "output_type": "execute_result"
    }
   ],
   "source": [
    "v2.sample(3, random_state=42)"
   ]
  },
  {
   "cell_type": "markdown",
   "id": "0193629b",
   "metadata": {},
   "source": [
    "## 8. Valores Ausentes (NaN)\n",
    "- `isna`, `fillna`, `dropna`"
   ]
  },
  {
   "cell_type": "code",
   "execution_count": 39,
   "id": "7c881d1c",
   "metadata": {},
   "outputs": [
    {
     "data": {
      "text/plain": [
       "(id            0.000000\n",
       " produto       0.000000\n",
       " preco_unit    0.000000\n",
       " qtd           0.000000\n",
       " data          0.000000\n",
       " receita       0.333333\n",
       " dtype: float64,\n",
       "    id produto  preco_unit  qtd       data  receita\n",
       " 0   1       A        10.0    1 2025-01-01     10.0\n",
       " 1   2       B        20.0    2 2025-01-03      0.0\n",
       " 2   3       A        11.0    3 2025-01-05     33.0\n",
       " 3   4       C        15.0    1 2025-02-01     15.0\n",
       " 4   5       B        19.5    1 2025-02-10      0.0)"
      ]
     },
     "execution_count": 39,
     "metadata": {},
     "output_type": "execute_result"
    }
   ],
   "source": [
    "na_df = v2.copy()\n",
    "na_df.loc[na_df['produto']=='B','receita'] = np.nan\n",
    "na_df.isna().mean(), na_df.fillna({'receita':0}).head()"
   ]
  },
  {
   "cell_type": "markdown",
   "id": "4ca72823",
   "metadata": {},
   "source": [
    "## 9. Agrupamento e Agregações (`groupby`)\n",
    "- `agg` com múltiplas funções\n",
    "- `as_index=False` para manter colunas"
   ]
  },
  {
   "cell_type": "code",
   "execution_count": 40,
   "id": "9d0340b7",
   "metadata": {},
   "outputs": [
    {
     "data": {
      "text/html": [
       "<div>\n",
       "<style scoped>\n",
       "    .dataframe tbody tr th:only-of-type {\n",
       "        vertical-align: middle;\n",
       "    }\n",
       "\n",
       "    .dataframe tbody tr th {\n",
       "        vertical-align: top;\n",
       "    }\n",
       "\n",
       "    .dataframe thead th {\n",
       "        text-align: right;\n",
       "    }\n",
       "</style>\n",
       "<table border=\"1\" class=\"dataframe\">\n",
       "  <thead>\n",
       "    <tr style=\"text-align: right;\">\n",
       "      <th></th>\n",
       "      <th>produto</th>\n",
       "      <th>receita_total</th>\n",
       "      <th>preco_medio</th>\n",
       "      <th>vendas</th>\n",
       "    </tr>\n",
       "  </thead>\n",
       "  <tbody>\n",
       "    <tr>\n",
       "      <th>0</th>\n",
       "      <td>A</td>\n",
       "      <td>64.0</td>\n",
       "      <td>10.50</td>\n",
       "      <td>3</td>\n",
       "    </tr>\n",
       "    <tr>\n",
       "      <th>1</th>\n",
       "      <td>B</td>\n",
       "      <td>59.5</td>\n",
       "      <td>19.75</td>\n",
       "      <td>2</td>\n",
       "    </tr>\n",
       "    <tr>\n",
       "      <th>2</th>\n",
       "      <td>C</td>\n",
       "      <td>15.0</td>\n",
       "      <td>15.00</td>\n",
       "      <td>1</td>\n",
       "    </tr>\n",
       "  </tbody>\n",
       "</table>\n",
       "</div>"
      ],
      "text/plain": [
       "  produto  receita_total  preco_medio  vendas\n",
       "0       A           64.0        10.50       3\n",
       "1       B           59.5        19.75       2\n",
       "2       C           15.0        15.00       1"
      ]
     },
     "execution_count": 40,
     "metadata": {},
     "output_type": "execute_result"
    }
   ],
   "source": [
    "res = (v2\n",
    "        .groupby('produto', as_index=False)\n",
    "        .agg(receita_total=('receita','sum'),\n",
    "             preco_medio=('preco_unit','mean'),\n",
    "             vendas=('id','count')))\n",
    "res"
   ]
  },
  {
   "cell_type": "markdown",
   "id": "4e66c73a",
   "metadata": {},
   "source": [
    "## 10. Junções (merge) e Concatenação\n",
    "- `merge` (inner/left/right/outer)\n",
    "- `concat` para empilhar ou lado a lado"
   ]
  },
  {
   "cell_type": "code",
   "execution_count": 41,
   "id": "1d5588be",
   "metadata": {},
   "outputs": [
    {
     "data": {
      "text/html": [
       "<div>\n",
       "<style scoped>\n",
       "    .dataframe tbody tr th:only-of-type {\n",
       "        vertical-align: middle;\n",
       "    }\n",
       "\n",
       "    .dataframe tbody tr th {\n",
       "        vertical-align: top;\n",
       "    }\n",
       "\n",
       "    .dataframe thead th {\n",
       "        text-align: right;\n",
       "    }\n",
       "</style>\n",
       "<table border=\"1\" class=\"dataframe\">\n",
       "  <thead>\n",
       "    <tr style=\"text-align: right;\">\n",
       "      <th></th>\n",
       "      <th>id</th>\n",
       "      <th>produto</th>\n",
       "      <th>preco_unit</th>\n",
       "      <th>qtd</th>\n",
       "      <th>data</th>\n",
       "      <th>receita</th>\n",
       "      <th>categoria</th>\n",
       "    </tr>\n",
       "  </thead>\n",
       "  <tbody>\n",
       "    <tr>\n",
       "      <th>0</th>\n",
       "      <td>1</td>\n",
       "      <td>A</td>\n",
       "      <td>10.0</td>\n",
       "      <td>1</td>\n",
       "      <td>2025-01-01</td>\n",
       "      <td>10.0</td>\n",
       "      <td>X</td>\n",
       "    </tr>\n",
       "    <tr>\n",
       "      <th>1</th>\n",
       "      <td>2</td>\n",
       "      <td>B</td>\n",
       "      <td>20.0</td>\n",
       "      <td>2</td>\n",
       "      <td>2025-01-03</td>\n",
       "      <td>40.0</td>\n",
       "      <td>Y</td>\n",
       "    </tr>\n",
       "    <tr>\n",
       "      <th>2</th>\n",
       "      <td>3</td>\n",
       "      <td>A</td>\n",
       "      <td>11.0</td>\n",
       "      <td>3</td>\n",
       "      <td>2025-01-05</td>\n",
       "      <td>33.0</td>\n",
       "      <td>X</td>\n",
       "    </tr>\n",
       "    <tr>\n",
       "      <th>3</th>\n",
       "      <td>4</td>\n",
       "      <td>C</td>\n",
       "      <td>15.0</td>\n",
       "      <td>1</td>\n",
       "      <td>2025-02-01</td>\n",
       "      <td>15.0</td>\n",
       "      <td>Y</td>\n",
       "    </tr>\n",
       "    <tr>\n",
       "      <th>4</th>\n",
       "      <td>5</td>\n",
       "      <td>B</td>\n",
       "      <td>19.5</td>\n",
       "      <td>1</td>\n",
       "      <td>2025-02-10</td>\n",
       "      <td>19.5</td>\n",
       "      <td>Y</td>\n",
       "    </tr>\n",
       "  </tbody>\n",
       "</table>\n",
       "</div>"
      ],
      "text/plain": [
       "   id produto  preco_unit  qtd       data  receita categoria\n",
       "0   1       A        10.0    1 2025-01-01     10.0         X\n",
       "1   2       B        20.0    2 2025-01-03     40.0         Y\n",
       "2   3       A        11.0    3 2025-01-05     33.0         X\n",
       "3   4       C        15.0    1 2025-02-01     15.0         Y\n",
       "4   5       B        19.5    1 2025-02-10     19.5         Y"
      ]
     },
     "execution_count": 41,
     "metadata": {},
     "output_type": "execute_result"
    }
   ],
   "source": [
    "# Tabelas auxiliares\n",
    "info = pd.DataFrame({'produto':['A','B','C'], 'categoria':['X','Y','Y']})\n",
    "left_join = v2.merge(info, on='produto', how='left')\n",
    "left_join.head()"
   ]
  },
  {
   "cell_type": "code",
   "execution_count": 42,
   "id": "bdb33476",
   "metadata": {},
   "outputs": [
    {
     "data": {
      "text/plain": [
       "True"
      ]
     },
     "execution_count": 42,
     "metadata": {},
     "output_type": "execute_result"
    }
   ],
   "source": [
    "# Concat\n",
    "part1 = v2.iloc[:3]\n",
    "part2 = v2.iloc[3:]\n",
    "pd.concat([part1, part2]).equals(v2)"
   ]
  },
  {
   "cell_type": "markdown",
   "id": "4e89f8fb",
   "metadata": {},
   "source": [
    "## 11. Reshape: `pivot`, `pivot_table`, `melt`\n",
    "- `pivot_table` agrega automaticamente.\n",
    "- `melt` transforma colunas em linhas."
   ]
  },
  {
   "cell_type": "code",
   "execution_count": 43,
   "id": "b8cf6a4b",
   "metadata": {},
   "outputs": [
    {
     "data": {
      "text/html": [
       "<div>\n",
       "<style scoped>\n",
       "    .dataframe tbody tr th:only-of-type {\n",
       "        vertical-align: middle;\n",
       "    }\n",
       "\n",
       "    .dataframe tbody tr th {\n",
       "        vertical-align: top;\n",
       "    }\n",
       "\n",
       "    .dataframe thead th {\n",
       "        text-align: right;\n",
       "    }\n",
       "</style>\n",
       "<table border=\"1\" class=\"dataframe\">\n",
       "  <thead>\n",
       "    <tr style=\"text-align: right;\">\n",
       "      <th>data</th>\n",
       "      <th>2025-01</th>\n",
       "      <th>2025-02</th>\n",
       "    </tr>\n",
       "    <tr>\n",
       "      <th>produto</th>\n",
       "      <th></th>\n",
       "      <th></th>\n",
       "    </tr>\n",
       "  </thead>\n",
       "  <tbody>\n",
       "    <tr>\n",
       "      <th>A</th>\n",
       "      <td>43.0</td>\n",
       "      <td>21.0</td>\n",
       "    </tr>\n",
       "    <tr>\n",
       "      <th>B</th>\n",
       "      <td>40.0</td>\n",
       "      <td>19.5</td>\n",
       "    </tr>\n",
       "    <tr>\n",
       "      <th>C</th>\n",
       "      <td>0.0</td>\n",
       "      <td>15.0</td>\n",
       "    </tr>\n",
       "  </tbody>\n",
       "</table>\n",
       "</div>"
      ],
      "text/plain": [
       "data     2025-01  2025-02\n",
       "produto                  \n",
       "A           43.0     21.0\n",
       "B           40.0     19.5\n",
       "C            0.0     15.0"
      ]
     },
     "execution_count": 43,
     "metadata": {},
     "output_type": "execute_result"
    }
   ],
   "source": [
    "pv = pd.pivot_table(v2, index='produto', columns=v2['data'].dt.to_period('M'),\n",
    "                      values='receita', aggfunc='sum', fill_value=0)\n",
    "pv"
   ]
  },
  {
   "cell_type": "code",
   "execution_count": 44,
   "id": "aed2d376",
   "metadata": {},
   "outputs": [
    {
     "data": {
      "text/html": [
       "<div>\n",
       "<style scoped>\n",
       "    .dataframe tbody tr th:only-of-type {\n",
       "        vertical-align: middle;\n",
       "    }\n",
       "\n",
       "    .dataframe tbody tr th {\n",
       "        vertical-align: top;\n",
       "    }\n",
       "\n",
       "    .dataframe thead th {\n",
       "        text-align: right;\n",
       "    }\n",
       "</style>\n",
       "<table border=\"1\" class=\"dataframe\">\n",
       "  <thead>\n",
       "    <tr style=\"text-align: right;\">\n",
       "      <th></th>\n",
       "      <th>id</th>\n",
       "      <th>produto</th>\n",
       "      <th>medida</th>\n",
       "      <th>valor</th>\n",
       "    </tr>\n",
       "  </thead>\n",
       "  <tbody>\n",
       "    <tr>\n",
       "      <th>0</th>\n",
       "      <td>1</td>\n",
       "      <td>A</td>\n",
       "      <td>preco_unit</td>\n",
       "      <td>10.0</td>\n",
       "    </tr>\n",
       "    <tr>\n",
       "      <th>1</th>\n",
       "      <td>2</td>\n",
       "      <td>B</td>\n",
       "      <td>preco_unit</td>\n",
       "      <td>20.0</td>\n",
       "    </tr>\n",
       "    <tr>\n",
       "      <th>2</th>\n",
       "      <td>3</td>\n",
       "      <td>A</td>\n",
       "      <td>preco_unit</td>\n",
       "      <td>11.0</td>\n",
       "    </tr>\n",
       "    <tr>\n",
       "      <th>3</th>\n",
       "      <td>4</td>\n",
       "      <td>C</td>\n",
       "      <td>preco_unit</td>\n",
       "      <td>15.0</td>\n",
       "    </tr>\n",
       "    <tr>\n",
       "      <th>4</th>\n",
       "      <td>5</td>\n",
       "      <td>B</td>\n",
       "      <td>preco_unit</td>\n",
       "      <td>19.5</td>\n",
       "    </tr>\n",
       "  </tbody>\n",
       "</table>\n",
       "</div>"
      ],
      "text/plain": [
       "   id produto      medida  valor\n",
       "0   1       A  preco_unit   10.0\n",
       "1   2       B  preco_unit   20.0\n",
       "2   3       A  preco_unit   11.0\n",
       "3   4       C  preco_unit   15.0\n",
       "4   5       B  preco_unit   19.5"
      ]
     },
     "execution_count": 44,
     "metadata": {},
     "output_type": "execute_result"
    }
   ],
   "source": [
    "melted = pd.melt(v2, id_vars=['id','produto'], value_vars=['preco_unit','qtd','receita'],\n",
    "                  var_name='medida', value_name='valor')\n",
    "melted.head()"
   ]
  },
  {
   "cell_type": "markdown",
   "id": "01244817",
   "metadata": {},
   "source": [
    "## 12. Datas e Tempos\n",
    "- `to_datetime`, atributos `.dt`, *resample* para séries temporais."
   ]
  },
  {
   "cell_type": "code",
   "execution_count": 45,
   "id": "e58c445f",
   "metadata": {},
   "outputs": [
    {
     "data": {
      "text/plain": [
       "data\n",
       "2025-01-31    83.0\n",
       "2025-02-28    55.5\n",
       "Freq: M, Name: receita, dtype: float64"
      ]
     },
     "execution_count": 45,
     "metadata": {},
     "output_type": "execute_result"
    }
   ],
   "source": [
    "v_tmp = v2.set_index('data').sort_index()\n",
    "mensal = v_tmp['receita'].resample('M').sum()\n",
    "mensal"
   ]
  },
  {
   "cell_type": "markdown",
   "id": "9abc2916",
   "metadata": {},
   "source": [
    "## 13. Categóricas\n",
    "- `astype('category')` para colunas com poucos valores repetidos → memória/velocidade."
   ]
  },
  {
   "cell_type": "code",
   "execution_count": 46,
   "id": "0c2ec63b",
   "metadata": {},
   "outputs": [
    {
     "data": {
      "text/plain": [
       "(CategoricalDtype(categories=['A', 'B', 'C'], ordered=False, categories_dtype=object),\n",
       " Index(['A', 'B', 'C'], dtype='object'))"
      ]
     },
     "execution_count": 46,
     "metadata": {},
     "output_type": "execute_result"
    }
   ],
   "source": [
    "cat = v2.copy()\n",
    "cat['produto'] = cat['produto'].astype('category')\n",
    "cat.dtypes['produto'], cat['produto'].cat.categories"
   ]
  },
  {
   "cell_type": "markdown",
   "id": "2226cb1f",
   "metadata": {},
   "source": [
    "## 14. `apply` vs vetorização (boas práticas)\n",
    "- Prefira operações vetorizadas (`Series/DataFrame`) a `apply` linha a linha.\n",
    "- Use `np.where`/`pd.Series.map`/`replace` para condições simples."
   ]
  },
  {
   "cell_type": "code",
   "execution_count": 47,
   "id": "89b03cf9",
   "metadata": {},
   "outputs": [
    {
     "data": {
      "text/html": [
       "<div>\n",
       "<style scoped>\n",
       "    .dataframe tbody tr th:only-of-type {\n",
       "        vertical-align: middle;\n",
       "    }\n",
       "\n",
       "    .dataframe tbody tr th {\n",
       "        vertical-align: top;\n",
       "    }\n",
       "\n",
       "    .dataframe thead th {\n",
       "        text-align: right;\n",
       "    }\n",
       "</style>\n",
       "<table border=\"1\" class=\"dataframe\">\n",
       "  <thead>\n",
       "    <tr style=\"text-align: right;\">\n",
       "      <th></th>\n",
       "      <th>id</th>\n",
       "      <th>produto</th>\n",
       "      <th>preco_unit</th>\n",
       "      <th>qtd</th>\n",
       "      <th>data</th>\n",
       "      <th>receita</th>\n",
       "      <th>faixa</th>\n",
       "    </tr>\n",
       "  </thead>\n",
       "  <tbody>\n",
       "    <tr>\n",
       "      <th>0</th>\n",
       "      <td>1</td>\n",
       "      <td>A</td>\n",
       "      <td>10.0</td>\n",
       "      <td>1</td>\n",
       "      <td>2025-01-01</td>\n",
       "      <td>10.0</td>\n",
       "      <td>baixa</td>\n",
       "    </tr>\n",
       "    <tr>\n",
       "      <th>1</th>\n",
       "      <td>2</td>\n",
       "      <td>B</td>\n",
       "      <td>20.0</td>\n",
       "      <td>2</td>\n",
       "      <td>2025-01-03</td>\n",
       "      <td>40.0</td>\n",
       "      <td>alta</td>\n",
       "    </tr>\n",
       "    <tr>\n",
       "      <th>2</th>\n",
       "      <td>3</td>\n",
       "      <td>A</td>\n",
       "      <td>11.0</td>\n",
       "      <td>3</td>\n",
       "      <td>2025-01-05</td>\n",
       "      <td>33.0</td>\n",
       "      <td>alta</td>\n",
       "    </tr>\n",
       "    <tr>\n",
       "      <th>3</th>\n",
       "      <td>4</td>\n",
       "      <td>C</td>\n",
       "      <td>15.0</td>\n",
       "      <td>1</td>\n",
       "      <td>2025-02-01</td>\n",
       "      <td>15.0</td>\n",
       "      <td>média</td>\n",
       "    </tr>\n",
       "    <tr>\n",
       "      <th>4</th>\n",
       "      <td>5</td>\n",
       "      <td>B</td>\n",
       "      <td>19.5</td>\n",
       "      <td>1</td>\n",
       "      <td>2025-02-10</td>\n",
       "      <td>19.5</td>\n",
       "      <td>média</td>\n",
       "    </tr>\n",
       "  </tbody>\n",
       "</table>\n",
       "</div>"
      ],
      "text/plain": [
       "   id produto  preco_unit  qtd       data  receita  faixa\n",
       "0   1       A        10.0    1 2025-01-01     10.0  baixa\n",
       "1   2       B        20.0    2 2025-01-03     40.0   alta\n",
       "2   3       A        11.0    3 2025-01-05     33.0   alta\n",
       "3   4       C        15.0    1 2025-02-01     15.0  média\n",
       "4   5       B        19.5    1 2025-02-10     19.5  média"
      ]
     },
     "execution_count": 47,
     "metadata": {},
     "output_type": "execute_result"
    }
   ],
   "source": [
    "# Ex.: criar faixa de receita sem apply linha-a-linha\n",
    "faixa = pd.cut(v2['receita'], bins=[-1,10,30,1000], labels=['baixa','média','alta'])\n",
    "v2.assign(faixa=faixa).head()"
   ]
  },
  {
   "cell_type": "markdown",
   "id": "d0114553",
   "metadata": {},
   "source": [
    "## 15. Plot rápido (opcional)\n",
    "Requer matplotlib instalado. (Evite estilos específicos se não precisar.)"
   ]
  },
  {
   "cell_type": "code",
   "execution_count": 48,
   "id": "9a59370c",
   "metadata": {},
   "outputs": [
    {
     "data": {
      "image/png": "[encoded data removed]",
      "text/plain": [
       "<Figure size 640x480 with 1 Axes>"
      ]
     },
     "metadata": {},
     "output_type": "display_data"
    }
   ],
   "source": [
    "import matplotlib.pyplot as plt\n",
    "\n",
    "_ = mensal.plot(kind='bar', title='Receita mensal (demo)')\n",
    "plt.show()"
   ]
  },
  {
   "cell_type": "markdown",
   "id": "d03a74f8",
   "metadata": {},
   "source": [
    "## 16. Dicas e Boas Práticas\n",
    "- Evite loops Python ao manipular colunas → prefira vetorização.\n",
    "\n",
    "- Garanta tipos corretos (`astype`), principalmente datas e categóricas.\n",
    "\n",
    "- Documente suas transformações (pipeline claro) e use `assign`/encadeamento.\n",
    "\n",
    "- Salve dados intermediários em **parquet** quando possível (compacto e rápido).\n",
    "\n",
    "- Para datasets grandes: leia com `chunksize`, filtre colunas necessárias, use `categorical`.\n"
   ]
  },
  {
   "cell_type": "markdown",
   "id": "0e3bf1d9",
   "metadata": {},
   "source": [
    "## 17. Mini‑exercícios (sem gabarito aqui)\n",
    "1) **Filtros:** do `DataFrame vendas`, selecione apenas produto 'B' com preço ≥ 19 e mostre `id, produto, preco, qtd`.\n",
    "\n",
    "2) **Nova coluna:** crie `desconto` de 10% para produto 'A' e 5% para os demais; calcule `receita_liquida`.\n",
    "\n",
    "3) **Groupby:** compute `receita_total` por mês e produto.\n",
    "\n",
    "4) **Join:** crie uma tabela com `produto -> departamento` (à sua escolha) e faça um `left join` em `v2`.\n",
    "\n",
    "5) **Reshape:** gere uma `pivot_table` de `receita` indexada por `produto` e colunas por mês.\n",
    "\n",
    "6) **Datas:** gere uma série de vendas diárias fictícias (30 dias) e faça um `resample('W')`.\n",
    "\n",
    "7) **Limpeza:** injete alguns `NaN` em `preco_unit` e trate com `fillna` usando a mediana por produto.\n",
    "\n",
    "8) **Ordenação:** mostre o top‑3 de `receita` por produto (dica: `groupby` + `nlargest` ou `rank`).\n",
    "\n"
   ]
  },
  {
   "cell_type": "markdown",
   "id": "e15e446e",
   "metadata": {},
   "source": [
    "## 18. Referências úteis\n",
    "- Documentação: https://pandas.pydata.org/docs\n",
    "- Guia de 10 minutos com pandas: https://pandas.pydata.org/docs/user_guide/10min.html\n",
    "- Cookbook: https://pandas.pydata.org/docs/user_guide/cookbook.html\n"
   ]
  }
 ],
 "metadata": {
  "kernelspec": {
   "display_name": "Python 3 (ipykernel)",
   "language": "python",
   "name": "python3"
  },
  "language_info": {
   "codemirror_mode": {
    "name": "ipython",
    "version": 3
   },
   "file_extension": ".py",
   "mimetype": "text/x-python",
   "name": "python",
   "nbconvert_exporter": "python",
   "pygments_lexer": "ipython3",
   "version": "3.11.7"
  }
 },
 "nbformat": 4,
 "nbformat_minor": 5
}
