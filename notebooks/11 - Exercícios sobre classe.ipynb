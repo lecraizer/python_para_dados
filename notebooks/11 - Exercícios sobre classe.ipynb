{
 "cells": [
  {
   "cell_type": "markdown",
   "id": "919b9d6b",
   "metadata": {},
   "source": [
    "\n",
    "# 📌 Exercícios sobre Classes em Python (Com Resolução)\n",
    "\n",
    "Este notebook contém **exercícios completos sobre classes em Python**, desde conceitos básicos até herança e polimorfismo.  \n",
    "Cada exercício inclui **uma explicação, um enunciado e a solução em Python**.\n",
    "\n",
    "Vamos começar! 🚀\n"
   ]
  },
  {
   "cell_type": "markdown",
   "id": "77524bf4",
   "metadata": {},
   "source": [
    "## Criando uma Classe Básica\n",
    "\n",
    "Crie uma classe `Pessoa` que tenha os atributos `nome` e `idade`. <br>\n",
    "Instancie um objeto e exiba seus atributos."
   ]
  },
  {
   "cell_type": "code",
   "execution_count": 1,
   "id": "fe8b791b-19e3-4e40-afef-5b45b9183daf",
   "metadata": {},
   "outputs": [],
   "source": [
    "pessoas = {'nome': 'Carlos', 'idade': 30}"
   ]
  },
  {
   "cell_type": "code",
   "execution_count": 2,
   "id": "15657d15",
   "metadata": {},
   "outputs": [
    {
     "name": "stdout",
     "output_type": "stream",
     "text": [
      "Nome: Carlos, Idade: 30\n"
     ]
    }
   ],
   "source": [
    "class Pessoa:\n",
    "    def __init__(self, nome, idade):\n",
    "        self.nome = nome\n",
    "        self.idade = idade\n",
    "\n",
    "# Criando um objeto da classe Pessoa\n",
    "pessoa1 = Pessoa(\"Carlos\", 30)\n",
    "\n",
    "# Exibindo os atributos\n",
    "print(f\"Nome: {pessoa1.nome}, Idade: {pessoa1.idade}\")"
   ]
  },
  {
   "cell_type": "markdown",
   "id": "e43dd702",
   "metadata": {},
   "source": [
    "## Criando uma Classe `Livro`\n",
    "\n",
    "Crie uma classe `Livro` com os atributos `titulo`, `autor` e `ano`. <br>\n",
    "Instancie 3 objetos e exiba as informações."
   ]
  },
  {
   "cell_type": "code",
   "execution_count": 3,
   "id": "749b7077",
   "metadata": {},
   "outputs": [
    {
     "name": "stdout",
     "output_type": "stream",
     "text": [
      "Dom Casmurro, de Machado de Assis (1899)\n",
      "O Hobbit, de J.R.R. Tolkien (1937)\n",
      "1984, de George Orwell (1949)\n"
     ]
    }
   ],
   "source": [
    "class Livro:\n",
    "    def __init__(self, titulo, autor, ano):\n",
    "        self.titulo = titulo\n",
    "        self.autor = autor\n",
    "        self.ano = ano\n",
    "\n",
    "# Criando objetos da classe Livro\n",
    "livro1 = Livro(\"Dom Casmurro\", \"Machado de Assis\", 1899)\n",
    "livro2 = Livro(\"O Hobbit\", \"J.R.R. Tolkien\", 1937)\n",
    "livro3 = Livro(\"1984\", \"George Orwell\", 1949)\n",
    "\n",
    "# Exibindo as informações\n",
    "for livro in [livro1, livro2, livro3]:\n",
    "    print(f\"{livro.titulo}, de {livro.autor} ({livro.ano})\")"
   ]
  },
  {
   "cell_type": "markdown",
   "id": "0a96c1cd",
   "metadata": {},
   "source": [
    "## Métodos em Classes\n",
    "\n",
    "Adicione um método `apresentar()` à classe `Pessoa` que exiba a frase: 'Olá, meu nome é [nome] e eu tenho [idade] anos'."
   ]
  },
  {
   "cell_type": "code",
   "execution_count": 4,
   "id": "a1e89360-8d31-418a-846a-6d6cf445f5e0",
   "metadata": {},
   "outputs": [],
   "source": [
    "class Pessoa:\n",
    "    def __init__(self, nome, idade):\n",
    "        self.nome = nome\n",
    "        self.idade = idade\n",
    "\n",
    "    def apresentar(self):\n",
    "        return f\"Olá, meu nome é {self.nome} e eu tenho {self.idade} anos.\"\n",
    "\n",
    "    def andar(self, distancia):\n",
    "        return f\"Olá, eu sou capaz de andar {distancia} metros em 1 hora.\""
   ]
  },
  {
   "cell_type": "code",
   "execution_count": 5,
   "id": "a341fe1d-1360-4e4f-a050-967bebc77c03",
   "metadata": {},
   "outputs": [],
   "source": [
    "# Criando um objeto e chamando o método\n",
    "pessoa1 = Pessoa(\"Ana\", 25)\n",
    "andre = Pessoa(\"Andre\", 22)"
   ]
  },
  {
   "cell_type": "code",
   "execution_count": 6,
   "id": "231ab0e1-8c7b-49a8-a662-f426028045cb",
   "metadata": {},
   "outputs": [
    {
     "name": "stdout",
     "output_type": "stream",
     "text": [
      "Olá, meu nome é Ana e eu tenho 25 anos.\n"
     ]
    }
   ],
   "source": [
    "print(pessoa1.apresentar())"
   ]
  },
  {
   "cell_type": "code",
   "execution_count": 7,
   "id": "d3a8a2e6-4836-4e4d-b21b-03b1a518c790",
   "metadata": {},
   "outputs": [
    {
     "name": "stdout",
     "output_type": "stream",
     "text": [
      "Olá, eu sou capaz de andar 1000 metros em 1 hora.\n"
     ]
    }
   ],
   "source": [
    "print(pessoa1.andar(1000))"
   ]
  },
  {
   "cell_type": "code",
   "execution_count": 8,
   "id": "a031ab00-9512-4e53-bd5f-9aa0cbb336f6",
   "metadata": {},
   "outputs": [
    {
     "name": "stdout",
     "output_type": "stream",
     "text": [
      "Olá, eu sou capaz de andar 13500 metros em 1 hora.\n"
     ]
    }
   ],
   "source": [
    "print(andre.andar(13500))"
   ]
  },
  {
   "cell_type": "markdown",
   "id": "86ebd16d",
   "metadata": {},
   "source": [
    "## Criando uma Conta Bancária\n",
    "\n",
    "Crie uma classe `ContaBancaria` com métodos `depositar(valor)`, `sacar(valor)` e `exibir_saldo()`."
   ]
  },
  {
   "cell_type": "code",
   "execution_count": 9,
   "id": "1cae3a92",
   "metadata": {},
   "outputs": [
    {
     "name": "stdout",
     "output_type": "stream",
     "text": [
      "Saldo de João: R$ 600\n"
     ]
    }
   ],
   "source": [
    "class ContaBancaria:\n",
    "    def __init__(self, titular, saldo=0):\n",
    "        self.titular = titular\n",
    "        self.saldo = saldo\n",
    "\n",
    "    def depositar(self, valor):\n",
    "        self.saldo += valor\n",
    "\n",
    "    def sacar(self, valor):\n",
    "        if valor > self.saldo:\n",
    "            print(\"Saldo insuficiente!\")\n",
    "        else:\n",
    "            self.saldo -= valor\n",
    "\n",
    "    def exibir_saldo(self):\n",
    "        return f\"Saldo de {self.titular}: R$ {self.saldo}\"\n",
    "\n",
    "# Criando conta e testando métodos\n",
    "conta = ContaBancaria(\"João\", 500)\n",
    "conta.depositar(200)\n",
    "conta.sacar(100)\n",
    "print(conta.exibir_saldo())"
   ]
  },
  {
   "cell_type": "markdown",
   "id": "ea9a0bd2",
   "metadata": {},
   "source": [
    "## Herança em Classes\n",
    "\n",
    "Crie uma classe `Veiculo` e duas subclasses `Carro` e `Moto`.  <br>\n",
    "Cada subclasse deve sobrescrever o método `descrever()`."
   ]
  },
  {
   "cell_type": "code",
   "execution_count": 10,
   "id": "878cebf2",
   "metadata": {},
   "outputs": [
    {
     "name": "stdout",
     "output_type": "stream",
     "text": [
      "Toyota Corolla com 4 portas\n",
      "Honda CB500 com 500 cilindradas\n"
     ]
    }
   ],
   "source": [
    "class Veiculo:\n",
    "    def __init__(self, marca, modelo):\n",
    "        self.marca = marca\n",
    "        self.modelo = modelo\n",
    "\n",
    "    def descrever(self):\n",
    "        return f\"{self.marca} {self.modelo}\"\n",
    "\n",
    "class Carro(Veiculo):\n",
    "    def __init__(self, marca, modelo, portas):\n",
    "        super().__init__(marca, modelo)\n",
    "        self.portas = portas\n",
    "\n",
    "    def descrever(self):\n",
    "        return f\"{self.marca} {self.modelo} com {self.portas} portas\"\n",
    "\n",
    "class Moto(Veiculo):\n",
    "    def __init__(self, marca, modelo, cilindradas):\n",
    "        super().__init__(marca, modelo)\n",
    "        self.cilindradas = cilindradas\n",
    "\n",
    "    def descrever(self):\n",
    "        return f\"{self.marca} {self.modelo} com {self.cilindradas} cilindradas\"\n",
    "\n",
    "# Criando objetos\n",
    "carro = Carro(\"Toyota\", \"Corolla\", 4)\n",
    "moto = Moto(\"Honda\", \"CB500\", 500)\n",
    "\n",
    "# Exibindo descrições\n",
    "print(carro.descrever())\n",
    "print(moto.descrever())"
   ]
  },
  {
   "cell_type": "code",
   "execution_count": null,
   "id": "fd3b6778-74de-4446-838a-12cef5761e41",
   "metadata": {},
   "outputs": [],
   "source": []
  }
 ],
 "metadata": {
  "kernelspec": {
   "display_name": "Python 3 (ipykernel)",
   "language": "python",
   "name": "python3"
  },
  "language_info": {
   "codemirror_mode": {
    "name": "ipython",
    "version": 3
   },
   "file_extension": ".py",
   "mimetype": "text/x-python",
   "name": "python",
   "nbconvert_exporter": "python",
   "pygments_lexer": "ipython3",
   "version": "3.11.7"
  }
 },
 "nbformat": 4,
 "nbformat_minor": 5
}
