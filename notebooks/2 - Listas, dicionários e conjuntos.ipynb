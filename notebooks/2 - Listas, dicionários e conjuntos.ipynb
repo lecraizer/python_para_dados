{
 "cells": [
  {
   "cell_type": "markdown",
   "id": "69046ccb-13d4-4b30-9a7d-06095fdb30dc",
   "metadata": {},
   "source": [
    "# Manipulação de Listas, Dicionários e Comparação entre Ambos em Python\n",
    "\n",
    "Nesta lição, vamos explorar:\n",
    "1. Criação e manipulação de listas com elementos sendo listas.\n",
    "2. Criação e manipulação de dicionários.\n",
    "3. Diferenças entre listas e dicionários.\n",
    "\n",
    "---\n",
    "\n",
    "## 1. Listas com Elementos sendo Listas\n",
    "\n",
    "### O que são Listas?\n",
    "Listas são coleções ordenadas e mutáveis de elementos. Podem conter qualquer tipo de dado, inclusive outras listas."
   ]
  },
  {
   "cell_type": "markdown",
   "id": "31644f06-8b6f-476f-ba0b-dde8599b3663",
   "metadata": {},
   "source": [
    "### Exemplo de Lista com Listas Aninhadas\n",
    "Listas aninhadas são úteis para representar estruturas como matrizes ou tabelas. Por exemplo, uma lista de listas pode representar uma matriz 3x3, onde cada sublista é uma linha da matriz.\n"
   ]
  },
  {
   "cell_type": "code",
   "execution_count": null,
   "id": "776bf87e-b7b5-45f5-8a88-f6013f5c65d7",
   "metadata": {},
   "outputs": [],
   "source": [
    "# Criando uma lista de listas\n",
    "lista_de_listas = [\n",
    "    [1, 2, 3],\n",
    "    [\"a\", \"b\", \"c\"],\n",
    "    [True, False, True]\n",
    "]\n",
    "\n",
    "# Acessando elementos\n",
    "print(lista_de_listas[0])\n",
    "print(lista_de_listas[1][2]) "
   ]
  },
  {
   "cell_type": "markdown",
   "id": "86cb8bbd-2fcb-44c3-a5fe-03a785df3875",
   "metadata": {},
   "source": [
    "### Manipulando Listas Aninhadas\n",
    "Podemos adicionar novas listas, modificar elementos específicos ou acessar elementos individuais usando índices."
   ]
  },
  {
   "cell_type": "code",
   "execution_count": null,
   "id": "d173f7f2-26df-4b10-803b-4e34d1da028d",
   "metadata": {},
   "outputs": [],
   "source": [
    "# Adicionando uma nova lista\n",
    "lista_de_listas.append([10, 20, 30])\n",
    "print(lista_de_listas)\n",
    "\n",
    "# Modificando um elemento\n",
    "lista_de_listas[0][1] = 99\n",
    "print(lista_de_listas)"
   ]
  },
  {
   "cell_type": "markdown",
   "id": "6db3e612-9089-4d89-80cf-cb413340eedd",
   "metadata": {},
   "source": [
    "\n",
    "## 2. Dicionários em Python\n",
    "\n",
    "### O que são Dicionários?\n",
    "Dicionários são coleções não ordenadas de pares **chave-valor**. As chaves são únicas e imutáveis, enquanto os valores podem ser de qualquer tipo.\n",
    "\n",
    "### Exemplo de Dicionário\n",
    "Dicionários são ideais para armazenar informações estruturadas, como dados de uma pessoa (nome, idade, cidade, etc.).\n"
   ]
  },
  {
   "cell_type": "code",
   "execution_count": null,
   "id": "e3a46aa4-9e39-4121-8fff-836113d2b5ba",
   "metadata": {},
   "outputs": [],
   "source": [
    "# Criando um dicionário\n",
    "dicionario = {\n",
    "    \"nome\": \"Alice\",\n",
    "    \"idade\": 25,\n",
    "    \"cidade\": \"São Paulo\"\n",
    "}\n",
    "\n",
    "# Acessando valores\n",
    "print(dicionario[\"nome\"])  # Saída: \"Alice\""
   ]
  },
  {
   "cell_type": "markdown",
   "id": "922dca27-51d0-471b-9642-a10ccddef92a",
   "metadata": {},
   "source": [
    "### Manipulando Dicionários\n",
    "Podemos adicionar novos pares chave-valor, modificar valores existentes ou remover chaves específicas."
   ]
  },
  {
   "cell_type": "code",
   "execution_count": null,
   "id": "f2688ebe-7f05-47fd-b432-450c66b5468c",
   "metadata": {},
   "outputs": [],
   "source": [
    "# Adicionando um novo par chave-valor\n",
    "dicionario[\"profissao\"] = \"Engenheira\"\n",
    "print(dicionario)\n",
    "\n",
    "# Modificando um valor\n",
    "dicionario[\"idade\"] = 26\n",
    "print(dicionario)\n",
    "\n",
    "# Removendo um par chave-valor\n",
    "del dicionario[\"cidade\"]\n",
    "print(dicionario)"
   ]
  },
  {
   "cell_type": "markdown",
   "id": "14d89c86-2c01-4eee-a86f-bb36a46d5280",
   "metadata": {},
   "source": [
    "\n",
    "\n",
    "## 3. Comparação entre Listas e Dicionários\n",
    "\n",
    "### Diferenças Principais\n",
    "| Característica       | Listas                          | Dicionários                     |\n",
    "|----------------------|---------------------------------|---------------------------------|\n",
    "| **Ordenação**         | Ordenadas                       | Não ordenados                   |\n",
    "| **Acesso**            | Por índice (posição)            | Por chave                       |\n",
    "| **Mutabilidade**      | Mutáveis                        | Mutáveis                        |\n",
    "| **Uso Comum**         | Sequências de elementos         | Armazenar dados estruturados    |\n",
    "\n",
    "### Exemplo de Uso\n",
    "Listas são usadas para sequências de elementos, como uma lista de números ou nomes. Dicionários são usados para armazenar dados estruturados, como informações de uma pessoa ou configurações de um sistema."
   ]
  },
  {
   "cell_type": "code",
   "execution_count": null,
   "id": "a7781b36-0ed5-447e-a100-b8b0a2e9a7e0",
   "metadata": {},
   "outputs": [],
   "source": [
    "# Lista: Armazenar uma sequência de números\n",
    "numeros = [10, 20, 30, 40]\n",
    "\n",
    "# Dicionário: Armazenar informações de uma pessoa\n",
    "pessoa = {\"nome\": \"Bob\", \"idade\": 30, \"cidade\": \"Rio de Janeiro\"}"
   ]
  },
  {
   "cell_type": "markdown",
   "id": "5f6fe5d5-f567-40b1-8c90-a6be9ed33d2d",
   "metadata": {},
   "source": [
    "\n",
    "# Manipulação de Sets e Elementos Mutáveis em Python\n",
    "\n",
    "Nesta lição, vamos explorar:\n",
    "1. O que são sets e como usá-los.\n",
    "2. Remoção de elementos em objetos mutáveis.\n",
    "\n",
    "---\n",
    "\n",
    "## 1. Sets em Python\n",
    "\n",
    "### O que são Sets?\n",
    "Sets são coleções **não ordenadas** e **sem elementos duplicados**. São úteis para operações como união, interseção e diferença.\n",
    "\n",
    "### Exemplo de Set\n",
    "Sets são ideais para armazenar coleções de elementos únicos, como uma lista de IDs ou tags."
   ]
  },
  {
   "cell_type": "code",
   "execution_count": 7,
   "id": "981fe61c-32c6-46e2-ba95-907152d9816a",
   "metadata": {},
   "outputs": [
    {
     "name": "stdout",
     "output_type": "stream",
     "text": [
      "{'maçã', 'uva', 'banana', 'laranja'}\n",
      "{'maçã', 'uva', 'banana', 'laranja'}\n"
     ]
    }
   ],
   "source": [
    "# Criando um set\n",
    "frutas = {\"maçã\", \"banana\", \"laranja\"}\n",
    "\n",
    "# Adicionando um elemento\n",
    "frutas.add(\"uva\")\n",
    "print(frutas)\n",
    "\n",
    "# Tentando adicionar um elemento duplicado\n",
    "frutas.add(\"banana\")  # Não será adicionado\n",
    "print(frutas)"
   ]
  },
  {
   "cell_type": "markdown",
   "id": "d365302f-b2f4-4ad4-8371-7201af3373a0",
   "metadata": {},
   "source": [
    "\n",
    "### Operações com Sets\n",
    "Podemos realizar operações como união (combinação de elementos), interseção (elementos comuns) e diferença (elementos que estão em um set, mas não no outro).\n"
   ]
  },
  {
   "cell_type": "code",
   "execution_count": 9,
   "id": "4d5ad9ca-dbcd-42b9-963e-7f074584b6a0",
   "metadata": {},
   "outputs": [
    {
     "name": "stdout",
     "output_type": "stream",
     "text": [
      "{1, 2, 3, 4, 5}\n",
      "{3}\n",
      "{1, 2}\n",
      "{4, 5}\n"
     ]
    }
   ],
   "source": [
    "# União de sets\n",
    "set1 = {1, 2, 3}\n",
    "set2 = {3, 4, 5}\n",
    "uniao = set1.union(set2)\n",
    "print(uniao)\n",
    "\n",
    "# Interseção de sets\n",
    "intersecao = set1.intersection(set2)\n",
    "print(intersecao)\n",
    "\n",
    "# Diferença de sets\n",
    "diferenca = set1.difference(set2)\n",
    "print(diferenca) \n",
    "\n",
    "# Diferença de sets\n",
    "diferenca2 = set2.difference(set1)\n",
    "print(diferenca2) "
   ]
  },
  {
   "cell_type": "markdown",
   "id": "b5b1b400-8a72-4655-aaf9-209d3e528e0e",
   "metadata": {},
   "source": [
    "\n",
    "### Funcionalidades Úteis de Sets\n",
    "- Verificar se um elemento existe.\n",
    "- Remover um elemento específico.\n",
    "- Limpar todos os elementos do set.\n",
    "- Obter o tamanho do set.\n",
    "\n",
    "\n",
    "## 2. Remoção de Elementos em Objetos Mutáveis\n",
    "\n",
    "### Remoção em Listas\n",
    "Podemos remover elementos de uma lista por valor ou por índice.\n",
    "\n"
   ]
  },
  {
   "cell_type": "code",
   "execution_count": null,
   "id": "21cddd17-0653-4e69-8e51-40c084c5a5b7",
   "metadata": {},
   "outputs": [],
   "source": [
    "# Removendo por valor\n",
    "lista = [10, 20, 30, 40]\n",
    "lista.remove(20)\n",
    "print(lista)\n",
    "\n",
    "# Removendo por índice\n",
    "del lista[1]\n",
    "print(lista) "
   ]
  },
  {
   "cell_type": "markdown",
   "id": "d931d10a-edf8-4794-a772-7871a0dd6984",
   "metadata": {},
   "source": [
    "\n",
    "### Remoção em Dicionários\n",
    "Podemos remover pares chave-valor de um dicionário usando a chave.\n",
    "\n"
   ]
  },
  {
   "cell_type": "code",
   "execution_count": null,
   "id": "d186f4c9-594d-4ec2-b062-cccc4a96673b",
   "metadata": {},
   "outputs": [],
   "source": [
    "# Removendo por chave\n",
    "dicionario = {\"a\": 1, \"b\": 2, \"c\": 3}\n",
    "del dicionario[\"b\"]\n",
    "print(dicionario) "
   ]
  },
  {
   "cell_type": "markdown",
   "id": "fa1f92e0-109e-4547-a6d1-12e1251bbf31",
   "metadata": {},
   "source": [
    "### Remoção em Sets\n",
    "Podemos remover elementos de um set de forma direta.\n"
   ]
  },
  {
   "cell_type": "code",
   "execution_count": null,
   "id": "90b9d5b5-3575-4175-add9-1690ad92ca7d",
   "metadata": {},
   "outputs": [],
   "source": [
    "# Removendo um elemento\n",
    "frutas = {\"maçã\", \"banana\", \"laranja\"}\n",
    "frutas.remove(\"banana\")\n",
    "print(frutas) "
   ]
  },
  {
   "cell_type": "markdown",
   "id": "eb729872-f769-433a-8605-1551ff9b141c",
   "metadata": {},
   "source": [
    "\n",
    "## Exercícios Práticos\n",
    "\n",
    "### Exercício 1: Listas Aninhadas\n",
    "Crie uma lista de listas que represente uma matriz 3x3 e acesse o elemento na posição [2][1].\n"
   ]
  },
  {
   "cell_type": "code",
   "execution_count": null,
   "id": "52d6ba09-6fcd-4588-a78c-778e99d360ac",
   "metadata": {},
   "outputs": [],
   "source": [
    "matriz = [\n",
    "    [1, 2, 3],\n",
    "    [4, 5, 6],\n",
    "    [7, 8, 9]\n",
    "]\n",
    "print(matriz[2][1])"
   ]
  },
  {
   "cell_type": "markdown",
   "id": "9b0cab8f-424a-4b8f-9879-66cbf029c2e6",
   "metadata": {},
   "source": [
    "### Exercício 2: Dicionários\n",
    "Crie um dicionário que armazene informações sobre um livro (título, autor, ano) e adicione uma nova chave \"gênero\".\n"
   ]
  },
  {
   "cell_type": "code",
   "execution_count": null,
   "id": "62e9692d-1345-4928-8a85-47e969884a0b",
   "metadata": {},
   "outputs": [],
   "source": [
    "livro = {\n",
    "    \"título\": \"1984\",\n",
    "    \"autor\": \"George Orwell\",\n",
    "    \"ano\": 1949\n",
    "}\n",
    "livro[\"gênero\"] = \"Ficção Distópica\"\n",
    "print(livro)"
   ]
  },
  {
   "cell_type": "markdown",
   "id": "4f8cb0b9-895e-4ed1-9f65-1be5f8a47064",
   "metadata": {},
   "source": [
    "### Exercício 3: Sets\n",
    "Crie dois sets com números de 1 a 5 e de 3 a 7. Calcule a união e a interseção entre eles."
   ]
  },
  {
   "cell_type": "code",
   "execution_count": null,
   "id": "1efa7b8a-d2f1-417c-8f6d-b7bff1d087d6",
   "metadata": {},
   "outputs": [],
   "source": [
    "set1 = {1, 2, 3, 4, 5}\n",
    "set2 = {3, 4, 5, 6, 7}\n",
    "\n",
    "uniao = set1.union(set2)\n",
    "print(\"União:\", uniao)\n",
    "\n",
    "intersecao = set1.intersection(set2)\n",
    "print(\"Interseção:\", intersecao)"
   ]
  },
  {
   "cell_type": "markdown",
   "id": "df1a7103-3db6-4d3b-82ea-1fef42a8e1c5",
   "metadata": {},
   "source": [
    "## Conclusão\n",
    "- **Listas** são ideais para sequências ordenadas de elementos.\n",
    "- **Dicionários** são perfeitos para armazenar dados estruturados com chaves únicas.\n",
    "- **Sets** são úteis para operações com coleções sem duplicatas e para verificar a existência de elementos de forma eficiente."
   ]
  },
  {
   "cell_type": "code",
   "execution_count": null,
   "id": "d682bffa-1ec8-47d0-9f9e-ef0c17f83743",
   "metadata": {},
   "outputs": [],
   "source": []
  }
 ],
 "metadata": {
  "kernelspec": {
   "display_name": "Python 3 (ipykernel)",
   "language": "python",
   "name": "python3"
  },
  "language_info": {
   "codemirror_mode": {
    "name": "ipython",
    "version": 3
   },
   "file_extension": ".py",
   "mimetype": "text/x-python",
   "name": "python",
   "nbconvert_exporter": "python",
   "pygments_lexer": "ipython3",
   "version": "3.11.7"
  }
 },
 "nbformat": 4,
 "nbformat_minor": 5
}
