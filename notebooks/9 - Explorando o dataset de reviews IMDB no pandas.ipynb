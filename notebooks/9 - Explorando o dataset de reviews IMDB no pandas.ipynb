{
 "cells": [
  {
   "cell_type": "markdown",
   "id": "483588c1",
   "metadata": {},
   "source": [
    "# Análise de Reviews de Filmes com Pandas\n",
    "\n",
    "Este notebook utiliza o dataset **IMDB Dataset of 50K Movie Reviews** para analisar e manipular reviews de filmes usando funções avançadas do Pandas.\n",
    "\n",
    "O objetivo é realizar transformações textuais, análises exploratórias e responder a diversas perguntas baseadas nos dados."
   ]
  },
  {
   "cell_type": "markdown",
   "id": "6a33e1dc",
   "metadata": {},
   "source": [
    "## Importando Bibliotecas e Carregando os Dados"
   ]
  },
  {
   "cell_type": "code",
   "execution_count": 8,
   "id": "8a607d3d",
   "metadata": {},
   "outputs": [
    {
     "data": {
      "text/html": [
       "<div>\n",
       "<style scoped>\n",
       "    .dataframe tbody tr th:only-of-type {\n",
       "        vertical-align: middle;\n",
       "    }\n",
       "\n",
       "    .dataframe tbody tr th {\n",
       "        vertical-align: top;\n",
       "    }\n",
       "\n",
       "    .dataframe thead th {\n",
       "        text-align: right;\n",
       "    }\n",
       "</style>\n",
       "<table border=\"1\" class=\"dataframe\">\n",
       "  <thead>\n",
       "    <tr style=\"text-align: right;\">\n",
       "      <th></th>\n",
       "      <th>review</th>\n",
       "      <th>sentiment</th>\n",
       "    </tr>\n",
       "  </thead>\n",
       "  <tbody>\n",
       "    <tr>\n",
       "      <th>0</th>\n",
       "      <td>One of the other reviewers has mentioned that ...</td>\n",
       "      <td>positive</td>\n",
       "    </tr>\n",
       "    <tr>\n",
       "      <th>1</th>\n",
       "      <td>A wonderful little production. &lt;br /&gt;&lt;br /&gt;The...</td>\n",
       "      <td>positive</td>\n",
       "    </tr>\n",
       "    <tr>\n",
       "      <th>2</th>\n",
       "      <td>I thought this was a wonderful way to spend ti...</td>\n",
       "      <td>positive</td>\n",
       "    </tr>\n",
       "    <tr>\n",
       "      <th>3</th>\n",
       "      <td>Basically there's a family where a little boy ...</td>\n",
       "      <td>negative</td>\n",
       "    </tr>\n",
       "    <tr>\n",
       "      <th>4</th>\n",
       "      <td>Petter Mattei's \"Love in the Time of Money\" is...</td>\n",
       "      <td>positive</td>\n",
       "    </tr>\n",
       "  </tbody>\n",
       "</table>\n",
       "</div>"
      ],
      "text/plain": [
       "                                              review sentiment\n",
       "0  One of the other reviewers has mentioned that ...  positive\n",
       "1  A wonderful little production. <br /><br />The...  positive\n",
       "2  I thought this was a wonderful way to spend ti...  positive\n",
       "3  Basically there's a family where a little boy ...  negative\n",
       "4  Petter Mattei's \"Love in the Time of Money\" is...  positive"
      ]
     },
     "execution_count": 8,
     "metadata": {},
     "output_type": "execute_result"
    }
   ],
   "source": [
    "import pandas as pd\n",
    "\n",
    "# Carregar os dados\n",
    "file_path = 'data/IMDB Dataset.csv'\n",
    "df = pd.read_csv(file_path)\n",
    "df.head()"
   ]
  },
  {
   "cell_type": "code",
   "execution_count": 9,
   "id": "cb1ab60a-9e36-43e7-9c8e-06d74d788435",
   "metadata": {},
   "outputs": [
    {
     "data": {
      "text/plain": [
       "\"One of the other reviewers has mentioned that after watching just 1 Oz episode you'll be hooked. They are right, as this is exactly what happened with me.<br /><br />The first thing that struck me about Oz was its brutality and unflinching scenes of violence, which set in right from the word GO. Trust me, this is not a show for the faint hearted or timid. This show pulls no punches with regards to drugs, sex or violence. Its is hardcore, in the classic use of the word.<br /><br />It is called OZ as that is the nickname given to the Oswald Maximum Security State Penitentary. It focuses mainly on Emerald City, an experimental section of the prison where all the cells have glass fronts and face inwards, so privacy is not high on the agenda. Em City is home to many..Aryans, Muslims, gangstas, Latinos, Christians, Italians, Irish and more....so scuffles, death stares, dodgy dealings and shady agreements are never far away.<br /><br />I would say the main appeal of the show is due to the fact that it goes where other shows wouldn't dare. Forget pretty pictures painted for mainstream audiences, forget charm, forget romance...OZ doesn't mess around. The first episode I ever saw struck me as so nasty it was surreal, I couldn't say I was ready for it, but as I watched more, I developed a taste for Oz, and got accustomed to the high levels of graphic violence. Not just violence, but injustice (crooked guards who'll be sold out for a nickel, inmates who'll kill on order and get away with it, well mannered, middle class inmates being turned into prison bitches due to their lack of street skills or prison experience) Watching Oz, you may become comfortable with what is uncomfortable viewing....thats if you can get in touch with your darker side.\""
      ]
     },
     "execution_count": 9,
     "metadata": {},
     "output_type": "execute_result"
    }
   ],
   "source": [
    "df['review'][0]"
   ]
  },
  {
   "cell_type": "markdown",
   "id": "2d663700",
   "metadata": {},
   "source": [
    "## Exploração Inicial dos Dados"
   ]
  },
  {
   "cell_type": "code",
   "execution_count": 10,
   "id": "a5aaa68f-c595-46a9-9959-5b82337bd392",
   "metadata": {},
   "outputs": [
    {
     "name": "stdout",
     "output_type": "stream",
     "text": [
      "<class 'pandas.core.frame.DataFrame'>\n",
      "RangeIndex: 50000 entries, 0 to 49999\n",
      "Data columns (total 2 columns):\n",
      " #   Column     Non-Null Count  Dtype \n",
      "---  ------     --------------  ----- \n",
      " 0   review     50000 non-null  object\n",
      " 1   sentiment  50000 non-null  object\n",
      "dtypes: object(2)\n",
      "memory usage: 781.4+ KB\n"
     ]
    }
   ],
   "source": [
    "df.info()"
   ]
  },
  {
   "cell_type": "code",
   "execution_count": 11,
   "id": "ce39ef40-e2fc-4286-ac6f-10bc3d51e6d5",
   "metadata": {},
   "outputs": [
    {
     "data": {
      "text/html": [
       "<div>\n",
       "<style scoped>\n",
       "    .dataframe tbody tr th:only-of-type {\n",
       "        vertical-align: middle;\n",
       "    }\n",
       "\n",
       "    .dataframe tbody tr th {\n",
       "        vertical-align: top;\n",
       "    }\n",
       "\n",
       "    .dataframe thead th {\n",
       "        text-align: right;\n",
       "    }\n",
       "</style>\n",
       "<table border=\"1\" class=\"dataframe\">\n",
       "  <thead>\n",
       "    <tr style=\"text-align: right;\">\n",
       "      <th></th>\n",
       "      <th>review</th>\n",
       "      <th>sentiment</th>\n",
       "    </tr>\n",
       "  </thead>\n",
       "  <tbody>\n",
       "    <tr>\n",
       "      <th>count</th>\n",
       "      <td>50000</td>\n",
       "      <td>50000</td>\n",
       "    </tr>\n",
       "    <tr>\n",
       "      <th>unique</th>\n",
       "      <td>49582</td>\n",
       "      <td>2</td>\n",
       "    </tr>\n",
       "    <tr>\n",
       "      <th>top</th>\n",
       "      <td>Loved today's show!!! It was a variety and not...</td>\n",
       "      <td>positive</td>\n",
       "    </tr>\n",
       "    <tr>\n",
       "      <th>freq</th>\n",
       "      <td>5</td>\n",
       "      <td>25000</td>\n",
       "    </tr>\n",
       "  </tbody>\n",
       "</table>\n",
       "</div>"
      ],
      "text/plain": [
       "                                                   review sentiment\n",
       "count                                               50000     50000\n",
       "unique                                              49582         2\n",
       "top     Loved today's show!!! It was a variety and not...  positive\n",
       "freq                                                    5     25000"
      ]
     },
     "execution_count": 11,
     "metadata": {},
     "output_type": "execute_result"
    }
   ],
   "source": [
    "df.describe()"
   ]
  },
  {
   "cell_type": "markdown",
   "id": "fcf3738b",
   "metadata": {},
   "source": [
    "### Qual a distribuição das classes de sentimento?"
   ]
  },
  {
   "cell_type": "code",
   "execution_count": 12,
   "id": "bf4f41dc",
   "metadata": {},
   "outputs": [
    {
     "data": {
      "text/plain": [
       "sentiment\n",
       "positive    25000\n",
       "negative    25000\n",
       "Name: count, dtype: int64"
      ]
     },
     "execution_count": 12,
     "metadata": {},
     "output_type": "execute_result"
    }
   ],
   "source": [
    "df['sentiment'].value_counts()"
   ]
  },
  {
   "cell_type": "markdown",
   "id": "152c7bba",
   "metadata": {},
   "source": [
    "## Limpeza e Transformação de Dados"
   ]
  },
  {
   "cell_type": "markdown",
   "id": "2cc20898",
   "metadata": {},
   "source": [
    "### Criar uma nova coluna com o comprimento de cada review"
   ]
  },
  {
   "cell_type": "code",
   "execution_count": 13,
   "id": "27b28531",
   "metadata": {},
   "outputs": [
    {
     "data": {
      "text/html": [
       "<div>\n",
       "<style scoped>\n",
       "    .dataframe tbody tr th:only-of-type {\n",
       "        vertical-align: middle;\n",
       "    }\n",
       "\n",
       "    .dataframe tbody tr th {\n",
       "        vertical-align: top;\n",
       "    }\n",
       "\n",
       "    .dataframe thead th {\n",
       "        text-align: right;\n",
       "    }\n",
       "</style>\n",
       "<table border=\"1\" class=\"dataframe\">\n",
       "  <thead>\n",
       "    <tr style=\"text-align: right;\">\n",
       "      <th></th>\n",
       "      <th>review</th>\n",
       "      <th>review_length</th>\n",
       "    </tr>\n",
       "  </thead>\n",
       "  <tbody>\n",
       "    <tr>\n",
       "      <th>0</th>\n",
       "      <td>One of the other reviewers has mentioned that ...</td>\n",
       "      <td>1761</td>\n",
       "    </tr>\n",
       "    <tr>\n",
       "      <th>1</th>\n",
       "      <td>A wonderful little production. &lt;br /&gt;&lt;br /&gt;The...</td>\n",
       "      <td>998</td>\n",
       "    </tr>\n",
       "    <tr>\n",
       "      <th>2</th>\n",
       "      <td>I thought this was a wonderful way to spend ti...</td>\n",
       "      <td>926</td>\n",
       "    </tr>\n",
       "    <tr>\n",
       "      <th>3</th>\n",
       "      <td>Basically there's a family where a little boy ...</td>\n",
       "      <td>748</td>\n",
       "    </tr>\n",
       "    <tr>\n",
       "      <th>4</th>\n",
       "      <td>Petter Mattei's \"Love in the Time of Money\" is...</td>\n",
       "      <td>1317</td>\n",
       "    </tr>\n",
       "  </tbody>\n",
       "</table>\n",
       "</div>"
      ],
      "text/plain": [
       "                                              review  review_length\n",
       "0  One of the other reviewers has mentioned that ...           1761\n",
       "1  A wonderful little production. <br /><br />The...            998\n",
       "2  I thought this was a wonderful way to spend ti...            926\n",
       "3  Basically there's a family where a little boy ...            748\n",
       "4  Petter Mattei's \"Love in the Time of Money\" is...           1317"
      ]
     },
     "execution_count": 13,
     "metadata": {},
     "output_type": "execute_result"
    }
   ],
   "source": [
    "df['review_length'] = df['review'].str.len()\n",
    "df[['review', 'review_length']].head()"
   ]
  },
  {
   "cell_type": "markdown",
   "id": "2ecfca38",
   "metadata": {},
   "source": [
    "### Converter todas as reviews para minúsculas"
   ]
  },
  {
   "cell_type": "code",
   "execution_count": 14,
   "id": "ed1e0b82",
   "metadata": {},
   "outputs": [
    {
     "data": {
      "text/html": [
       "<div>\n",
       "<style scoped>\n",
       "    .dataframe tbody tr th:only-of-type {\n",
       "        vertical-align: middle;\n",
       "    }\n",
       "\n",
       "    .dataframe tbody tr th {\n",
       "        vertical-align: top;\n",
       "    }\n",
       "\n",
       "    .dataframe thead th {\n",
       "        text-align: right;\n",
       "    }\n",
       "</style>\n",
       "<table border=\"1\" class=\"dataframe\">\n",
       "  <thead>\n",
       "    <tr style=\"text-align: right;\">\n",
       "      <th></th>\n",
       "      <th>review</th>\n",
       "      <th>review_lower</th>\n",
       "    </tr>\n",
       "  </thead>\n",
       "  <tbody>\n",
       "    <tr>\n",
       "      <th>0</th>\n",
       "      <td>One of the other reviewers has mentioned that ...</td>\n",
       "      <td>one of the other reviewers has mentioned that ...</td>\n",
       "    </tr>\n",
       "    <tr>\n",
       "      <th>1</th>\n",
       "      <td>A wonderful little production. &lt;br /&gt;&lt;br /&gt;The...</td>\n",
       "      <td>a wonderful little production. &lt;br /&gt;&lt;br /&gt;the...</td>\n",
       "    </tr>\n",
       "    <tr>\n",
       "      <th>2</th>\n",
       "      <td>I thought this was a wonderful way to spend ti...</td>\n",
       "      <td>i thought this was a wonderful way to spend ti...</td>\n",
       "    </tr>\n",
       "    <tr>\n",
       "      <th>3</th>\n",
       "      <td>Basically there's a family where a little boy ...</td>\n",
       "      <td>basically there's a family where a little boy ...</td>\n",
       "    </tr>\n",
       "    <tr>\n",
       "      <th>4</th>\n",
       "      <td>Petter Mattei's \"Love in the Time of Money\" is...</td>\n",
       "      <td>petter mattei's \"love in the time of money\" is...</td>\n",
       "    </tr>\n",
       "  </tbody>\n",
       "</table>\n",
       "</div>"
      ],
      "text/plain": [
       "                                              review  \\\n",
       "0  One of the other reviewers has mentioned that ...   \n",
       "1  A wonderful little production. <br /><br />The...   \n",
       "2  I thought this was a wonderful way to spend ti...   \n",
       "3  Basically there's a family where a little boy ...   \n",
       "4  Petter Mattei's \"Love in the Time of Money\" is...   \n",
       "\n",
       "                                        review_lower  \n",
       "0  one of the other reviewers has mentioned that ...  \n",
       "1  a wonderful little production. <br /><br />the...  \n",
       "2  i thought this was a wonderful way to spend ti...  \n",
       "3  basically there's a family where a little boy ...  \n",
       "4  petter mattei's \"love in the time of money\" is...  "
      ]
     },
     "execution_count": 14,
     "metadata": {},
     "output_type": "execute_result"
    }
   ],
   "source": [
    "df['review_lower'] = df['review'].str.lower()\n",
    "df[['review', 'review_lower']].head()"
   ]
  },
  {
   "cell_type": "markdown",
   "id": "25f14e5e",
   "metadata": {},
   "source": [
    "### Criar uma nova coluna indicando se a review contém a palavra 'amazing'"
   ]
  },
  {
   "cell_type": "code",
   "execution_count": 15,
   "id": "89934ca7",
   "metadata": {},
   "outputs": [
    {
     "data": {
      "text/html": [
       "<div>\n",
       "<style scoped>\n",
       "    .dataframe tbody tr th:only-of-type {\n",
       "        vertical-align: middle;\n",
       "    }\n",
       "\n",
       "    .dataframe tbody tr th {\n",
       "        vertical-align: top;\n",
       "    }\n",
       "\n",
       "    .dataframe thead th {\n",
       "        text-align: right;\n",
       "    }\n",
       "</style>\n",
       "<table border=\"1\" class=\"dataframe\">\n",
       "  <thead>\n",
       "    <tr style=\"text-align: right;\">\n",
       "      <th></th>\n",
       "      <th>review</th>\n",
       "      <th>contains_amazing</th>\n",
       "    </tr>\n",
       "  </thead>\n",
       "  <tbody>\n",
       "    <tr>\n",
       "      <th>0</th>\n",
       "      <td>One of the other reviewers has mentioned that ...</td>\n",
       "      <td>False</td>\n",
       "    </tr>\n",
       "    <tr>\n",
       "      <th>1</th>\n",
       "      <td>A wonderful little production. &lt;br /&gt;&lt;br /&gt;The...</td>\n",
       "      <td>False</td>\n",
       "    </tr>\n",
       "    <tr>\n",
       "      <th>2</th>\n",
       "      <td>I thought this was a wonderful way to spend ti...</td>\n",
       "      <td>False</td>\n",
       "    </tr>\n",
       "    <tr>\n",
       "      <th>3</th>\n",
       "      <td>Basically there's a family where a little boy ...</td>\n",
       "      <td>False</td>\n",
       "    </tr>\n",
       "    <tr>\n",
       "      <th>4</th>\n",
       "      <td>Petter Mattei's \"Love in the Time of Money\" is...</td>\n",
       "      <td>False</td>\n",
       "    </tr>\n",
       "  </tbody>\n",
       "</table>\n",
       "</div>"
      ],
      "text/plain": [
       "                                              review  contains_amazing\n",
       "0  One of the other reviewers has mentioned that ...             False\n",
       "1  A wonderful little production. <br /><br />The...             False\n",
       "2  I thought this was a wonderful way to spend ti...             False\n",
       "3  Basically there's a family where a little boy ...             False\n",
       "4  Petter Mattei's \"Love in the Time of Money\" is...             False"
      ]
     },
     "execution_count": 15,
     "metadata": {},
     "output_type": "execute_result"
    }
   ],
   "source": [
    "df['contains_amazing'] = df['review'].str.contains('amazing', case=False)\n",
    "df[['review', 'contains_amazing']].head()"
   ]
  },
  {
   "cell_type": "code",
   "execution_count": 16,
   "id": "09b7a812-6496-4c46-a149-45f4e4f658f3",
   "metadata": {},
   "outputs": [
    {
     "data": {
      "text/plain": [
       "contains_amazing\n",
       "False    47521\n",
       "True      2479\n",
       "Name: count, dtype: int64"
      ]
     },
     "execution_count": 16,
     "metadata": {},
     "output_type": "execute_result"
    }
   ],
   "source": [
    "df['contains_amazing'].value_counts()"
   ]
  },
  {
   "cell_type": "markdown",
   "id": "3fd35dcd",
   "metadata": {},
   "source": [
    "### Filtrar reviews que mencionam 'bad'"
   ]
  },
  {
   "cell_type": "code",
   "execution_count": 17,
   "id": "6c1eb4fe",
   "metadata": {},
   "outputs": [
    {
     "name": "stdout",
     "output_type": "stream",
     "text": [
      "0.25408\n"
     ]
    },
    {
     "data": {
      "text/html": [
       "<div>\n",
       "<style scoped>\n",
       "    .dataframe tbody tr th:only-of-type {\n",
       "        vertical-align: middle;\n",
       "    }\n",
       "\n",
       "    .dataframe tbody tr th {\n",
       "        vertical-align: top;\n",
       "    }\n",
       "\n",
       "    .dataframe thead th {\n",
       "        text-align: right;\n",
       "    }\n",
       "</style>\n",
       "<table border=\"1\" class=\"dataframe\">\n",
       "  <thead>\n",
       "    <tr style=\"text-align: right;\">\n",
       "      <th></th>\n",
       "      <th>review</th>\n",
       "      <th>sentiment</th>\n",
       "      <th>review_length</th>\n",
       "      <th>review_lower</th>\n",
       "      <th>contains_amazing</th>\n",
       "    </tr>\n",
       "  </thead>\n",
       "  <tbody>\n",
       "    <tr>\n",
       "      <th>7</th>\n",
       "      <td>This show was an amazing, fresh &amp; innovative i...</td>\n",
       "      <td>negative</td>\n",
       "      <td>934</td>\n",
       "      <td>this show was an amazing, fresh &amp; innovative i...</td>\n",
       "      <td>True</td>\n",
       "    </tr>\n",
       "    <tr>\n",
       "      <th>8</th>\n",
       "      <td>Encouraged by the positive comments about this...</td>\n",
       "      <td>negative</td>\n",
       "      <td>681</td>\n",
       "      <td>encouraged by the positive comments about this...</td>\n",
       "      <td>False</td>\n",
       "    </tr>\n",
       "    <tr>\n",
       "      <th>12</th>\n",
       "      <td>So im not a big fan of Boll's work but then ag...</td>\n",
       "      <td>negative</td>\n",
       "      <td>2227</td>\n",
       "      <td>so im not a big fan of boll's work but then ag...</td>\n",
       "      <td>False</td>\n",
       "    </tr>\n",
       "    <tr>\n",
       "      <th>14</th>\n",
       "      <td>This a fantastic movie of three prisoners who ...</td>\n",
       "      <td>positive</td>\n",
       "      <td>275</td>\n",
       "      <td>this a fantastic movie of three prisoners who ...</td>\n",
       "      <td>False</td>\n",
       "    </tr>\n",
       "    <tr>\n",
       "      <th>15</th>\n",
       "      <td>Kind of drawn in by the erotic scenes, only to...</td>\n",
       "      <td>negative</td>\n",
       "      <td>830</td>\n",
       "      <td>kind of drawn in by the erotic scenes, only to...</td>\n",
       "      <td>False</td>\n",
       "    </tr>\n",
       "  </tbody>\n",
       "</table>\n",
       "</div>"
      ],
      "text/plain": [
       "                                               review sentiment  \\\n",
       "7   This show was an amazing, fresh & innovative i...  negative   \n",
       "8   Encouraged by the positive comments about this...  negative   \n",
       "12  So im not a big fan of Boll's work but then ag...  negative   \n",
       "14  This a fantastic movie of three prisoners who ...  positive   \n",
       "15  Kind of drawn in by the erotic scenes, only to...  negative   \n",
       "\n",
       "    review_length                                       review_lower  \\\n",
       "7             934  this show was an amazing, fresh & innovative i...   \n",
       "8             681  encouraged by the positive comments about this...   \n",
       "12           2227  so im not a big fan of boll's work but then ag...   \n",
       "14            275  this a fantastic movie of three prisoners who ...   \n",
       "15            830  kind of drawn in by the erotic scenes, only to...   \n",
       "\n",
       "    contains_amazing  \n",
       "7               True  \n",
       "8              False  \n",
       "12             False  \n",
       "14             False  \n",
       "15             False  "
      ]
     },
     "execution_count": 17,
     "metadata": {},
     "output_type": "execute_result"
    }
   ],
   "source": [
    "df_bad = df[df['review'].str.contains('bad', case=False)]\n",
    "print(len(df_bad) / len(df) )\n",
    "df_bad.head()"
   ]
  },
  {
   "cell_type": "markdown",
   "id": "326162c9",
   "metadata": {},
   "source": [
    "### Criar uma coluna categorizando as reviews pelo tamanho\n",
    "- Curta: até 500 caracteres\n",
    "- Média: de 500 a 1000 caracteres\n",
    "- Longa: mais de 1000 caracteres "
   ]
  },
  {
   "cell_type": "code",
   "execution_count": 18,
   "id": "95e08cd3",
   "metadata": {},
   "outputs": [
    {
     "data": {
      "text/html": [
       "<div>\n",
       "<style scoped>\n",
       "    .dataframe tbody tr th:only-of-type {\n",
       "        vertical-align: middle;\n",
       "    }\n",
       "\n",
       "    .dataframe tbody tr th {\n",
       "        vertical-align: top;\n",
       "    }\n",
       "\n",
       "    .dataframe thead th {\n",
       "        text-align: right;\n",
       "    }\n",
       "</style>\n",
       "<table border=\"1\" class=\"dataframe\">\n",
       "  <thead>\n",
       "    <tr style=\"text-align: right;\">\n",
       "      <th></th>\n",
       "      <th>review_length</th>\n",
       "      <th>review_category</th>\n",
       "    </tr>\n",
       "  </thead>\n",
       "  <tbody>\n",
       "    <tr>\n",
       "      <th>0</th>\n",
       "      <td>1761</td>\n",
       "      <td>Longa</td>\n",
       "    </tr>\n",
       "    <tr>\n",
       "      <th>1</th>\n",
       "      <td>998</td>\n",
       "      <td>Média</td>\n",
       "    </tr>\n",
       "    <tr>\n",
       "      <th>2</th>\n",
       "      <td>926</td>\n",
       "      <td>Média</td>\n",
       "    </tr>\n",
       "    <tr>\n",
       "      <th>3</th>\n",
       "      <td>748</td>\n",
       "      <td>Média</td>\n",
       "    </tr>\n",
       "    <tr>\n",
       "      <th>4</th>\n",
       "      <td>1317</td>\n",
       "      <td>Longa</td>\n",
       "    </tr>\n",
       "  </tbody>\n",
       "</table>\n",
       "</div>"
      ],
      "text/plain": [
       "   review_length review_category\n",
       "0           1761           Longa\n",
       "1            998           Média\n",
       "2            926           Média\n",
       "3            748           Média\n",
       "4           1317           Longa"
      ]
     },
     "execution_count": 18,
     "metadata": {},
     "output_type": "execute_result"
    }
   ],
   "source": [
    "df['review_category'] = pd.cut(df['review_length'], bins=[0, 500, 1000, float('inf')], labels=['Curta', 'Média', 'Longa'])\n",
    "# df['review_category'] = pd.cut(df['review_length'], bins=3, labels=['Curta', 'Média', 'Longa'])\n",
    "df[['review_length', 'review_category']].head()"
   ]
  },
  {
   "cell_type": "code",
   "execution_count": 19,
   "id": "5563b5fa-e9c3-4d9e-9b59-aade535e6edb",
   "metadata": {},
   "outputs": [
    {
     "data": {
      "text/plain": [
       "review_category\n",
       "Longa    24001\n",
       "Média    21016\n",
       "Curta     4983\n",
       "Name: count, dtype: int64"
      ]
     },
     "execution_count": 19,
     "metadata": {},
     "output_type": "execute_result"
    }
   ],
   "source": [
    "df['review_category'].value_counts()"
   ]
  },
  {
   "cell_type": "markdown",
   "id": "3e81ea72",
   "metadata": {},
   "source": [
    "## Questões"
   ]
  },
  {
   "cell_type": "markdown",
   "id": "24b354c0",
   "metadata": {},
   "source": [
    "### Quais reviews têm mais de 1000 caracteres?"
   ]
  },
  {
   "cell_type": "code",
   "execution_count": 20,
   "id": "cb4b47b7",
   "metadata": {},
   "outputs": [
    {
     "data": {
      "text/html": [
       "<div>\n",
       "<style scoped>\n",
       "    .dataframe tbody tr th:only-of-type {\n",
       "        vertical-align: middle;\n",
       "    }\n",
       "\n",
       "    .dataframe tbody tr th {\n",
       "        vertical-align: top;\n",
       "    }\n",
       "\n",
       "    .dataframe thead th {\n",
       "        text-align: right;\n",
       "    }\n",
       "</style>\n",
       "<table border=\"1\" class=\"dataframe\">\n",
       "  <thead>\n",
       "    <tr style=\"text-align: right;\">\n",
       "      <th></th>\n",
       "      <th>review</th>\n",
       "      <th>sentiment</th>\n",
       "      <th>review_length</th>\n",
       "      <th>review_lower</th>\n",
       "      <th>contains_amazing</th>\n",
       "      <th>review_category</th>\n",
       "    </tr>\n",
       "  </thead>\n",
       "  <tbody>\n",
       "    <tr>\n",
       "      <th>0</th>\n",
       "      <td>One of the other reviewers has mentioned that ...</td>\n",
       "      <td>positive</td>\n",
       "      <td>1761</td>\n",
       "      <td>one of the other reviewers has mentioned that ...</td>\n",
       "      <td>False</td>\n",
       "      <td>Longa</td>\n",
       "    </tr>\n",
       "    <tr>\n",
       "      <th>4</th>\n",
       "      <td>Petter Mattei's \"Love in the Time of Money\" is...</td>\n",
       "      <td>positive</td>\n",
       "      <td>1317</td>\n",
       "      <td>petter mattei's \"love in the time of money\" is...</td>\n",
       "      <td>False</td>\n",
       "      <td>Longa</td>\n",
       "    </tr>\n",
       "    <tr>\n",
       "      <th>12</th>\n",
       "      <td>So im not a big fan of Boll's work but then ag...</td>\n",
       "      <td>negative</td>\n",
       "      <td>2227</td>\n",
       "      <td>so im not a big fan of boll's work but then ag...</td>\n",
       "      <td>False</td>\n",
       "      <td>Longa</td>\n",
       "    </tr>\n",
       "    <tr>\n",
       "      <th>17</th>\n",
       "      <td>This movie made it into one of my top 10 most ...</td>\n",
       "      <td>negative</td>\n",
       "      <td>1322</td>\n",
       "      <td>this movie made it into one of my top 10 most ...</td>\n",
       "      <td>False</td>\n",
       "      <td>Longa</td>\n",
       "    </tr>\n",
       "    <tr>\n",
       "      <th>20</th>\n",
       "      <td>After the success of Die Hard and it's sequels...</td>\n",
       "      <td>positive</td>\n",
       "      <td>1813</td>\n",
       "      <td>after the success of die hard and it's sequels...</td>\n",
       "      <td>False</td>\n",
       "      <td>Longa</td>\n",
       "    </tr>\n",
       "    <tr>\n",
       "      <th>...</th>\n",
       "      <td>...</td>\n",
       "      <td>...</td>\n",
       "      <td>...</td>\n",
       "      <td>...</td>\n",
       "      <td>...</td>\n",
       "      <td>...</td>\n",
       "    </tr>\n",
       "    <tr>\n",
       "      <th>49991</th>\n",
       "      <td>Les Visiteurs, the first movie about the medie...</td>\n",
       "      <td>negative</td>\n",
       "      <td>1498</td>\n",
       "      <td>les visiteurs, the first movie about the medie...</td>\n",
       "      <td>False</td>\n",
       "      <td>Longa</td>\n",
       "    </tr>\n",
       "    <tr>\n",
       "      <th>49993</th>\n",
       "      <td>Robert Colomb has two full-time jobs. He's kno...</td>\n",
       "      <td>negative</td>\n",
       "      <td>2717</td>\n",
       "      <td>robert colomb has two full-time jobs. he's kno...</td>\n",
       "      <td>False</td>\n",
       "      <td>Longa</td>\n",
       "    </tr>\n",
       "    <tr>\n",
       "      <th>49995</th>\n",
       "      <td>I thought this movie did a down right good job...</td>\n",
       "      <td>positive</td>\n",
       "      <td>1008</td>\n",
       "      <td>i thought this movie did a down right good job...</td>\n",
       "      <td>False</td>\n",
       "      <td>Longa</td>\n",
       "    </tr>\n",
       "    <tr>\n",
       "      <th>49997</th>\n",
       "      <td>I am a Catholic taught in parochial elementary...</td>\n",
       "      <td>negative</td>\n",
       "      <td>1280</td>\n",
       "      <td>i am a catholic taught in parochial elementary...</td>\n",
       "      <td>False</td>\n",
       "      <td>Longa</td>\n",
       "    </tr>\n",
       "    <tr>\n",
       "      <th>49998</th>\n",
       "      <td>I'm going to have to disagree with the previou...</td>\n",
       "      <td>negative</td>\n",
       "      <td>1234</td>\n",
       "      <td>i'm going to have to disagree with the previou...</td>\n",
       "      <td>False</td>\n",
       "      <td>Longa</td>\n",
       "    </tr>\n",
       "  </tbody>\n",
       "</table>\n",
       "<p>24001 rows × 6 columns</p>\n",
       "</div>"
      ],
      "text/plain": [
       "                                                  review sentiment  \\\n",
       "0      One of the other reviewers has mentioned that ...  positive   \n",
       "4      Petter Mattei's \"Love in the Time of Money\" is...  positive   \n",
       "12     So im not a big fan of Boll's work but then ag...  negative   \n",
       "17     This movie made it into one of my top 10 most ...  negative   \n",
       "20     After the success of Die Hard and it's sequels...  positive   \n",
       "...                                                  ...       ...   \n",
       "49991  Les Visiteurs, the first movie about the medie...  negative   \n",
       "49993  Robert Colomb has two full-time jobs. He's kno...  negative   \n",
       "49995  I thought this movie did a down right good job...  positive   \n",
       "49997  I am a Catholic taught in parochial elementary...  negative   \n",
       "49998  I'm going to have to disagree with the previou...  negative   \n",
       "\n",
       "       review_length                                       review_lower  \\\n",
       "0               1761  one of the other reviewers has mentioned that ...   \n",
       "4               1317  petter mattei's \"love in the time of money\" is...   \n",
       "12              2227  so im not a big fan of boll's work but then ag...   \n",
       "17              1322  this movie made it into one of my top 10 most ...   \n",
       "20              1813  after the success of die hard and it's sequels...   \n",
       "...              ...                                                ...   \n",
       "49991           1498  les visiteurs, the first movie about the medie...   \n",
       "49993           2717  robert colomb has two full-time jobs. he's kno...   \n",
       "49995           1008  i thought this movie did a down right good job...   \n",
       "49997           1280  i am a catholic taught in parochial elementary...   \n",
       "49998           1234  i'm going to have to disagree with the previou...   \n",
       "\n",
       "       contains_amazing review_category  \n",
       "0                 False           Longa  \n",
       "4                 False           Longa  \n",
       "12                False           Longa  \n",
       "17                False           Longa  \n",
       "20                False           Longa  \n",
       "...                 ...             ...  \n",
       "49991             False           Longa  \n",
       "49993             False           Longa  \n",
       "49995             False           Longa  \n",
       "49997             False           Longa  \n",
       "49998             False           Longa  \n",
       "\n",
       "[24001 rows x 6 columns]"
      ]
     },
     "execution_count": 20,
     "metadata": {},
     "output_type": "execute_result"
    }
   ],
   "source": [
    "df[ df['review_length'] > 1000 ]"
   ]
  },
  {
   "cell_type": "markdown",
   "id": "000524ec",
   "metadata": {},
   "source": [
    "### Quantas reviews contêm a palavra 'excellent'?"
   ]
  },
  {
   "cell_type": "code",
   "execution_count": 21,
   "id": "98dfbc55",
   "metadata": {},
   "outputs": [
    {
     "data": {
      "text/plain": [
       "3625"
      ]
     },
     "execution_count": 21,
     "metadata": {},
     "output_type": "execute_result"
    }
   ],
   "source": [
    "len(df[ df['review'].str.contains('excellent', case=False) ])"
   ]
  },
  {
   "cell_type": "markdown",
   "id": "720a5d73",
   "metadata": {},
   "source": [
    "### Qual a média de comprimento das reviews positivas e negativas?"
   ]
  },
  {
   "cell_type": "code",
   "execution_count": 22,
   "id": "55352e7f",
   "metadata": {},
   "outputs": [
    {
     "data": {
      "text/plain": [
       "sentiment\n",
       "negative    1294.06436\n",
       "positive    1324.79768\n",
       "Name: review_length, dtype: float64"
      ]
     },
     "execution_count": 22,
     "metadata": {},
     "output_type": "execute_result"
    }
   ],
   "source": [
    "df.groupby('sentiment')['review_length'].mean()"
   ]
  },
  {
   "cell_type": "markdown",
   "id": "52a97979",
   "metadata": {},
   "source": [
    "### Filtre apenas as reviews negativas que mencionam 'boring'"
   ]
  },
  {
   "cell_type": "code",
   "execution_count": 23,
   "id": "7c17392c",
   "metadata": {},
   "outputs": [
    {
     "data": {
      "text/html": [
       "<div>\n",
       "<style scoped>\n",
       "    .dataframe tbody tr th:only-of-type {\n",
       "        vertical-align: middle;\n",
       "    }\n",
       "\n",
       "    .dataframe tbody tr th {\n",
       "        vertical-align: top;\n",
       "    }\n",
       "\n",
       "    .dataframe thead th {\n",
       "        text-align: right;\n",
       "    }\n",
       "</style>\n",
       "<table border=\"1\" class=\"dataframe\">\n",
       "  <thead>\n",
       "    <tr style=\"text-align: right;\">\n",
       "      <th></th>\n",
       "      <th>review</th>\n",
       "      <th>sentiment</th>\n",
       "      <th>review_length</th>\n",
       "      <th>review_lower</th>\n",
       "      <th>contains_amazing</th>\n",
       "      <th>review_category</th>\n",
       "    </tr>\n",
       "  </thead>\n",
       "  <tbody>\n",
       "    <tr>\n",
       "      <th>8</th>\n",
       "      <td>Encouraged by the positive comments about this...</td>\n",
       "      <td>negative</td>\n",
       "      <td>681</td>\n",
       "      <td>encouraged by the positive comments about this...</td>\n",
       "      <td>False</td>\n",
       "      <td>Média</td>\n",
       "    </tr>\n",
       "    <tr>\n",
       "      <th>23</th>\n",
       "      <td>First of all, let's get a few things straight ...</td>\n",
       "      <td>negative</td>\n",
       "      <td>1767</td>\n",
       "      <td>first of all, let's get a few things straight ...</td>\n",
       "      <td>False</td>\n",
       "      <td>Longa</td>\n",
       "    </tr>\n",
       "    <tr>\n",
       "      <th>34</th>\n",
       "      <td>I watched this film not really expecting much,...</td>\n",
       "      <td>negative</td>\n",
       "      <td>1300</td>\n",
       "      <td>i watched this film not really expecting much,...</td>\n",
       "      <td>False</td>\n",
       "      <td>Longa</td>\n",
       "    </tr>\n",
       "    <tr>\n",
       "      <th>63</th>\n",
       "      <td>Besides being boring, the scenes were oppressi...</td>\n",
       "      <td>negative</td>\n",
       "      <td>267</td>\n",
       "      <td>besides being boring, the scenes were oppressi...</td>\n",
       "      <td>False</td>\n",
       "      <td>Curta</td>\n",
       "    </tr>\n",
       "    <tr>\n",
       "      <th>97</th>\n",
       "      <td>Well, I like to watch bad horror B-Movies, cau...</td>\n",
       "      <td>negative</td>\n",
       "      <td>758</td>\n",
       "      <td>well, i like to watch bad horror b-movies, cau...</td>\n",
       "      <td>False</td>\n",
       "      <td>Média</td>\n",
       "    </tr>\n",
       "    <tr>\n",
       "      <th>...</th>\n",
       "      <td>...</td>\n",
       "      <td>...</td>\n",
       "      <td>...</td>\n",
       "      <td>...</td>\n",
       "      <td>...</td>\n",
       "      <td>...</td>\n",
       "    </tr>\n",
       "    <tr>\n",
       "      <th>49913</th>\n",
       "      <td>Why does this movie fall WELL below standards?...</td>\n",
       "      <td>negative</td>\n",
       "      <td>1438</td>\n",
       "      <td>why does this movie fall well below standards?...</td>\n",
       "      <td>False</td>\n",
       "      <td>Longa</td>\n",
       "    </tr>\n",
       "    <tr>\n",
       "      <th>49939</th>\n",
       "      <td>Depending entirely on your own personal state ...</td>\n",
       "      <td>negative</td>\n",
       "      <td>1927</td>\n",
       "      <td>depending entirely on your own personal state ...</td>\n",
       "      <td>False</td>\n",
       "      <td>Longa</td>\n",
       "    </tr>\n",
       "    <tr>\n",
       "      <th>49946</th>\n",
       "      <td>One of the greatest lessons I ever had in how ...</td>\n",
       "      <td>negative</td>\n",
       "      <td>2901</td>\n",
       "      <td>one of the greatest lessons i ever had in how ...</td>\n",
       "      <td>False</td>\n",
       "      <td>Longa</td>\n",
       "    </tr>\n",
       "    <tr>\n",
       "      <th>49948</th>\n",
       "      <td>It is the early morning of our discontent, and...</td>\n",
       "      <td>negative</td>\n",
       "      <td>5847</td>\n",
       "      <td>it is the early morning of our discontent, and...</td>\n",
       "      <td>False</td>\n",
       "      <td>Longa</td>\n",
       "    </tr>\n",
       "    <tr>\n",
       "      <th>49994</th>\n",
       "      <td>This is your typical junk comedy.&lt;br /&gt;&lt;br /&gt;T...</td>\n",
       "      <td>negative</td>\n",
       "      <td>759</td>\n",
       "      <td>this is your typical junk comedy.&lt;br /&gt;&lt;br /&gt;t...</td>\n",
       "      <td>False</td>\n",
       "      <td>Média</td>\n",
       "    </tr>\n",
       "  </tbody>\n",
       "</table>\n",
       "<p>2498 rows × 6 columns</p>\n",
       "</div>"
      ],
      "text/plain": [
       "                                                  review sentiment  \\\n",
       "8      Encouraged by the positive comments about this...  negative   \n",
       "23     First of all, let's get a few things straight ...  negative   \n",
       "34     I watched this film not really expecting much,...  negative   \n",
       "63     Besides being boring, the scenes were oppressi...  negative   \n",
       "97     Well, I like to watch bad horror B-Movies, cau...  negative   \n",
       "...                                                  ...       ...   \n",
       "49913  Why does this movie fall WELL below standards?...  negative   \n",
       "49939  Depending entirely on your own personal state ...  negative   \n",
       "49946  One of the greatest lessons I ever had in how ...  negative   \n",
       "49948  It is the early morning of our discontent, and...  negative   \n",
       "49994  This is your typical junk comedy.<br /><br />T...  negative   \n",
       "\n",
       "       review_length                                       review_lower  \\\n",
       "8                681  encouraged by the positive comments about this...   \n",
       "23              1767  first of all, let's get a few things straight ...   \n",
       "34              1300  i watched this film not really expecting much,...   \n",
       "63               267  besides being boring, the scenes were oppressi...   \n",
       "97               758  well, i like to watch bad horror b-movies, cau...   \n",
       "...              ...                                                ...   \n",
       "49913           1438  why does this movie fall well below standards?...   \n",
       "49939           1927  depending entirely on your own personal state ...   \n",
       "49946           2901  one of the greatest lessons i ever had in how ...   \n",
       "49948           5847  it is the early morning of our discontent, and...   \n",
       "49994            759  this is your typical junk comedy.<br /><br />t...   \n",
       "\n",
       "       contains_amazing review_category  \n",
       "8                 False           Média  \n",
       "23                False           Longa  \n",
       "34                False           Longa  \n",
       "63                False           Curta  \n",
       "97                False           Média  \n",
       "...                 ...             ...  \n",
       "49913             False           Longa  \n",
       "49939             False           Longa  \n",
       "49946             False           Longa  \n",
       "49948             False           Longa  \n",
       "49994             False           Média  \n",
       "\n",
       "[2498 rows x 6 columns]"
      ]
     },
     "execution_count": 23,
     "metadata": {},
     "output_type": "execute_result"
    }
   ],
   "source": [
    "aux = df[ (df['sentiment'] == 'negative') & (df['review'].str.contains('boring', case=False))]\n",
    "aux"
   ]
  },
  {
   "cell_type": "code",
   "execution_count": 24,
   "id": "b6348e92-28cf-46c1-b09d-640030f72ced",
   "metadata": {},
   "outputs": [
    {
     "data": {
      "text/plain": [
       "\"Encouraged by the positive comments about this film on here I was looking forward to watching this film. Bad mistake. I've seen 950+ films and this is truly one of the worst of them - it's awful in almost every way: editing, pacing, storyline, 'acting,' soundtrack (the film's only song - a lame country tune - is played no less than four times). The film looks cheap and nasty and is boring in the extreme. Rarely have I been so happy to see the end credits of a film. <br /><br />The only thing that prevents me giving this a 1-score is Harvey Keitel - while this is far from his best performance he at least seems to be making a bit of an effort. One for Keitel obsessives only.\""
      ]
     },
     "execution_count": 24,
     "metadata": {},
     "output_type": "execute_result"
    }
   ],
   "source": [
    "aux = aux.reset_index(drop=True)\n",
    "aux['review'][0]"
   ]
  },
  {
   "cell_type": "markdown",
   "id": "47ac7bda",
   "metadata": {},
   "source": [
    "### Qual a proporção de reviews curtas, médias e longas?"
   ]
  },
  {
   "cell_type": "code",
   "execution_count": 25,
   "id": "3c350e47",
   "metadata": {},
   "outputs": [
    {
     "data": {
      "text/plain": [
       "review_category\n",
       "Longa    0.48002\n",
       "Média    0.42032\n",
       "Curta    0.09966\n",
       "Name: proportion, dtype: float64"
      ]
     },
     "execution_count": 25,
     "metadata": {},
     "output_type": "execute_result"
    }
   ],
   "source": [
    "df['review_category'].value_counts(normalize=True)"
   ]
  },
  {
   "cell_type": "markdown",
   "id": "66a14f06",
   "metadata": {},
   "source": [
    "### Quais são as 5 reviews mais longas no dataset?"
   ]
  },
  {
   "cell_type": "code",
   "execution_count": 26,
   "id": "5d17f8df",
   "metadata": {},
   "outputs": [
    {
     "data": {
      "text/html": [
       "<div>\n",
       "<style scoped>\n",
       "    .dataframe tbody tr th:only-of-type {\n",
       "        vertical-align: middle;\n",
       "    }\n",
       "\n",
       "    .dataframe tbody tr th {\n",
       "        vertical-align: top;\n",
       "    }\n",
       "\n",
       "    .dataframe thead th {\n",
       "        text-align: right;\n",
       "    }\n",
       "</style>\n",
       "<table border=\"1\" class=\"dataframe\">\n",
       "  <thead>\n",
       "    <tr style=\"text-align: right;\">\n",
       "      <th></th>\n",
       "      <th>review</th>\n",
       "      <th>sentiment</th>\n",
       "      <th>review_length</th>\n",
       "      <th>review_lower</th>\n",
       "      <th>contains_amazing</th>\n",
       "      <th>review_category</th>\n",
       "    </tr>\n",
       "  </thead>\n",
       "  <tbody>\n",
       "    <tr>\n",
       "      <th>31481</th>\n",
       "      <td>Match 1: Tag Team Table Match Bubba Ray and Sp...</td>\n",
       "      <td>positive</td>\n",
       "      <td>13704</td>\n",
       "      <td>match 1: tag team table match bubba ray and sp...</td>\n",
       "      <td>False</td>\n",
       "      <td>Longa</td>\n",
       "    </tr>\n",
       "    <tr>\n",
       "      <th>40521</th>\n",
       "      <td>There's a sign on The Lost Highway that says:&lt;...</td>\n",
       "      <td>positive</td>\n",
       "      <td>12988</td>\n",
       "      <td>there's a sign on the lost highway that says:&lt;...</td>\n",
       "      <td>False</td>\n",
       "      <td>Longa</td>\n",
       "    </tr>\n",
       "    <tr>\n",
       "      <th>31240</th>\n",
       "      <td>(Some spoilers included:)&lt;br /&gt;&lt;br /&gt;Although,...</td>\n",
       "      <td>positive</td>\n",
       "      <td>12930</td>\n",
       "      <td>(some spoilers included:)&lt;br /&gt;&lt;br /&gt;although,...</td>\n",
       "      <td>False</td>\n",
       "      <td>Longa</td>\n",
       "    </tr>\n",
       "    <tr>\n",
       "      <th>31436</th>\n",
       "      <td>Back in the mid/late 80s, an OAV anime by titl...</td>\n",
       "      <td>positive</td>\n",
       "      <td>12129</td>\n",
       "      <td>back in the mid/late 80s, an oav anime by titl...</td>\n",
       "      <td>False</td>\n",
       "      <td>Longa</td>\n",
       "    </tr>\n",
       "    <tr>\n",
       "      <th>5708</th>\n",
       "      <td>**Attention Spoilers**&lt;br /&gt;&lt;br /&gt;First of all...</td>\n",
       "      <td>positive</td>\n",
       "      <td>10363</td>\n",
       "      <td>**attention spoilers**&lt;br /&gt;&lt;br /&gt;first of all...</td>\n",
       "      <td>True</td>\n",
       "      <td>Longa</td>\n",
       "    </tr>\n",
       "  </tbody>\n",
       "</table>\n",
       "</div>"
      ],
      "text/plain": [
       "                                                  review sentiment  \\\n",
       "31481  Match 1: Tag Team Table Match Bubba Ray and Sp...  positive   \n",
       "40521  There's a sign on The Lost Highway that says:<...  positive   \n",
       "31240  (Some spoilers included:)<br /><br />Although,...  positive   \n",
       "31436  Back in the mid/late 80s, an OAV anime by titl...  positive   \n",
       "5708   **Attention Spoilers**<br /><br />First of all...  positive   \n",
       "\n",
       "       review_length                                       review_lower  \\\n",
       "31481          13704  match 1: tag team table match bubba ray and sp...   \n",
       "40521          12988  there's a sign on the lost highway that says:<...   \n",
       "31240          12930  (some spoilers included:)<br /><br />although,...   \n",
       "31436          12129  back in the mid/late 80s, an oav anime by titl...   \n",
       "5708           10363  **attention spoilers**<br /><br />first of all...   \n",
       "\n",
       "       contains_amazing review_category  \n",
       "31481             False           Longa  \n",
       "40521             False           Longa  \n",
       "31240             False           Longa  \n",
       "31436             False           Longa  \n",
       "5708               True           Longa  "
      ]
     },
     "execution_count": 26,
     "metadata": {},
     "output_type": "execute_result"
    }
   ],
   "source": [
    "sub_df = df.sort_values('review_length', ascending=False).head()\n",
    "sub_df"
   ]
  },
  {
   "cell_type": "markdown",
   "id": "21b82839",
   "metadata": {},
   "source": [
    "### Quantas reviews mencionam ao mesmo tempo 'amazing' e 'boring'?"
   ]
  },
  {
   "cell_type": "code",
   "execution_count": 27,
   "id": "b27bec7c",
   "metadata": {},
   "outputs": [
    {
     "data": {
      "text/plain": [
       "141"
      ]
     },
     "execution_count": 27,
     "metadata": {},
     "output_type": "execute_result"
    }
   ],
   "source": [
    "# len ( df[ (df['review'].str.contains('amazing', case=False)) & (df['review'].str.contains('boring', case=False)) ] )\n",
    "# len ( df [ (df['contains_amazing']) & (df['review'].str.contains('boring', case=False)) ] )\n",
    "len ( df [ (df['contains_amazing']) & (df['review'].str.contains('BoRIng', case=False)) ] )"
   ]
  },
  {
   "cell_type": "markdown",
   "id": "bfbb5d39-b472-45fb-bf6a-6a458fab2a9c",
   "metadata": {},
   "source": [
    "### Existe alguma relação entre o tamanho da review e a presença da palavra \"amazing\"?"
   ]
  },
  {
   "cell_type": "code",
   "execution_count": 28,
   "id": "c3e6d2fb-e30c-443d-937f-9d113de93014",
   "metadata": {},
   "outputs": [
    {
     "data": {
      "text/plain": [
       "contains_amazing\n",
       "False    1292.055091\n",
       "True     1642.517547\n",
       "Name: review_length, dtype: float64"
      ]
     },
     "execution_count": 28,
     "metadata": {},
     "output_type": "execute_result"
    }
   ],
   "source": [
    "# 1 coluna a ser agrupada\n",
    "# 1 coluna vai ser utilizada como a coluna de critério\n",
    "# 1 métrica estatística de critério\n",
    "\n",
    "## df.groupby(coluna a ser agrupada)[coluna de critério].metrica()\n",
    "## df.groupby('')[''].mean()\n",
    "\n",
    "df.groupby('contains_amazing')['review_length'].mean()"
   ]
  },
  {
   "cell_type": "markdown",
   "id": "0688c21f-847b-4f9c-b404-9d58eb6829d3",
   "metadata": {},
   "source": [
    "### Existe diferença no tamanho médio das reviews entre aquelas que contêm a palavra 'movie' e as que não contêm?"
   ]
  },
  {
   "cell_type": "code",
   "execution_count": 29,
   "id": "698ad3b3-ba87-4266-bd57-2f54e9aeba09",
   "metadata": {},
   "outputs": [
    {
     "data": {
      "text/plain": [
       "contains_movie\n",
       "False    1256.507726\n",
       "True     1338.026000\n",
       "Name: review_length, dtype: float64"
      ]
     },
     "execution_count": 29,
     "metadata": {},
     "output_type": "execute_result"
    }
   ],
   "source": [
    "df['contains_movie'] = df['review'].str.contains('movie', case=False)\n",
    "df.groupby('contains_movie')['review_length'].mean()"
   ]
  },
  {
   "cell_type": "code",
   "execution_count": 30,
   "id": "40586eae-3250-4c12-a6b3-edfea754392d",
   "metadata": {},
   "outputs": [],
   "source": [
    "# df.to_csv('reviews_imdb_modificada.csv', index=False)"
   ]
  },
  {
   "cell_type": "code",
   "execution_count": 31,
   "id": "cfc21371-ed8b-4581-ab7b-bb6e1c322819",
   "metadata": {},
   "outputs": [
    {
     "data": {
      "text/plain": [
       "\"One of the other reviewers has mentioned that after watching just 1 Oz episode you'll be hooked. They are right, as this is exactly what happened with me.<br /><br />The first thing that struck me about Oz was its brutality and unflinching scenes of violence, which set in right from the word GO. Trust me, this is not a show for the faint hearted or timid. This show pulls no punches with regards to drugs, sex or violence. Its is hardcore, in the classic use of the word.<br /><br />It is called OZ as that is the nickname given to the Oswald Maximum Security State Penitentary. It focuses mainly on Emerald City, an experimental section of the prison where all the cells have glass fronts and face inwards, so privacy is not high on the agenda. Em City is home to many..Aryans, Muslims, gangstas, Latinos, Christians, Italians, Irish and more....so scuffles, death stares, dodgy dealings and shady agreements are never far away.<br /><br />I would say the main appeal of the show is due to the fact that it goes where other shows wouldn't dare. Forget pretty pictures painted for mainstream audiences, forget charm, forget romance...OZ doesn't mess around. The first episode I ever saw struck me as so nasty it was surreal, I couldn't say I was ready for it, but as I watched more, I developed a taste for Oz, and got accustomed to the high levels of graphic violence. Not just violence, but injustice (crooked guards who'll be sold out for a nickel, inmates who'll kill on order and get away with it, well mannered, middle class inmates being turned into prison bitches due to their lack of street skills or prison experience) Watching Oz, you may become comfortable with what is uncomfortable viewing....thats if you can get in touch with your darker side.\""
      ]
     },
     "execution_count": 31,
     "metadata": {},
     "output_type": "execute_result"
    }
   ],
   "source": [
    "D = df.to_dict()\n",
    "D['review'][0]"
   ]
  },
  {
   "cell_type": "code",
   "execution_count": 32,
   "id": "46604717-81e5-4b39-a3e8-8b7db57e6fb2",
   "metadata": {},
   "outputs": [],
   "source": [
    "import json\n",
    "\n",
    "stats = {\n",
    "    'total_reviews': len(df),\n",
    "    'avg_review_length': df['review_length'].mean(),\n",
    "    'perc_contains_amazing': df['contains_amazing'].mean()\n",
    "}\n",
    "\n",
    "with open('reviews_imdb_completo.json', \"w\") as f:\n",
    "    json.dump(stats, f)"
   ]
  },
  {
   "cell_type": "code",
   "execution_count": 34,
   "id": "3f5ecef0-06af-4d84-ae35-b70008d1b566",
   "metadata": {},
   "outputs": [
    {
     "data": {
      "text/plain": [
       "{'total_reviews': 50000,\n",
       " 'avg_review_length': 1309.43102,\n",
       " 'perc_contains_amazing': 0.04958}"
      ]
     },
     "execution_count": 34,
     "metadata": {},
     "output_type": "execute_result"
    }
   ],
   "source": [
    "with open('reviews_imdb_completo.json', 'r') as f:\n",
    "    data = json.load(f)\n",
    "\n",
    "data"
   ]
  },
  {
   "cell_type": "code",
   "execution_count": null,
   "id": "6f7a6f97-288b-46f5-bd59-5cf015d4dd04",
   "metadata": {},
   "outputs": [],
   "source": []
  }
 ],
 "metadata": {
  "kernelspec": {
   "display_name": "Python 3 (ipykernel)",
   "language": "python",
   "name": "python3"
  },
  "language_info": {
   "codemirror_mode": {
    "name": "ipython",
    "version": 3
   },
   "file_extension": ".py",
   "mimetype": "text/x-python",
   "name": "python",
   "nbconvert_exporter": "python",
   "pygments_lexer": "ipython3",
   "version": "3.11.7"
  }
 },
 "nbformat": 4,
 "nbformat_minor": 5
}
