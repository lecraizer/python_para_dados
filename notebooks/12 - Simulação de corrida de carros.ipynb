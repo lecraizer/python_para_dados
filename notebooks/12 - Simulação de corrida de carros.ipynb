{
 "cells": [
  {
   "cell_type": "markdown",
   "id": "4fed44c6",
   "metadata": {},
   "source": [
    "\n",
    "# Simulação de Corrida com Classes em Python\n",
    "\n",
    "Neste notebook, vamos expandir nossa classe `Carro`, adicionando novos métodos e simulando uma corrida entre vários carros.  \n",
    "\n",
    "## 📌 O que vamos fazer?\n",
    "1. Criar uma classe `Carro` com métodos adicionais (`acelerar`, `frear`, `status`)  \n",
    "2. Criar uma lista de carros e simular uma corrida  \n",
    "3. Determinar o vencedor da corrida com base na distância percorrida  \n",
    "\n",
    "Vamos começar! 🚀  \n"
   ]
  },
  {
   "cell_type": "code",
   "execution_count": 1,
   "id": "26c95472-bb78-430b-87a5-fdd1b159263f",
   "metadata": {},
   "outputs": [],
   "source": [
    "import random\n",
    "import time"
   ]
  },
  {
   "cell_type": "code",
   "execution_count": 9,
   "id": "5eb8f305-9137-4a6e-84ca-36f9c2e2e8e6",
   "metadata": {},
   "outputs": [],
   "source": [
    "class Carro:\n",
    "    def __init__(self, nome, velocidade_maxima, cor):\n",
    "        self.nome = nome\n",
    "        self.velocidade_maxima = velocidade_maxima\n",
    "        self.cor = cor\n",
    "        self.velocidade_atual = 0\n",
    "        self.distancia_percorrida = 0\n",
    "\n",
    "    def acelerar(self):\n",
    "        \"\"\"Aumenta a velocidade de forma aleatória, sem ultrapassar a velocidade máxima.\"\"\"\n",
    "        incremento = random.randint(5, 20)\n",
    "        self.velocidade_atual = min(self.velocidade_atual + incremento, self.velocidade_maxima)\n",
    "\n",
    "    def frear(self):\n",
    "        \"\"\"Diminui a velocidade de forma aleatória.\"\"\"\n",
    "        decremento = random.randint(5, 15)\n",
    "        self.velocidade_atual = max(self.velocidade_atual - decremento, 0)\n",
    "\n",
    "    def andar(self):\n",
    "        \"\"\"Move o carro baseado na velocidade atual.\"\"\"\n",
    "        self.distancia_percorrida += self.velocidade_atual\n",
    "\n",
    "    def status(self):\n",
    "        \"\"\"Retorna o status atual do carro.\"\"\"\n",
    "        return f\"{self.nome} | Cor: {self.cor} | Velocidade: {self.velocidade_atual} km/h | Distância: {self.distancia_percorrida} km\"\n",
    "\n",
    "    def __repr__(self):\n",
    "        return f'{self.nome} | Cor: {self.cor}'"
   ]
  },
  {
   "cell_type": "code",
   "execution_count": 11,
   "id": "ffa17799-8587-4286-ba81-48aaab18f463",
   "metadata": {},
   "outputs": [],
   "source": [
    "# Criando uma lista de carros para a corrida\n",
    "carros = [\n",
    "    Carro(\"Ferrari\", 300, \"Vermelho\"),\n",
    "    Carro(\"Lamborghini\", 320, \"Amarelo\"),\n",
    "    Carro(\"Porsche\", 310, \"Preto\"),\n",
    "    Carro(\"McLaren\", 330, \"Laranja\"),\n",
    "    Carro(\"Bugatti\", 350, \"Azul\")\n",
    "]"
   ]
  },
  {
   "cell_type": "code",
   "execution_count": 15,
   "id": "1365159e-6188-4d8e-8d18-b0f2bc6318de",
   "metadata": {},
   "outputs": [
    {
     "name": "stdout",
     "output_type": "stream",
     "text": [
      "🏁 Início da Corrida! 🏁\n",
      "\n"
     ]
    }
   ],
   "source": [
    "# Simulando a corrida\n",
    "distancia_corrida = 500  # A corrida termina quando um carro atinge essa distância\n",
    "\n",
    "print(\"🏁 Início da Corrida! 🏁\\n\")\n",
    "\n",
    "while all(carro.distancia_percorrida < distancia_corrida for carro in carros):\n",
    "    for carro in carros:\n",
    "        carro.acelerar()\n",
    "        carro.andar()\n",
    "        carro.frear()\n",
    "        print(carro.status())  # Exibir status atualizado de cada carro\n",
    "    print('\\n')\n",
    "    time.sleep(2.0)  # Pequeno delay para simular a corrida"
   ]
  },
  {
   "cell_type": "code",
   "execution_count": 14,
   "id": "ac8aca25-ae7e-4375-a8bd-bee8aac1ef29",
   "metadata": {},
   "outputs": [
    {
     "name": "stdout",
     "output_type": "stream",
     "text": [
      "\n",
      "O vencedor é Bugatti, que percorreu 521 km! 🏆\n"
     ]
    }
   ],
   "source": [
    "# Determinar o vencedor\n",
    "vencedor = max(carros, key=lambda c: c.distancia_percorrida)\n",
    "print(f\"\\nO vencedor é {vencedor.nome}, que percorreu {vencedor.distancia_percorrida} km! 🏆\")"
   ]
  },
  {
   "cell_type": "markdown",
   "id": "5e45e0fb",
   "metadata": {},
   "source": [
    "\n",
    "## ✅ Conclusão\n",
    "\n",
    "Agora temos uma **corrida simulada** entre 5 carros, onde cada um acelera, anda e freia de forma dinâmica até que um deles vença. 🚗💨🏆  \n",
    "\n",
    "Isso mostra como classes podem ser usadas para criar **simulações realistas** em Python!  \n"
   ]
  }
 ],
 "metadata": {
  "kernelspec": {
   "display_name": "Python 3 (ipykernel)",
   "language": "python",
   "name": "python3"
  },
  "language_info": {
   "codemirror_mode": {
    "name": "ipython",
    "version": 3
   },
   "file_extension": ".py",
   "mimetype": "text/x-python",
   "name": "python",
   "nbconvert_exporter": "python",
   "pygments_lexer": "ipython3",
   "version": "3.11.7"
  }
 },
 "nbformat": 4,
 "nbformat_minor": 5
}
