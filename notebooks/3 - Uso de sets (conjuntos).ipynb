{
 "cells": [
  {
   "cell_type": "markdown",
   "id": "fe87d768",
   "metadata": {},
   "source": [
    "# Uso de `set` em Python\n",
    "\n",
    "Este notebook explora diversas funcionalidades e operações avançadas com `set` em Python."
   ]
  },
  {
   "cell_type": "markdown",
   "id": "b7331c4d",
   "metadata": {},
   "source": [
    "## 🔹 Funcionalidades básicas do `set`"
   ]
  },
  {
   "cell_type": "code",
   "execution_count": 22,
   "id": "7649e312",
   "metadata": {},
   "outputs": [
    {
     "name": "stdout",
     "output_type": "stream",
     "text": [
      "{1, 2, 3, 4, 5}\n",
      "{3, 4, 5, 6, 7}\n"
     ]
    }
   ],
   "source": [
    "# Criação de um conjunto\n",
    "meu_set = {1, 2, 3, 4, 5}\n",
    "outro_set = set([3, 4, 5, 6, 7])\n",
    "print(meu_set)\n",
    "print(outro_set)"
   ]
  },
  {
   "cell_type": "code",
   "execution_count": 23,
   "id": "9bd5501f",
   "metadata": {},
   "outputs": [
    {
     "name": "stdout",
     "output_type": "stream",
     "text": [
      "{1, 2, 3, 4, 5, 6}\n"
     ]
    }
   ],
   "source": [
    "# Adicionar elementos\n",
    "meu_set.add(6)\n",
    "print(meu_set)"
   ]
  },
  {
   "cell_type": "code",
   "execution_count": 25,
   "id": "63d2f837-f816-4b4e-8b47-1f3cb4d32e13",
   "metadata": {},
   "outputs": [],
   "source": [
    "meu_set.discard(7)"
   ]
  },
  {
   "cell_type": "code",
   "execution_count": 27,
   "id": "57009e5c",
   "metadata": {},
   "outputs": [
    {
     "name": "stdout",
     "output_type": "stream",
     "text": [
      "{1, 2, 4, 5, 6}\n"
     ]
    }
   ],
   "source": [
    "# Remover elementos\n",
    "meu_set.remove(3)  # Dá erro se o elemento não existir\n",
    "meu_set.discard(10)  # Não dá erro se o elemento não existir\n",
    "print(meu_set)"
   ]
  },
  {
   "cell_type": "code",
   "execution_count": 28,
   "id": "41dfcfb4",
   "metadata": {},
   "outputs": [
    {
     "name": "stdout",
     "output_type": "stream",
     "text": [
      "{1, 2, 3, 4, 5}\n",
      "{1, 2, 3, 4, 5}\n",
      "{3}\n",
      "{3}\n",
      "{1, 2}\n",
      "{4, 5}\n",
      "{1, 2, 4, 5}\n"
     ]
    }
   ],
   "source": [
    "# Operações de conjunto\n",
    "A = {1, 2, 3}\n",
    "B = {3, 4, 5}\n",
    "\n",
    "# União\n",
    "print(A | B)\n",
    "print(A.union(B))\n",
    "\n",
    "# Interseção\n",
    "print(A & B)\n",
    "print(A.intersection(B))\n",
    "\n",
    "# Diferença\n",
    "print(A - B)\n",
    "print(B - A)\n",
    "\n",
    "# Diferença simétrica\n",
    "print(A ^ B)"
   ]
  },
  {
   "cell_type": "markdown",
   "id": "f9b2cf12",
   "metadata": {},
   "source": [
    "## 🔹 Funcionalidades avançadas"
   ]
  },
  {
   "cell_type": "code",
   "execution_count": 29,
   "id": "4a3c7980",
   "metadata": {},
   "outputs": [
    {
     "name": "stdout",
     "output_type": "stream",
     "text": [
      "[1, 2, 3, 4, 5]\n"
     ]
    }
   ],
   "source": [
    "# Remover duplicatas rapidamente de uma lista\n",
    "lista = [1, 2, 2, 3, 4, 4, 5]\n",
    "lista_sem_duplicatas = list(set(lista))\n",
    "print(lista_sem_duplicatas)"
   ]
  },
  {
   "cell_type": "code",
   "execution_count": 30,
   "id": "e8ec86d5",
   "metadata": {},
   "outputs": [
    {
     "name": "stdout",
     "output_type": "stream",
     "text": [
      "True\n",
      "False\n"
     ]
    }
   ],
   "source": [
    "# Testando subconjuntos\n",
    "A = {1, 2}\n",
    "B = {1, 2, 3, 4}\n",
    "print(A.issubset(B))\n",
    "print(B.issubset(A))"
   ]
  },
  {
   "cell_type": "code",
   "execution_count": 31,
   "id": "a2c0ce12",
   "metadata": {},
   "outputs": [
    {
     "name": "stdout",
     "output_type": "stream",
     "text": [
      "True\n"
     ]
    }
   ],
   "source": [
    "# Testando superconjuntos\n",
    "print(B.issuperset(A))"
   ]
  },
  {
   "cell_type": "code",
   "execution_count": 32,
   "id": "9083011f",
   "metadata": {},
   "outputs": [
    {
     "name": "stdout",
     "output_type": "stream",
     "text": [
      "True\n"
     ]
    }
   ],
   "source": [
    "# Testando conjuntos disjuntos\n",
    "C = {7, 8, 9}\n",
    "print(A.isdisjoint(C))"
   ]
  },
  {
   "cell_type": "code",
   "execution_count": 33,
   "id": "2e279e51",
   "metadata": {},
   "outputs": [
    {
     "name": "stdout",
     "output_type": "stream",
     "text": [
      "1\n",
      "2\n",
      "4\n",
      "5\n",
      "6\n"
     ]
    }
   ],
   "source": [
    "# Iterando sobre um set\n",
    "for item in meu_set:\n",
    "    print(item)"
   ]
  },
  {
   "cell_type": "code",
   "execution_count": 34,
   "id": "04309daf",
   "metadata": {},
   "outputs": [
    {
     "name": "stdout",
     "output_type": "stream",
     "text": [
      "frozenset({1, 2, 3, 4})\n"
     ]
    }
   ],
   "source": [
    "# Usando frozenset (imutável)\n",
    "fs = frozenset([1, 2, 3, 4])\n",
    "print(fs)"
   ]
  },
  {
   "cell_type": "code",
   "execution_count": 36,
   "id": "659b98b2",
   "metadata": {},
   "outputs": [
    {
     "name": "stdout",
     "output_type": "stream",
     "text": [
      "{4, 5}\n"
     ]
    }
   ],
   "source": [
    "# Encontrando elementos comuns entre listas\n",
    "lista1 = [1, 2, 3, 4, 5]\n",
    "lista2 = [4, 5, 6, 7, 8]\n",
    "\n",
    "comuns = set(lista1) & set(lista2)\n",
    "print(comuns)"
   ]
  },
  {
   "cell_type": "code",
   "execution_count": 37,
   "id": "d58450c7",
   "metadata": {},
   "outputs": [
    {
     "name": "stdout",
     "output_type": "stream",
     "text": [
      "{'de', 'para', 'com', 'ótimo', 'manipulação', 'é', 'dados', 'Python'}\n",
      "8\n"
     ]
    }
   ],
   "source": [
    "# Contagem de elementos únicos rapidamente\n",
    "palavras = \"Python é ótimo para manipulação de dados com Python\".split()\n",
    "print(set(palavras))\n",
    "contagem_unicos = len(set(palavras))\n",
    "print(contagem_unicos)"
   ]
  },
  {
   "cell_type": "code",
   "execution_count": null,
   "id": "6aafb563",
   "metadata": {},
   "outputs": [],
   "source": [
    "# Criando um dicionário com sets\n",
    "d = {\n",
    "    \"grupo1\": {1, 2, 3},\n",
    "    \"grupo2\": {4, 5, 6}\n",
    "}\n",
    "print(d[\"grupo1\"])"
   ]
  },
  {
   "cell_type": "code",
   "execution_count": 38,
   "id": "24bec4d5",
   "metadata": {},
   "outputs": [
    {
     "name": "stdout",
     "output_type": "stream",
     "text": [
      "{20, 30}\n",
      "10\n"
     ]
    }
   ],
   "source": [
    "# Removendo elementos com pop\n",
    "meu_set = {10, 20, 30}\n",
    "elemento_removido = meu_set.pop()\n",
    "print(meu_set)\n",
    "print(elemento_removido)"
   ]
  },
  {
   "cell_type": "markdown",
   "id": "76868aca",
   "metadata": {},
   "source": [
    "## 📌 Quando usar `set` em Python?\n",
    "\n",
    "- Quando precisa de **valores únicos**\n",
    "- Para **operações de conjunto** rápidas (união, interseção, diferença)\n",
    "- Quando precisa de um **lookup rápido** (`x in set`)\n",
    "- Para remover duplicatas de listas\n",
    "\n",
    "Se precisar de um conjunto imutável, use `frozenset`."
   ]
  },
  {
   "cell_type": "code",
   "execution_count": null,
   "id": "779424ef-e2b7-4276-94a1-6611214f4a54",
   "metadata": {},
   "outputs": [],
   "source": []
  }
 ],
 "metadata": {
  "kernelspec": {
   "display_name": "Python 3 (ipykernel)",
   "language": "python",
   "name": "python3"
  },
  "language_info": {
   "codemirror_mode": {
    "name": "ipython",
    "version": 3
   },
   "file_extension": ".py",
   "mimetype": "text/x-python",
   "name": "python",
   "nbconvert_exporter": "python",
   "pygments_lexer": "ipython3",
   "version": "3.11.7"
  }
 },
 "nbformat": 4,
 "nbformat_minor": 5
}
