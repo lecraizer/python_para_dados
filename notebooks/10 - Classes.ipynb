{
 "cells": [
  {
   "cell_type": "markdown",
   "id": "f3f0a434",
   "metadata": {},
   "source": [
    "\n",
    "# Introdução a Classes em Python\n",
    "\n",
    "Neste notebook, vamos aprender os conceitos fundamentais de **Programação Orientada a Objetos (POO)** em Python, focando em **classes** e **objetos**.\n",
    "\n",
    "## 📌 O que vamos aprender?\n",
    "1. O que são classes e objetos?  \n",
    "2. Criando uma classe em Python  \n",
    "3. O método `__init__`  \n",
    "4. Criando e utilizando métodos  \n",
    "5. Atributos de instância vs. atributos de classe  \n",
    "6. Métodos especiais (`__str__`, `__repr__`)  \n",
    "7. Herança e reutilização de código  \n",
    "\n",
    "Vamos começar! 🚀  \n"
   ]
  },
  {
   "cell_type": "markdown",
   "id": "2788a6fa-94a6-43f9-bcd6-f35f142ea93f",
   "metadata": {},
   "source": [
    "# Introdução às Classes em Python\n",
    "\n",
    "Até agora, você aprendeu sobre os principais tipos de dados do Python: **strings, números, listas, tuplas e dicionários**. Agora, vamos explorar a última grande estrutura de dados: **as classes**.  \n",
    "\n",
    "Diferente dos outros tipos de dados, **as classes são extremamente flexíveis**. Elas permitem definir tanto as **informações** quanto os **comportamentos** de qualquer coisa que você queira modelar no seu programa.  \n",
    "\n",
    "As classes são um conceito poderoso e abrangente, então aqui vamos aprender apenas o essencial para que você possa aplicá-las imediatamente nos seus projetos.  "
   ]
  },
  {
   "cell_type": "markdown",
   "id": "445777eb-ce8a-46d4-b9d6-95b1912a33b1",
   "metadata": {},
   "source": [
    "### Por que usar Classes?\n",
    "\n",
    "Classes são úteis porque permitem:\n",
    "\n",
    "✅ Organizar o código de forma mais modular e reutilizável <br>\n",
    "✅ Encapsular dados e funcionalidades em um único lugar <br>\n",
    "✅ Criar objetos com comportamentos definidos"
   ]
  },
  {
   "cell_type": "markdown",
   "id": "5ffa2ffa-f5a9-4779-8ad8-7e3599dd5221",
   "metadata": {},
   "source": [
    "# 📌 Terminologia da Programação Orientada a Objetos (OOP)\n",
    "\n",
    "As **classes** fazem parte de um paradigma de programação chamado **programação orientada a objetos** (OOP - *Object-Oriented Programming*).  \n",
    "\n",
    "O OOP se concentra na criação de **blocos reutilizáveis de código**, chamados **classes**. Quando você deseja usar uma classe em seu programa, você cria um **objeto** baseado nessa classe. É daí que vem o termo **\"orientado a objetos\"**.  \n",
    "\n",
    "O Python **não é exclusivamente orientado a objetos**, mas a maioria dos seus projetos envolverá o uso de **objetos** de alguma forma. Para entender **classes**, é essencial conhecer alguns dos termos usados em OOP.\n",
    "\n",
    "---\n",
    "\n",
    "## 📖 **Terminologia Geral**\n",
    "\n",
    "🔹 **Classe** → Um conjunto de código que define **atributos** e **comportamentos** necessários para modelar algo no seu programa.  \n",
    "   - Você pode modelar algo do **mundo real**, como um foguete ou um violão.  \n",
    "   - Ou pode modelar algo de um **mundo virtual**, como uma nave espacial em um jogo ou um conjunto de leis físicas para um motor gráfico.\n",
    "\n",
    "🔹 **Atributo** → Uma **informação** associada a um objeto.  \n",
    "   - Em código, um **atributo** é apenas uma **variável** que faz parte de uma classe.\n",
    "\n",
    "🔹 **Comportamento** → Uma **ação** definida dentro de uma classe.  \n",
    "   - Os comportamentos são compostos por **métodos**, que são apenas **funções** definidas dentro da classe.\n",
    "\n",
    "🔹 **Objeto** → Uma **instância** específica de uma classe.  \n",
    "   - Um objeto possui valores específicos para todos os atributos da classe.  \n",
    "   - Você pode criar **quantos objetos quiser** para uma mesma classe.\n",
    "\n",
    "---"
   ]
  },
  {
   "cell_type": "markdown",
   "id": "9bba73f2",
   "metadata": {},
   "source": [
    "Exemplo:  \n",
    "Imagine uma **classe** chamada `Carro`. Todos os carros compartilham características comuns (cor, marca, ano), mas cada carro específico (objeto) tem valores próprios.\n",
    "\n"
   ]
  },
  {
   "cell_type": "markdown",
   "id": "41532088-396f-4354-89dd-007358c16ccf",
   "metadata": {},
   "source": [
    "Sem classes, precisaríamos gerenciar variáveis soltas:"
   ]
  },
  {
   "cell_type": "code",
   "execution_count": 1,
   "id": "10a455b8-13ce-4451-896a-752a8c9f9ee2",
   "metadata": {},
   "outputs": [],
   "source": [
    "marca = \"Toyota\"\n",
    "modelo = \"Corolla\"\n",
    "ano = 2020"
   ]
  },
  {
   "cell_type": "markdown",
   "id": "655a48c1-81fa-4dbf-aec9-add334c51c45",
   "metadata": {},
   "source": [
    "Com classes, organizamos tudo em um **objeto**:"
   ]
  },
  {
   "cell_type": "code",
   "execution_count": 2,
   "id": "68dbe68c",
   "metadata": {},
   "outputs": [
    {
     "name": "stdout",
     "output_type": "stream",
     "text": [
      "Toyota Corolla 2020\n",
      "Honda Civic 2019\n"
     ]
    }
   ],
   "source": [
    "class Carro:\n",
    "    def __init__(self, marca, modelo, ano):\n",
    "        self.marca = marca\n",
    "        self.modelo = modelo\n",
    "        self.ano = ano\n",
    "\n",
    "# Criando objetos\n",
    "carro1 = Carro(\"Toyota\", \"Corolla\", 2020)\n",
    "carro2 = Carro(\"Honda\", \"Civic\", 2019)\n",
    "\n",
    "# Exibindo os atributos\n",
    "print(carro1.marca, carro1.modelo, carro1.ano)\n",
    "print(carro2.marca, carro2.modelo, carro2.ano)"
   ]
  },
  {
   "cell_type": "markdown",
   "id": "c7838300-011a-4705-978d-d78a6349eba5",
   "metadata": {},
   "source": [
    "### O que é `self`?\n",
    "`self` é uma referência ao próprio objeto da classe. Ele permite acessar os atributos e métodos da instância.\n",
    "\n",
    "Exemplo sem `self` (errado!):"
   ]
  },
  {
   "cell_type": "code",
   "execution_count": 3,
   "id": "0f06eca6-1723-4868-99cd-047777f2633f",
   "metadata": {},
   "outputs": [],
   "source": [
    "class Carro:\n",
    "    def __init__(marca, modelo, ano):  # Esquecemos o self!\n",
    "        marca = marca\n",
    "        modelo = modelo\n",
    "        ano = ano"
   ]
  },
  {
   "cell_type": "code",
   "execution_count": 4,
   "id": "6717db9c-08e6-4c6e-bf52-1679b472f634",
   "metadata": {},
   "outputs": [
    {
     "ename": "TypeError",
     "evalue": "Carro.__init__() takes 3 positional arguments but 4 were given",
     "output_type": "error",
     "traceback": [
      "\u001b[0;31m---------------------------------------------------------------------------\u001b[0m",
      "\u001b[0;31mTypeError\u001b[0m                                 Traceback (most recent call last)",
      "Cell \u001b[0;32mIn[4], line 1\u001b[0m\n\u001b[0;32m----> 1\u001b[0m c \u001b[38;5;241m=\u001b[39m Carro(\u001b[38;5;124m\"\u001b[39m\u001b[38;5;124mToyota\u001b[39m\u001b[38;5;124m\"\u001b[39m, \u001b[38;5;124m\"\u001b[39m\u001b[38;5;124mCorolla\u001b[39m\u001b[38;5;124m\"\u001b[39m, \u001b[38;5;241m2021\u001b[39m)\n\u001b[1;32m      2\u001b[0m c\u001b[38;5;241m.\u001b[39mmarca\n",
      "\u001b[0;31mTypeError\u001b[0m: Carro.__init__() takes 3 positional arguments but 4 were given"
     ]
    }
   ],
   "source": [
    "c = Carro(\"Toyota\", \"Corolla\", 2021)\n",
    "c.marca"
   ]
  },
  {
   "cell_type": "markdown",
   "id": "b4e7541f-7fb6-4c8c-997d-bac3c58b62de",
   "metadata": {},
   "source": [
    "Esse código não funciona porque `marca`, `modelo` e `ano` não estão sendo atribuídos ao objeto!\n",
    "\n",
    "Exemplo correto com `self`:"
   ]
  },
  {
   "cell_type": "code",
   "execution_count": 5,
   "id": "6d0dc489-39e8-40eb-9e6a-ecd1ac34e576",
   "metadata": {},
   "outputs": [],
   "source": [
    "class Carro:\n",
    "    def __init__(self, marca, modelo, ano):\n",
    "        self.marca = marca\n",
    "        self.modelo = modelo\n",
    "        self.ano = ano"
   ]
  },
  {
   "cell_type": "markdown",
   "id": "0696c814-e417-443b-9b40-db49aa99cdf6",
   "metadata": {},
   "source": [
    "### O que é `__init__`?\n",
    "O método `__init__` é chamado automaticamente ao criar um objeto.<br>\n",
    "Ele serve para inicializar os atributos do objeto."
   ]
  },
  {
   "cell_type": "markdown",
   "id": "bf9f06bd-38cc-4009-96ba-dbc906efc174",
   "metadata": {},
   "source": [
    "### Outros Métodos Especiais\n",
    "Python tem métodos especiais que começam e terminam com `__` (duplo underscore). Alguns dos mais comuns:"
   ]
  },
  {
   "cell_type": "code",
   "execution_count": 6,
   "id": "f9a205d0-48f8-4cf4-9a6a-3e7817ea6c1d",
   "metadata": {},
   "outputs": [
    {
     "name": "stdout",
     "output_type": "stream",
     "text": [
      "<__main__.Carro object at 0x709a01350290>\n"
     ]
    }
   ],
   "source": [
    "class Carro:\n",
    "    def __init__(self, marca, modelo):\n",
    "        self.marca = marca  # Atributo \"marca\"\n",
    "        self.modelo = modelo  # Atributo \"modelo\"\n",
    "\n",
    "carro = Carro(\"Tesla\", \"Model S\")\n",
    "print(carro)"
   ]
  },
  {
   "cell_type": "markdown",
   "id": "c8ad0c72-e5c0-4494-a31a-77f4f6854dbd",
   "metadata": {},
   "source": [
    "🔹 `__str__` → Define como o objeto aparece quando usamos `print()`."
   ]
  },
  {
   "cell_type": "code",
   "execution_count": 7,
   "id": "b29ea739-649b-4122-a744-0261e34b73b1",
   "metadata": {},
   "outputs": [
    {
     "name": "stdout",
     "output_type": "stream",
     "text": [
      "Tesla Model S\n"
     ]
    }
   ],
   "source": [
    "class Carro:\n",
    "    def __init__(self, marca, modelo):\n",
    "        self.marca = marca\n",
    "        self.modelo = modelo\n",
    "\n",
    "    def __str__(self):\n",
    "        return f\"{self.marca} {self.modelo}\"\n",
    "\n",
    "carro = Carro(\"Tesla\", \"Model S\")\n",
    "print(carro)"
   ]
  },
  {
   "cell_type": "markdown",
   "id": "2df60eba-e0eb-41fb-bbbb-4f97ce07c3f6",
   "metadata": {},
   "source": [
    "🔹 `__repr__` → Representação oficial do objeto (útil para debug)."
   ]
  },
  {
   "cell_type": "code",
   "execution_count": 8,
   "id": "a0c7dddf-b17c-4480-a27f-765d71581fe9",
   "metadata": {},
   "outputs": [
    {
     "name": "stdout",
     "output_type": "stream",
     "text": [
      "Carro('Tesla', 'Model S')\n"
     ]
    }
   ],
   "source": [
    "class Carro:\n",
    "    def __init__(self, marca, modelo):\n",
    "        self.marca = marca\n",
    "        self.modelo = modelo\n",
    "        \n",
    "    def __repr__(self):\n",
    "        return f\"Carro('{self.marca}', '{self.modelo}')\"\n",
    "\n",
    "carro = Carro(\"Tesla\", \"Model S\")\n",
    "print(carro)"
   ]
  },
  {
   "cell_type": "markdown",
   "id": "8fb025d9-6a15-4c68-b615-3076c0ccb0d7",
   "metadata": {},
   "source": [
    "🔹 `__len__` → Define como o objeto responde a `len(objeto)`."
   ]
  },
  {
   "cell_type": "code",
   "execution_count": 9,
   "id": "9783d60e-70b6-4dba-8f3f-e40483dbb5ee",
   "metadata": {},
   "outputs": [
    {
     "name": "stdout",
     "output_type": "stream",
     "text": [
      "15\n"
     ]
    }
   ],
   "source": [
    "class Texto:\n",
    "    def __init__(self, conteudo):\n",
    "        self.conteudo = conteudo\n",
    "\n",
    "    def __len__(self):\n",
    "        return len(self.conteudo)\n",
    "\n",
    "meu_texto = Texto(\"Olá, mundo!!!!!\")\n",
    "meu_texto\n",
    "\n",
    "print(len(meu_texto))"
   ]
  },
  {
   "cell_type": "markdown",
   "id": "49dc43b1-8d11-43aa-a909-c580d776b364",
   "metadata": {},
   "source": [
    "### Criando Métodos na Classe\n",
    "Além do `__init__`, podemos criar outros métodos dentro da classe para definir comportamentos. <br>\n",
    "Exemplo:"
   ]
  },
  {
   "cell_type": "code",
   "execution_count": 10,
   "id": "fd6cd13f",
   "metadata": {},
   "outputs": [
    {
     "name": "stdout",
     "output_type": "stream",
     "text": [
      "FORD FOCUS, ANO 2018, CHASSI #1234\n"
     ]
    }
   ],
   "source": [
    "class Carro:\n",
    "    def __init__(self, marca, modelo, ano, chassi):\n",
    "        self.marca = marca\n",
    "        self.modelo = modelo\n",
    "        self.ano = ano\n",
    "        self.__chassi = chassi\n",
    "\n",
    "    def exibir_info(self, tipo):\n",
    "        if tipo == 'minusculo':\n",
    "            return f\"{self.marca} {self.modelo}, Ano {self.ano}, Chassi {self.__chassi}\".lower()\n",
    "        elif tipo == 'maiusculo':\n",
    "            return f\"{self.marca} {self.modelo}, Ano {self.ano}, Chassi {self.__chassi}\".upper()\n",
    "\n",
    "    def imprime_chassi(self):\n",
    "        return self.__chassi\n",
    "\n",
    "# Criando um objeto\n",
    "carro = Carro(\"Ford\", \"Focus\", 2018, '#1234')\n",
    "print(carro.exibir_info('maiusculo'))"
   ]
  },
  {
   "cell_type": "code",
   "execution_count": 11,
   "id": "55a218b3-813d-427f-9fdd-d46530300118",
   "metadata": {},
   "outputs": [
    {
     "data": {
      "text/plain": [
       "'#1234'"
      ]
     },
     "execution_count": 11,
     "metadata": {},
     "output_type": "execute_result"
    }
   ],
   "source": [
    "carro.imprime_chassi()"
   ]
  },
  {
   "cell_type": "code",
   "execution_count": 12,
   "id": "0e162f27",
   "metadata": {},
   "outputs": [
    {
     "name": "stdout",
     "output_type": "stream",
     "text": [
      "4\n",
      "4\n",
      "6\n",
      "6\n"
     ]
    }
   ],
   "source": [
    "class Carro:\n",
    "    rodas = 4  # Atributo de classe\n",
    "\n",
    "    def __init__(self, marca, modelo):\n",
    "        self.marca = marca  # Atributo de instância\n",
    "        self.modelo = modelo  # Atributo de instância\n",
    "\n",
    "carro1 = Carro(\"BMW\", \"X5\")\n",
    "carro2 = Carro(\"Audi\", \"A3\")\n",
    "\n",
    "# Exibir valores\n",
    "print(carro1.rodas)\n",
    "print(carro2.rodas)\n",
    "\n",
    "# Modificar atributo de classe\n",
    "Carro.rodas = 6\n",
    "print(carro1.rodas)\n",
    "print(carro2.rodas)"
   ]
  },
  {
   "cell_type": "markdown",
   "id": "8eef9c71-46c3-4b54-84b6-9cb177107f28",
   "metadata": {},
   "source": [
    "### Exemplo completo"
   ]
  },
  {
   "cell_type": "code",
   "execution_count": 13,
   "id": "da6c7fb5",
   "metadata": {},
   "outputs": [
    {
     "name": "stdout",
     "output_type": "stream",
     "text": [
      "Carro: Tesla Model S\n",
      "Carro('Tesla', 'Model S')\n"
     ]
    }
   ],
   "source": [
    "class Carro:\n",
    "    def __init__(self, marca, modelo):\n",
    "        self.marca = marca\n",
    "        self.modelo = modelo\n",
    "\n",
    "    def __str__(self):\n",
    "        return f\"Carro: {self.marca} {self.modelo}\"\n",
    "\n",
    "    def __repr__(self):\n",
    "        return f\"Carro('{self.marca}', '{self.modelo}')\"\n",
    "\n",
    "carro = Carro(\"Tesla\", \"Model S\")\n",
    "print(carro)\n",
    "print(repr(carro))"
   ]
  },
  {
   "attachments": {
    "a4d38de3-9a3c-420e-a96d-edec3d805c84.png": {
     "image/png": "[encoded data removed]"
    }
   },
   "cell_type": "markdown",
   "id": "d3ffee12-cecf-4a0d-92ed-c6b590f431ff",
   "metadata": {},
   "source": [
    "![exemplo_classe.png](attachment:a4d38de3-9a3c-420e-a96d-edec3d805c84.png)"
   ]
  },
  {
   "cell_type": "markdown",
   "id": "c3980ad0-62c3-471f-a947-5e30449ecbb7",
   "metadata": {},
   "source": [
    "# 📌 Herança em Python\n",
    "\n",
    "A **herança** é um dos princípios fundamentais da **Programação Orientada a Objetos (OOP)**.  \n",
    "Ela permite **criar código estável, reutilizável e confiável**, reduzindo a necessidade de duplicação.  \n",
    "\n",
    "## **1️⃣ O que é Herança?**\n",
    "- **Uma classe \"pai\" (superclasse)** contém atributos e métodos comuns que podem ser reaproveitados.  \n",
    "- **Uma classe \"filha\" (subclasse)** herda esses atributos e métodos e pode **adicionar ou modificar comportamentos**.  \n",
    "\n",
    "Isso significa que podemos **basear uma nova classe em uma classe existente**, aproveitando tudo que já foi definido nela.  \n",
    "\n",
    "### 🔹 Como funciona?\n",
    "- A **classe filha** **herda** **todos** os atributos e comportamentos da classe pai.  \n",
    "- Se necessário, a classe filha pode **sobrescrever métodos da classe pai** para modificar seu comportamento.  \n",
    "- A **classe pai (superclasse)** não tem acesso aos atributos e métodos que foram **criados apenas na classe filha**.  \n",
    "\n",
    "Esse conceito permite reutilizar código e evitar a repetição desnecessária, tornando o desenvolvimento mais eficiente.\n",
    "\n",
    "---\n",
    "\n",
    "## **2️⃣ Exemplo Prático de Herança**\n",
    "\n",
    "Vamos criar uma **classe `Veiculo`** (classe pai) e depois **duas classes filhas** (`Carro` e `Moto`) que herdam dela."
   ]
  },
  {
   "cell_type": "code",
   "execution_count": 14,
   "id": "9fc0a42b-d97c-43a0-849e-6e3f94cf9e0a",
   "metadata": {
    "jp-MarkdownHeadingCollapsed": true
   },
   "outputs": [],
   "source": [
    "# Criando a classe pai (superclasse)\n",
    "class Veiculo:\n",
    "    def __init__(self, marca, modelo, ano):\n",
    "        self.marca = marca\n",
    "        self.modelo = modelo\n",
    "        self.ano = ano\n",
    "\n",
    "    def exibir_info(self):\n",
    "        return f\"{self.ano} {self.marca} {self.modelo}\"\n",
    "\n",
    "    def ligar(self):\n",
    "        return f\"{self.marca} {self.modelo} está ligado.\""
   ]
  },
  {
   "cell_type": "code",
   "execution_count": 15,
   "id": "b87bc4b9-66a0-406c-b2bb-ecad493dc222",
   "metadata": {},
   "outputs": [
    {
     "data": {
      "text/plain": [
       "'volkswagen gol está ligado.'"
      ]
     },
     "execution_count": 15,
     "metadata": {},
     "output_type": "execute_result"
    }
   ],
   "source": [
    "caminhao1 = Veiculo('volkswagen', 'gol', 2010)\n",
    "caminhao1.exibir_info()\n",
    "caminhao1.ligar()"
   ]
  },
  {
   "cell_type": "code",
   "execution_count": 16,
   "id": "612fcb37-2086-4ca6-90c2-640a59e2f3c9",
   "metadata": {
    "jp-MarkdownHeadingCollapsed": true
   },
   "outputs": [
    {
     "name": "stdout",
     "output_type": "stream",
     "text": [
      "2022 Toyota Corolla, 4 portas\n",
      "Toyota Corolla está ligado.\n"
     ]
    }
   ],
   "source": [
    "# Criando a classe filha (subclasse) Carro, que herda de Veiculo\n",
    "class Carro(Veiculo):\n",
    "    def __init__(self, marca, modelo, ano, portas):\n",
    "        super().__init__(marca, modelo, ano)  # Chama o __init__ da classe pai\n",
    "        self.portas = portas  # Novo atributo específico de Carro\n",
    "\n",
    "    # Sobrescrevendo um método da classe pai\n",
    "    def exibir_info(self):\n",
    "        return f\"{self.ano} {self.marca} {self.modelo}, {self.portas} portas\"\n",
    "\n",
    "\n",
    "carro1 = Carro(\"Toyota\", \"Corolla\", 2022, 4)\n",
    "print(carro1.exibir_info())\n",
    "print(carro1.ligar())"
   ]
  },
  {
   "cell_type": "code",
   "execution_count": 17,
   "id": "53790201-7fe5-43a4-8e12-18bdb5f13447",
   "metadata": {
    "jp-MarkdownHeadingCollapsed": true
   },
   "outputs": [
    {
     "name": "stdout",
     "output_type": "stream",
     "text": [
      "2021 Honda CB500, 500 cilindradas\n",
      "Honda CB500 está ligado.\n"
     ]
    }
   ],
   "source": [
    "# Criando outra subclasse Moto\n",
    "class Moto(Veiculo):\n",
    "    def __init__(self, marca, modelo, ano, cilindradas):\n",
    "        super().__init__(marca, modelo, ano)  # Chama o __init__ da classe pai\n",
    "        self.cilindradas = cilindradas  # Novo atributo específico de Moto\n",
    "\n",
    "    def exibir_info(self):\n",
    "        return f\"{self.ano} {self.marca} {self.modelo}, {self.cilindradas} cilindradas\"\n",
    "\n",
    "\n",
    "moto1 = Moto(\"Honda\", \"CB500\", 2021, 500)\n",
    "print(moto1.exibir_info())\n",
    "print(moto1.ligar())"
   ]
  },
  {
   "cell_type": "markdown",
   "id": "8b14a52c-6b28-472b-8f63-28b8a874443a",
   "metadata": {},
   "source": [
    "Aqui, a classe `Veiculo` tem um método `ligar()`, e a subclasse `Carro` o reutiliza."
   ]
  },
  {
   "cell_type": "code",
   "execution_count": 18,
   "id": "0b1975b6-7a9c-4f32-b649-4dc6d311d992",
   "metadata": {},
   "outputs": [
    {
     "name": "stdout",
     "output_type": "stream",
     "text": [
      "Toyota Corolla está ligado.\n",
      "Toyota Corolla está ligado. Pronto para dirigir!\n"
     ]
    }
   ],
   "source": [
    "class Veiculo:\n",
    "    def __init__(self, marca, modelo):\n",
    "        self.marca = marca\n",
    "        self.modelo = modelo\n",
    "\n",
    "    def ligar(self):\n",
    "        return f\"{self.marca} {self.modelo} está ligado.\"\n",
    "\n",
    "# Subclasse Carro herdando de Veiculo\n",
    "class Carro(Veiculo):\n",
    "    def __init__(self, marca, modelo, portas):\n",
    "        super().__init__(marca, modelo)  # Chama __init__ da superclasse\n",
    "        self.portas = portas\n",
    "\n",
    "    def ligar_carro(self):\n",
    "        # return super().ligar()\n",
    "        return super().ligar() + \" Pronto para dirigir!\"\n",
    "\n",
    "# Criando objeto\n",
    "meu_carro = Carro(\"Toyota\", \"Corolla\", 4)\n",
    "\n",
    "# Chamando método da classe pai\n",
    "print(meu_carro.ligar())\n",
    "\n",
    "# Chamando métodos\n",
    "print(meu_carro.ligar_carro())"
   ]
  },
  {
   "cell_type": "markdown",
   "id": "674e9ac1-d338-4c8e-8883-bf31cee1e756",
   "metadata": {},
   "source": [
    "# 🧩 Polimorfismo em Python\n",
    "\n",
    "O **polimorfismo** é um princípio da **Programação Orientada a Objetos (OOP)** que permite usar **a mesma interface** (mesmo nome de método ou operador) para **objetos de classes diferentes**, cada um com **sua própria implementação**. Em outras palavras: **mesma chamada, comportamentos diferentes**.\n",
    "\n",
    "---\n",
    "\n",
    "## **1️⃣ O que é Polimorfismo?**\n",
    "- Funções/métodos invocam **o mesmo nome** (ex.: `ligar`, `area`, operadores como `+`) e **cada classe** decide como executar.\n",
    "- O código cliente **não precisa saber** o tipo concreto do objeto — só que ele **sabe fazer** a ação esperada.\n",
    "\n",
    "### **Como acontece?**\n",
    "- **Com herança**: subclasses **sobrescrevem** métodos da superclasse, mantendo a mesma assinatura e mudando o comportamento.\n",
    "- **Sem herança (duck typing)**: basta o objeto **ter o método** esperado; importa **o que faz**, não **quem é**.\n",
    "\n",
    "---\n",
    "\n",
    "## **2️⃣ Por que usar?**\n",
    "- **Menos `if/elif` por tipo** → código mais limpo e legível.\n",
    "- **Extensibilidade** → novas classes aderem à mesma interface sem alterar o código existente.\n",
    "- **Reutilização** → a mesma função trabalha com diversos tipos que implementem a interface.\n",
    "- **Baixo acoplamento** → depende-se da **interface** (contrato de métodos), não da implementação concreta.\n",
    "\n",
    "---\n",
    "\n",
    "## **3️⃣ Boas práticas**\n",
    "- Projete APIs em torno de **interfaces claras** (nomes de métodos consistentes).\n",
    "- Prefira **sobrescrita de métodos** a verificações de tipo explícitas.\n",
    "- Documente o “contrato” do método (o que deve existir e o que retornar), mesmo sem classes abstratas.\n"
   ]
  },
  {
   "cell_type": "markdown",
   "id": "d6c7488f-af41-4937-82e7-25f50a6c7cd5",
   "metadata": {},
   "source": [
    "### 1. Exemplo prático sem herança"
   ]
  },
  {
   "cell_type": "code",
   "execution_count": null,
   "id": "c4e3e095-ed33-46d1-87e3-de6d385cd9ab",
   "metadata": {},
   "outputs": [],
   "source": [
    "class Robo:\n",
    "    def ligar(self): return \"Robô: sistemas online\"\n",
    "\n",
    "class Torradeira:\n",
    "    def ligar(self): return \"Torradeira: aquecendo resistências\"\n",
    "\n",
    "def iniciar_dispositivo(dev):\n",
    "    # EAFP: assume que tem .ligar(); se não tiver, dá erro (ou trate com try/except)\n",
    "    print(dev.ligar())\n",
    "\n",
    "iniciar_dispositivo(Robo())       # Robô: sistemas online\n",
    "iniciar_dispositivo(Torradeira()) # Torradeira: aquecendo resistências"
   ]
  },
  {
   "cell_type": "markdown",
   "id": "a62540ff-92de-4d74-bbec-ceb2e23d652f",
   "metadata": {},
   "source": [
    "### 2. Exemplo prático com herança"
   ]
  },
  {
   "cell_type": "code",
   "execution_count": null,
   "id": "b37e697d-62d4-4647-8c3b-91ce5b333683",
   "metadata": {},
   "outputs": [],
   "source": [
    "class Veiculo:\n",
    "    def __init__(self, marca, modelo):\n",
    "        self.marca, self.modelo = marca, modelo\n",
    "    def ligar(self):\n",
    "        return \"Veículo ligado\"  # interface comum\n",
    "\n",
    "class Carro(Veiculo):\n",
    "    def ligar(self):  # sobrescrita\n",
    "        return f\"{self.marca} {self.modelo}: motor a combustão ligado\"\n",
    "\n",
    "class Moto(Veiculo):\n",
    "    def ligar(self):  # sobrescrita\n",
    "        return f\"{self.marca} {self.modelo}: partida no pedal\"\n",
    "\n",
    "def iniciar(v):              # usa a MESMA chamada para tipos diferentes\n",
    "    print(v.ligar())\n",
    "\n",
    "iniciar(Carro(\"Toyota\",\"Corolla\"))  # Toyota Corolla: motor a combustão ligado\n",
    "iniciar(Moto(\"Honda\",\"CG 160\"))     # Honda CG 160: partida no pedal"
   ]
  },
  {
   "cell_type": "markdown",
   "id": "dd919656-7f49-46d1-a48c-3116a3813e1e",
   "metadata": {},
   "source": [
    "### 3. Outro exemplo prático com herança"
   ]
  },
  {
   "cell_type": "code",
   "execution_count": 19,
   "id": "bb03f5fa-5c4b-40d9-a45f-b795a38b6d18",
   "metadata": {},
   "outputs": [
    {
     "name": "stdout",
     "output_type": "stream",
     "text": [
      "=== Briefing da frota ===\n",
      "2022 Toyota Corolla\n",
      " - Toyota Corolla: motor a combustão ligado\n",
      " - Autonomia: 600.0 km\n",
      "\n",
      "2023 Tesla Model 3\n",
      " - Tesla Model 3: sistema elétrico inicializado\n",
      " - Autonomia: 400.0 km\n",
      "\n",
      "2021 Honda CG 160\n",
      " - Honda CG 160: partida no pedal/start\n",
      " - Autonomia: 490.0 km\n",
      "\n",
      "Custo total para 120 km: R$ 108.89\n"
     ]
    }
   ],
   "source": [
    "# --------- Superclasse (base) ---------\n",
    "class Veiculo:\n",
    "    def __init__(self, marca, modelo, ano):\n",
    "        self.marca = marca\n",
    "        self.modelo = modelo\n",
    "        self.ano = ano\n",
    "\n",
    "    def exibir_info(self):\n",
    "        return f\"{self.ano} {self.marca} {self.modelo}\"\n",
    "\n",
    "    # Métodos \"contratuais\" (não são abstratos formalmente, mas a ideia é sobrescrever)\n",
    "    def ligar(self):\n",
    "        return f\"{self.marca} {self.modelo}: ligado\"\n",
    "\n",
    "    def autonomia_km(self):\n",
    "        return 0.0  # default inócuo; subclasses devem sobrescrever\n",
    "\n",
    "    def custo_por_viagem(self, distancia_km):\n",
    "        return 0.0  # idem\n",
    "\n",
    "\n",
    "# --------- Subclasses (comportamentos específicos) ---------\n",
    "class CarroCombustao(Veiculo):\n",
    "    def __init__(self, marca, modelo, ano, tanque_litros, consumo_km_l, preco_litro):\n",
    "        super().__init__(marca, modelo, ano)\n",
    "        self.tanque = tanque_litros\n",
    "        self.consumo = consumo_km_l\n",
    "        self.preco_litro = preco_litro\n",
    "\n",
    "    def ligar(self):\n",
    "        return f\"{self.marca} {self.modelo}: motor a combustão ligado\"\n",
    "\n",
    "    def autonomia_km(self):\n",
    "        return self.tanque * self.consumo\n",
    "\n",
    "    def custo_por_viagem(self, distancia_km):\n",
    "        litros = distancia_km / self.consumo\n",
    "        return litros * self.preco_litro\n",
    "\n",
    "\n",
    "class CarroEletrico(Veiculo):\n",
    "    def __init__(self, marca, modelo, ano, bateria_kwh, consumo_kwh_km, preco_kwh):\n",
    "        super().__init__(marca, modelo, ano)\n",
    "        self.bateria_kwh = bateria_kwh\n",
    "        self.consumo_kwh_km = consumo_kwh_km\n",
    "        self.preco_kwh = preco_kwh\n",
    "\n",
    "    def ligar(self):\n",
    "        return f\"{self.marca} {self.modelo}: sistema elétrico inicializado\"\n",
    "\n",
    "    def autonomia_km(self):\n",
    "        return self.bateria_kwh / self.consumo_kwh_km\n",
    "\n",
    "    def custo_por_viagem(self, distancia_km):\n",
    "        kwh = distancia_km * self.consumo_kwh_km\n",
    "        return kwh * self.preco_kwh\n",
    "\n",
    "\n",
    "class Moto(Veiculo):\n",
    "    def __init__(self, marca, modelo, ano, tanque_litros, consumo_km_l, preco_litro):\n",
    "        super().__init__(marca, modelo, ano)\n",
    "        self.tanque = tanque_litros\n",
    "        self.consumo = consumo_km_l\n",
    "        self.preco_litro = preco_litro\n",
    "\n",
    "    def ligar(self):\n",
    "        return f\"{self.marca} {self.modelo}: partida no pedal/start\"\n",
    "\n",
    "    def autonomia_km(self):\n",
    "        return self.tanque * self.consumo\n",
    "\n",
    "    def custo_por_viagem(self, distancia_km):\n",
    "        litros = distancia_km / self.consumo\n",
    "        return litros * self.preco_litro\n",
    "\n",
    "\n",
    "# --------- Funções que exercitam polimorfismo ---------\n",
    "def briefing_frota(frota):\n",
    "    print(\"=== Briefing da frota ===\")\n",
    "    for v in frota:\n",
    "        # MESMAS chamadas → resultados diferentes conforme a subclasse\n",
    "        print(v.exibir_info())\n",
    "        print(\" -\", v.ligar())\n",
    "        print(f\" - Autonomia: {v.autonomia_km():.1f} km\")\n",
    "        print()\n",
    "\n",
    "def custo_total(frota, distancia_km):\n",
    "    # Não preciso saber se é Carro/Moto; só uso a \"interface\" comum\n",
    "    total = 0.0\n",
    "    for v in frota:\n",
    "        total += v.custo_por_viagem(distancia_km)\n",
    "    return total\n",
    "\n",
    "\n",
    "# --------- Uso ---------\n",
    "frota = [\n",
    "    CarroCombustao(\"Toyota\", \"Corolla\", 2022, tanque_litros=50, consumo_km_l=12, preco_litro=6.50),\n",
    "    CarroEletrico(\"Tesla\", \"Model 3\", 2023, bateria_kwh=60, consumo_kwh_km=0.15, preco_kwh=1.20),\n",
    "    Moto(\"Honda\", \"CG 160\", 2021, tanque_litros=14, consumo_km_l=35, preco_litro=6.50),\n",
    "]\n",
    "\n",
    "briefing_frota(frota)\n",
    "\n",
    "dist = 120\n",
    "print(f\"Custo total para {dist} km: R$ {custo_total(frota, dist):.2f}\")"
   ]
  },
  {
   "cell_type": "code",
   "execution_count": null,
   "id": "c5a680d5-2ba0-4951-9563-ee84c9b19db8",
   "metadata": {},
   "outputs": [],
   "source": []
  }
 ],
 "metadata": {
  "kernelspec": {
   "display_name": "Python 3 (ipykernel)",
   "language": "python",
   "name": "python3"
  },
  "language_info": {
   "codemirror_mode": {
    "name": "ipython",
    "version": 3
   },
   "file_extension": ".py",
   "mimetype": "text/x-python",
   "name": "python",
   "nbconvert_exporter": "python",
   "pygments_lexer": "ipython3",
   "version": "3.11.7"
  }
 },
 "nbformat": 4,
 "nbformat_minor": 5
}
